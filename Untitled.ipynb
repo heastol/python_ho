{
 "cells": [
  {
   "cell_type": "code",
   "execution_count": 5,
   "id": "4dae215e-36a9-49de-83cb-19bb3542347e",
   "metadata": {},
   "outputs": [
    {
     "name": "stdin",
     "output_type": "stream",
     "text": [
      "숫자를 넣어주세요. 13\n"
     ]
    },
    {
     "data": {
      "text/plain": [
       "True"
      ]
     },
     "execution_count": 5,
     "metadata": {},
     "output_type": "execute_result"
    }
   ],
   "source": [
    "# 문제1\n",
    "def is_odd(number):\n",
    "    if (number % 2) == 1:\n",
    "        return True\n",
    "    else:\n",
    "        return False\n",
    "num = int(input(\"숫자를 넣어주세요.\"))\n",
    "is_odd(num)"
   ]
  },
  {
   "cell_type": "code",
   "execution_count": 10,
   "id": "8144166a-a58c-416f-87ff-cd4981485878",
   "metadata": {},
   "outputs": [
    {
     "name": "stdout",
     "output_type": "stream",
     "text": [
      "1.5\n",
      "3.0\n"
     ]
    }
   ],
   "source": [
    "# 문제2\n",
    "def avg_numbers(*args):\n",
    "    result = 0\n",
    "    for i in args:\n",
    "        result += i\n",
    "    return result / len(args)\n",
    "\n",
    "print(avg_numbers(1, 2))\n",
    "print(avg_numbers(1, 2, 3, 4, 5))"
   ]
  },
  {
   "cell_type": "code",
   "execution_count": 13,
   "id": "02a76b1c-2e2e-4238-82c0-97447b43c308",
   "metadata": {},
   "outputs": [
    {
     "name": "stdin",
     "output_type": "stream",
     "text": [
      "첫 번쩨 숫자를 입력하세요. 3\n",
      "두 번쩨 숫자를 입력하세요. 6\n"
     ]
    },
    {
     "name": "stdout",
     "output_type": "stream",
     "text": [
      "두 수의 합은 36입니다.\n"
     ]
    },
    {
     "name": "stdin",
     "output_type": "stream",
     "text": [
      "첫 번째 숫자를 입력하세요. 3\n",
      "두 번째 숫자를 입력하세요. 6\n"
     ]
    },
    {
     "name": "stdout",
     "output_type": "stream",
     "text": [
      "두 수의 합은 9입니다.\n"
     ]
    }
   ],
   "source": [
    "# 문제3\n",
    "input1 = input(\"첫 번쩨 숫자를 입력하세요.\")\n",
    "input2 = input(\"두 번쩨 숫자를 입력하세요.\")\n",
    "\n",
    "total = input1 + input2\n",
    "print(\"두 수의 합은 %s입니다.\" %total)\n",
    "# input1과 input2는 문자열로 입력되었기 때문에 정수로 바꾸어 주어야 한다\n",
    "\n",
    "new_input1 = int(input(\"첫 번째 숫자를 입력하세요.\"))\n",
    "new_input2 = int(input(\"두 번째 숫자를 입력하세요.\"))\n",
    "total2 = new_input1 + new_input2\n",
    "print(\"두 수의 합은 %s입니다.\" %total2)"
   ]
  },
  {
   "cell_type": "code",
   "execution_count": null,
   "id": "8d426da8-163a-4b3d-9960-7c7fd885e95b",
   "metadata": {},
   "outputs": [],
   "source": [
    "# 문제4\n",
    "print(\"You\" \"need\" \"python\")\n",
    "print(\"You\" + \"need\" + \"python\")\n",
    "print(\"You\",  \"need\",  \"python\")\n",
    "print(\"\".join([\"You\", \"need\", \"python\"]))\n",
    "# 첫 번째와 두 번째 네 번째는 문자 사이의 공백을 없애주지만\n",
    "# 세 번째 ,는 문자 사이의 간격을 유지시켜줌"
   ]
  },
  {
   "cell_type": "code",
   "execution_count": 17,
   "id": "6ac7bc7d-d6a5-44b5-8d60-04db15a00607",
   "metadata": {},
   "outputs": [
    {
     "name": "stdout",
     "output_type": "stream",
     "text": [
      "Life is too short\n"
     ]
    }
   ],
   "source": [
    "# 문제5\n",
    "f1 = open(\"test.txt\", 'w')\n",
    "f1.write(\"Life is too short\")\n",
    "f1.close()\n",
    "\n",
    "f2 = open(\"test.txt\", 'r')\n",
    "print(f2.read())"
   ]
  },
  {
   "cell_type": "code",
   "execution_count": 19,
   "id": "5d7abe9d-1c09-4fcc-a758-234d9f889bcf",
   "metadata": {},
   "outputs": [
    {
     "ename": "SyntaxError",
     "evalue": "unexpected character after line continuation character (2719241674.py, line 5)",
     "output_type": "error",
     "traceback": [
      "\u001b[1;36m  Cell \u001b[1;32mIn[19], line 5\u001b[1;36m\u001b[0m\n\u001b[1;33m    f.write(\\n)\u001b[0m\n\u001b[1;37m             ^\u001b[0m\n\u001b[1;31mSyntaxError\u001b[0m\u001b[1;31m:\u001b[0m unexpected character after line continuation character\n"
     ]
    }
   ],
   "source": [
    "# 문제6\n",
    "user_input = input(\"저장할 내용을 입력하세요.\")\n",
    "f = open('test.txt', 'a')\n",
    "f.write(user_input)\n",
    "f.write(\\n)\n",
    "f.close()"
   ]
  },
  {
   "cell_type": "code",
   "execution_count": null,
   "id": "86c7cfa6-306f-4313-b581-330e48f62f12",
   "metadata": {},
   "outputs": [],
   "source": [
    "# 문제7\n"
   ]
  }
 ],
 "metadata": {
  "kernelspec": {
   "display_name": "Python 3 (ipykernel)",
   "language": "python",
   "name": "python3"
  },
  "language_info": {
   "codemirror_mode": {
    "name": "ipython",
    "version": 3
   },
   "file_extension": ".py",
   "mimetype": "text/x-python",
   "name": "python",
   "nbconvert_exporter": "python",
   "pygments_lexer": "ipython3",
   "version": "3.13.1"
  }
 },
 "nbformat": 4,
 "nbformat_minor": 5
}
