{
 "cells": [
  {
   "cell_type": "code",
   "execution_count": 3,
   "metadata": {
    "id": "zi9a0Rchf2yn"
   },
   "outputs": [],
   "source": [
    "# with open('./drive/MyDrive/ReadME.md', 'w') as f:\n",
    "#     data = f.write('*반가워요.')\n",
    "#     print('저장되었습니다.')"
   ]
  },
  {
   "cell_type": "markdown",
   "metadata": {
    "id": "9uz3dPLYio4L"
   },
   "source": [
    "# 넘파이(numpy)"
   ]
  },
  {
   "cell_type": "markdown",
   "metadata": {},
   "source": [
    "## 1차원과 속성들"
   ]
  },
  {
   "cell_type": "markdown",
   "metadata": {
    "id": "5ykDdecBjcMr"
   },
   "source": [
    "- ndim : 축의 개수\n",
    "- shape : 배열의 차원정보\n",
    "- size : 배열안에 있는 원소의 총 개수\n",
    "- dtype: 배열 원소의 자료형"
   ]
  },
  {
   "cell_type": "code",
   "execution_count": 17,
   "metadata": {
    "colab": {
     "base_uri": "https://localhost:8080/"
    },
    "id": "6-XupZBQix48",
    "outputId": "e09ffd5d-b4b6-4524-9eec-4ab9014f0b44"
   },
   "outputs": [
    {
     "name": "stdout",
     "output_type": "stream",
     "text": [
      "[0 1 2 3 4] <class 'numpy.ndarray'>\n",
      "1\n",
      "(5,)\n",
      "5\n",
      "int64\n",
      "4\n",
      "[2 3]\n"
     ]
    }
   ],
   "source": [
    "#pip install numpy\n",
    "import numpy as np\n",
    "narry = np.array(range(5))\n",
    "print(narry, type(narry))\n",
    "print(narry.ndim)\n",
    "print(narry.shape)\n",
    "print(narry.size)\n",
    "print(narry.dtype)\n",
    "print(narry[4])\n",
    "print(narry[2:4])"
   ]
  },
  {
   "cell_type": "code",
   "execution_count": 20,
   "metadata": {
    "colab": {
     "base_uri": "https://localhost:8080/"
    },
    "id": "DEAvVcVFi69k",
    "outputId": "3afd6375-0d9b-4e3e-dc63-951d93d9a114"
   },
   "outputs": [
    {
     "name": "stdout",
     "output_type": "stream",
     "text": [
      "[1 2 3 4] int64\n",
      "['1' '2' 'a' 'b'] <U21\n",
      "['1' '2' '3' '4'] <U1\n"
     ]
    }
   ],
   "source": [
    "narr1 = np.array([1, 2, 3, 4])\n",
    "narr2 = np.array([1, 2, 'a', 'b'])\n",
    "narr3 = np.array([1, 2, 3, 4],dtype = 'str')\n",
    "print(narr1, narr1.dtype)\n",
    "print(narr2, narr2.dtype)\n",
    "print(narr3, narr3.dtype)"
   ]
  },
  {
   "cell_type": "code",
   "execution_count": 93,
   "metadata": {
    "colab": {
     "base_uri": "https://localhost:8080/"
    },
    "id": "jkgCePVpp4Lq",
    "outputId": "e8fe43ca-9b2f-4fd1-d429-df485ddd4aba"
   },
   "outputs": [
    {
     "name": "stdout",
     "output_type": "stream",
     "text": [
      "[[0 0]\n",
      " [0 0]] 2 int64 (2, 2) 4 <class 'numpy.ndarray'>\n",
      "[[1. 1.]\n",
      " [1. 1.]] 2 float64 (2, 2) 4 <class 'numpy.ndarray'>\n",
      "[[3 3 3]\n",
      " [3 3 3]\n",
      " [3 3 3]] 2 int64 (3, 3) 9 <class 'numpy.ndarray'>\n",
      "[['number' 'number' 'number']\n",
      " ['number' 'number' 'number']\n",
      " ['number' 'number' 'number']] 2 <U6 (3, 3) 9 <class 'numpy.ndarray'>\n",
      "[[1. 0. 0.]\n",
      " [0. 1. 0.]\n",
      " [0. 0. 1.]] 2 float64 (3, 3) 9 <class 'numpy.ndarray'>\n",
      "[ 0 20 40 60 80] 1 int64 (5,) 5 <class 'numpy.ndarray'>\n",
      "[  0.           5.26315789  10.52631579  15.78947368  21.05263158\n",
      "  26.31578947  31.57894737  36.84210526  42.10526316  47.36842105\n",
      "  52.63157895  57.89473684  63.15789474  68.42105263  73.68421053\n",
      "  78.94736842  84.21052632  89.47368421  94.73684211 100.        ] 1 float64 (20,) 20 <class 'numpy.ndarray'>\n"
     ]
    }
   ],
   "source": [
    "narr4 = np.zeros((2, 2), dtype = 'int64')\n",
    "narr5 = np.ones((2, 2))\n",
    "narr6 = np.full((3, 3), 3)\n",
    "narr7 = np.full((3, 3), 'number')\n",
    "narr8 = np.eye(3)\n",
    "narr9 = np.linspace(0, 100, 5, endpoint = False, dtype = 'int64')\n",
    "narr10 = np.linspace(0, 100, 20)\n",
    "print(narr4, narr4.ndim, narr4.dtype, narr4.shape, narr4.size, type(narr4))\n",
    "print(narr5, narr5.ndim, narr5.dtype, narr5.shape, narr5.size, type(narr5))\n",
    "print(narr6, narr6.ndim, narr6.dtype, narr6.shape, narr6.size, type(narr6))\n",
    "print(narr7, narr7.ndim, narr7.dtype, narr7.shape, narr7.size, type(narr7))\n",
    "print(narr8, narr8.ndim, narr8.dtype, narr8.shape, narr8.size, type(narr8))\n",
    "print(narr9, narr9.ndim, narr9.dtype, narr9.shape, narr9.size, type(narr9))\n",
    "print(narr10, narr10.ndim, narr10.dtype, narr10.shape, narr10.size, type(narr10))"
   ]
  },
  {
   "cell_type": "markdown",
   "metadata": {
    "id": "oRzohp5Sua5r"
   },
   "source": [
    "## 2차원 배열"
   ]
  },
  {
   "cell_type": "code",
   "execution_count": 54,
   "metadata": {
    "colab": {
     "base_uri": "https://localhost:8080/"
    },
    "id": "LZTTmbs5vdBF",
    "outputId": "059f8c7b-212d-486a-f1de-00794d5286e5"
   },
   "outputs": [
    {
     "name": "stdout",
     "output_type": "stream",
     "text": [
      "[2, 3, 4, 5, 6, 7, 8, 9]\n",
      "[2 3 4 5 6 7 8 9]\n"
     ]
    },
    {
     "data": {
      "text/plain": [
       "array([0, 1, 2, 3, 4, 5, 6, 7, 8, 9])"
      ]
     },
     "execution_count": 54,
     "metadata": {},
     "output_type": "execute_result"
    }
   ],
   "source": [
    "print(list(range(2, 10)))\n",
    "print(np.arange(2, 10))\n",
    "range(10)\n",
    "np.arange(10)"
   ]
  },
  {
   "cell_type": "code",
   "execution_count": 36,
   "metadata": {
    "colab": {
     "base_uri": "https://localhost:8080/"
    },
    "id": "4x0sNLMplcWD",
    "outputId": "4bd874e5-87e4-4e08-f056-6206b4efe155"
   },
   "outputs": [
    {
     "name": "stdout",
     "output_type": "stream",
     "text": [
      "[[0 0]\n",
      " [0 0]] 2 <class 'numpy.ndarray'> int64 (2, 2) 4\n"
     ]
    }
   ],
   "source": [
    "arr1 = np.array([[0, 0], [0, 0]])\n",
    "print(arr1, arr1.ndim, type(arr1), arr1.dtype, arr1.shape, arr1.size)"
   ]
  },
  {
   "cell_type": "code",
   "execution_count": 60,
   "metadata": {
    "colab": {
     "base_uri": "https://localhost:8080/"
    },
    "id": "gcA_Dj75pgei",
    "outputId": "8f70379e-f90a-45a6-fed2-260b90933d91"
   },
   "outputs": [
    {
     "name": "stdout",
     "output_type": "stream",
     "text": [
      "차원 2 / 데이터타입 int64 / 형태 (3, 3) / 크기 9 <class 'numpy.ndarray'> [[1 2 3]\n",
      " [4 5 6]\n",
      " [7 8 9]]\n",
      "차원 2 / 데이터타입 int64 / 형태 (3, 3) / 크기 9 <class 'numpy.ndarray'> [[1 2 3]\n",
      " [4 5 6]\n",
      " [7 8 9]]\n",
      "차원 2 / 데이터타입 int64 / 형태 (2, 5) / 크기 10 <class 'numpy.ndarray'> [[ 1  2  3  4  5]\n",
      " [ 6  7  8  9 10]]\n",
      "차원 2 / 데이터타입 int64 / 형태 (5, 2) / 크기 10 <class 'numpy.ndarray'> [[ 1  2]\n",
      " [ 3  4]\n",
      " [ 5  6]\n",
      " [ 7  8]\n",
      " [ 9 10]]\n",
      "차원 3 / 데이터타입 int64 / 형태 (3, 3, 3) / 크기 27 <class 'numpy.ndarray'> [[[ 1  2  3]\n",
      "  [ 4  5  6]\n",
      "  [ 7  8  9]]\n",
      "\n",
      " [[10 11 12]\n",
      "  [13 14 15]\n",
      "  [16 17 18]]\n",
      "\n",
      " [[19 20 21]\n",
      "  [22 23 24]\n",
      "  [25 26 27]]]\n"
     ]
    }
   ],
   "source": [
    "arr2 = np.array([1, 2, 3, 4, 5, 6, 7, 8 ,9]).reshape(3, 3)\n",
    "arr3 = np.arange(1, 10).reshape(3, 3)\n",
    "arr4 = np.arange(1, 11).reshape(2, 5)\n",
    "arr5 = np.arange(1, 11).reshape(5, 2)\n",
    "arr6 = np.arange(1, 28).reshape(3, 3, 3)\n",
    "print('차원', arr2.ndim, '/ 데이터타입', arr2.dtype, '/ 형태', arr2.shape, '/ 크기', arr2.size, type(arr2), arr2)\n",
    "print('차원', arr3.ndim, '/ 데이터타입', arr3.dtype, '/ 형태', arr3.shape, '/ 크기', arr3.size, type(arr3), arr3)\n",
    "print('차원', arr4.ndim, '/ 데이터타입', arr4.dtype, '/ 형태', arr4.shape, '/ 크기', arr4.size, type(arr4), arr4)\n",
    "print('차원', arr5.ndim, '/ 데이터타입', arr5.dtype, '/ 형태', arr5.shape, '/ 크기', arr5.size, type(arr5), arr5)\n",
    "print('차원', arr6.ndim, '/ 데이터타입', arr6.dtype, '/ 형태', arr6.shape, '/ 크기', arr6.size, type(arr6), arr6)"
   ]
  },
  {
   "cell_type": "code",
   "execution_count": 85,
   "metadata": {
    "colab": {
     "base_uri": "https://localhost:8080/"
    },
    "id": "OZGjZJpdvZCg",
    "outputId": "3a4edc3a-e735-4f41-8104-4af664b5f14e"
   },
   "outputs": [
    {
     "name": "stdout",
     "output_type": "stream",
     "text": [
      "[[ 1  2  3  4  5  6  7]\n",
      " [ 8  9 10 11 12 13 14]\n",
      " [15 16 17 18 19 20 21]]\n",
      "=========================\n",
      "[[1]\n",
      " [2]\n",
      " [3]\n",
      " [4]\n",
      " [5]\n",
      " [6]\n",
      " [7]]\n",
      "=========================\n",
      "[[ 1  2]\n",
      " [ 3  4]\n",
      " [ 5  6]\n",
      " [ 7  8]\n",
      " [ 9 10]]\n",
      "=========================\n",
      "[[[ 1]\n",
      "  [ 2]\n",
      "  [ 3]]\n",
      "\n",
      " [[ 4]\n",
      "  [ 5]\n",
      "  [ 6]]\n",
      "\n",
      " [[ 7]\n",
      "  [ 8]\n",
      "  [ 9]]\n",
      "\n",
      " [[10]\n",
      "  [11]\n",
      "  [12]]]\n"
     ]
    }
   ],
   "source": [
    "arr1 = np.arange(1, 22).reshape(3, 7)\n",
    "arr2 = np.arange(1, 8).reshape(7, 1)\n",
    "arr3 = np.arange(1, 11).reshape(5, 2)\n",
    "arr4 = np.arange(1, 13).reshape(4, 3, 1)\n",
    "print(arr1)\n",
    "print('=' * 25)\n",
    "print(arr2)\n",
    "print('=' * 25)\n",
    "print(arr3)\n",
    "print('=' * 25)\n",
    "print(arr4)"
   ]
  },
  {
   "cell_type": "code",
   "execution_count": 95,
   "metadata": {
    "colab": {
     "base_uri": "https://localhost:8080/"
    },
    "id": "7gYHpD6x20wE",
    "outputId": "1c38b5b5-99b6-4873-d0cc-52eed42da77f"
   },
   "outputs": [
    {
     "name": "stdout",
     "output_type": "stream",
     "text": [
      "[4 5 6 7]\n",
      "[11 12 13 14]\n",
      "[18 19 20 21]\n"
     ]
    }
   ],
   "source": [
    "for i in range(3):\n",
    "    print(arr1[i][3:8])"
   ]
  },
  {
   "cell_type": "code",
   "execution_count": 100,
   "metadata": {
    "colab": {
     "base_uri": "https://localhost:8080/"
    },
    "id": "rdufX_43_awu",
    "outputId": "a88dec4b-755a-4d49-9938-e989ba50958f"
   },
   "outputs": [
    {
     "data": {
      "text/plain": [
       "array([13, 14, 15, 16, 17, 18, 19, 20, 21])"
      ]
     },
     "execution_count": 100,
     "metadata": {},
     "output_type": "execute_result"
    }
   ],
   "source": [
    "arr1[arr1 > 12]"
   ]
  },
  {
   "cell_type": "code",
   "execution_count": 101,
   "metadata": {
    "colab": {
     "base_uri": "https://localhost:8080/"
    },
    "id": "mHZEq2oREZ7B",
    "outputId": "1d87c082-c1a1-4a6d-acab-7b174e82cf4b"
   },
   "outputs": [
    {
     "data": {
      "text/plain": [
       "array([[False,  True, False,  True, False,  True, False],\n",
       "       [ True, False,  True, False,  True, False,  True],\n",
       "       [False,  True, False,  True, False,  True, False]])"
      ]
     },
     "execution_count": 101,
     "metadata": {},
     "output_type": "execute_result"
    }
   ],
   "source": [
    "arr1 % 2 == 0"
   ]
  },
  {
   "cell_type": "code",
   "execution_count": 105,
   "metadata": {
    "colab": {
     "base_uri": "https://localhost:8080/"
    },
    "id": "3ZqkcXNDFThQ",
    "outputId": "d210617b-fc8b-426d-dcdf-28c3d44ab081"
   },
   "outputs": [
    {
     "name": "stdout",
     "output_type": "stream",
     "text": [
      "[10 11 12]\n",
      "[[ 1  2  3  4  5  6  7]\n",
      " [ 8  9 10 11 12 13 14]\n",
      " [15 16 17 18 19 20 21]]\n",
      "[[10 11]\n",
      " [17 18]]\n",
      "[[12 13]\n",
      " [19 20]]\n",
      "[[False  True False  True False  True False]\n",
      " [ True False  True False  True False  True]\n",
      " [False  True False  True False  True False]]\n"
     ]
    }
   ],
   "source": [
    "# test\n",
    "print(arr1[1][2:5])\n",
    "print(arr1)\n",
    "print(arr1[1:3, 2:4])\n",
    "print(arr1[1:3, 4:6])\n",
    "print(arr1 % 2 == 0)"
   ]
  },
  {
   "cell_type": "code",
   "execution_count": 109,
   "metadata": {
    "colab": {
     "base_uri": "https://localhost:8080/"
    },
    "id": "pbIjoqhOFnZM",
    "outputId": "095fffb6-054d-45a4-e8f7-4ef46152d28e"
   },
   "outputs": [
    {
     "name": "stdout",
     "output_type": "stream",
     "text": [
      "덧셈 :  [ 7  9 11 13 15]\n",
      "뺄셈 :  [5 5 5 5 5]\n",
      "곱셈 :  [ 6 14 24 36 50]\n",
      "나눗셈 :  [6.         3.5        2.66666667 2.25       2.        ]\n"
     ]
    }
   ],
   "source": [
    "# np 배열 연산 // shape가 같을 경우 원소별 연산이 가능\n",
    "np1 = np.array([6, 7, 8, 9, 10])\n",
    "np2 = np.array([1, 2, 3, 4, 5])\n",
    "print('덧셈 : ', np1 + np2)\n",
    "print('뺄셈 : ', np1 - np2)\n",
    "print('곱셈 : ', np1 * np2)\n",
    "print('나눗셈 : ', np1 / np2)"
   ]
  },
  {
   "cell_type": "code",
   "execution_count": 110,
   "metadata": {
    "colab": {
     "base_uri": "https://localhost:8080/"
    },
    "id": "0iPHVs7xGGXh",
    "outputId": "5b079a2e-c5ce-4fb7-cc28-98eecd31b0fe"
   },
   "outputs": [
    {
     "name": "stdout",
     "output_type": "stream",
     "text": [
      "[16 17 18 19 20]\n"
     ]
    }
   ],
   "source": [
    "# 브로드캐스팅\n",
    "np3 = np1 + 10\n",
    "print(np3)"
   ]
  },
  {
   "cell_type": "code",
   "execution_count": 112,
   "metadata": {
    "colab": {
     "base_uri": "https://localhost:8080/"
    },
    "id": "lTyEu7auHgHQ",
    "outputId": "b6250ccd-50c3-4d89-9551-56bd677184fc"
   },
   "outputs": [
    {
     "name": "stdout",
     "output_type": "stream",
     "text": [
      "[[1 2 3]\n",
      " [4 5 6]\n",
      " [7 8 9]]\n",
      "=====스칼라와 연산=====\n",
      "[[ 4  5  6]\n",
      " [ 7  8  9]\n",
      " [10 11 12]]\n",
      "[[ 3  4  5]\n",
      " [ 6  7  8]\n",
      " [ 9 10 11]]\n",
      "=====2D 와 1D 의 연산=====\n",
      "[11 22 33]\n",
      "[[12 24 36]\n",
      " [15 27 39]\n",
      " [18 30 42]]\n",
      "[[ 11  44  99]\n",
      " [ 44 110 198]\n",
      " [ 77 176 297]]\n"
     ]
    }
   ],
   "source": [
    "br1 = np.arange(1, 10).reshape(3, 3)\n",
    "br2 = np.array([11, 22, 33])\n",
    "print(br1)\n",
    "print('=====스칼라와 연산=====')\n",
    "print(br1 + 3)\n",
    "print(br1 + 2)\n",
    "print('=====2D 와 1D 의 연산=====')\n",
    "print(br2)\n",
    "print(br1 + br2)\n",
    "print(br1 * br2)"
   ]
  },
  {
   "cell_type": "code",
   "execution_count": 118,
   "metadata": {
    "colab": {
     "base_uri": "https://localhost:8080/"
    },
    "id": "kOrQW_yRHvbE",
    "outputId": "c007eae6-4585-44f9-e4bd-31588f8d7590"
   },
   "outputs": [
    {
     "name": "stdout",
     "output_type": "stream",
     "text": [
      "[[1 2 3]\n",
      " [4 5 6]\n",
      " [7 8 9]]\n",
      "[[1 2 3 4 5 6 7 8 9]]\n",
      "[1 2 3 4 5 6 7 8 9]\n"
     ]
    }
   ],
   "source": [
    "# flatten 처리\n",
    "ff = np.arange(1, 10).reshape(3, 3)\n",
    "print(ff)\n",
    "print(ff.reshape(1, 9))\n",
    "print(ff.flatten())"
   ]
  },
  {
   "cell_type": "markdown",
   "metadata": {
    "id": "CyNdgjlGJsKW"
   },
   "source": [
    "## Random number 발생"
   ]
  },
  {
   "cell_type": "markdown",
   "metadata": {},
   "source": [
    "## random unmber 발생"
   ]
  },
  {
   "cell_type": "markdown",
   "metadata": {},
   "source": [
    "- np.random.randint(): 균일 분포의 정수 난수\\n\",\n",
    "- np.random.rand(): 0부터 1사이의 균일 분포 난수 생성\\n\",\n",
    "- np.random.randn(): 표준 정규 분포 난수 생성\\n\",\n",
    "- np.random.normal(): 정규 분포 난수 생성\""
   ]
  },
  {
   "cell_type": "code",
   "execution_count": 62,
   "metadata": {},
   "outputs": [
    {
     "data": {
      "text/plain": [
       "array([[[  1, 111, 220],\n",
       "        [182, 231, 156],\n",
       "        [157, 150,  24]],\n",
       "\n",
       "       [[226,  17, 108],\n",
       "        [ 33,  76, 137],\n",
       "        [151, 140, 116]],\n",
       "\n",
       "       [[186,  42, 109],\n",
       "        [ 70, 158, 211],\n",
       "        [ 93,   2, 201]]], dtype=int32)"
      ]
     },
     "execution_count": 62,
     "metadata": {},
     "output_type": "execute_result"
    }
   ],
   "source": [
    "# randomint\n",
    "import numpy as np\n",
    "x = np.random.randint(0, 255, size = (3, 3, 3))\n",
    "x"
   ]
  },
  {
   "cell_type": "code",
   "execution_count": 65,
   "metadata": {},
   "outputs": [
    {
     "name": "stdout",
     "output_type": "stream",
     "text": [
      "평균값 : 122.51851851851852 표준편차 : 69.43601924200136 최소값 : 1 최대값 : 231\n"
     ]
    }
   ],
   "source": [
    "print('평균값 :', np.mean(x), '표준편차 :' , np.std(x), '최소값 :', np.min(x), '최대값 :', np.max(x))"
   ]
  },
  {
   "cell_type": "code",
   "execution_count": 66,
   "metadata": {},
   "outputs": [
    {
     "name": "stdout",
     "output_type": "stream",
     "text": [
      "27\n"
     ]
    }
   ],
   "source": [
    "print(len(x.flatten()))"
   ]
  },
  {
   "cell_type": "code",
   "execution_count": 68,
   "metadata": {},
   "outputs": [
    {
     "name": "stdout",
     "output_type": "stream",
     "text": [
      "27\n",
      "22\n"
     ]
    }
   ],
   "source": [
    "y = np.array([0,1,2,3,4,6,34,2,0,23,3,1,2,3,0,0,12,3,5,34,3,3,23,0,1,2,3]).reshape(3,3,3)\n",
    "print(len(y.flatten()))\n",
    "print(np.count_nonzero(y))"
   ]
  },
  {
   "cell_type": "markdown",
   "metadata": {},
   "source": [
    "# 판다스(pandas)"
   ]
  },
  {
   "cell_type": "markdown",
   "metadata": {},
   "source": [
    "- 시리즈(series)\n",
    "- 데이터프레임(dataframe)"
   ]
  },
  {
   "cell_type": "code",
   "execution_count": 2,
   "metadata": {},
   "outputs": [],
   "source": [
    "import numpy as np\n",
    "import pandas as pd"
   ]
  },
  {
   "cell_type": "code",
   "execution_count": 14,
   "metadata": {},
   "outputs": [
    {
     "name": "stdout",
     "output_type": "stream",
     "text": [
      "[ 1  2  3  4  5  6  7  8  9 10]\n",
      "0     1\n",
      "1     2\n",
      "2     3\n",
      "3     4\n",
      "4     5\n",
      "5     6\n",
      "6     7\n",
      "7     8\n",
      "8     9\n",
      "9    10\n",
      "dtype: int64 <class 'pandas.core.series.Series'> RangeIndex(start=0, stop=10, step=1) [ 1  2  3  4  5  6  7  8  9 10] int64\n"
     ]
    }
   ],
   "source": [
    "data1 = np.arange(1, 11)\n",
    "print(data1)\n",
    "data2 = pd.Series(data1)\n",
    "print(data2, type(data2), data2.index, data2.values, data2.dtype)"
   ]
  },
  {
   "cell_type": "code",
   "execution_count": 1,
   "metadata": {},
   "outputs": [
    {
     "name": "stdout",
     "output_type": "stream",
     "text": [
      "Requirement already satisfied: pandas in c:\\dev\\lang\\python313\\lib\\site-packages (2.2.3)\n",
      "Requirement already satisfied: numpy>=1.26.0 in c:\\dev\\lang\\python313\\lib\\site-packages (from pandas) (2.2.2)\n",
      "Requirement already satisfied: python-dateutil>=2.8.2 in c:\\dev\\lang\\python313\\lib\\site-packages (from pandas) (2.9.0.post0)\n",
      "Requirement already satisfied: pytz>=2020.1 in c:\\dev\\lang\\python313\\lib\\site-packages (from pandas) (2025.1)\n",
      "Requirement already satisfied: tzdata>=2022.7 in c:\\dev\\lang\\python313\\lib\\site-packages (from pandas) (2025.1)\n",
      "Requirement already satisfied: six>=1.5 in c:\\dev\\lang\\python313\\lib\\site-packages (from python-dateutil>=2.8.2->pandas) (1.17.0)\n"
     ]
    }
   ],
   "source": [
    "# !pip install pandas"
   ]
  },
  {
   "cell_type": "code",
   "execution_count": 10,
   "metadata": {},
   "outputs": [
    {
     "name": "stdout",
     "output_type": "stream",
     "text": [
      "0    1.00\n",
      "1    2.00\n",
      "2    3.14\n",
      "3    4.00\n",
      "4    5.00\n",
      "5    6.00\n",
      "6    7.00\n",
      "dtype: float64\n"
     ]
    }
   ],
   "source": [
    "# 판다스 시리즈의 데이터타입\n",
    "data3 = pd.Series([1, 2, 3.14, 4, 5, 6, 7])\n",
    "print(data3)"
   ]
  },
  {
   "cell_type": "code",
   "execution_count": 13,
   "metadata": {},
   "outputs": [
    {
     "name": "stdout",
     "output_type": "stream",
     "text": [
      "a    1\n",
      "b    2\n",
      "c    3\n",
      "d    4\n",
      "dtype: int64\n"
     ]
    }
   ],
   "source": [
    "# 판다스 시리즈의 인덱스 설정\n",
    "data3 = pd.Series([1, 2, 3, 4], index = ['a', 'b', 'c', 'd'])\n",
    "print(data3)"
   ]
  },
  {
   "cell_type": "code",
   "execution_count": 25,
   "metadata": {},
   "outputs": [
    {
     "name": "stdout",
     "output_type": "stream",
     "text": [
      "korea      5182\n",
      "japan     12622\n",
      "china    141178\n",
      "usa       38976\n",
      "dtype: int64 Index(['korea', 'japan', 'china', 'usa'], dtype='object') [  5182  12622 141178  38976]\n",
      "1 (4,) 4\n",
      "38976\n",
      "38976\n"
     ]
    }
   ],
   "source": [
    "# 판다스 시리즈 딕셔너리데이터\n",
    "population_dict = {\n",
    "    'korea' : 5182,\n",
    "    'japan' : 12622,\n",
    "    'china' : 141178,\n",
    "    'usa' : 38976\n",
    "}\n",
    "# population_dict.keys()\n",
    "# population_dict.values()\n",
    "# population_dict.items()\n",
    "country = pd.Series(population_dict)\n",
    "print(country, country.index, country.values)\n",
    "print(country.ndim, country.shape, country.size)\n",
    "print(country.loc['usa'])\n",
    "print(country.iloc[3])"
   ]
  },
  {
   "cell_type": "code",
   "execution_count": 26,
   "metadata": {},
   "outputs": [
    {
     "data": {
      "text/html": [
       "<div>\n",
       "<style scoped>\n",
       "    .dataframe tbody tr th:only-of-type {\n",
       "        vertical-align: middle;\n",
       "    }\n",
       "\n",
       "    .dataframe tbody tr th {\n",
       "        vertical-align: top;\n",
       "    }\n",
       "\n",
       "    .dataframe thead th {\n",
       "        text-align: right;\n",
       "    }\n",
       "</style>\n",
       "<table border=\"1\" class=\"dataframe\">\n",
       "  <thead>\n",
       "    <tr style=\"text-align: right;\">\n",
       "      <th></th>\n",
       "      <th>A</th>\n",
       "      <th>B</th>\n",
       "      <th>C</th>\n",
       "    </tr>\n",
       "  </thead>\n",
       "  <tbody>\n",
       "    <tr>\n",
       "      <th>a</th>\n",
       "      <td>1</td>\n",
       "      <td>2</td>\n",
       "      <td>3</td>\n",
       "    </tr>\n",
       "    <tr>\n",
       "      <th>b</th>\n",
       "      <td>4</td>\n",
       "      <td>5</td>\n",
       "      <td>6</td>\n",
       "    </tr>\n",
       "    <tr>\n",
       "      <th>c</th>\n",
       "      <td>7</td>\n",
       "      <td>8</td>\n",
       "      <td>9</td>\n",
       "    </tr>\n",
       "  </tbody>\n",
       "</table>\n",
       "</div>"
      ],
      "text/plain": [
       "   A  B  C\n",
       "a  1  2  3\n",
       "b  4  5  6\n",
       "c  7  8  9"
      ]
     },
     "execution_count": 26,
     "metadata": {},
     "output_type": "execute_result"
    }
   ],
   "source": [
    "# 판다스 데이터 프레임\n",
    "df = pd.DataFrame([[1, 2, 3], [4, 5, 6], [7, 8, 9]], index = ['a', 'b', 'c'], columns = ['A', 'B', 'C'])\n",
    "df"
   ]
  },
  {
   "cell_type": "code",
   "execution_count": 49,
   "metadata": {},
   "outputs": [
    {
     "name": "stdout",
     "output_type": "stream",
     "text": [
      "인구수 시리즈 데이터 :\n",
      "korea      5182\n",
      "japan     12622\n",
      "china    141178\n",
      "usa       38976\n",
      "dtype: int64\n",
      "GDP 시리즈 데이터 :\n",
      "korea     169320000\n",
      "japan     516700000\n",
      "china     140925000\n",
      "usa      2041280000\n",
      "dtype: int64\n",
      "=========================\n",
      "데이터 프레임 생성\n",
      "Index(['korea', 'japan', 'china', 'usa'], dtype='object', name='Country') Index(['population', 'GDP'], dtype='object', name='Info')\n",
      "[[      5182  169320000]\n",
      " [     12622  516700000]\n",
      " [    141178  140925000]\n",
      " [     38976 2041280000]] (4, 2) 8 2\n"
     ]
    }
   ],
   "source": [
    "# 테스트\n",
    "import numpy as np\n",
    "import pandas as pd\n",
    "\n",
    "# 두 개의 시리즈 데이터\n",
    "print(\"인구수 시리즈 데이터 :\")\n",
    "population_dict = {\n",
    "    'korea' : 5182,\n",
    "    'japan' : 12622,\n",
    "    'china' : 141178,\n",
    "    'usa' : 38976\n",
    "}\n",
    "population = pd.Series(population_dict)\n",
    "print(population)\n",
    "\n",
    "print(\"GDP 시리즈 데이터 :\")\n",
    "GDP_dict = {\n",
    "    'korea' : 169320000,\n",
    "    'japan' : 516700000,\n",
    "    'china' : 140925000,\n",
    "    'usa' : 2041280000\n",
    "}\n",
    "GDP = pd.Series(GDP_dict)\n",
    "print(GDP)\n",
    "print('=' * 25)\n",
    "print('데이터 프레임 생성')\n",
    "country = pd.DataFrame({'population' : population, 'GDP' : GDP})\n",
    "country.index.name = 'Country' # 인덱스 이름을 지정\n",
    "country.columns.name = 'Info' # 컬럼 이름 지정\n",
    "print(country.index, country.columns)\n",
    "print(country.values, country.shape, country.size, country.ndim)"
   ]
  },
  {
   "cell_type": "code",
   "execution_count": 50,
   "metadata": {},
   "outputs": [
    {
     "data": {
      "text/plain": [
       "(Info\n",
       " population       141178\n",
       " GDP           140925000\n",
       " Name: china, dtype: int64,\n",
       " Info\n",
       " population        12622\n",
       " GDP           516700000\n",
       " Name: japan, dtype: int64)"
      ]
     },
     "execution_count": 50,
     "metadata": {},
     "output_type": "execute_result"
    }
   ],
   "source": [
    "# 데이터 프레임의 요소 접근 방법 loc, iloc\n",
    "country.loc['korea'], country.loc['usa']\n",
    "country.iloc[2], country.iloc[1]"
   ]
  },
  {
   "cell_type": "code",
   "execution_count": 51,
   "metadata": {},
   "outputs": [
    {
     "data": {
      "text/html": [
       "<div>\n",
       "<style scoped>\n",
       "    .dataframe tbody tr th:only-of-type {\n",
       "        vertical-align: middle;\n",
       "    }\n",
       "\n",
       "    .dataframe tbody tr th {\n",
       "        vertical-align: top;\n",
       "    }\n",
       "\n",
       "    .dataframe thead th {\n",
       "        text-align: right;\n",
       "    }\n",
       "</style>\n",
       "<table border=\"1\" class=\"dataframe\">\n",
       "  <thead>\n",
       "    <tr style=\"text-align: right;\">\n",
       "      <th>Info</th>\n",
       "      <th>population</th>\n",
       "    </tr>\n",
       "    <tr>\n",
       "      <th>Country</th>\n",
       "      <th></th>\n",
       "    </tr>\n",
       "  </thead>\n",
       "  <tbody>\n",
       "    <tr>\n",
       "      <th>korea</th>\n",
       "      <td>5182</td>\n",
       "    </tr>\n",
       "    <tr>\n",
       "      <th>japan</th>\n",
       "      <td>12622</td>\n",
       "    </tr>\n",
       "  </tbody>\n",
       "</table>\n",
       "</div>"
      ],
      "text/plain": [
       "Info     population\n",
       "Country            \n",
       "korea          5182\n",
       "japan         12622"
      ]
     },
     "execution_count": 51,
     "metadata": {},
     "output_type": "execute_result"
    }
   ],
   "source": [
    "country.loc['korea' : 'japan', :'population']"
   ]
  },
  {
   "cell_type": "code",
   "execution_count": 52,
   "metadata": {},
   "outputs": [
    {
     "data": {
      "text/html": [
       "<div>\n",
       "<style scoped>\n",
       "    .dataframe tbody tr th:only-of-type {\n",
       "        vertical-align: middle;\n",
       "    }\n",
       "\n",
       "    .dataframe tbody tr th {\n",
       "        vertical-align: top;\n",
       "    }\n",
       "\n",
       "    .dataframe thead th {\n",
       "        text-align: right;\n",
       "    }\n",
       "</style>\n",
       "<table border=\"1\" class=\"dataframe\">\n",
       "  <thead>\n",
       "    <tr style=\"text-align: right;\">\n",
       "      <th>Info</th>\n",
       "      <th>population</th>\n",
       "    </tr>\n",
       "    <tr>\n",
       "      <th>Country</th>\n",
       "      <th></th>\n",
       "    </tr>\n",
       "  </thead>\n",
       "  <tbody>\n",
       "    <tr>\n",
       "      <th>korea</th>\n",
       "      <td>5182</td>\n",
       "    </tr>\n",
       "    <tr>\n",
       "      <th>japan</th>\n",
       "      <td>12622</td>\n",
       "    </tr>\n",
       "  </tbody>\n",
       "</table>\n",
       "</div>"
      ],
      "text/plain": [
       "Info     population\n",
       "Country            \n",
       "korea          5182\n",
       "japan         12622"
      ]
     },
     "execution_count": 52,
     "metadata": {},
     "output_type": "execute_result"
    }
   ],
   "source": [
    "country.iloc[0:2, :1]"
   ]
  },
  {
   "cell_type": "code",
   "execution_count": 53,
   "metadata": {},
   "outputs": [
    {
     "data": {
      "text/html": [
       "<div>\n",
       "<style scoped>\n",
       "    .dataframe tbody tr th:only-of-type {\n",
       "        vertical-align: middle;\n",
       "    }\n",
       "\n",
       "    .dataframe tbody tr th {\n",
       "        vertical-align: top;\n",
       "    }\n",
       "\n",
       "    .dataframe thead th {\n",
       "        text-align: right;\n",
       "    }\n",
       "</style>\n",
       "<table border=\"1\" class=\"dataframe\">\n",
       "  <thead>\n",
       "    <tr style=\"text-align: right;\">\n",
       "      <th>Info</th>\n",
       "      <th>GDP</th>\n",
       "    </tr>\n",
       "    <tr>\n",
       "      <th>Country</th>\n",
       "      <th></th>\n",
       "    </tr>\n",
       "  </thead>\n",
       "  <tbody>\n",
       "    <tr>\n",
       "      <th>japan</th>\n",
       "      <td>516700000</td>\n",
       "    </tr>\n",
       "    <tr>\n",
       "      <th>china</th>\n",
       "      <td>140925000</td>\n",
       "    </tr>\n",
       "    <tr>\n",
       "      <th>usa</th>\n",
       "      <td>2041280000</td>\n",
       "    </tr>\n",
       "  </tbody>\n",
       "</table>\n",
       "</div>"
      ],
      "text/plain": [
       "Info            GDP\n",
       "Country            \n",
       "japan     516700000\n",
       "china     140925000\n",
       "usa      2041280000"
      ]
     },
     "execution_count": 53,
     "metadata": {},
     "output_type": "execute_result"
    }
   ],
   "source": [
    "#country.loc['japan' : 'usa', 'GDP':]\n",
    "country.iloc[1:4, 1:]"
   ]
  },
  {
   "cell_type": "code",
   "execution_count": 54,
   "metadata": {},
   "outputs": [
    {
     "data": {
      "text/html": [
       "<div>\n",
       "<style scoped>\n",
       "    .dataframe tbody tr th:only-of-type {\n",
       "        vertical-align: middle;\n",
       "    }\n",
       "\n",
       "    .dataframe tbody tr th {\n",
       "        vertical-align: top;\n",
       "    }\n",
       "\n",
       "    .dataframe thead th {\n",
       "        text-align: right;\n",
       "    }\n",
       "</style>\n",
       "<table border=\"1\" class=\"dataframe\">\n",
       "  <thead>\n",
       "    <tr style=\"text-align: right;\">\n",
       "      <th>Info</th>\n",
       "      <th>population</th>\n",
       "      <th>GDP</th>\n",
       "    </tr>\n",
       "    <tr>\n",
       "      <th>Country</th>\n",
       "      <th></th>\n",
       "      <th></th>\n",
       "    </tr>\n",
       "  </thead>\n",
       "  <tbody>\n",
       "    <tr>\n",
       "      <th>japan</th>\n",
       "      <td>12622</td>\n",
       "      <td>516700000</td>\n",
       "    </tr>\n",
       "    <tr>\n",
       "      <th>china</th>\n",
       "      <td>141178</td>\n",
       "      <td>140925000</td>\n",
       "    </tr>\n",
       "  </tbody>\n",
       "</table>\n",
       "</div>"
      ],
      "text/plain": [
       "Info     population        GDP\n",
       "Country                       \n",
       "japan         12622  516700000\n",
       "china        141178  140925000"
      ]
     },
     "execution_count": 54,
     "metadata": {},
     "output_type": "execute_result"
    }
   ],
   "source": [
    "country.loc['japan' : 'china', :'GDP']\n",
    "#country.iloc[1:3, :2]"
   ]
  },
  {
   "cell_type": "code",
   "execution_count": 8,
   "metadata": {},
   "outputs": [
    {
     "data": {
      "text/html": [
       "<div>\n",
       "<style scoped>\n",
       "    .dataframe tbody tr th:only-of-type {\n",
       "        vertical-align: middle;\n",
       "    }\n",
       "\n",
       "    .dataframe tbody tr th {\n",
       "        vertical-align: top;\n",
       "    }\n",
       "\n",
       "    .dataframe thead th {\n",
       "        text-align: right;\n",
       "    }\n",
       "</style>\n",
       "<table border=\"1\" class=\"dataframe\">\n",
       "  <thead>\n",
       "    <tr style=\"text-align: right;\">\n",
       "      <th>Info</th>\n",
       "      <th>population</th>\n",
       "      <th>GDP</th>\n",
       "      <th>gdp_per</th>\n",
       "    </tr>\n",
       "    <tr>\n",
       "      <th>Country</th>\n",
       "      <th></th>\n",
       "      <th></th>\n",
       "      <th></th>\n",
       "    </tr>\n",
       "  </thead>\n",
       "  <tbody>\n",
       "    <tr>\n",
       "      <th>korea</th>\n",
       "      <td>5182</td>\n",
       "      <td>169320000</td>\n",
       "      <td>32674.642995</td>\n",
       "    </tr>\n",
       "    <tr>\n",
       "      <th>japan</th>\n",
       "      <td>12622</td>\n",
       "      <td>516700000</td>\n",
       "      <td>40936.460149</td>\n",
       "    </tr>\n",
       "    <tr>\n",
       "      <th>china</th>\n",
       "      <td>141178</td>\n",
       "      <td>140925000</td>\n",
       "      <td>998.207936</td>\n",
       "    </tr>\n",
       "    <tr>\n",
       "      <th>usa</th>\n",
       "      <td>38976</td>\n",
       "      <td>2041280000</td>\n",
       "      <td>52372.742200</td>\n",
       "    </tr>\n",
       "  </tbody>\n",
       "</table>\n",
       "</div>"
      ],
      "text/plain": [
       "Info     population         GDP       gdp_per\n",
       "Country                                      \n",
       "korea          5182   169320000  32674.642995\n",
       "japan         12622   516700000  40936.460149\n",
       "china        141178   140925000    998.207936\n",
       "usa           38976  2041280000  52372.742200"
      ]
     },
     "execution_count": 8,
     "metadata": {},
     "output_type": "execute_result"
    }
   ],
   "source": [
    "# 컬럼 추가\n",
    "#country['test'] = [11, 22, 33, 44]\n",
    "#country = country.drop('test', axis = 1)\n",
    "gdpper = country['GDP'] / country['population']\n",
    "country['gdp_per'] = gdpper\n",
    "country"
   ]
  },
  {
   "cell_type": "code",
   "execution_count": 21,
   "metadata": {},
   "outputs": [
    {
     "data": {
      "text/html": [
       "<div>\n",
       "<style scoped>\n",
       "    .dataframe tbody tr th:only-of-type {\n",
       "        vertical-align: middle;\n",
       "    }\n",
       "\n",
       "    .dataframe tbody tr th {\n",
       "        vertical-align: top;\n",
       "    }\n",
       "\n",
       "    .dataframe thead th {\n",
       "        text-align: right;\n",
       "    }\n",
       "</style>\n",
       "<table border=\"1\" class=\"dataframe\">\n",
       "  <thead>\n",
       "    <tr style=\"text-align: right;\">\n",
       "      <th>Info</th>\n",
       "      <th>population</th>\n",
       "      <th>GDP</th>\n",
       "      <th>gdp_per</th>\n",
       "    </tr>\n",
       "    <tr>\n",
       "      <th>Country</th>\n",
       "      <th></th>\n",
       "      <th></th>\n",
       "      <th></th>\n",
       "    </tr>\n",
       "  </thead>\n",
       "  <tbody>\n",
       "    <tr>\n",
       "      <th>korea</th>\n",
       "      <td>5182.0</td>\n",
       "      <td>1.693200e+08</td>\n",
       "      <td>32674.642995</td>\n",
       "    </tr>\n",
       "    <tr>\n",
       "      <th>japan</th>\n",
       "      <td>12622.0</td>\n",
       "      <td>5.167000e+08</td>\n",
       "      <td>40936.460149</td>\n",
       "    </tr>\n",
       "    <tr>\n",
       "      <th>china</th>\n",
       "      <td>141178.0</td>\n",
       "      <td>1.409250e+08</td>\n",
       "      <td>998.207936</td>\n",
       "    </tr>\n",
       "    <tr>\n",
       "      <th>usa</th>\n",
       "      <td>38976.0</td>\n",
       "      <td>2.041280e+09</td>\n",
       "      <td>52372.7422</td>\n",
       "    </tr>\n",
       "    <tr>\n",
       "      <th>india</th>\n",
       "      <td>142222.0</td>\n",
       "      <td>1.505050e+08</td>\n",
       "      <td>1058.239935</td>\n",
       "    </tr>\n",
       "  </tbody>\n",
       "</table>\n",
       "</div>"
      ],
      "text/plain": [
       "Info     population           GDP       gdp_per\n",
       "Country                                        \n",
       "korea        5182.0  1.693200e+08  32674.642995\n",
       "japan       12622.0  5.167000e+08  40936.460149\n",
       "china      141178.0  1.409250e+08    998.207936\n",
       "usa         38976.0  2.041280e+09    52372.7422\n",
       "india      142222.0  1.505050e+08   1058.239935"
      ]
     },
     "execution_count": 21,
     "metadata": {},
     "output_type": "execute_result"
    }
   ],
   "source": [
    "# 행 추가 방법1\n",
    "country.loc['india'] = [142222, 150505000, 'NaN']\n",
    "country.loc['india', 'gdp_per'] = country.loc['india', 'GDP'] / country.loc['india', 'population']\n",
    "country"
   ]
  },
  {
   "cell_type": "code",
   "execution_count": 22,
   "metadata": {},
   "outputs": [
    {
     "data": {
      "text/html": [
       "<div>\n",
       "<style scoped>\n",
       "    .dataframe tbody tr th:only-of-type {\n",
       "        vertical-align: middle;\n",
       "    }\n",
       "\n",
       "    .dataframe tbody tr th {\n",
       "        vertical-align: top;\n",
       "    }\n",
       "\n",
       "    .dataframe thead th {\n",
       "        text-align: right;\n",
       "    }\n",
       "</style>\n",
       "<table border=\"1\" class=\"dataframe\">\n",
       "  <thead>\n",
       "    <tr style=\"text-align: right;\">\n",
       "      <th>Info</th>\n",
       "      <th>population</th>\n",
       "      <th>GDP</th>\n",
       "      <th>gdp_per</th>\n",
       "    </tr>\n",
       "    <tr>\n",
       "      <th>Country</th>\n",
       "      <th></th>\n",
       "      <th></th>\n",
       "      <th></th>\n",
       "    </tr>\n",
       "  </thead>\n",
       "  <tbody>\n",
       "    <tr>\n",
       "      <th>korea</th>\n",
       "      <td>5182.0</td>\n",
       "      <td>1.693200e+08</td>\n",
       "      <td>32674.642995</td>\n",
       "    </tr>\n",
       "    <tr>\n",
       "      <th>japan</th>\n",
       "      <td>12622.0</td>\n",
       "      <td>5.167000e+08</td>\n",
       "      <td>40936.460149</td>\n",
       "    </tr>\n",
       "    <tr>\n",
       "      <th>china</th>\n",
       "      <td>141178.0</td>\n",
       "      <td>1.409250e+08</td>\n",
       "      <td>998.207936</td>\n",
       "    </tr>\n",
       "    <tr>\n",
       "      <th>usa</th>\n",
       "      <td>38976.0</td>\n",
       "      <td>2.041280e+09</td>\n",
       "      <td>52372.7422</td>\n",
       "    </tr>\n",
       "    <tr>\n",
       "      <th>india</th>\n",
       "      <td>142222.0</td>\n",
       "      <td>1.505050e+08</td>\n",
       "      <td>1058.239935</td>\n",
       "    </tr>\n",
       "    <tr>\n",
       "      <th>africa</th>\n",
       "      <td>123456.0</td>\n",
       "      <td>7.777777e+06</td>\n",
       "      <td>63.000397</td>\n",
       "    </tr>\n",
       "  </tbody>\n",
       "</table>\n",
       "</div>"
      ],
      "text/plain": [
       "Info     population           GDP       gdp_per\n",
       "Country                                        \n",
       "korea        5182.0  1.693200e+08  32674.642995\n",
       "japan       12622.0  5.167000e+08  40936.460149\n",
       "china      141178.0  1.409250e+08    998.207936\n",
       "usa         38976.0  2.041280e+09    52372.7422\n",
       "india      142222.0  1.505050e+08   1058.239935\n",
       "africa     123456.0  7.777777e+06     63.000397"
      ]
     },
     "execution_count": 22,
     "metadata": {},
     "output_type": "execute_result"
    }
   ],
   "source": [
    "# 행 추가 방법2\n",
    "africa = pd.Series(data = [123456, 7777777], index = ['population', 'GDP'])\n",
    "country.loc['africa'] = africa\n",
    "country.loc['africa', 'gdp_per'] = country.loc['africa', 'GDP'] / country.loc['africa', 'population']\n",
    "country"
   ]
  },
  {
   "cell_type": "code",
   "execution_count": 23,
   "metadata": {},
   "outputs": [
    {
     "data": {
      "text/plain": [
       "Info\n",
       "population    0\n",
       "GDP           0\n",
       "gdp_per       0\n",
       "dtype: int64"
      ]
     },
     "execution_count": 23,
     "metadata": {},
     "output_type": "execute_result"
    }
   ],
   "source": [
    "#결측값(NaN) 확인\n",
    "country.isnull().sum()"
   ]
  },
  {
   "cell_type": "code",
   "execution_count": 24,
   "metadata": {},
   "outputs": [
    {
     "data": {
      "text/html": [
       "<div>\n",
       "<style scoped>\n",
       "    .dataframe tbody tr th:only-of-type {\n",
       "        vertical-align: middle;\n",
       "    }\n",
       "\n",
       "    .dataframe tbody tr th {\n",
       "        vertical-align: top;\n",
       "    }\n",
       "\n",
       "    .dataframe thead th {\n",
       "        text-align: right;\n",
       "    }\n",
       "</style>\n",
       "<table border=\"1\" class=\"dataframe\">\n",
       "  <thead>\n",
       "    <tr style=\"text-align: right;\">\n",
       "      <th>Info</th>\n",
       "      <th>population</th>\n",
       "      <th>GDP</th>\n",
       "      <th>gdp_per</th>\n",
       "    </tr>\n",
       "    <tr>\n",
       "      <th>Country</th>\n",
       "      <th></th>\n",
       "      <th></th>\n",
       "      <th></th>\n",
       "    </tr>\n",
       "  </thead>\n",
       "  <tbody>\n",
       "    <tr>\n",
       "      <th>korea</th>\n",
       "      <td>5182.0</td>\n",
       "      <td>1.693200e+08</td>\n",
       "      <td>32674.642995</td>\n",
       "    </tr>\n",
       "    <tr>\n",
       "      <th>japan</th>\n",
       "      <td>12622.0</td>\n",
       "      <td>5.167000e+08</td>\n",
       "      <td>40936.460149</td>\n",
       "    </tr>\n",
       "    <tr>\n",
       "      <th>china</th>\n",
       "      <td>141178.0</td>\n",
       "      <td>1.409250e+08</td>\n",
       "      <td>998.207936</td>\n",
       "    </tr>\n",
       "    <tr>\n",
       "      <th>usa</th>\n",
       "      <td>38976.0</td>\n",
       "      <td>2.041280e+09</td>\n",
       "      <td>52372.7422</td>\n",
       "    </tr>\n",
       "    <tr>\n",
       "      <th>india</th>\n",
       "      <td>142222.0</td>\n",
       "      <td>1.505050e+08</td>\n",
       "      <td>1058.239935</td>\n",
       "    </tr>\n",
       "  </tbody>\n",
       "</table>\n",
       "</div>"
      ],
      "text/plain": [
       "Info     population           GDP       gdp_per\n",
       "Country                                        \n",
       "korea        5182.0  1.693200e+08  32674.642995\n",
       "japan       12622.0  5.167000e+08  40936.460149\n",
       "china      141178.0  1.409250e+08    998.207936\n",
       "usa         38976.0  2.041280e+09    52372.7422\n",
       "india      142222.0  1.505050e+08   1058.239935"
      ]
     },
     "execution_count": 24,
     "metadata": {},
     "output_type": "execute_result"
    }
   ],
   "source": [
    "# 열 제거 drop(이름, axis = )\n",
    "country = country.drop('africa', axis= 0) # inplace = True\n",
    "country"
   ]
  },
  {
   "cell_type": "code",
   "execution_count": 25,
   "metadata": {},
   "outputs": [
    {
     "data": {
      "text/plain": [
       "Country\n",
       "korea    False\n",
       "japan    False\n",
       "china     True\n",
       "usa      False\n",
       "india     True\n",
       "Name: population, dtype: bool"
      ]
     },
     "execution_count": 25,
     "metadata": {},
     "output_type": "execute_result"
    }
   ],
   "source": [
    "# 테스트 1 조건\n",
    "country['population'] > 140000"
   ]
  },
  {
   "cell_type": "code",
   "execution_count": 36,
   "metadata": {},
   "outputs": [
    {
     "data": {
      "text/html": [
       "<div>\n",
       "<style scoped>\n",
       "    .dataframe tbody tr th:only-of-type {\n",
       "        vertical-align: middle;\n",
       "    }\n",
       "\n",
       "    .dataframe tbody tr th {\n",
       "        vertical-align: top;\n",
       "    }\n",
       "\n",
       "    .dataframe thead th {\n",
       "        text-align: right;\n",
       "    }\n",
       "</style>\n",
       "<table border=\"1\" class=\"dataframe\">\n",
       "  <thead>\n",
       "    <tr style=\"text-align: right;\">\n",
       "      <th>Info</th>\n",
       "      <th>population</th>\n",
       "    </tr>\n",
       "    <tr>\n",
       "      <th>Country</th>\n",
       "      <th></th>\n",
       "    </tr>\n",
       "  </thead>\n",
       "  <tbody>\n",
       "    <tr>\n",
       "      <th>japan</th>\n",
       "      <td>12622.0</td>\n",
       "    </tr>\n",
       "    <tr>\n",
       "      <th>usa</th>\n",
       "      <td>38976.0</td>\n",
       "    </tr>\n",
       "  </tbody>\n",
       "</table>\n",
       "</div>"
      ],
      "text/plain": [
       "Info     population\n",
       "Country            \n",
       "japan       12622.0\n",
       "usa         38976.0"
      ]
     },
     "execution_count": 36,
     "metadata": {},
     "output_type": "execute_result"
    }
   ],
   "source": [
    "# 테스트2 조건, 슬라이싱 (loc, iloc 필수)\n",
    "country[(country['population'] > 10000) & (country['population'] < 100000)].loc[:, :'population']"
   ]
  },
  {
   "cell_type": "code",
   "execution_count": 75,
   "metadata": {},
   "outputs": [
    {
     "data": {
      "text/html": [
       "<div>\n",
       "<style scoped>\n",
       "    .dataframe tbody tr th:only-of-type {\n",
       "        vertical-align: middle;\n",
       "    }\n",
       "\n",
       "    .dataframe tbody tr th {\n",
       "        vertical-align: top;\n",
       "    }\n",
       "\n",
       "    .dataframe thead th {\n",
       "        text-align: right;\n",
       "    }\n",
       "</style>\n",
       "<table border=\"1\" class=\"dataframe\">\n",
       "  <thead>\n",
       "    <tr style=\"text-align: right;\">\n",
       "      <th>이름</th>\n",
       "      <th>국어</th>\n",
       "      <th>수학</th>\n",
       "      <th>영어</th>\n",
       "    </tr>\n",
       "  </thead>\n",
       "  <tbody>\n",
       "    <tr>\n",
       "      <th>홍길동</th>\n",
       "      <td>80</td>\n",
       "      <td>70</td>\n",
       "      <td>80</td>\n",
       "    </tr>\n",
       "    <tr>\n",
       "      <th>박철수</th>\n",
       "      <td>60</td>\n",
       "      <td>70</td>\n",
       "      <td>80</td>\n",
       "    </tr>\n",
       "    <tr>\n",
       "      <th>김영희</th>\n",
       "      <td>70</td>\n",
       "      <td>90</td>\n",
       "      <td>80</td>\n",
       "    </tr>\n",
       "  </tbody>\n",
       "</table>\n",
       "</div>"
      ],
      "text/plain": [
       "이름   국어  수학  영어\n",
       "홍길동  80  70  80\n",
       "박철수  60  70  80\n",
       "김영희  70  90  80"
      ]
     },
     "execution_count": 75,
     "metadata": {},
     "output_type": "execute_result"
    }
   ],
   "source": [
    "# 키값쌍으로 리스트에 저장하는 방법\n",
    "# data = [\n",
    "#    {'이름' : '홍길동', '국어' : 80, '수학' : 70, '영어' : 80}\n",
    "#    {'이름' : '박철수', '국어' : 60, '수학' : 70, '영어' : 80}\n",
    "#    {'이름' : '김영희', '국어' : 70, '수학' : 90, '영어' : 80}\n",
    "#]\n",
    "\n",
    "# 리스트에 튜플로 저장하는 방법\n",
    "# data = [\n",
    "#     ('홍길동', 80, 70, 80),\n",
    "#     ('박철수', 60, 70, 80),\n",
    "#     ('김영희', 70, 90, 80)\n",
    "# ]\n",
    "# df = pd.DataFrame(data, columns = ['이름', '국어', '수학', '영어'])\n",
    "# df\n",
    "\n",
    "ko_dict = {\n",
    "    '홍길동' : 80,\n",
    "    '박철수' : 60,\n",
    "    '김영희' : 70\n",
    "}\n",
    "math_dict = {\n",
    "    '홍길동' : 70,\n",
    "    '박철수' : 70,\n",
    "    '김영희' : 90\n",
    "}\n",
    "en_dict = {\n",
    "    '홍길동' : 80,\n",
    "    '박철수' : 80,\n",
    "    '김영희' : 80\n",
    "}\n",
    "ko = pd.Series(ko_dict)\n",
    "math = pd.Series(math_dict)\n",
    "en = pd.Series(en_dict)\n",
    "student = pd.DataFrame({'국어' : ko, '수학' : math, '영어' : en})\n",
    "student.columns.name = '이름'\n",
    "student"
   ]
  },
  {
   "cell_type": "code",
   "execution_count": 65,
   "metadata": {},
   "outputs": [
    {
     "data": {
      "text/html": [
       "<div>\n",
       "<style scoped>\n",
       "    .dataframe tbody tr th:only-of-type {\n",
       "        vertical-align: middle;\n",
       "    }\n",
       "\n",
       "    .dataframe tbody tr th {\n",
       "        vertical-align: top;\n",
       "    }\n",
       "\n",
       "    .dataframe thead th {\n",
       "        text-align: right;\n",
       "    }\n",
       "</style>\n",
       "<table border=\"1\" class=\"dataframe\">\n",
       "  <thead>\n",
       "    <tr style=\"text-align: right;\">\n",
       "      <th>이름</th>\n",
       "      <th>수학</th>\n",
       "      <th>영어</th>\n",
       "    </tr>\n",
       "  </thead>\n",
       "  <tbody>\n",
       "    <tr>\n",
       "      <th>박철수</th>\n",
       "      <td>70</td>\n",
       "      <td>80</td>\n",
       "    </tr>\n",
       "  </tbody>\n",
       "</table>\n",
       "</div>"
      ],
      "text/plain": [
       "이름   수학  영어\n",
       "박철수  70  80"
      ]
     },
     "execution_count": 65,
     "metadata": {},
     "output_type": "execute_result"
    }
   ],
   "source": [
    "student.iloc[1:2, 1:3]"
   ]
  },
  {
   "cell_type": "code",
   "execution_count": 78,
   "metadata": {},
   "outputs": [
    {
     "data": {
      "text/html": [
       "<div>\n",
       "<style scoped>\n",
       "    .dataframe tbody tr th:only-of-type {\n",
       "        vertical-align: middle;\n",
       "    }\n",
       "\n",
       "    .dataframe tbody tr th {\n",
       "        vertical-align: top;\n",
       "    }\n",
       "\n",
       "    .dataframe thead th {\n",
       "        text-align: right;\n",
       "    }\n",
       "</style>\n",
       "<table border=\"1\" class=\"dataframe\">\n",
       "  <thead>\n",
       "    <tr style=\"text-align: right;\">\n",
       "      <th>이름</th>\n",
       "      <th>국어</th>\n",
       "      <th>수학</th>\n",
       "      <th>영어</th>\n",
       "    </tr>\n",
       "  </thead>\n",
       "  <tbody>\n",
       "    <tr>\n",
       "      <th>홍길동</th>\n",
       "      <td>80</td>\n",
       "      <td>70</td>\n",
       "      <td>80</td>\n",
       "    </tr>\n",
       "    <tr>\n",
       "      <th>김영희</th>\n",
       "      <td>70</td>\n",
       "      <td>90</td>\n",
       "      <td>80</td>\n",
       "    </tr>\n",
       "  </tbody>\n",
       "</table>\n",
       "</div>"
      ],
      "text/plain": [
       "이름   국어  수학  영어\n",
       "홍길동  80  70  80\n",
       "김영희  70  90  80"
      ]
     },
     "execution_count": 78,
     "metadata": {},
     "output_type": "execute_result"
    }
   ],
   "source": [
    "student[student['국어'] >= 70]"
   ]
  },
  {
   "cell_type": "code",
   "execution_count": 81,
   "metadata": {},
   "outputs": [
    {
     "data": {
      "text/html": [
       "<div>\n",
       "<style scoped>\n",
       "    .dataframe tbody tr th:only-of-type {\n",
       "        vertical-align: middle;\n",
       "    }\n",
       "\n",
       "    .dataframe tbody tr th {\n",
       "        vertical-align: top;\n",
       "    }\n",
       "\n",
       "    .dataframe thead th {\n",
       "        text-align: right;\n",
       "    }\n",
       "</style>\n",
       "<table border=\"1\" class=\"dataframe\">\n",
       "  <thead>\n",
       "    <tr style=\"text-align: right;\">\n",
       "      <th>이름</th>\n",
       "      <th>국어</th>\n",
       "      <th>수학</th>\n",
       "      <th>영어</th>\n",
       "      <th>평균</th>\n",
       "    </tr>\n",
       "  </thead>\n",
       "  <tbody>\n",
       "    <tr>\n",
       "      <th>홍길동</th>\n",
       "      <td>80</td>\n",
       "      <td>70</td>\n",
       "      <td>80</td>\n",
       "      <td>77.0</td>\n",
       "    </tr>\n",
       "    <tr>\n",
       "      <th>박철수</th>\n",
       "      <td>60</td>\n",
       "      <td>70</td>\n",
       "      <td>80</td>\n",
       "      <td>70.0</td>\n",
       "    </tr>\n",
       "    <tr>\n",
       "      <th>김영희</th>\n",
       "      <td>70</td>\n",
       "      <td>90</td>\n",
       "      <td>80</td>\n",
       "      <td>80.0</td>\n",
       "    </tr>\n",
       "  </tbody>\n",
       "</table>\n",
       "</div>"
      ],
      "text/plain": [
       "이름   국어  수학  영어    평균\n",
       "홍길동  80  70  80  77.0\n",
       "박철수  60  70  80  70.0\n",
       "김영희  70  90  80  80.0"
      ]
     },
     "execution_count": 81,
     "metadata": {},
     "output_type": "execute_result"
    }
   ],
   "source": [
    "student['평균'] = (student['국어'] + student['수학'] + student['영어']) / 3\n",
    "student.round()"
   ]
  },
  {
   "cell_type": "code",
   "execution_count": 72,
   "metadata": {},
   "outputs": [
    {
     "data": {
      "text/html": [
       "<div>\n",
       "<style scoped>\n",
       "    .dataframe tbody tr th:only-of-type {\n",
       "        vertical-align: middle;\n",
       "    }\n",
       "\n",
       "    .dataframe tbody tr th {\n",
       "        vertical-align: top;\n",
       "    }\n",
       "\n",
       "    .dataframe thead th {\n",
       "        text-align: right;\n",
       "    }\n",
       "</style>\n",
       "<table border=\"1\" class=\"dataframe\">\n",
       "  <thead>\n",
       "    <tr style=\"text-align: right;\">\n",
       "      <th>이름</th>\n",
       "      <th>국어</th>\n",
       "      <th>수학</th>\n",
       "      <th>영어</th>\n",
       "      <th>평균</th>\n",
       "    </tr>\n",
       "  </thead>\n",
       "  <tbody>\n",
       "    <tr>\n",
       "      <th>홍길동</th>\n",
       "      <td>80.0</td>\n",
       "      <td>70.0</td>\n",
       "      <td>80.0</td>\n",
       "      <td>76.666667</td>\n",
       "    </tr>\n",
       "    <tr>\n",
       "      <th>박철수</th>\n",
       "      <td>60.0</td>\n",
       "      <td>70.0</td>\n",
       "      <td>80.0</td>\n",
       "      <td>70.000000</td>\n",
       "    </tr>\n",
       "    <tr>\n",
       "      <th>김영희</th>\n",
       "      <td>70.0</td>\n",
       "      <td>90.0</td>\n",
       "      <td>80.0</td>\n",
       "      <td>80.000000</td>\n",
       "    </tr>\n",
       "    <tr>\n",
       "      <th>최자바</th>\n",
       "      <td>55.0</td>\n",
       "      <td>95.0</td>\n",
       "      <td>70.0</td>\n",
       "      <td>73.333333</td>\n",
       "    </tr>\n",
       "  </tbody>\n",
       "</table>\n",
       "</div>"
      ],
      "text/plain": [
       "이름     국어    수학    영어         평균\n",
       "홍길동  80.0  70.0  80.0  76.666667\n",
       "박철수  60.0  70.0  80.0  70.000000\n",
       "김영희  70.0  90.0  80.0  80.000000\n",
       "최자바  55.0  95.0  70.0  73.333333"
      ]
     },
     "execution_count": 72,
     "metadata": {},
     "output_type": "execute_result"
    }
   ],
   "source": [
    "java = pd.Series(data = [55, 95, 70], index = ['국어', '수학', '영어'])\n",
    "student.loc['최자바'] = java\n",
    "student.loc['최자바', '평균'] = (student.loc['최자바', '국어'] + student.loc['최자바', '수학'] + student.loc['최자바', '영어']) / 3\n",
    "student"
   ]
  },
  {
   "cell_type": "code",
   "execution_count": null,
   "metadata": {},
   "outputs": [],
   "source": [
    "# 리스트에 튜플로 저장하는 방법\n",
    "# data0 = [\n",
    "#     ('홍길동', 80, 70, 80),\n",
    "#     ('박철수', 60, 70, 80),\n",
    "#     ('김영희', 70, 90, 80)\n",
    "# ]\n",
    "# data = np.array(data0)\n",
    "# data = np.array([['홍길동', 80, 70, 80], ['박철수', 60, 70, 80], ['김영희', 70, 90, 80]])\n",
    "# data"
   ]
  }
 ],
 "metadata": {
  "colab": {
   "provenance": []
  },
  "kernelspec": {
   "display_name": "Python 3 (ipykernel)",
   "language": "python",
   "name": "python3"
  },
  "language_info": {
   "codemirror_mode": {
    "name": "ipython",
    "version": 3
   },
   "file_extension": ".py",
   "mimetype": "text/x-python",
   "name": "python",
   "nbconvert_exporter": "python",
   "pygments_lexer": "ipython3",
   "version": "3.13.1"
  }
 },
 "nbformat": 4,
 "nbformat_minor": 4
}
