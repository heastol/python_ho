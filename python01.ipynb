{
 "cells": [
  {
   "cell_type": "markdown",
   "id": "1d25f509-5981-470e-9aee-c46e325b89e7",
   "metadata": {},
   "source": [
    "# 주피터랩 단축키\n",
    "- a: 위 셀 추가\n",
    "- b: 아래 셀 추가\n",
    "- Ctrl + Shift + 위: 셀 위로 이동\n",
    "- Ctrl + Shift + 아래:셀 아래로 이동\n",
    "- Shift + Enter: 셀 실행\n",
    "- dd: 셀 삭제\n",
    "- x: 셀 잘라내기\n",
    "- c: 셀 복사\n",
    "- v: 셀 붙여넣기\n",
    "- z: undo\n",
    "- Shift + z: redo\n",
    "- m: markdown\n",
    "- y: code"
   ]
  },
  {
   "cell_type": "markdown",
   "id": "2787001e-aa2f-48cb-aafe-3751ed85bd10",
   "metadata": {},
   "source": [
    "# 기초"
   ]
  },
  {
   "cell_type": "code",
   "execution_count": 1,
   "id": "72b0f876-5a23-4b28-ba33-48435dc483ab",
   "metadata": {},
   "outputs": [
    {
     "name": "stdout",
     "output_type": "stream",
     "text": [
      "사실은 두번 째\n"
     ]
    }
   ],
   "source": [
    "#print('쥬피터랩에 처음이에요.')\n",
    "print('사실은 두번 째')"
   ]
  },
  {
   "cell_type": "code",
   "execution_count": 2,
   "id": "6fc2af10-27a2-4ee2-ae11-b413f4a864cd",
   "metadata": {},
   "outputs": [
    {
     "name": "stdout",
     "output_type": "stream",
     "text": [
      "4610\n"
     ]
    }
   ],
   "source": [
    "print(1277+3333)"
   ]
  },
  {
   "cell_type": "code",
   "execution_count": 3,
   "id": "5bc71108-5e79-4e68-820e-25c86c855081",
   "metadata": {},
   "outputs": [
    {
     "name": "stdout",
     "output_type": "stream",
     "text": [
      "시간이 많이 남았어.\n"
     ]
    }
   ],
   "source": [
    "import time as t\n",
    "print('배고프다',end='\\r')\n",
    "t.sleep(1)\n",
    "print('근데',end='\\r')\n",
    "t.sleep(1)\n",
    "print('시간이 많이 남았어.')"
   ]
  },
  {
   "cell_type": "code",
   "execution_count": 4,
   "id": "9dfd5405-27f5-4858-bd9c-e7c751d729a6",
   "metadata": {},
   "outputs": [
    {
     "name": "stdout",
     "output_type": "stream",
     "text": [
      "1*2*3*4*5\n"
     ]
    }
   ],
   "source": [
    "print(1,2,3,4,5, sep='*')"
   ]
  },
  {
   "cell_type": "markdown",
   "id": "5a6de28f-9139-4423-9ee5-b8fafd907ad0",
   "metadata": {},
   "source": [
    "# 자료형"
   ]
  },
  {
   "cell_type": "markdown",
   "id": "54934f91-e449-49c5-802c-1cf2bc194cb8",
   "metadata": {},
   "source": [
    "## 숫자형"
   ]
  },
  {
   "cell_type": "code",
   "execution_count": 6,
   "id": "75ac534d-0e35-4a2e-a98b-ed4c521b59a6",
   "metadata": {},
   "outputs": [
    {
     "name": "stdout",
     "output_type": "stream",
     "text": [
      "덧셈 877\n",
      "============================\n",
      "뺄셈 677\n",
      "============================\n",
      "곱셈 77700\n",
      "============================\n",
      "나눗셈 7.77\n",
      "============================\n",
      "몫 7\n",
      "============================\n",
      "나머지 77\n",
      "============================\n",
      "제곱수 603729\n",
      "============================\n"
     ]
    }
   ],
   "source": [
    "# 사칙연산 예\n",
    "sachic = 777\n",
    "sem = 100\n",
    "print('덧셈',sachic + sem, end='\\n============================\\n')\n",
    "print('뺄셈',sachic - sem, end='\\n============================\\n')\n",
    "print('곱셈',sachic * sem, end='\\n============================\\n')\n",
    "print('나눗셈',sachic / sem, end='\\n============================\\n')\n",
    "print('몫',sachic // sem, end='\\n============================\\n')\n",
    "print('나머지',sachic % sem, end='\\n============================\\n')\n",
    "print('제곱수',sachic ** 2, end='\\n============================\\n')"
   ]
  },
  {
   "cell_type": "code",
   "execution_count": 5,
   "id": "1bcca2fd-b444-4089-ad2e-315fe6cc264c",
   "metadata": {},
   "outputs": [
    {
     "name": "stdout",
     "output_type": "stream",
     "text": [
      "123 -178 0\n"
     ]
    }
   ],
   "source": [
    "# 정수형\n",
    "a = 123\n",
    "b = -178\n",
    "c = 0\n",
    "print(a,b,c)"
   ]
  },
  {
   "cell_type": "code",
   "execution_count": 12,
   "id": "90dcacbd-f771-4520-b969-c0d73cccfbb5",
   "metadata": {},
   "outputs": [
    {
     "name": "stdout",
     "output_type": "stream",
     "text": [
      "1.2 -3.14 1.24e-10\n"
     ]
    }
   ],
   "source": [
    "# 실수형\n",
    "aa = 1.2\n",
    "bb = -3.14\n",
    "cc = 1.24e-10\n",
    "print(aa,bb,cc)"
   ]
  },
  {
   "cell_type": "code",
   "execution_count": 14,
   "id": "92b7802d-7f29-4afc-a1d5-93351026e4a1",
   "metadata": {},
   "outputs": [
    {
     "name": "stdout",
     "output_type": "stream",
     "text": [
      "127 15 2748\n"
     ]
    }
   ],
   "source": [
    "# 2진수와(bin) 8진수와(oct) 16진수(hex)\n",
    "aaa = 0o177\n",
    "bbb = 0b1111\n",
    "ccc = 0xABC\n",
    "print(aaa,bbb,ccc)"
   ]
  },
  {
   "cell_type": "code",
   "execution_count": 17,
   "id": "3e496f11-206d-4d28-9937-2c33ffa7d4b6",
   "metadata": {},
   "outputs": [
    {
     "name": "stdout",
     "output_type": "stream",
     "text": [
      "81\n"
     ]
    }
   ],
   "source": [
    "a = 3\n",
    "b = 4\n",
    "print(a ** b)"
   ]
  },
  {
   "cell_type": "code",
   "execution_count": 32,
   "id": "cc802ee8-6593-4409-84d7-76a71d7b9f6a",
   "metadata": {},
   "outputs": [
    {
     "name": "stdout",
     "output_type": "stream",
     "text": [
      "2\n",
      "3\n",
      "4\n"
     ]
    }
   ],
   "source": [
    "# 복합연산자\n",
    "a = 1\n",
    "a =  a + 1\n",
    "print(a)\n",
    "a = a + 1\n",
    "print(a)\n",
    "a = a + 1\n",
    "print(a)"
   ]
  },
  {
   "cell_type": "code",
   "execution_count": 55,
   "id": "4f25c128-3a00-4fc6-b2e2-35e61b8cd0cb",
   "metadata": {},
   "outputs": [
    {
     "name": "stdout",
     "output_type": "stream",
     "text": [
      "9\n",
      "8\n",
      "7\n"
     ]
    }
   ],
   "source": [
    "a = 10\n",
    "a -= 1\n",
    "print(a)\n",
    "a -= 1\n",
    "print(a)\n",
    "a -= 1\n",
    "print(a)"
   ]
  },
  {
   "cell_type": "code",
   "execution_count": 59,
   "id": "98ad5ed8-b2fb-4da0-bdcc-59c1d9fe9495",
   "metadata": {},
   "outputs": [
    {
     "name": "stdout",
     "output_type": "stream",
     "text": [
      "11\n",
      "10\n",
      "10\n",
      "10.0\n",
      "10.0\n",
      "0.0\n",
      "0.0\n"
     ]
    }
   ],
   "source": [
    "# 복합연산자\n",
    "a = 10\n",
    "a += 1\n",
    "print(a)\n",
    "a -= 1\n",
    "print(a)\n",
    "a *= 1\n",
    "print(a)\n",
    "a /= 1\n",
    "print(a)\n",
    "a //= 1\n",
    "print(a)\n",
    "a %= 1\n",
    "print(a)\n",
    "a **= 1\n",
    "print(a)"
   ]
  },
  {
   "cell_type": "markdown",
   "id": "aaa8a163-1bb1-445e-bfa7-0a3b8c8e9cee",
   "metadata": {},
   "source": [
    "## 문자열 자료형"
   ]
  },
  {
   "cell_type": "code",
   "execution_count": 66,
   "id": "4ac92211-fa7f-47da-9a4a-e995457fb6f3",
   "metadata": {},
   "outputs": [
    {
     "name": "stdout",
     "output_type": "stream",
     "text": [
      "문자형입니다.\n",
      "\n",
      "이것은 여러 줄 문자열 주석 처리입니다.\n",
      "\n",
      "\n",
      "이것도 여러 줄 문자열 주석 처리입니다.\n",
      "\n"
     ]
    }
   ],
   "source": [
    "# 주석처리입니다\n",
    "str1 = '문자형입니다.'\n",
    "print(str1)\n",
    "\n",
    "str2 = '''\n",
    "이것은 여러 줄 문자열 주석 처리입니다.\n",
    "'''\n",
    "print(str2)\n",
    "\n",
    "str3 = \"\"\"\n",
    "이것도 여러 줄 문자열 주석 처리입니다.\n",
    "\"\"\"\n",
    "print(str3)"
   ]
  },
  {
   "cell_type": "code",
   "execution_count": 80,
   "id": "e11aeb84-92ac-4238-9972-b5af82ca796d",
   "metadata": {},
   "outputs": [
    {
     "name": "stdout",
     "output_type": "stream",
     "text": [
      "Python's favorite food is perl\n"
     ]
    }
   ],
   "source": [
    "# food = \"Python's favorite food is  perl\"\n",
    "food = 'Python\\'s favorite food is perl'\n",
    "print(food)"
   ]
  },
  {
   "cell_type": "code",
   "execution_count": 84,
   "id": "b4271213-eca1-4e77-b4ae-c868fd098b92",
   "metadata": {},
   "outputs": [
    {
     "name": "stdout",
     "output_type": "stream",
     "text": [
      "Life is too short\n",
      "You need python\n"
     ]
    }
   ],
   "source": [
    "multiline = \"Life is too short\\nYou need python\"\n",
    "print(multiline)"
   ]
  },
  {
   "cell_type": "code",
   "execution_count": 85,
   "id": "40a4b342-c9eb-4cd1-a318-8675c5514a5e",
   "metadata": {},
   "outputs": [
    {
     "name": "stdout",
     "output_type": "stream",
     "text": [
      "\n",
      "Life is too short\n",
      "You need python\n",
      "\n"
     ]
    }
   ],
   "source": [
    "multiline = '''\n",
    "Life is too short\n",
    "You need python\n",
    "'''\n",
    "print(multiline)"
   ]
  },
  {
   "cell_type": "markdown",
   "id": "c6d09549-8ad8-4600-a4c2-a74aa0c56b21",
   "metadata": {},
   "source": [
    "<table>\n",
    "<thead>\n",
    "<tr>\n",
    "<th>코드</th>\n",
    "<th>설명</th>\n",
    "</tr>\n",
    "</thead>\n",
    "<tbody>\n",
    "<tr>\n",
    "<td><code>\\n</code></td>\n",
    "<td>문자열 안에서 줄을 바꿀 때 사용</td>\n",
    "</tr>\n",
    "<tr>\n",
    "<td><code>\\t</code></td>\n",
    "<td>문자열 사이에 탭 간격을 줄 때 사용</td>\n",
    "</tr>\n",
    "<tr>\n",
    "<td><code>\\\\</code></td>\n",
    "<td><code>\\</code>를 그대로 표현할 때 사용</td>\n",
    "</tr>\n",
    "<tr>\n",
    "<td><code>\\'</code></td>\n",
    "<td>작은따옴표(')를 그대로 표현할 때 사용</td>\n",
    "</tr>\n",
    "<tr>\n",
    "<td><code>\\\"</code></td>\n",
    "<td>큰따옴표(\")를 그대로 표현할 때 사용</td>\n",
    "</tr>\n",
    "<tr>\n",
    "<td><code>\\r</code></td>\n",
    "<td>캐리지 리턴(줄 바꿈 문자, 커서를 현재 줄의 가장 앞으로 이동)</td>\n",
    "</tr>\n",
    "<tr>\n",
    "<td><code>\\f</code></td>\n",
    "<td>폼 피드(줄 바꿈 문자, 커서를 현재 줄의 다음 줄로 이동)</td>\n",
    "</tr>\n",
    "<tr>\n",
    "<td><code>\\a</code></td>\n",
    "<td>벨 소리(출력할 때 PC 스피커에서 '삑' 소리가 난다)</td>\n",
    "</tr>\n",
    "<tr>\n",
    "<td><code>\\b</code></td>\n",
    "<td>백 스페이스</td>\n",
    "</tr>\n",
    "<tr>\n",
    "<td><code>\\000</code></td>\n",
    "<td>널 문자</td>\n",
    "</tr>\n",
    "</tbody>\n",
    "</table>"
   ]
  },
  {
   "cell_type": "code",
   "execution_count": 88,
   "id": "266945fe-a88c-4d34-89d2-8c5ee4540e6a",
   "metadata": {},
   "outputs": [
    {
     "name": "stdout",
     "output_type": "stream",
     "text": [
      "python is fun!\n"
     ]
    }
   ],
   "source": [
    "head = \"python\"\n",
    "tail = \" is fun!\"\n",
    "print(head + tail)"
   ]
  },
  {
   "cell_type": "markdown",
   "id": "80cdc270-1958-4cbb-b45c-d7cbfe81337b",
   "metadata": {},
   "source": [
    "### 문자열 연산하기"
   ]
  },
  {
   "cell_type": "code",
   "execution_count": 92,
   "id": "aac3d737-829d-4745-8b84-a67ffdec6fdf",
   "metadata": {},
   "outputs": [
    {
     "name": "stdout",
     "output_type": "stream",
     "text": [
      "python\n",
      "python\n",
      "python\n",
      "python\n",
      "python\n",
      "\n"
     ]
    }
   ],
   "source": [
    "a = \"python\" + \"\\n\"\n",
    "print(a * 5)"
   ]
  },
  {
   "cell_type": "code",
   "execution_count": 122,
   "id": "ee4d80ef-9953-4876-bd28-7ab12a20c34d",
   "metadata": {},
   "outputs": [
    {
     "name": "stdout",
     "output_type": "stream",
     "text": [
      "==================\n",
      "     영 수 증\n",
      "==================\n",
      "아메리카노: 17100원\n",
      "라떼: 7200원\n",
      "허브티: 12000원\n",
      "==================\n",
      "====================\n",
      "     영 수 증\n",
      "====================\n",
      "아메리카노: 17100원\n",
      "라떼: 7200원\n",
      "허브티: 12000원\n",
      "====================\n",
      "\n",
      " ====================\n",
      "     영 수 증\n",
      "====================\n",
      "아메리카노: 17100원\n",
      "라떼: 7200원\n",
      "허브티: 12000원\n",
      "====================\n",
      "\n"
     ]
    }
   ],
   "source": [
    "# 숫자 계산\n",
    "p1 = 5700 * 3\n",
    "p2 = 7200 * 1\n",
    "p3 = 6000 * 2\n",
    "\n",
    "# 문자열 계산\n",
    "m1 = \"아메리카노: \" + str(p1) + \"원\\n\"\n",
    "m2 = \"라떼: \"  + str(p2) + \"원\\n\"\n",
    "m3 = \"허브티: \"  + str(p3) + \"원\"\n",
    "title = \"     \" + \"영 수 증\"\n",
    "title1 = \"     \" + \"영 수 증\" + \"\\n\"\n",
    "line = \"=\" * 20 + \"\\n\"\n",
    "menu = m1 + m2 + m3 + \"\\n\"\n",
    "\n",
    "# 출력 조합\n",
    "print(\"=\" * 18)\n",
    "print(title)\n",
    "print(\"=\" * 18)\n",
    "print(m1 + m2 + m3)\n",
    "print(\"=\" * 18)\n",
    "print(line + title1 + line + menu + line)\n",
    "\n",
    "# 출력 조합2\n",
    "pp = ' '\n",
    "pp += (\"=\" * 20) + '\\n'\n",
    "pp += (title) + '\\n'\n",
    "pp += (\"=\" * 20) + '\\n'\n",
    "pp += (m1 + m2 + m3) + '\\n'\n",
    "pp += (\"=\" * 20) + '\\n'\n",
    "print(pp)"
   ]
  },
  {
   "cell_type": "markdown",
   "id": "4457a486-30c5-4883-8699-02c01da5ce9f",
   "metadata": {},
   "source": [
    "### 문자열 인덱싱과 슬라이싱"
   ]
  },
  {
   "cell_type": "code",
   "execution_count": 123,
   "id": "5a6a6822-4e57-42ae-a7ca-be656e58ce69",
   "metadata": {},
   "outputs": [
    {
     "name": "stdout",
     "output_type": "stream",
     "text": [
      "33\n"
     ]
    }
   ],
   "source": [
    "a = \"Life is too short You need python\"\n",
    "print(len(a))"
   ]
  },
  {
   "cell_type": "code",
   "execution_count": 131,
   "id": "8f311ba4-c749-449e-9699-ea6a09e31773",
   "metadata": {},
   "outputs": [
    {
     "name": "stdout",
     "output_type": "stream",
     "text": [
      "Life\n",
      "L i f e\n"
     ]
    }
   ],
   "source": [
    "print(a[0] + a[1] + a[2] + a[3])\n",
    "print(a[0], a[1], a[2], a[3])"
   ]
  },
  {
   "cell_type": "code",
   "execution_count": 124,
   "id": "ad66b31d-5c82-4274-9d47-62f6eb560a03",
   "metadata": {},
   "outputs": [
    {
     "data": {
      "text/plain": [
       "'L'"
      ]
     },
     "execution_count": 124,
     "metadata": {},
     "output_type": "execute_result"
    }
   ],
   "source": [
    "a[0]"
   ]
  },
  {
   "cell_type": "code",
   "execution_count": 132,
   "id": "49dbdee0-475c-4802-ab11-137ad6b74832",
   "metadata": {},
   "outputs": [
    {
     "name": "stdout",
     "output_type": "stream",
     "text": [
      "n o\n"
     ]
    }
   ],
   "source": [
    "print(a[-1], a[-2])"
   ]
  },
  {
   "cell_type": "code",
   "execution_count": 130,
   "id": "e6156341-107b-4102-ab12-10484d17128b",
   "metadata": {},
   "outputs": [
    {
     "name": "stdout",
     "output_type": "stream",
     "text": [
      "too\n"
     ]
    }
   ],
   "source": [
    "# too 출력하기\n",
    "print(a[8] + a[9] + a[10])\n",
    "8,9,10\n",
    "8<= a <11"
   ]
  },
  {
   "cell_type": "code",
   "execution_count": 136,
   "id": "35f014aa-1bbe-420e-bff1-b5029fa166ee",
   "metadata": {},
   "outputs": [
    {
     "name": "stdout",
     "output_type": "stream",
     "text": [
      "too\n",
      "need\n"
     ]
    }
   ],
   "source": [
    "a = \"Life is too short, You need Python\"\n",
    "# too 출력하기\n",
    "print(a[8:11]) # 8 <= a < 11\n",
    "print(a[23:27])"
   ]
  },
  {
   "cell_type": "code",
   "execution_count": 137,
   "id": "3bccbb46-2f06-42b6-8d02-6cea963a58a1",
   "metadata": {},
   "outputs": [
    {
     "name": "stdout",
     "output_type": "stream",
     "text": [
      "Life is too short, You need\n"
     ]
    }
   ],
   "source": [
    "print(a[:27])"
   ]
  },
  {
   "cell_type": "code",
   "execution_count": 138,
   "id": "31c70e44-d20e-479a-94c2-1981e3b266be",
   "metadata": {},
   "outputs": [
    {
     "name": "stdout",
     "output_type": "stream",
     "text": [
      "Python\n"
     ]
    }
   ],
   "source": [
    "print(a[28:])"
   ]
  },
  {
   "cell_type": "code",
   "execution_count": 147,
   "id": "227b9bd1-0201-4640-8ffd-538dba45fc20",
   "metadata": {},
   "outputs": [
    {
     "name": "stdout",
     "output_type": "stream",
     "text": [
      "nohtyP deen uoY ,trohs oot si efiL\n"
     ]
    }
   ],
   "source": [
    "print(a[::-1])\n",
    "# -1은 역순으로 보여줌\n",
    "# 양의 정수는 숫자만큼 띄워서 보여줌 ex) 1은 한 칸 마다 보여줌 2는 2칸마다 보여줌"
   ]
  },
  {
   "cell_type": "code",
   "execution_count": 154,
   "id": "d4d95746-c444-42d8-b65a-9aff1f527835",
   "metadata": {},
   "outputs": [
    {
     "name": "stdout",
     "output_type": "stream",
     "text": [
      "20250203\n",
      "오늘은화창하다\n",
      "2025년 02월 03일\n",
      "오늘은 화창하다!\n"
     ]
    }
   ],
   "source": [
    "today = \"20250203오늘은화창하다\"\n",
    "print(today[0:8])\n",
    "print(today[8:])\n",
    "day = \"2025년 02월 03일 오늘은 화창하다!\"\n",
    "print(day[0:13])\n",
    "print(day[14:])"
   ]
  },
  {
   "cell_type": "code",
   "execution_count": 161,
   "id": "31fbc051-6e09-41c3-8f8c-9cf29140a180",
   "metadata": {},
   "outputs": [
    {
     "name": "stdout",
     "output_type": "stream",
     "text": [
      "Year : 2025년\n",
      "Month : 02월\n",
      "Date : 03일\n",
      "Weather : 오늘은 화창하다!\n"
     ]
    }
   ],
   "source": [
    "print(\"Year : \" + day[0:5])\n",
    "print(\"Month :\" + day[5:9])\n",
    "print(\"Date :\" + day[9:13])\n",
    "print(\"Weather :\" + day[13:])"
   ]
  },
  {
   "cell_type": "code",
   "execution_count": 198,
   "id": "6345f0b1-4f90-4a71-be74-6396a0563675",
   "metadata": {},
   "outputs": [
    {
     "name": "stdout",
     "output_type": "stream",
     "text": [
      "동호의 톡쏘는 일상 : 네이버 블로그\n"
     ]
    }
   ],
   "source": [
    "import requests\n",
    "url = 'https://blog.naver.com/droad777' \n",
    "res = requests.get(url).text\n",
    "print('동호' + res[897:915])"
   ]
  },
  {
   "cell_type": "markdown",
   "id": "fcb9401e-bce0-40dc-be99-462be16cabab",
   "metadata": {},
   "source": [
    "### 문자열 포매팅"
   ]
  },
  {
   "cell_type": "code",
   "execution_count": 7,
   "id": "75fda7fe-2280-427a-8de3-624cda920d7b",
   "metadata": {},
   "outputs": [
    {
     "name": "stdout",
     "output_type": "stream",
     "text": [
      "I eat 3 apples.\n",
      "I eat 17 apples.\n",
      "I eat five apples.\n"
     ]
    }
   ],
   "source": [
    "print(\"I eat 3 apples.\")\n",
    "print(\"I eat %d apples.\" %17)\n",
    "print(\"I eat %s apples.\" %\"five\")"
   ]
  },
  {
   "cell_type": "markdown",
   "id": "1a99dd3c-5e68-4b21-8ccb-8a13457c6338",
   "metadata": {},
   "source": [
    "<table>\n",
    "<thead>\n",
    "<tr>\n",
    "<th>코드</th>\n",
    "<th>설명</th>\n",
    "</tr>\n",
    "</thead>\n",
    "<tbody>\n",
    "<tr>\n",
    "<td>%s</td>\n",
    "<td>문자열(String)</td>\n",
    "</tr>\n",
    "<tr>\n",
    "<td>%c</td>\n",
    "<td>문자 1개(character)</td>\n",
    "</tr>\n",
    "<tr>\n",
    "<td>%d</td>\n",
    "<td>정수(Integer)</td>\n",
    "</tr>\n",
    "<tr>\n",
    "<td>%f</td>\n",
    "<td>부동소수(floating-point)</td>\n",
    "</tr>\n",
    "<tr>\n",
    "<td>%o</td>\n",
    "<td>8진수</td>\n",
    "</tr>\n",
    "<tr>\n",
    "<td>%x</td>\n",
    "<td>16진수</td>\n",
    "</tr>\n",
    "<tr>\n",
    "<td>%%</td>\n",
    "<td>Literal % (문자 <code>%</code> 자체)</td>\n",
    "</tr>\n",
    "</tbody>\n",
    "</table>"
   ]
  },
  {
   "cell_type": "code",
   "execution_count": 13,
   "id": "93e61656-7a53-40cb-8988-1e9e05f1480f",
   "metadata": {},
   "outputs": [
    {
     "name": "stdout",
     "output_type": "stream",
     "text": [
      "사람 몸의 수분은 60% 이다.\n"
     ]
    }
   ],
   "source": [
    "print(\"사람 몸의 수분은 %d%% 이다.\" %60)"
   ]
  },
  {
   "cell_type": "code",
   "execution_count": 18,
   "id": "08d468f4-a26a-4f1b-aef0-b7b404bf3f52",
   "metadata": {},
   "outputs": [
    {
     "name": "stdout",
     "output_type": "stream",
     "text": [
      "십진수로 123은 16진수로 7b 8진수로 173 이다.\n"
     ]
    }
   ],
   "source": [
    "print(\"십진수로 %d은 16진수로 %x 8진수로 %o 이다.\" %(123,123,123))"
   ]
  },
  {
   "cell_type": "code",
   "execution_count": 28,
   "id": "e5f2d7b0-93cd-4b2e-bf4a-ebdc2636f25e",
   "metadata": {},
   "outputs": [
    {
     "name": "stdout",
     "output_type": "stream",
     "text": [
      "hi         jane\n"
     ]
    }
   ],
   "source": [
    "# 정렬과 공백(오른쪽 정렬)\n",
    "print(\"%-10s jane\" %\"hi\")"
   ]
  },
  {
   "attachments": {
    "3d089d0a-7e04-464b-b916-2cdf5b5ce470.png": {
     "image/png": "[encoded data removed]"
    }
   },
   "cell_type": "markdown",
   "id": "a824afef-1914-4d9c-ba38-d6c69c06a8fa",
   "metadata": {},
   "source": [
    "<img src=\"attachment:3d089d0a-7e04-464b-b916-2cdf5b5ce470.png\">"
   ]
  },
  {
   "cell_type": "code",
   "execution_count": 33,
   "id": "c5934e6f-ef12-446c-a2bd-98270cd14980",
   "metadata": {},
   "outputs": [
    {
     "name": "stdout",
     "output_type": "stream",
     "text": [
      "3.141592\n",
      "3.1416\n"
     ]
    }
   ],
   "source": [
    "# 소숫점 표현하기\n",
    "print(\"%f\" %3.141592)\n",
    "print(\"%.4f\" %3.141592)"
   ]
  },
  {
   "attachments": {
    "8e70a309-3773-4bd2-b5e0-92a345b90f18.png": {
     "image/png": "[encoded data removed]"
    }
   },
   "cell_type": "markdown",
   "id": "d4bc7c24-ce51-4c75-8cb1-208904d356ac",
   "metadata": {},
   "source": [
    "<img src=\"attachment:8e70a309-3773-4bd2-b5e0-92a345b90f18.png\">"
   ]
  },
  {
   "cell_type": "markdown",
   "id": "73921040-3ae3-4b76-b51e-280446d5d516",
   "metadata": {},
   "source": [
    "### format 함수를 사용한 포매팅"
   ]
  },
  {
   "cell_type": "code",
   "execution_count": 35,
   "id": "9109957c-7c1c-491f-a57c-5aa5179989dd",
   "metadata": {},
   "outputs": [
    {
     "name": "stdout",
     "output_type": "stream",
     "text": [
      "I eat 3 of 10 apples.\n"
     ]
    }
   ],
   "source": [
    "# 바로 대입하기\n",
    "print(\"I eat {0} of {1} apples.\".format(3,10))"
   ]
  },
  {
   "cell_type": "code",
   "execution_count": 38,
   "id": "2fa6797e-a0bf-4298-b1f5-6dece899456b",
   "metadata": {},
   "outputs": [
    {
     "name": "stdout",
     "output_type": "stream",
     "text": [
      "I eat three of 10 apples.\n"
     ]
    }
   ],
   "source": [
    "# 변수로 대입하기\n",
    "total = 10\n",
    "ea = \"three\"\n",
    "print(\"I eat {0} of {1} apples.\".format(ea,total))"
   ]
  },
  {
   "cell_type": "code",
   "execution_count": 44,
   "id": "9a1c7963-d194-4c9f-a951-82abe2aac9eb",
   "metadata": {},
   "outputs": [
    {
     "name": "stdout",
     "output_type": "stream",
     "text": [
      "I eat three of 10 apples.\n"
     ]
    }
   ],
   "source": [
    "print(\"I eat {ea} of {total} apples.\".format(ea=\"three\",total=10))"
   ]
  },
  {
   "cell_type": "code",
   "execution_count": 46,
   "id": "367d40df-2431-40c2-9dde-31360282592a",
   "metadata": {},
   "outputs": [
    {
     "name": "stdout",
     "output_type": "stream",
     "text": [
      "I ate 10 apples. so I was sick for 3 days.\n"
     ]
    }
   ],
   "source": [
    "# 인덱스와 이름을 혼용해서 넣기\n",
    "print(\"I ate {0} apples. so I was sick for {day} days.\".format(10, day=3))"
   ]
  },
  {
   "cell_type": "code",
   "execution_count": 50,
   "id": "04deea67-52e2-4753-a9db-4028cf724021",
   "metadata": {},
   "outputs": [
    {
     "name": "stdout",
     "output_type": "stream",
     "text": [
      "        hi\n",
      "hi        \n",
      "    hi    \n"
     ]
    }
   ],
   "source": [
    "print(\"{0:>10}\".format(\"hi\")) # 오른쪽 정렬\n",
    "print(\"{0:<10}\".format(\"hi\")) # 왼쪽 정렬\n",
    "print(\"{0:^10}\".format(\"hi\")) # 가운데 정렬"
   ]
  },
  {
   "cell_type": "code",
   "execution_count": 54,
   "id": "d57217a8-ecbd-4673-b8d4-8ce75d4fbf2d",
   "metadata": {},
   "outputs": [
    {
     "name": "stdout",
     "output_type": "stream",
     "text": [
      "ㅋㅋㅋㅋㅋㅋㅋㅋㅋ웃겨ㅋㅋㅋㅋㅋㅋㅋㅋㅋ\n"
     ]
    }
   ],
   "source": [
    "# 가운데 정렬 + 글자 채우기\n",
    "print(\"{0:ㅋ^20}\".format(\"웃겨\"))"
   ]
  },
  {
   "cell_type": "code",
   "execution_count": 57,
   "id": "6d682117-8373-4197-919e-b6f966c2b9b6",
   "metadata": {},
   "outputs": [
    {
     "name": "stdout",
     "output_type": "stream",
     "text": [
      "3.1416\n",
      "              3.1416\n"
     ]
    }
   ],
   "source": [
    "# 소숫점 표현하기\n",
    "pi = 3.141592\n",
    "print(\"{0:0.4f}\".format(pi))\n",
    "print(\"{0:20.4f}\".format(pi))"
   ]
  },
  {
   "cell_type": "code",
   "execution_count": 59,
   "id": "d831e8d3-21f3-4ae6-b527-91731dd29cda",
   "metadata": {},
   "outputs": [
    {
     "name": "stdout",
     "output_type": "stream",
     "text": [
      "중괄호 는 { 과 } 입니다.\n"
     ]
    }
   ],
   "source": [
    "# 이스케이프 처리\n",
    "print(\"{0} 는 {{ 과 }} 입니다.\".format(\"중괄호\"))"
   ]
  },
  {
   "cell_type": "code",
   "execution_count": 74,
   "id": "18367469-04e7-418c-90d8-99fc5301c09d",
   "metadata": {},
   "outputs": [
    {
     "name": "stdout",
     "output_type": "stream",
     "text": [
      "01111011\n"
     ]
    }
   ],
   "source": [
    "# 2진수 처리\n",
    "print(\"{0:0>8b}\".format(123))"
   ]
  },
  {
   "cell_type": "markdown",
   "id": "73d11599-c4d1-41d9-bf90-a319f14757b8",
   "metadata": {},
   "source": [
    "### f문자열 포매팅"
   ]
  },
  {
   "cell_type": "code",
   "execution_count": 79,
   "id": "0d3715be-fd22-4ce5-bfcf-290d927693f4",
   "metadata": {},
   "outputs": [
    {
     "name": "stdout",
     "output_type": "stream",
     "text": [
      "나의 이름은 배트맨입니다. 나이는 30입니다.\n",
      "내년이면 31 살이 됩니다.\n"
     ]
    }
   ],
   "source": [
    "name = \"배트맨\"\n",
    "age = 30\n",
    "# \" \".format()\n",
    "print(f\"나의 이름은 {name}입니다. 나이는 {age}입니다.\")\n",
    "print(f\"내년이면 {age + 1} 살이 됩니다.\")"
   ]
  },
  {
   "cell_type": "code",
   "execution_count": 80,
   "id": "08ef3dad-faeb-443e-80bf-9e3b706fba5e",
   "metadata": {},
   "outputs": [
    {
     "name": "stdout",
     "output_type": "stream",
     "text": [
      "나의 이름은 홍길동입니다. 나이는 30입니다. 성별은 male입니다.\n"
     ]
    }
   ],
   "source": [
    "d = {'name':'홍길동','age':30, 'gen':'male'}\n",
    "print(f'나의 이름은 {d[\"name\"]}입니다. 나이는 {d[\"age\"]}입니다. 성별은 {d[\"gen\"]}입니다.')"
   ]
  },
  {
   "cell_type": "code",
   "execution_count": 91,
   "id": "d38be879-e94a-4a07-abf1-132f39ec14cf",
   "metadata": {},
   "outputs": [
    {
     "name": "stdout",
     "output_type": "stream",
     "text": [
      "hi        \n",
      "        hi\n",
      "    hi    \n"
     ]
    }
   ],
   "source": [
    "print(f'{\"hi\":<10}')\n",
    "print(f'{\"hi\":>10}')\n",
    "print(f'{\"hi\":^10}')"
   ]
  },
  {
   "cell_type": "code",
   "execution_count": 95,
   "id": "a63ab5b9-c9cb-4101-9bf3-9c3691052667",
   "metadata": {},
   "outputs": [
    {
     "name": "stdout",
     "output_type": "stream",
     "text": [
      "====hi====\n",
      "hi!!!!!!!!\n"
     ]
    }
   ],
   "source": [
    "print(f'{\"hi\":=^10}')\n",
    "print(f'{\"hi\":!<10}')"
   ]
  },
  {
   "cell_type": "code",
   "execution_count": 98,
   "id": "876f0d5d-1b81-4e53-8454-333416ee4e8e",
   "metadata": {},
   "outputs": [
    {
     "name": "stdout",
     "output_type": "stream",
     "text": [
      "3.1416\n",
      "    3.1416\n"
     ]
    }
   ],
   "source": [
    "pi = 3.141592\n",
    "print(f'{pi:0.4f}')\n",
    "print(f'{pi:10.4f}')"
   ]
  },
  {
   "cell_type": "code",
   "execution_count": 99,
   "id": "a1a97b8b-c18e-45cc-a957-99cc35d0c9f6",
   "metadata": {},
   "outputs": [
    {
     "name": "stdout",
     "output_type": "stream",
     "text": [
      "{ and }\n"
     ]
    }
   ],
   "source": [
    "print(f'{{ and }}')"
   ]
  },
  {
   "cell_type": "markdown",
   "id": "6632befa-283e-4e33-8107-73f0ac1478e5",
   "metadata": {},
   "source": [
    "### 문자열 관련 함수들"
   ]
  },
  {
   "cell_type": "code",
   "execution_count": 101,
   "id": "799c30ea-49e8-4ad1-9a78-124d812a7764",
   "metadata": {},
   "outputs": [
    {
     "data": {
      "text/plain": [
       "2"
      ]
     },
     "execution_count": 101,
     "metadata": {},
     "output_type": "execute_result"
    }
   ],
   "source": [
    "# 문자 개수 세기 count\n",
    "a = \"hobby\"\n",
    "\"hobby\".count('b')"
   ]
  },
  {
   "cell_type": "code",
   "execution_count": 103,
   "id": "b40f0458-164e-4877-befb-d3540e6266be",
   "metadata": {},
   "outputs": [
    {
     "name": "stdout",
     "output_type": "stream",
     "text": [
      "한국서 돈벌고 '나 몰라라' 코스트코… 연회비 인상률은 미국의 3배\n",
      "1\n"
     ]
    }
   ],
   "source": [
    "import requests\n",
    "url = 'https://v.daum.net/v/20250203151815463'\n",
    "res = requests.get(url).text\n",
    "result = res[374:411]\n",
    "out = result[:-2] + '3' + result[-1]\n",
    "print(out)\n",
    "print(out.count('한국'))"
   ]
  },
  {
   "cell_type": "code",
   "execution_count": 106,
   "id": "8b0fbb91-1cbe-41b5-8fb4-d1829e2c9a63",
   "metadata": {},
   "outputs": [
    {
     "name": "stdout",
     "output_type": "stream",
     "text": [
      "한국서 돈벌고 '나 몰라라' 코스트코… 연회비 인상률은 미국의 3배\n",
      "-1\n"
     ]
    }
   ],
   "source": [
    "# 위치 알려주기1 find\n",
    "print(out)\n",
    "print(out.find('밥'))"
   ]
  },
  {
   "cell_type": "code",
   "execution_count": 113,
   "id": "c9a740d1-68b9-4114-817c-013b45851401",
   "metadata": {},
   "outputs": [
    {
     "name": "stdout",
     "output_type": "stream",
     "text": [
      "\n"
     ]
    }
   ],
   "source": [
    "import requests\n",
    "url = 'https://v.daum.net/v/20250203151815463'\n",
    "res = requests.get(url).text\n",
    "print(res.find('한'))"
   ]
  },
  {
   "cell_type": "code",
   "execution_count": 134,
   "id": "3fc7b74e-61f4-4ff9-97fa-24206f784be8",
   "metadata": {},
   "outputs": [
    {
     "name": "stdout",
     "output_type": "stream",
     "text": [
      "41529\n",
      "toxic till the end\",\"url\":\"https://music.apple.com/kr/song/toxic-till-the-end/1783280225\",\"duration\"\n",
      "좋아하는 노래제목: toxic till the end\n"
     ]
    }
   ],
   "source": [
    "import requests\n",
    "url = 'https://music.apple.com/kr/playlist/%EC%98%A4%EB%8A%98%EC%9D%98-top-100-%EB%8C%80%ED%95%9C%EB%AF%BC%EA%B5%AD/pl.d3d10c32fbc540b38e266367dc8cb00c' \n",
    "res = requests.get(url).text\n",
    "print(res.find('toxic till the end'))\n",
    "#print(res.index('toxi till the end')) # 없으면 오류 발생\n",
    "print(res[41529:41629])\n",
    "print('좋아하는 노래제목:',res[41529:41547])"
   ]
  },
  {
   "cell_type": "code",
   "execution_count": 135,
   "id": "2348a774-1c0b-477d-b8c5-ed887f842873",
   "metadata": {},
   "outputs": [
    {
     "data": {
      "text/plain": [
       "['__add__',\n",
       " '__class__',\n",
       " '__contains__',\n",
       " '__delattr__',\n",
       " '__dir__',\n",
       " '__doc__',\n",
       " '__eq__',\n",
       " '__format__',\n",
       " '__ge__',\n",
       " '__getattribute__',\n",
       " '__getitem__',\n",
       " '__getnewargs__',\n",
       " '__getstate__',\n",
       " '__gt__',\n",
       " '__hash__',\n",
       " '__init__',\n",
       " '__init_subclass__',\n",
       " '__iter__',\n",
       " '__le__',\n",
       " '__len__',\n",
       " '__lt__',\n",
       " '__mod__',\n",
       " '__mul__',\n",
       " '__ne__',\n",
       " '__new__',\n",
       " '__reduce__',\n",
       " '__reduce_ex__',\n",
       " '__repr__',\n",
       " '__rmod__',\n",
       " '__rmul__',\n",
       " '__setattr__',\n",
       " '__sizeof__',\n",
       " '__str__',\n",
       " '__subclasshook__',\n",
       " 'capitalize',\n",
       " 'casefold',\n",
       " 'center',\n",
       " 'count',\n",
       " 'encode',\n",
       " 'endswith',\n",
       " 'expandtabs',\n",
       " 'find',\n",
       " 'format',\n",
       " 'format_map',\n",
       " 'index',\n",
       " 'isalnum',\n",
       " 'isalpha',\n",
       " 'isascii',\n",
       " 'isdecimal',\n",
       " 'isdigit',\n",
       " 'isidentifier',\n",
       " 'islower',\n",
       " 'isnumeric',\n",
       " 'isprintable',\n",
       " 'isspace',\n",
       " 'istitle',\n",
       " 'isupper',\n",
       " 'join',\n",
       " 'ljust',\n",
       " 'lower',\n",
       " 'lstrip',\n",
       " 'maketrans',\n",
       " 'partition',\n",
       " 'removeprefix',\n",
       " 'removesuffix',\n",
       " 'replace',\n",
       " 'rfind',\n",
       " 'rindex',\n",
       " 'rjust',\n",
       " 'rpartition',\n",
       " 'rsplit',\n",
       " 'rstrip',\n",
       " 'split',\n",
       " 'splitlines',\n",
       " 'startswith',\n",
       " 'strip',\n",
       " 'swapcase',\n",
       " 'title',\n",
       " 'translate',\n",
       " 'upper',\n",
       " 'zfill']"
      ]
     },
     "execution_count": 135,
     "metadata": {},
     "output_type": "execute_result"
    }
   ],
   "source": [
    "dir(str)"
   ]
  },
  {
   "cell_type": "code",
   "execution_count": 137,
   "id": "88a4e429-f71c-4361-ac13-51cf14a518ab",
   "metadata": {},
   "outputs": [
    {
     "name": "stdout",
     "output_type": "stream",
     "text": [
      "a,b,c,d,e,f,g\n"
     ]
    }
   ],
   "source": [
    "# 문자의 삽입 join *\n",
    "# 리스트, 튜플을 문자열로\n",
    "print(\",\".join('abcdefg'))"
   ]
  },
  {
   "cell_type": "code",
   "execution_count": 140,
   "id": "6f2c7574-17a7-4506-8a04-299e32de5eed",
   "metadata": {},
   "outputs": [
    {
     "name": "stdout",
     "output_type": "stream",
     "text": [
      "a,b,c,d\n"
     ]
    }
   ],
   "source": [
    "print(\",\".join(['a', 'b', 'c', 'd']))"
   ]
  },
  {
   "cell_type": "code",
   "execution_count": 141,
   "id": "0b7c9ed7-b491-4083-82d0-24291d5eee64",
   "metadata": {},
   "outputs": [
    {
     "data": {
      "text/plain": [
       "'HI'"
      ]
     },
     "execution_count": 141,
     "metadata": {},
     "output_type": "execute_result"
    }
   ],
   "source": [
    "# 소문자를 대문자로 바꾸기 upper\n",
    "a = \"hi\"\n",
    "a.upper()"
   ]
  },
  {
   "cell_type": "code",
   "execution_count": 142,
   "id": "a7db944e-c128-4e53-ab49-96c4af703e01",
   "metadata": {},
   "outputs": [
    {
     "data": {
      "text/plain": [
       "'hi'"
      ]
     },
     "execution_count": 142,
     "metadata": {},
     "output_type": "execute_result"
    }
   ],
   "source": [
    "# 대문자를 소문자로 바꾸기 lower\n",
    "a = \"HI\"\n",
    "a.lower()"
   ]
  },
  {
   "cell_type": "code",
   "execution_count": 144,
   "id": "a092671e-f873-4826-8792-f36a569bca1e",
   "metadata": {},
   "outputs": [
    {
     "name": "stdout",
     "output_type": "stream",
     "text": [
      "Life is Egg\n",
      "LIFE IS EGG\n",
      "life is egg\n"
     ]
    }
   ],
   "source": [
    "# 연습\n",
    "v = \"Life is Egg\"\n",
    "big = v.upper()\n",
    "small = v.lower()\n",
    "print(v)\n",
    "print(big)\n",
    "print(small)"
   ]
  },
  {
   "cell_type": "code",
   "execution_count": 148,
   "id": "fb6e8c52-02bb-4585-9256-daf932b304c4",
   "metadata": {},
   "outputs": [
    {
     "name": "stdout",
     "output_type": "stream",
     "text": [
      "      hi   \n",
      "hi   \n",
      "      hi\n",
      "hi\n"
     ]
    }
   ],
   "source": [
    "a = \"      hi   \"\n",
    "aa = a.lstrip()\n",
    "bb= a.rstrip()\n",
    "cc = a.strip()\n",
    "print(a)\n",
    "print(aa)\n",
    "print(bb)\n",
    "print(cc)"
   ]
  },
  {
   "cell_type": "code",
   "execution_count": 156,
   "id": "8427bed9-d6ea-405c-b308-97d5f86a4ace",
   "metadata": {},
   "outputs": [
    {
     "name": "stdout",
     "output_type": "stream",
     "text": [
      "         hi         \n",
      "hi         \n",
      "         hi\n",
      "hi\n"
     ]
    }
   ],
   "source": [
    "f = f\"{'hi':^20}\"\n",
    "f1 = f.lstrip()\n",
    "f2 = f.rstrip()\n",
    "f3 = f.strip()\n",
    "print(f)\n",
    "print(f1)\n",
    "print(f2)\n",
    "print(f3)"
   ]
  },
  {
   "cell_type": "code",
   "execution_count": 158,
   "id": "edcb6b4c-3a62-4687-b5d0-b2ce376d6ec4",
   "metadata": {},
   "outputs": [
    {
     "name": "stdout",
     "output_type": "stream",
     "text": [
      "Life is Egg\n",
      "Life is beautiful\n"
     ]
    }
   ],
   "source": [
    "# 문자열 바꾸기 replace **\n",
    "a = \"Life is Egg\"\n",
    "c = a.replace(\"Egg\",\"beautiful\") # -> \"Life is Egg\".repalace(\"Egg\",\"beautiful\")\n",
    "print(a)\n",
    "print(c)"
   ]
  },
  {
   "cell_type": "code",
   "execution_count": 159,
   "id": "fbe53019-094e-47ba-8742-870fca0ceab4",
   "metadata": {},
   "outputs": [
    {
     "name": "stdout",
     "output_type": "stream",
     "text": [
      "['Life', 'is', 'Egg']\n"
     ]
    }
   ],
   "source": [
    "# 문자열 나누기 split *\n",
    "a = \"Life is Egg\"\n",
    "aa = a.split()\n",
    "print(aa)"
   ]
  },
  {
   "cell_type": "code",
   "execution_count": 164,
   "id": "d7b1c58f-727c-43a5-8214-15f6d78f146c",
   "metadata": {},
   "outputs": [
    {
     "name": "stdout",
     "output_type": "stream",
     "text": [
      "['abcdefghi']\n",
      "a=b=c=d=e=f=g=h=i\n",
      "['a', 'b', 'c', 'd', 'e', 'f', 'g', 'h', 'i']\n",
      "abcdefghi\n"
     ]
    }
   ],
   "source": [
    "# 연습\n",
    "ex = \"abcdefghi\"\n",
    "ex2 = ex.split()\n",
    "print(ex2)\n",
    "ex_join = \"=\".join(ex)\n",
    "print(ex_join)\n",
    "ex_split = ex_join.split(\"=\")\n",
    "print(ex_split)\n",
    "ex_replace = ex_join.replace(\"=\",\"\")\n",
    "print(ex_replace)"
   ]
  }
 ],
 "metadata": {
  "kernelspec": {
   "display_name": "Python 3 (ipykernel)",
   "language": "python",
   "name": "python3"
  },
  "language_info": {
   "codemirror_mode": {
    "name": "ipython",
    "version": 3
   },
   "file_extension": ".py",
   "mimetype": "text/x-python",
   "name": "python",
   "nbconvert_exporter": "python",
   "pygments_lexer": "ipython3",
   "version": "3.13.1"
  }
 },
 "nbformat": 4,
 "nbformat_minor": 5
}
