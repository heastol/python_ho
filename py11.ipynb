{
 "cells": [
  {
   "cell_type": "markdown",
   "id": "90eb90fd-9ae6-49ac-914b-70807f9cee5a",
   "metadata": {},
   "source": [
    "# 판다스(pandas) 심화"
   ]
  },
  {
   "cell_type": "markdown",
   "id": "410c1726-1657-4689-8c7d-c8fbe8abb2c7",
   "metadata": {},
   "source": [
    "## 데이터프레임 정렬"
   ]
  },
  {
   "cell_type": "code",
   "execution_count": 2,
   "id": "d2fe0bfa-ff49-46e5-9b6d-9d2332908e55",
   "metadata": {},
   "outputs": [
    {
     "name": "stdout",
     "output_type": "stream",
     "text": [
      "DataFrame : \n"
     ]
    },
    {
     "data": {
      "text/html": [
       "<div>\n",
       "<style scoped>\n",
       "    .dataframe tbody tr th:only-of-type {\n",
       "        vertical-align: middle;\n",
       "    }\n",
       "\n",
       "    .dataframe tbody tr th {\n",
       "        vertical-align: top;\n",
       "    }\n",
       "\n",
       "    .dataframe thead th {\n",
       "        text-align: right;\n",
       "    }\n",
       "</style>\n",
       "<table border=\"1\" class=\"dataframe\">\n",
       "  <thead>\n",
       "    <tr style=\"text-align: right;\">\n",
       "      <th></th>\n",
       "      <th>col1</th>\n",
       "      <th>col2</th>\n",
       "      <th>col3</th>\n",
       "    </tr>\n",
       "  </thead>\n",
       "  <tbody>\n",
       "    <tr>\n",
       "      <th>1</th>\n",
       "      <td>2</td>\n",
       "      <td>A</td>\n",
       "      <td>0</td>\n",
       "    </tr>\n",
       "    <tr>\n",
       "      <th>3</th>\n",
       "      <td>1</td>\n",
       "      <td>A</td>\n",
       "      <td>1</td>\n",
       "    </tr>\n",
       "    <tr>\n",
       "      <th>2</th>\n",
       "      <td>9</td>\n",
       "      <td>B</td>\n",
       "      <td>9</td>\n",
       "    </tr>\n",
       "    <tr>\n",
       "      <th>5</th>\n",
       "      <td>8</td>\n",
       "      <td>NaN</td>\n",
       "      <td>4</td>\n",
       "    </tr>\n",
       "    <tr>\n",
       "      <th>0</th>\n",
       "      <td>7</td>\n",
       "      <td>D</td>\n",
       "      <td>2</td>\n",
       "    </tr>\n",
       "    <tr>\n",
       "      <th>4</th>\n",
       "      <td>4</td>\n",
       "      <td>C</td>\n",
       "      <td>3</td>\n",
       "    </tr>\n",
       "  </tbody>\n",
       "</table>\n",
       "</div>"
      ],
      "text/plain": [
       "   col1 col2  col3\n",
       "1     2    A     0\n",
       "3     1    A     1\n",
       "2     9    B     9\n",
       "5     8  NaN     4\n",
       "0     7    D     2\n",
       "4     4    C     3"
      ]
     },
     "execution_count": 2,
     "metadata": {},
     "output_type": "execute_result"
    }
   ],
   "source": [
    "import numpy as np\n",
    "import pandas as pd\n",
    "print(\"DataFrame : \")\n",
    "data = {\n",
    "    'col1' : [2, 1, 9, 8, 7, 4],\n",
    "    'col2' : ['A', 'A', 'B', np.nan, 'D', 'C'],\n",
    "    'col3' : [0, 1, 9, 4, 2, 3]\n",
    "}\n",
    "index = [1, 3, 2, 5, 0, 4]\n",
    "df = pd.DataFrame(data, index = index)\n",
    "df"
   ]
  },
  {
   "cell_type": "code",
   "execution_count": 8,
   "id": "b93cef49-20a2-4004-9881-e8814398c66f",
   "metadata": {},
   "outputs": [
    {
     "data": {
      "text/html": [
       "<div>\n",
       "<style scoped>\n",
       "    .dataframe tbody tr th:only-of-type {\n",
       "        vertical-align: middle;\n",
       "    }\n",
       "\n",
       "    .dataframe tbody tr th {\n",
       "        vertical-align: top;\n",
       "    }\n",
       "\n",
       "    .dataframe thead th {\n",
       "        text-align: right;\n",
       "    }\n",
       "</style>\n",
       "<table border=\"1\" class=\"dataframe\">\n",
       "  <thead>\n",
       "    <tr style=\"text-align: right;\">\n",
       "      <th></th>\n",
       "      <th>col3</th>\n",
       "      <th>col2</th>\n",
       "      <th>col1</th>\n",
       "    </tr>\n",
       "  </thead>\n",
       "  <tbody>\n",
       "    <tr>\n",
       "      <th>0</th>\n",
       "      <td>2</td>\n",
       "      <td>D</td>\n",
       "      <td>7</td>\n",
       "    </tr>\n",
       "    <tr>\n",
       "      <th>1</th>\n",
       "      <td>0</td>\n",
       "      <td>A</td>\n",
       "      <td>2</td>\n",
       "    </tr>\n",
       "    <tr>\n",
       "      <th>2</th>\n",
       "      <td>9</td>\n",
       "      <td>B</td>\n",
       "      <td>9</td>\n",
       "    </tr>\n",
       "    <tr>\n",
       "      <th>3</th>\n",
       "      <td>1</td>\n",
       "      <td>A</td>\n",
       "      <td>1</td>\n",
       "    </tr>\n",
       "    <tr>\n",
       "      <th>4</th>\n",
       "      <td>3</td>\n",
       "      <td>C</td>\n",
       "      <td>4</td>\n",
       "    </tr>\n",
       "    <tr>\n",
       "      <th>5</th>\n",
       "      <td>4</td>\n",
       "      <td>NaN</td>\n",
       "      <td>8</td>\n",
       "    </tr>\n",
       "  </tbody>\n",
       "</table>\n",
       "</div>"
      ],
      "text/plain": [
       "   col3 col2  col1\n",
       "0     2    D     7\n",
       "1     0    A     2\n",
       "2     9    B     9\n",
       "3     1    A     1\n",
       "4     3    C     4\n",
       "5     4  NaN     8"
      ]
     },
     "execution_count": 8,
     "metadata": {},
     "output_type": "execute_result"
    }
   ],
   "source": [
    "# sort_index axis = 1(열) 을 축으로 정렬, 내림차순\n",
    "df = df.sort_index(axis = 1, ascending = False)\n",
    "df"
   ]
  },
  {
   "cell_type": "code",
   "execution_count": 9,
   "id": "1a67e856-35a3-4c36-93dc-9ca94508e1f6",
   "metadata": {},
   "outputs": [
    {
     "data": {
      "text/html": [
       "<div>\n",
       "<style scoped>\n",
       "    .dataframe tbody tr th:only-of-type {\n",
       "        vertical-align: middle;\n",
       "    }\n",
       "\n",
       "    .dataframe tbody tr th {\n",
       "        vertical-align: top;\n",
       "    }\n",
       "\n",
       "    .dataframe thead th {\n",
       "        text-align: right;\n",
       "    }\n",
       "</style>\n",
       "<table border=\"1\" class=\"dataframe\">\n",
       "  <thead>\n",
       "    <tr style=\"text-align: right;\">\n",
       "      <th></th>\n",
       "      <th>col3</th>\n",
       "      <th>col2</th>\n",
       "      <th>col1</th>\n",
       "    </tr>\n",
       "  </thead>\n",
       "  <tbody>\n",
       "    <tr>\n",
       "      <th>3</th>\n",
       "      <td>1</td>\n",
       "      <td>A</td>\n",
       "      <td>1</td>\n",
       "    </tr>\n",
       "    <tr>\n",
       "      <th>1</th>\n",
       "      <td>0</td>\n",
       "      <td>A</td>\n",
       "      <td>2</td>\n",
       "    </tr>\n",
       "    <tr>\n",
       "      <th>4</th>\n",
       "      <td>3</td>\n",
       "      <td>C</td>\n",
       "      <td>4</td>\n",
       "    </tr>\n",
       "    <tr>\n",
       "      <th>0</th>\n",
       "      <td>2</td>\n",
       "      <td>D</td>\n",
       "      <td>7</td>\n",
       "    </tr>\n",
       "    <tr>\n",
       "      <th>5</th>\n",
       "      <td>4</td>\n",
       "      <td>NaN</td>\n",
       "      <td>8</td>\n",
       "    </tr>\n",
       "    <tr>\n",
       "      <th>2</th>\n",
       "      <td>9</td>\n",
       "      <td>B</td>\n",
       "      <td>9</td>\n",
       "    </tr>\n",
       "  </tbody>\n",
       "</table>\n",
       "</div>"
      ],
      "text/plain": [
       "   col3 col2  col1\n",
       "3     1    A     1\n",
       "1     0    A     2\n",
       "4     3    C     4\n",
       "0     2    D     7\n",
       "5     4  NaN     8\n",
       "2     9    B     9"
      ]
     },
     "execution_count": 9,
     "metadata": {},
     "output_type": "execute_result"
    }
   ],
   "source": [
    "# sort_value\n",
    "sorted_df1 = df.sort_values('col1', ascending = True)\n",
    "sorted_df1"
   ]
  },
  {
   "cell_type": "code",
   "execution_count": 11,
   "id": "7e7c7d3d-93b5-49c1-b82c-cbc065db10a9",
   "metadata": {},
   "outputs": [
    {
     "data": {
      "text/html": [
       "<div>\n",
       "<style scoped>\n",
       "    .dataframe tbody tr th:only-of-type {\n",
       "        vertical-align: middle;\n",
       "    }\n",
       "\n",
       "    .dataframe tbody tr th {\n",
       "        vertical-align: top;\n",
       "    }\n",
       "\n",
       "    .dataframe thead th {\n",
       "        text-align: right;\n",
       "    }\n",
       "</style>\n",
       "<table border=\"1\" class=\"dataframe\">\n",
       "  <thead>\n",
       "    <tr style=\"text-align: right;\">\n",
       "      <th></th>\n",
       "      <th>col3</th>\n",
       "      <th>col2</th>\n",
       "      <th>col1</th>\n",
       "    </tr>\n",
       "  </thead>\n",
       "  <tbody>\n",
       "    <tr>\n",
       "      <th>1</th>\n",
       "      <td>0</td>\n",
       "      <td>A</td>\n",
       "      <td>2</td>\n",
       "    </tr>\n",
       "    <tr>\n",
       "      <th>3</th>\n",
       "      <td>1</td>\n",
       "      <td>A</td>\n",
       "      <td>1</td>\n",
       "    </tr>\n",
       "    <tr>\n",
       "      <th>2</th>\n",
       "      <td>9</td>\n",
       "      <td>B</td>\n",
       "      <td>9</td>\n",
       "    </tr>\n",
       "    <tr>\n",
       "      <th>4</th>\n",
       "      <td>3</td>\n",
       "      <td>C</td>\n",
       "      <td>4</td>\n",
       "    </tr>\n",
       "    <tr>\n",
       "      <th>0</th>\n",
       "      <td>2</td>\n",
       "      <td>D</td>\n",
       "      <td>7</td>\n",
       "    </tr>\n",
       "    <tr>\n",
       "      <th>5</th>\n",
       "      <td>4</td>\n",
       "      <td>NaN</td>\n",
       "      <td>8</td>\n",
       "    </tr>\n",
       "  </tbody>\n",
       "</table>\n",
       "</div>"
      ],
      "text/plain": [
       "   col3 col2  col1\n",
       "1     0    A     2\n",
       "3     1    A     1\n",
       "2     9    B     9\n",
       "4     3    C     4\n",
       "0     2    D     7\n",
       "5     4  NaN     8"
      ]
     },
     "execution_count": 11,
     "metadata": {},
     "output_type": "execute_result"
    }
   ],
   "source": [
    "# sort_value 2\n",
    "sorted_df2 = df.sort_values(['col2', 'col1'], ascending = [True, False])\n",
    "sorted_df2"
   ]
  },
  {
   "cell_type": "markdown",
   "id": "9884612f-fa82-4737-bbc2-5ac1d5e205bc",
   "metadata": {},
   "source": [
    "## 데이터 분석용 함수"
   ]
  },
  {
   "cell_type": "code",
   "execution_count": 29,
   "id": "5bfacfc6-9e80-4633-9af6-e09e8b5ab854",
   "metadata": {},
   "outputs": [
    {
     "name": "stdout",
     "output_type": "stream",
     "text": [
      "Index(['a', 'b', 'c', 'd'], dtype='object')\n",
      "Index(['korean', 'math'], dtype='object')\n"
     ]
    },
    {
     "data": {
      "text/html": [
       "<div>\n",
       "<style scoped>\n",
       "    .dataframe tbody tr th:only-of-type {\n",
       "        vertical-align: middle;\n",
       "    }\n",
       "\n",
       "    .dataframe tbody tr th {\n",
       "        vertical-align: top;\n",
       "    }\n",
       "\n",
       "    .dataframe thead th {\n",
       "        text-align: right;\n",
       "    }\n",
       "</style>\n",
       "<table border=\"1\" class=\"dataframe\">\n",
       "  <thead>\n",
       "    <tr style=\"text-align: right;\">\n",
       "      <th></th>\n",
       "      <th>korean</th>\n",
       "      <th>math</th>\n",
       "    </tr>\n",
       "  </thead>\n",
       "  <tbody>\n",
       "    <tr>\n",
       "      <th>a</th>\n",
       "      <td>50</td>\n",
       "      <td>30.0</td>\n",
       "    </tr>\n",
       "    <tr>\n",
       "      <th>b</th>\n",
       "      <td>60</td>\n",
       "      <td>NaN</td>\n",
       "    </tr>\n",
       "    <tr>\n",
       "      <th>c</th>\n",
       "      <td>70</td>\n",
       "      <td>40.0</td>\n",
       "    </tr>\n",
       "    <tr>\n",
       "      <th>d</th>\n",
       "      <td>30</td>\n",
       "      <td>20.0</td>\n",
       "    </tr>\n",
       "  </tbody>\n",
       "</table>\n",
       "</div>"
      ],
      "text/plain": [
       "   korean  math\n",
       "a      50  30.0\n",
       "b      60   NaN\n",
       "c      70  40.0\n",
       "d      30  20.0"
      ]
     },
     "execution_count": 29,
     "metadata": {},
     "output_type": "execute_result"
    }
   ],
   "source": [
    "import numpy as np\n",
    "import pandas as pd\n",
    "data = {\n",
    "    'korean' : [50, 60, 70, 30],\n",
    "    'math' : [30, np.nan, 40, 20]\n",
    "}\n",
    "index = ['a', 'b', 'c', 'd']\n",
    "df = pd.DataFrame(data, index = index)\n",
    "print(df.index)\n",
    "print(df.columns)\n",
    "df"
   ]
  },
  {
   "cell_type": "code",
   "execution_count": 30,
   "id": "eb35f969-3fd8-40bf-aabd-7b81a5feee34",
   "metadata": {},
   "outputs": [
    {
     "name": "stdout",
     "output_type": "stream",
     "text": [
      "korean    4\n",
      "math      3\n",
      "dtype: int64\n"
     ]
    }
   ],
   "source": [
    "print(df.count(axis = 0)) # 기본값 생략가능"
   ]
  },
  {
   "cell_type": "code",
   "execution_count": 31,
   "id": "b71d88d5-92b1-4067-9fda-5c56b0a50313",
   "metadata": {},
   "outputs": [
    {
     "name": "stdout",
     "output_type": "stream",
     "text": [
      "a    2\n",
      "b    1\n",
      "c    2\n",
      "d    2\n",
      "dtype: int64\n"
     ]
    }
   ],
   "source": [
    "print(df.count(axis = 1))"
   ]
  },
  {
   "cell_type": "code",
   "execution_count": 35,
   "id": "e98b48a5-f8bc-424e-9188-914d556b88f4",
   "metadata": {},
   "outputs": [
    {
     "name": "stdout",
     "output_type": "stream",
     "text": [
      "korean    70.0\n",
      "math      40.0\n",
      "dtype: float64\n",
      "a    50.0\n",
      "b    60.0\n",
      "c    70.0\n",
      "d    30.0\n",
      "dtype: float64\n",
      "korean    30.0\n",
      "math      20.0\n",
      "dtype: float64\n",
      "a    30.0\n",
      "b    60.0\n",
      "c    40.0\n",
      "d    20.0\n",
      "dtype: float64\n",
      "korean    210.0\n",
      "math       90.0\n",
      "dtype: float64\n",
      "a     80.0\n",
      "b     60.0\n",
      "c    110.0\n",
      "d     50.0\n",
      "dtype: float64\n",
      "korean    52.5\n",
      "math      30.0\n",
      "dtype: float64\n",
      "a    40.0\n",
      "b    60.0\n",
      "c    55.0\n",
      "d    25.0\n",
      "dtype: float64\n"
     ]
    }
   ],
   "source": [
    "# max(), min(), sum(), mean()\n",
    "print(df.max())\n",
    "print(df.max(axis = 1))\n",
    "print(df.min())\n",
    "print(df.min(axis = 1))\n",
    "print(df.sum())\n",
    "print(df.sum(axis = 1))\n",
    "print(df.mean())\n",
    "print(df.mean(axis = 1))"
   ]
  },
  {
   "cell_type": "code",
   "execution_count": 34,
   "id": "7186f4f2-9906-49bc-8687-f04bbd6ac845",
   "metadata": {},
   "outputs": [
    {
     "name": "stdout",
     "output_type": "stream",
     "text": [
      "korean    70.0\n",
      "math      40.0\n",
      "dtype: float64\n",
      "a    50.0\n",
      "b    60.0\n",
      "c    70.0\n",
      "d    30.0\n",
      "dtype: float64\n",
      "korean    30.0\n",
      "math      20.0\n",
      "dtype: float64\n",
      "a    30.0\n",
      "b    60.0\n",
      "c    40.0\n",
      "d    20.0\n",
      "dtype: float64\n",
      "korean    210.0\n",
      "math       90.0\n",
      "dtype: float64\n",
      "a     80.0\n",
      "b     60.0\n",
      "c    110.0\n",
      "d     50.0\n",
      "dtype: float64\n",
      "korean    52.5\n",
      "math      30.0\n",
      "dtype: float64\n",
      "a    40.0\n",
      "b     NaN\n",
      "c    55.0\n",
      "d    25.0\n",
      "dtype: float64\n"
     ]
    }
   ],
   "source": [
    "# max(), min(), sum(), mean()\n",
    "print(df.max())\n",
    "print(df.max(axis = 1))\n",
    "print(df.min())\n",
    "print(df.min(axis = 1))\n",
    "print(df.sum())\n",
    "print(df.sum(axis = 1))\n",
    "print(df.mean())\n",
    "print(df.mean(axis = 1, skipna = False)) # NaN값 보이게 하기"
   ]
  },
  {
   "cell_type": "code",
   "execution_count": 36,
   "id": "dd29df3d-7537-4acd-89a6-bdc8b70b3bd6",
   "metadata": {},
   "outputs": [
    {
     "data": {
      "text/html": [
       "<div>\n",
       "<style scoped>\n",
       "    .dataframe tbody tr th:only-of-type {\n",
       "        vertical-align: middle;\n",
       "    }\n",
       "\n",
       "    .dataframe tbody tr th {\n",
       "        vertical-align: top;\n",
       "    }\n",
       "\n",
       "    .dataframe thead th {\n",
       "        text-align: right;\n",
       "    }\n",
       "</style>\n",
       "<table border=\"1\" class=\"dataframe\">\n",
       "  <thead>\n",
       "    <tr style=\"text-align: right;\">\n",
       "      <th></th>\n",
       "      <th>korean</th>\n",
       "      <th>math</th>\n",
       "    </tr>\n",
       "  </thead>\n",
       "  <tbody>\n",
       "    <tr>\n",
       "      <th>a</th>\n",
       "      <td>50</td>\n",
       "      <td>30.0</td>\n",
       "    </tr>\n",
       "    <tr>\n",
       "      <th>b</th>\n",
       "      <td>60</td>\n",
       "      <td>30.0</td>\n",
       "    </tr>\n",
       "    <tr>\n",
       "      <th>c</th>\n",
       "      <td>70</td>\n",
       "      <td>40.0</td>\n",
       "    </tr>\n",
       "    <tr>\n",
       "      <th>d</th>\n",
       "      <td>30</td>\n",
       "      <td>20.0</td>\n",
       "    </tr>\n",
       "  </tbody>\n",
       "</table>\n",
       "</div>"
      ],
      "text/plain": [
       "   korean  math\n",
       "a      50  30.0\n",
       "b      60  30.0\n",
       "c      70  40.0\n",
       "d      30  20.0"
      ]
     },
     "execution_count": 36,
     "metadata": {},
     "output_type": "execute_result"
    }
   ],
   "source": [
    "# 결측값 대체 fillna\n",
    "avg = df['math'].mean()\n",
    "df['math'] = df['math'].fillna(avg)\n",
    "df"
   ]
  },
  {
   "cell_type": "code",
   "execution_count": 12,
   "id": "e9baeba5-c729-4e6f-9faf-64de9bd9177e",
   "metadata": {},
   "outputs": [
    {
     "data": {
      "text/plain": [
       "array([[4, 2, 3, 3, 3],\n",
       "       [3, 2, 3, 4, 3],\n",
       "       [4, 4, 3, 4, 2],\n",
       "       [3, 3, 3, 2, 2],\n",
       "       [3, 4, 4, 4, 2],\n",
       "       [2, 1, 3, 2, 4],\n",
       "       [2, 4, 1, 2, 4],\n",
       "       [1, 2, 3, 1, 3],\n",
       "       [4, 2, 1, 4, 4],\n",
       "       [1, 3, 2, 1, 3]], dtype=int32)"
      ]
     },
     "execution_count": 12,
     "metadata": {},
     "output_type": "execute_result"
    }
   ],
   "source": [
    "x = np.random.randint(1, 5, size = (10, 5))\n",
    "x"
   ]
  },
  {
   "cell_type": "code",
   "execution_count": null,
   "id": "52d96561-0d97-473f-ab6e-9f652939b05b",
   "metadata": {},
   "outputs": [],
   "source": []
  },
  {
   "cell_type": "code",
   "execution_count": 15,
   "id": "69f4076a-0c05-475b-a83d-50139fd5902d",
   "metadata": {},
   "outputs": [
    {
     "data": {
      "text/plain": [
       "array([[0.06748138, 0.43417601, 0.14485948, 0.56011276, 0.89628839],\n",
       "       [0.57976226, 0.27473613, 0.07112068, 0.83441166, 0.41430504],\n",
       "       [0.4810098 , 0.06654008, 0.47162807, 0.261408  , 0.39800674],\n",
       "       [0.98911786, 0.37007346, 0.77002286, 0.27963616, 0.42881703],\n",
       "       [0.27212107, 0.45014632, 0.55769999, 0.70214893, 0.40445959],\n",
       "       [0.62418339, 0.0476476 , 0.93218685, 0.70026041, 0.28794974],\n",
       "       [0.26206222, 0.93824478, 0.11732106, 0.82951301, 0.52712582],\n",
       "       [0.40733643, 0.60058717, 0.30972321, 0.40168456, 0.70317436],\n",
       "       [0.38457631, 0.79559795, 0.76359511, 0.54810647, 0.97312414],\n",
       "       [0.16060868, 0.83220723, 0.74825968, 0.06383234, 0.69640573]])"
      ]
     },
     "execution_count": 15,
     "metadata": {},
     "output_type": "execute_result"
    }
   ],
   "source": [
    "x = np.random.rand(10, 5)\n",
    "x"
   ]
  },
  {
   "cell_type": "code",
   "execution_count": 20,
   "id": "9a67bb52-d727-4433-ac48-2f8a566a0420",
   "metadata": {},
   "outputs": [
    {
     "name": "stdout",
     "output_type": "stream",
     "text": [
      "[[10.183625    3.68339592  6.91187656  4.4911681   1.6406362 ]\n",
      " [ 8.82375661  7.41619146  6.22502963  5.38549034  7.04343346]\n",
      " [ 2.87776448  3.92049506  5.06281778 -0.18125557  2.35233896]\n",
      " [ 4.36464291  3.53862234  4.35977422  9.75366947  2.13630393]\n",
      " [ 3.3152702   7.26081466  8.87199728  8.10994293  6.34693792]\n",
      " [ 1.95087501  7.78861283 12.04738396  8.57744187  2.9496511 ]\n",
      " [11.08711231 10.68438363 10.18422613  1.60624897  4.9773574 ]\n",
      " [ 7.22860707 -0.28211414  5.11381931  4.05907059  6.16840519]\n",
      " [ 1.70014538  3.16443003  6.52907988  4.25840568  6.98523913]\n",
      " [ 5.57255308  3.12611631 11.35813936  1.94360069  4.52435029]] 5.543957618360171 3.048109100071064 -0.2821141355424519 12.04738395662024\n"
     ]
    }
   ],
   "source": [
    "x = np.random.normal(5, 3, (10, 5)) # 평균이 5, 표준편차 3\n",
    "print(x, np.mean(x), np.std(x), np.min(x), np.max(x))"
   ]
  },
  {
   "cell_type": "code",
   "execution_count": 21,
   "id": "0931d999-3636-4579-b5f1-68121a6c5b52",
   "metadata": {},
   "outputs": [
    {
     "name": "stdout",
     "output_type": "stream",
     "text": [
      "[[ 1.89877872  0.23119217  0.32245479 -1.34357469  0.89414094]\n",
      " [-0.02291872 -1.3410063   1.97552603  1.76196008  1.03550821]\n",
      " [-1.01298339  2.19141609 -0.17384359 -0.1061854  -0.15912637]\n",
      " [-1.66646328 -0.26339469  1.06062083  0.69560403 -0.29492036]\n",
      " [-0.55169834  0.68256181 -0.89463771  0.70669598 -1.45726806]\n",
      " [ 0.57920631  1.61449695 -0.70519507 -1.65517768  0.53052255]\n",
      " [ 0.6832937  -0.64452918 -1.16291353 -0.0375874  -0.49290716]\n",
      " [ 0.71559314  0.72477725  0.28972786 -1.19876357 -1.11806417]\n",
      " [ 1.14813033  2.08259529 -0.15175969  1.55259719 -0.47161334]\n",
      " [-0.33389489  0.7204666   0.5126377   1.00151649 -0.4073441 ]] 0.15888500718162465 1.0269993454711628 -1.6664632822375187 2.1914160914854683\n"
     ]
    }
   ],
   "source": [
    "x = np.random.randn(10, 5)\n",
    "print(x, np.mean(x), np.std(x), np.min(x), np.max(x))"
   ]
  },
  {
   "cell_type": "code",
   "execution_count": 22,
   "id": "7a3802a9-589b-4ebe-93a7-68d5afb4318b",
   "metadata": {},
   "outputs": [
    {
     "name": "stdout",
     "output_type": "stream",
     "text": [
      "x의 개수 14\n",
      "x의 개수 11\n",
      "0의 개수 3\n"
     ]
    }
   ],
   "source": [
    "x = np.array([3, 4, 45, 43, 65, 0, 0, 0, 24362, 6, 45, 6, 432, 562])\n",
    "print('x의 개수', len(x))\n",
    "print('x의 개수', np.count_nonzero(x))\n",
    "print('0의 개수', len(x) - np.count_nonzero(x))"
   ]
  },
  {
   "cell_type": "code",
   "execution_count": 26,
   "id": "f3a96ddb-4907-4015-b726-0ab2341eab2e",
   "metadata": {},
   "outputs": [
    {
     "name": "stdout",
     "output_type": "stream",
     "text": [
      "1826.642857142857\n",
      "1826.642857142857\n",
      "39093356.8010204\n",
      "39093356.8010204\n",
      "6252.468056777291\n",
      "6252.468056777291\n",
      "24362\n",
      "24362\n",
      "0\n",
      "0\n"
     ]
    }
   ],
   "source": [
    "print(np.mean(x))\n",
    "print(x.mean())\n",
    "print(np.var(x))\n",
    "print(x.var())\n",
    "print(np.std(x))\n",
    "print(x.std())\n",
    "print(np.max(x))\n",
    "print(x.max())\n",
    "print(np.min(x))\n",
    "print(x.min())"
   ]
  },
  {
   "cell_type": "markdown",
   "id": "d160b67b-74a0-4a02-978d-710f29e31e21",
   "metadata": {},
   "source": [
    "## 그룹으로 묶기(groupby)"
   ]
  },
  {
   "cell_type": "code",
   "execution_count": 1,
   "id": "c5dc8991-23ad-41e5-9bee-d28dd40b6bd5",
   "metadata": {},
   "outputs": [
    {
     "name": "stdout",
     "output_type": "stream",
     "text": [
      "DataFrame\n"
     ]
    },
    {
     "data": {
      "text/html": [
       "<div>\n",
       "<style scoped>\n",
       "    .dataframe tbody tr th:only-of-type {\n",
       "        vertical-align: middle;\n",
       "    }\n",
       "\n",
       "    .dataframe tbody tr th {\n",
       "        vertical-align: top;\n",
       "    }\n",
       "\n",
       "    .dataframe thead th {\n",
       "        text-align: right;\n",
       "    }\n",
       "</style>\n",
       "<table border=\"1\" class=\"dataframe\">\n",
       "  <thead>\n",
       "    <tr style=\"text-align: right;\">\n",
       "      <th></th>\n",
       "      <th>key</th>\n",
       "      <th>data1</th>\n",
       "      <th>data2</th>\n",
       "    </tr>\n",
       "  </thead>\n",
       "  <tbody>\n",
       "    <tr>\n",
       "      <th>0</th>\n",
       "      <td>A</td>\n",
       "      <td>1</td>\n",
       "      <td>4</td>\n",
       "    </tr>\n",
       "    <tr>\n",
       "      <th>1</th>\n",
       "      <td>B</td>\n",
       "      <td>2</td>\n",
       "      <td>4</td>\n",
       "    </tr>\n",
       "    <tr>\n",
       "      <th>2</th>\n",
       "      <td>C</td>\n",
       "      <td>3</td>\n",
       "      <td>6</td>\n",
       "    </tr>\n",
       "    <tr>\n",
       "      <th>3</th>\n",
       "      <td>A</td>\n",
       "      <td>1</td>\n",
       "      <td>0</td>\n",
       "    </tr>\n",
       "    <tr>\n",
       "      <th>4</th>\n",
       "      <td>B</td>\n",
       "      <td>2</td>\n",
       "      <td>6</td>\n",
       "    </tr>\n",
       "    <tr>\n",
       "      <th>5</th>\n",
       "      <td>C</td>\n",
       "      <td>3</td>\n",
       "      <td>1</td>\n",
       "    </tr>\n",
       "  </tbody>\n",
       "</table>\n",
       "</div>"
      ],
      "text/plain": [
       "  key  data1  data2\n",
       "0   A      1      4\n",
       "1   B      2      4\n",
       "2   C      3      6\n",
       "3   A      1      0\n",
       "4   B      2      6\n",
       "5   C      3      1"
      ]
     },
     "execution_count": 1,
     "metadata": {},
     "output_type": "execute_result"
    }
   ],
   "source": [
    "import numpy as np\n",
    "import pandas as pd\n",
    "df = pd.DataFrame({\n",
    "        'key' : ['A', 'B', 'C', 'A', 'B', 'C'],\n",
    "        'data1' : [1, 2, 3, 1, 2, 3],\n",
    "        'data2' : [4, 4, 6, 0, 6, 1],\n",
    "        #'data3' : ['안녕', 'a', 'b', '하세요', 'pple', 'anana']\n",
    "    })\n",
    "print(\"DataFrame\")\n",
    "df"
   ]
  },
  {
   "cell_type": "code",
   "execution_count": 2,
   "id": "53d187c3-6d0e-4206-93ec-f587d102f192",
   "metadata": {},
   "outputs": [
    {
     "data": {
      "text/html": [
       "<div>\n",
       "<style scoped>\n",
       "    .dataframe tbody tr th:only-of-type {\n",
       "        vertical-align: middle;\n",
       "    }\n",
       "\n",
       "    .dataframe tbody tr th {\n",
       "        vertical-align: top;\n",
       "    }\n",
       "\n",
       "    .dataframe thead th {\n",
       "        text-align: right;\n",
       "    }\n",
       "</style>\n",
       "<table border=\"1\" class=\"dataframe\">\n",
       "  <thead>\n",
       "    <tr style=\"text-align: right;\">\n",
       "      <th></th>\n",
       "      <th>data1</th>\n",
       "      <th>data2</th>\n",
       "    </tr>\n",
       "    <tr>\n",
       "      <th>key</th>\n",
       "      <th></th>\n",
       "      <th></th>\n",
       "    </tr>\n",
       "  </thead>\n",
       "  <tbody>\n",
       "    <tr>\n",
       "      <th>A</th>\n",
       "      <td>2</td>\n",
       "      <td>4</td>\n",
       "    </tr>\n",
       "    <tr>\n",
       "      <th>B</th>\n",
       "      <td>4</td>\n",
       "      <td>10</td>\n",
       "    </tr>\n",
       "    <tr>\n",
       "      <th>C</th>\n",
       "      <td>6</td>\n",
       "      <td>7</td>\n",
       "    </tr>\n",
       "  </tbody>\n",
       "</table>\n",
       "</div>"
      ],
      "text/plain": [
       "     data1  data2\n",
       "key              \n",
       "A        2      4\n",
       "B        4     10\n",
       "C        6      7"
      ]
     },
     "execution_count": 2,
     "metadata": {},
     "output_type": "execute_result"
    }
   ],
   "source": [
    "df.groupby('key').sum()"
   ]
  },
  {
   "cell_type": "code",
   "execution_count": 6,
   "id": "d48b5ef7-1360-4ac2-aca9-dc3150cad070",
   "metadata": {},
   "outputs": [
    {
     "data": {
      "text/html": [
       "<div>\n",
       "<style scoped>\n",
       "    .dataframe tbody tr th:only-of-type {\n",
       "        vertical-align: middle;\n",
       "    }\n",
       "\n",
       "    .dataframe tbody tr th {\n",
       "        vertical-align: top;\n",
       "    }\n",
       "\n",
       "    .dataframe thead th {\n",
       "        text-align: right;\n",
       "    }\n",
       "</style>\n",
       "<table border=\"1\" class=\"dataframe\">\n",
       "  <thead>\n",
       "    <tr style=\"text-align: right;\">\n",
       "      <th></th>\n",
       "      <th></th>\n",
       "      <th>data2</th>\n",
       "    </tr>\n",
       "    <tr>\n",
       "      <th>key</th>\n",
       "      <th>data1</th>\n",
       "      <th></th>\n",
       "    </tr>\n",
       "  </thead>\n",
       "  <tbody>\n",
       "    <tr>\n",
       "      <th>A</th>\n",
       "      <th>1</th>\n",
       "      <td>4</td>\n",
       "    </tr>\n",
       "    <tr>\n",
       "      <th>B</th>\n",
       "      <th>2</th>\n",
       "      <td>10</td>\n",
       "    </tr>\n",
       "    <tr>\n",
       "      <th>C</th>\n",
       "      <th>3</th>\n",
       "      <td>7</td>\n",
       "    </tr>\n",
       "  </tbody>\n",
       "</table>\n",
       "</div>"
      ],
      "text/plain": [
       "           data2\n",
       "key data1       \n",
       "A   1          4\n",
       "B   2         10\n",
       "C   3          7"
      ]
     },
     "execution_count": 6,
     "metadata": {},
     "output_type": "execute_result"
    }
   ],
   "source": [
    "df.groupby(['key', 'data1']).sum()"
   ]
  },
  {
   "cell_type": "code",
   "execution_count": 4,
   "id": "b74efed3-5b33-4cea-a1c6-fa015596485c",
   "metadata": {},
   "outputs": [
    {
     "data": {
      "text/html": [
       "<div>\n",
       "<style scoped>\n",
       "    .dataframe tbody tr th:only-of-type {\n",
       "        vertical-align: middle;\n",
       "    }\n",
       "\n",
       "    .dataframe tbody tr th {\n",
       "        vertical-align: top;\n",
       "    }\n",
       "\n",
       "    .dataframe thead tr th {\n",
       "        text-align: left;\n",
       "    }\n",
       "\n",
       "    .dataframe thead tr:last-of-type th {\n",
       "        text-align: right;\n",
       "    }\n",
       "</style>\n",
       "<table border=\"1\" class=\"dataframe\">\n",
       "  <thead>\n",
       "    <tr>\n",
       "      <th></th>\n",
       "      <th colspan=\"3\" halign=\"left\">data1</th>\n",
       "      <th colspan=\"3\" halign=\"left\">data2</th>\n",
       "    </tr>\n",
       "    <tr>\n",
       "      <th></th>\n",
       "      <th>min</th>\n",
       "      <th>median</th>\n",
       "      <th>max</th>\n",
       "      <th>min</th>\n",
       "      <th>median</th>\n",
       "      <th>max</th>\n",
       "    </tr>\n",
       "    <tr>\n",
       "      <th>key</th>\n",
       "      <th></th>\n",
       "      <th></th>\n",
       "      <th></th>\n",
       "      <th></th>\n",
       "      <th></th>\n",
       "      <th></th>\n",
       "    </tr>\n",
       "  </thead>\n",
       "  <tbody>\n",
       "    <tr>\n",
       "      <th>A</th>\n",
       "      <td>1</td>\n",
       "      <td>1.0</td>\n",
       "      <td>1</td>\n",
       "      <td>0</td>\n",
       "      <td>2.0</td>\n",
       "      <td>4</td>\n",
       "    </tr>\n",
       "    <tr>\n",
       "      <th>B</th>\n",
       "      <td>2</td>\n",
       "      <td>2.0</td>\n",
       "      <td>2</td>\n",
       "      <td>4</td>\n",
       "      <td>5.0</td>\n",
       "      <td>6</td>\n",
       "    </tr>\n",
       "    <tr>\n",
       "      <th>C</th>\n",
       "      <td>3</td>\n",
       "      <td>3.0</td>\n",
       "      <td>3</td>\n",
       "      <td>1</td>\n",
       "      <td>3.5</td>\n",
       "      <td>6</td>\n",
       "    </tr>\n",
       "  </tbody>\n",
       "</table>\n",
       "</div>"
      ],
      "text/plain": [
       "    data1            data2           \n",
       "      min median max   min median max\n",
       "key                                  \n",
       "A       1    1.0   1     0    2.0   4\n",
       "B       2    2.0   2     4    5.0   6\n",
       "C       3    3.0   3     1    3.5   6"
      ]
     },
     "execution_count": 4,
     "metadata": {},
     "output_type": "execute_result"
    }
   ],
   "source": [
    "df.groupby('key').aggregate(['min', 'median', 'max'])"
   ]
  },
  {
   "cell_type": "code",
   "execution_count": 5,
   "id": "a211a175-9c6e-4373-8b0b-a906a57b9272",
   "metadata": {},
   "outputs": [
    {
     "data": {
      "text/html": [
       "<div>\n",
       "<style scoped>\n",
       "    .dataframe tbody tr th:only-of-type {\n",
       "        vertical-align: middle;\n",
       "    }\n",
       "\n",
       "    .dataframe tbody tr th {\n",
       "        vertical-align: top;\n",
       "    }\n",
       "\n",
       "    .dataframe thead th {\n",
       "        text-align: right;\n",
       "    }\n",
       "</style>\n",
       "<table border=\"1\" class=\"dataframe\">\n",
       "  <thead>\n",
       "    <tr style=\"text-align: right;\">\n",
       "      <th></th>\n",
       "      <th>data1</th>\n",
       "      <th>data2</th>\n",
       "    </tr>\n",
       "    <tr>\n",
       "      <th>key</th>\n",
       "      <th></th>\n",
       "      <th></th>\n",
       "    </tr>\n",
       "  </thead>\n",
       "  <tbody>\n",
       "    <tr>\n",
       "      <th>A</th>\n",
       "      <td>1</td>\n",
       "      <td>4</td>\n",
       "    </tr>\n",
       "    <tr>\n",
       "      <th>B</th>\n",
       "      <td>2</td>\n",
       "      <td>10</td>\n",
       "    </tr>\n",
       "    <tr>\n",
       "      <th>C</th>\n",
       "      <td>3</td>\n",
       "      <td>7</td>\n",
       "    </tr>\n",
       "  </tbody>\n",
       "</table>\n",
       "</div>"
      ],
      "text/plain": [
       "     data1  data2\n",
       "key              \n",
       "A        1      4\n",
       "B        2     10\n",
       "C        3      7"
      ]
     },
     "execution_count": 5,
     "metadata": {},
     "output_type": "execute_result"
    }
   ],
   "source": [
    "df.groupby('key').aggregate({'data1' : 'min', 'data2' : 'sum'})"
   ]
  },
  {
   "cell_type": "code",
   "execution_count": null,
   "id": "28b3cede-708f-4fb6-a7ac-5714ffbc6a12",
   "metadata": {},
   "outputs": [],
   "source": []
  }
 ],
 "metadata": {
  "kernelspec": {
   "display_name": "Python 3 (ipykernel)",
   "language": "python",
   "name": "python3"
  },
  "language_info": {
   "codemirror_mode": {
    "name": "ipython",
    "version": 3
   },
   "file_extension": ".py",
   "mimetype": "text/x-python",
   "name": "python",
   "nbconvert_exporter": "python",
   "pygments_lexer": "ipython3",
   "version": "3.13.1"
  }
 },
 "nbformat": 4,
 "nbformat_minor": 5
}
