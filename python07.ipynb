{
 "cells": [
  {
   "cell_type": "markdown",
   "id": "1eed88eb-6cbb-42de-806b-8eeb9a25501b",
   "metadata": {},
   "source": [
    "# 내장함수"
   ]
  },
  {
   "cell_type": "code",
   "execution_count": 1,
   "id": "04de92f1-b32e-4997-9226-887d0f201db0",
   "metadata": {},
   "outputs": [
    {
     "name": "stdout",
     "output_type": "stream",
     "text": [
      "3\n",
      "1.2\n"
     ]
    }
   ],
   "source": [
    "# ans *\n",
    "print(abs(-3))\n",
    "print(abs(-1.2))"
   ]
  },
  {
   "cell_type": "code",
   "execution_count": 7,
   "id": "89b3a798-34a5-4e62-a0b2-5dbb36092bd0",
   "metadata": {},
   "outputs": [
    {
     "name": "stdout",
     "output_type": "stream",
     "text": [
      "True\n",
      "False\n",
      "True\n"
     ]
    }
   ],
   "source": [
    "# all *\n",
    "print(all([1, 2, 3]))\n",
    "print(all([11, 22, 0, 44, 55]))\n",
    "print(all([]))"
   ]
  },
  {
   "cell_type": "code",
   "execution_count": 12,
   "id": "f6f7b75f-21b5-40af-8ccc-ca6d08754de9",
   "metadata": {},
   "outputs": [
    {
     "name": "stdout",
     "output_type": "stream",
     "text": [
      "True\n",
      "False\n",
      "False\n"
     ]
    }
   ],
   "source": [
    "# any *\n",
    "print(any([1, 2, 3, 0]))\n",
    "print(any([0, \"\"]))\n",
    "print(any([]))"
   ]
  },
  {
   "cell_type": "code",
   "execution_count": 29,
   "id": "1b2107d9-eeec-486c-9114-9ab477f42f7d",
   "metadata": {},
   "outputs": [
    {
     "name": "stdout",
     "output_type": "stream",
     "text": [
      "0\n",
      "A\n",
      "가\n",
      "48\n",
      "65\n",
      "44032\n"
     ]
    }
   ],
   "source": [
    "# 아스키코드\n",
    "print(chr(48))\n",
    "print(chr(65))\n",
    "print(chr(44032))\n",
    "# 유니코드 - UTF-8(인코딩방식)\n",
    "print(ord('0'))\n",
    "print(ord('A'))\n",
    "print(ord('가'))"
   ]
  },
  {
   "cell_type": "code",
   "execution_count": 31,
   "id": "c2b7d1ee-7c9e-4dd6-a1bd-df97fe9a13ad",
   "metadata": {},
   "outputs": [
    {
     "name": "stdout",
     "output_type": "stream",
     "text": [
      "A\n",
      "B\n",
      "C\n",
      "D\n",
      "E\n",
      "F\n",
      "G\n",
      "H\n",
      "I\n",
      "J\n",
      "K\n",
      "L\n",
      "M\n",
      "N\n",
      "O\n",
      "P\n",
      "Q\n",
      "R\n",
      "S\n",
      "T\n",
      "U\n",
      "V\n",
      "W\n",
      "X\n",
      "Y\n",
      "Z\n"
     ]
    }
   ],
   "source": [
    "for i in range(65, 91):\n",
    "    print(chr(i))"
   ]
  },
  {
   "cell_type": "code",
   "execution_count": 89,
   "id": "006e49eb-c96c-4666-994e-86f868612cef",
   "metadata": {},
   "outputs": [
    {
     "name": "stdout",
     "output_type": "stream",
     "text": [
      "['z', 'y', 'x', 'w', 'v', 'u', 't', 's', 'r', 'q', 'p', 'o', 'n', 'm', 'l', 'k', 'j', 'i', 'h', 'g', 'f', 'e', 'd', 'c', 'b', 'a']\n"
     ]
    }
   ],
   "source": [
    "low_case = list(range(26))\n",
    "for i in range(97, 123):\n",
    "    low_case[i - 97] = chr(i)\n",
    "low_case.reverse()\n",
    "print(low_case)"
   ]
  },
  {
   "cell_type": "code",
   "execution_count": 75,
   "id": "c16f2a7f-8339-4c99-8271-801e15da9d61",
   "metadata": {},
   "outputs": [
    {
     "name": "stdout",
     "output_type": "stream",
     "text": [
      "A1\n",
      "A2\n",
      "A3\n",
      "A4\n",
      "A5\n",
      "A6\n",
      "A7\n",
      "A8\n",
      "A9\n",
      "A10\n",
      "B1\n",
      "B2\n",
      "B3\n",
      "B4\n",
      "B5\n",
      "B6\n",
      "B7\n",
      "B8\n",
      "B9\n",
      "B10\n",
      "C1\n",
      "C2\n",
      "C3\n",
      "C4\n",
      "C5\n",
      "C6\n",
      "C7\n",
      "C8\n",
      "C9\n",
      "C10\n"
     ]
    }
   ],
   "source": [
    "for i in range(65, 68):\n",
    "    for j in range(49, 59):\n",
    "        if j < 58:\n",
    "            print(chr(i) + chr(j))\n",
    "        else:\n",
    "            print(chr(i) + chr(49) + chr(48))"
   ]
  },
  {
   "cell_type": "code",
   "execution_count": null,
   "id": "bd7ae8d9-7c25-4fb5-9fb4-c840f7ff2034",
   "metadata": {},
   "outputs": [],
   "source": [
    "positive_words = [\"좋아\", \"행복\", \"멋져\", \"최고\", \"사랑해\"]\n",
    "negative_words = [\"싫어\", \"화나\", \"짜증\", \"별로\", \"나빠\"]\n",
    "\n",
    "text = input(\"당신의 기분을 한 문장으로 표현해주세요.\")\n",
    "\n",
    "if any(word in text for word in positive_words):\n",
    "    print(\"기분이 좋아보이네요\")\n",
    "elif any(word in text for word in positive_words):\n",
    "    print(\"기분이 나빠보이네요\")\n",
    "else:\n",
    "    print(\"보통이시네요\")"
   ]
  },
  {
   "cell_type": "code",
   "execution_count": 85,
   "id": "d183d87e-2392-4568-8422-e227cb296438",
   "metadata": {},
   "outputs": [
    {
     "name": "stdin",
     "output_type": "stream",
     "text": [
      "당신의 기분을 한 문장으로 표현해주세요. 좋아 행복 싫어 화나\n"
     ]
    },
    {
     "name": "stdout",
     "output_type": "stream",
     "text": [
      "보통이시네요\n"
     ]
    }
   ],
   "source": [
    "positive_words = [\"좋아\", \"행복\", \"멋져\", \"최고\", \"사랑해\"]\n",
    "negative_words = [\"싫어\", \"화나\", \"짜증\", \"별로\", \"나빠\"]\n",
    "\n",
    "text = input(\"당신의 기분을 한 문장으로 표현해주세요.\")\n",
    "\n",
    "pos = [v for v in positive_words if v in text]\n",
    "neg = [v for v in negative_words if v in text]\n",
    "if len(pos) > len(neg):\n",
    "    print(\"기분이 좋아보이네요\")\n",
    "elif len(neg) > len(pos):\n",
    "    print(\"기분이 나빠보이네요\")\n",
    "else:\n",
    "    print(\"보통이시네요\")"
   ]
  },
  {
   "cell_type": "code",
   "execution_count": 96,
   "id": "d1366a33-6982-4559-945a-4a35581479b8",
   "metadata": {},
   "outputs": [
    {
     "name": "stdin",
     "output_type": "stream",
     "text": [
      "당신의 기분을 한 문장으로 표현해주세요. 좋아 좋아서 좋아 사랑 사랑해 나빠 진짜 나빠\n"
     ]
    },
    {
     "name": "stdout",
     "output_type": "stream",
     "text": [
      "1\n",
      "2\n",
      "3\n",
      "2\n",
      "1\n",
      "1\n"
     ]
    }
   ],
   "source": [
    "positive_words = [\"좋아\", \"행복\", \"멋져\", \"최고\", \"사랑해\"]\n",
    "negative_words = [\"싫어\", \"화나\", \"짜증\", \"별로\", \"나빠\"]\n",
    "\n",
    "text = input(\"당신의 기분을 한 문장으로 표현해주세요.\")\n",
    "\n",
    "pnum = 0\n",
    "text = text.split(\" \")\n",
    "for v in positive_words:\n",
    "    for s in text:\n",
    "        if v == s:\n",
    "            pnum += 1\n",
    "            print(pnum)\n",
    "for i in negative_words:\n",
    "    for j in text:\n",
    "        if i == j:\n",
    "            pnum -= 1\n",
    "            print(pnum)\n",
    "print(pnum)"
   ]
  },
  {
   "cell_type": "code",
   "execution_count": 11,
   "id": "f8adee71-8fd4-429a-9912-79c8fc22e4a4",
   "metadata": {},
   "outputs": [
    {
     "name": "stdin",
     "output_type": "stream",
     "text": [
      "당신의 기분을 한 문장으로 표현해주세요. 좋아 좋아서 좋아요 사랑 사랑해 나빠 진짜 나빠\n"
     ]
    },
    {
     "name": "stdout",
     "output_type": "stream",
     "text": [
      "3\n"
     ]
    }
   ],
   "source": [
    "from konlpy.tag import Okt\n",
    "\n",
    "# 좋아 좋아서 좋아요 사랑 사랑해 나빠 진짜 나빠\n",
    "# 한글 형태소 분석기\n",
    "okt = Okt()\n",
    "\n",
    "positive_words = [\"좋다\", \"행복\", \"멋지다\", \"최고\", \"사랑\"]\n",
    "negative_words = [\"싫다\", \"화나다\", \"짜증\", \"별로\", \"나쁘다\"]\n",
    "\n",
    "text = input(\"당신의 기분을 한 문장으로 표현해주세요.\")\n",
    "\n",
    "words = okt.morphs(text, stem = True)\n",
    "\n",
    "\n",
    "pnum = 0\n",
    "text = text.split(\" \")\n",
    "for v in positive_words:\n",
    "    for s in words:\n",
    "        if v == s:\n",
    "            pnum += 1\n",
    "for i in negative_words:\n",
    "    for j in words:\n",
    "        if i == j:\n",
    "            pnum -= 1\n",
    "print(pnum)"
   ]
  },
  {
   "cell_type": "code",
   "execution_count": null,
   "id": "b0777f6b-fc4b-4792-963d-310c5974f05a",
   "metadata": {},
   "outputs": [],
   "source": []
  }
 ],
 "metadata": {
  "kernelspec": {
   "display_name": "Python 3 (ipykernel)",
   "language": "python",
   "name": "python3"
  },
  "language_info": {
   "codemirror_mode": {
    "name": "ipython",
    "version": 3
   },
   "file_extension": ".py",
   "mimetype": "text/x-python",
   "name": "python",
   "nbconvert_exporter": "python",
   "pygments_lexer": "ipython3",
   "version": "3.13.1"
  }
 },
 "nbformat": 4,
 "nbformat_minor": 5
}
