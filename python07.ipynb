{
 "cells": [
  {
   "cell_type": "markdown",
   "id": "1eed88eb-6cbb-42de-806b-8eeb9a25501b",
   "metadata": {},
   "source": [
    "# 내장함수"
   ]
  },
  {
   "cell_type": "code",
   "execution_count": 1,
   "id": "04de92f1-b32e-4997-9226-887d0f201db0",
   "metadata": {},
   "outputs": [
    {
     "name": "stdout",
     "output_type": "stream",
     "text": [
      "3\n",
      "1.2\n"
     ]
    }
   ],
   "source": [
    "# ans *\n",
    "print(abs(-3))\n",
    "print(abs(-1.2))"
   ]
  },
  {
   "cell_type": "code",
   "execution_count": 7,
   "id": "89b3a798-34a5-4e62-a0b2-5dbb36092bd0",
   "metadata": {},
   "outputs": [
    {
     "name": "stdout",
     "output_type": "stream",
     "text": [
      "True\n",
      "False\n",
      "True\n"
     ]
    }
   ],
   "source": [
    "# all *\n",
    "print(all([1, 2, 3]))\n",
    "print(all([11, 22, 0, 44, 55]))\n",
    "print(all([]))"
   ]
  },
  {
   "cell_type": "code",
   "execution_count": 12,
   "id": "f6f7b75f-21b5-40af-8ccc-ca6d08754de9",
   "metadata": {},
   "outputs": [
    {
     "name": "stdout",
     "output_type": "stream",
     "text": [
      "True\n",
      "False\n",
      "False\n"
     ]
    }
   ],
   "source": [
    "# any *\n",
    "print(any([1, 2, 3, 0]))\n",
    "print(any([0, \"\"]))\n",
    "print(any([]))"
   ]
  },
  {
   "cell_type": "code",
   "execution_count": 29,
   "id": "1b2107d9-eeec-486c-9114-9ab477f42f7d",
   "metadata": {},
   "outputs": [
    {
     "name": "stdout",
     "output_type": "stream",
     "text": [
      "0\n",
      "A\n",
      "가\n",
      "48\n",
      "65\n",
      "44032\n"
     ]
    }
   ],
   "source": [
    "# 아스키코드\n",
    "print(chr(48))\n",
    "print(chr(65))\n",
    "print(chr(44032))\n",
    "# 유니코드 - UTF-8(인코딩방식)\n",
    "print(ord('0'))\n",
    "print(ord('A'))\n",
    "print(ord('가'))"
   ]
  },
  {
   "cell_type": "code",
   "execution_count": 31,
   "id": "c2b7d1ee-7c9e-4dd6-a1bd-df97fe9a13ad",
   "metadata": {},
   "outputs": [
    {
     "name": "stdout",
     "output_type": "stream",
     "text": [
      "A\n",
      "B\n",
      "C\n",
      "D\n",
      "E\n",
      "F\n",
      "G\n",
      "H\n",
      "I\n",
      "J\n",
      "K\n",
      "L\n",
      "M\n",
      "N\n",
      "O\n",
      "P\n",
      "Q\n",
      "R\n",
      "S\n",
      "T\n",
      "U\n",
      "V\n",
      "W\n",
      "X\n",
      "Y\n",
      "Z\n"
     ]
    }
   ],
   "source": [
    "for i in range(65, 91):\n",
    "    print(chr(i))"
   ]
  },
  {
   "cell_type": "code",
   "execution_count": 89,
   "id": "006e49eb-c96c-4666-994e-86f868612cef",
   "metadata": {},
   "outputs": [
    {
     "name": "stdout",
     "output_type": "stream",
     "text": [
      "['z', 'y', 'x', 'w', 'v', 'u', 't', 's', 'r', 'q', 'p', 'o', 'n', 'm', 'l', 'k', 'j', 'i', 'h', 'g', 'f', 'e', 'd', 'c', 'b', 'a']\n"
     ]
    }
   ],
   "source": [
    "low_case = list(range(26))\n",
    "for i in range(97, 123):\n",
    "    low_case[i - 97] = chr(i)\n",
    "low_case.reverse()\n",
    "print(low_case)"
   ]
  },
  {
   "cell_type": "code",
   "execution_count": 75,
   "id": "c16f2a7f-8339-4c99-8271-801e15da9d61",
   "metadata": {},
   "outputs": [
    {
     "name": "stdout",
     "output_type": "stream",
     "text": [
      "A1\n",
      "A2\n",
      "A3\n",
      "A4\n",
      "A5\n",
      "A6\n",
      "A7\n",
      "A8\n",
      "A9\n",
      "A10\n",
      "B1\n",
      "B2\n",
      "B3\n",
      "B4\n",
      "B5\n",
      "B6\n",
      "B7\n",
      "B8\n",
      "B9\n",
      "B10\n",
      "C1\n",
      "C2\n",
      "C3\n",
      "C4\n",
      "C5\n",
      "C6\n",
      "C7\n",
      "C8\n",
      "C9\n",
      "C10\n"
     ]
    }
   ],
   "source": [
    "for i in range(65, 68):\n",
    "    for j in range(49, 59):\n",
    "        if j < 58:\n",
    "            print(chr(i) + chr(j))\n",
    "        else:\n",
    "            print(chr(i) + chr(49) + chr(48))"
   ]
  },
  {
   "cell_type": "code",
   "execution_count": null,
   "id": "bd7ae8d9-7c25-4fb5-9fb4-c840f7ff2034",
   "metadata": {},
   "outputs": [],
   "source": [
    "positive_words = [\"좋아\", \"행복\", \"멋져\", \"최고\", \"사랑해\"]\n",
    "negative_words = [\"싫어\", \"화나\", \"짜증\", \"별로\", \"나빠\"]\n",
    "\n",
    "text = input(\"당신의 기분을 한 문장으로 표현해주세요.\")\n",
    "\n",
    "if any(word in text for word in positive_words):\n",
    "    print(\"기분이 좋아보이네요\")\n",
    "elif any(word in text for word in positive_words):\n",
    "    print(\"기분이 나빠보이네요\")\n",
    "else:\n",
    "    print(\"보통이시네요\")"
   ]
  },
  {
   "cell_type": "code",
   "execution_count": 85,
   "id": "d183d87e-2392-4568-8422-e227cb296438",
   "metadata": {},
   "outputs": [
    {
     "name": "stdin",
     "output_type": "stream",
     "text": [
      "당신의 기분을 한 문장으로 표현해주세요. 좋아 행복 싫어 화나\n"
     ]
    },
    {
     "name": "stdout",
     "output_type": "stream",
     "text": [
      "보통이시네요\n"
     ]
    }
   ],
   "source": [
    "positive_words = [\"좋아\", \"행복\", \"멋져\", \"최고\", \"사랑해\"]\n",
    "negative_words = [\"싫어\", \"화나\", \"짜증\", \"별로\", \"나빠\"]\n",
    "\n",
    "text = input(\"당신의 기분을 한 문장으로 표현해주세요.\")\n",
    "\n",
    "pos = [v for v in positive_words if v in text]\n",
    "neg = [v for v in negative_words if v in text]\n",
    "if len(pos) > len(neg):\n",
    "    print(\"기분이 좋아보이네요\")\n",
    "elif len(neg) > len(pos):\n",
    "    print(\"기분이 나빠보이네요\")\n",
    "else:\n",
    "    print(\"보통이시네요\")"
   ]
  },
  {
   "cell_type": "code",
   "execution_count": 96,
   "id": "d1366a33-6982-4559-945a-4a35581479b8",
   "metadata": {},
   "outputs": [
    {
     "name": "stdin",
     "output_type": "stream",
     "text": [
      "당신의 기분을 한 문장으로 표현해주세요. 좋아 좋아서 좋아 사랑 사랑해 나빠 진짜 나빠\n"
     ]
    },
    {
     "name": "stdout",
     "output_type": "stream",
     "text": [
      "1\n",
      "2\n",
      "3\n",
      "2\n",
      "1\n",
      "1\n"
     ]
    }
   ],
   "source": [
    "positive_words = [\"좋아\", \"행복\", \"멋져\", \"최고\", \"사랑해\"]\n",
    "negative_words = [\"싫어\", \"화나\", \"짜증\", \"별로\", \"나빠\"]\n",
    "\n",
    "text = input(\"당신의 기분을 한 문장으로 표현해주세요.\")\n",
    "\n",
    "pnum = 0\n",
    "text = text.split(\" \")\n",
    "for v in positive_words:\n",
    "    for s in text:\n",
    "        if v == s:\n",
    "            pnum += 1\n",
    "            print(pnum)\n",
    "for i in negative_words:\n",
    "    for j in text:\n",
    "        if i == j:\n",
    "            pnum -= 1\n",
    "            print(pnum)\n",
    "print(pnum)"
   ]
  },
  {
   "cell_type": "code",
   "execution_count": 11,
   "id": "f8adee71-8fd4-429a-9912-79c8fc22e4a4",
   "metadata": {},
   "outputs": [
    {
     "name": "stdin",
     "output_type": "stream",
     "text": [
      "당신의 기분을 한 문장으로 표현해주세요. 좋아 좋아서 좋아요 사랑 사랑해 나빠 진짜 나빠\n"
     ]
    },
    {
     "name": "stdout",
     "output_type": "stream",
     "text": [
      "3\n"
     ]
    }
   ],
   "source": [
    "from konlpy.tag import Okt\n",
    "\n",
    "# 좋아 좋아서 좋아요 사랑 사랑해 나빠 진짜 나빠\n",
    "# 한글 형태소 분석기\n",
    "okt = Okt()\n",
    "\n",
    "positive_words = [\"좋다\", \"행복\", \"멋지다\", \"최고\", \"사랑\"]\n",
    "negative_words = [\"싫다\", \"화나다\", \"짜증\", \"별로\", \"나쁘다\"]\n",
    "\n",
    "text = input(\"당신의 기분을 한 문장으로 표현해주세요.\")\n",
    "\n",
    "words = okt.morphs(text, stem = True)\n",
    "\n",
    "\n",
    "pnum = 0\n",
    "text = text.split(\" \")\n",
    "for v in positive_words:\n",
    "    for s in words:\n",
    "        if v == s:\n",
    "            pnum += 1\n",
    "for i in negative_words:\n",
    "    for j in words:\n",
    "        if i == j:\n",
    "            pnum -= 1\n",
    "print(pnum)"
   ]
  },
  {
   "cell_type": "code",
   "execution_count": 1,
   "id": "b0777f6b-fc4b-4792-963d-310c5974f05a",
   "metadata": {},
   "outputs": [
    {
     "name": "stdout",
     "output_type": "stream",
     "text": [
      "(4, 1)\n",
      "4 1\n"
     ]
    }
   ],
   "source": [
    "print(divmod(13, 3))\n",
    "print(13 // 3, 13 % 3)"
   ]
  },
  {
   "cell_type": "code",
   "execution_count": 2,
   "id": "60166051-8c84-414a-91e6-e1aa0335df61",
   "metadata": {},
   "outputs": [
    {
     "name": "stdout",
     "output_type": "stream",
     "text": [
      "1 순위 과일은 : apple\n",
      "2 순위 과일은 : banana\n",
      "3 순위 과일은 : kiwi\n",
      "4 순위 과일은 : cherry\n",
      "5 순위 과일은 : mango\n"
     ]
    }
   ],
   "source": [
    "# enumerate ** 열거하다\n",
    "fruit = ['apple', 'banana', 'kiwi', 'cherry', 'mango']\n",
    "for i, f in enumerate(fruit, start = 1):\n",
    "    print(i, '순위 과일은 :', f)"
   ]
  },
  {
   "cell_type": "code",
   "execution_count": 3,
   "id": "78a1ce83-d1b0-4434-9814-f6d4803c0624",
   "metadata": {},
   "outputs": [
    {
     "data": {
      "text/plain": [
       "3"
      ]
     },
     "execution_count": 3,
     "metadata": {},
     "output_type": "execute_result"
    }
   ],
   "source": [
    "eval('1 + 2')"
   ]
  },
  {
   "cell_type": "code",
   "execution_count": 4,
   "id": "1264cc81-9c0c-4f13-8b6a-c75e7897d5ae",
   "metadata": {},
   "outputs": [
    {
     "data": {
      "text/plain": [
       "'A1'"
      ]
     },
     "execution_count": 4,
     "metadata": {},
     "output_type": "execute_result"
    }
   ],
   "source": [
    "eval(\"'A' + '1'\")"
   ]
  },
  {
   "cell_type": "code",
   "execution_count": 6,
   "id": "75670ea7-6962-41c9-87b4-8733fecd406a",
   "metadata": {},
   "outputs": [
    {
     "name": "stdout",
     "output_type": "stream",
     "text": [
      "[1, 2, 6]\n"
     ]
    }
   ],
   "source": [
    "def positive(x):\n",
    "    result = []\n",
    "    for i in x:\n",
    "        if i > 0:\n",
    "            result.append(i)\n",
    "    return result\n",
    "print(positive([1, -3, 2, 0, -5, 6]))"
   ]
  },
  {
   "cell_type": "code",
   "execution_count": 7,
   "id": "b4a9f804-5744-4492-bafa-96158db398cc",
   "metadata": {},
   "outputs": [
    {
     "name": "stdout",
     "output_type": "stream",
     "text": [
      "[1, 2, 6]\n"
     ]
    }
   ],
   "source": [
    "def pos(x):\n",
    "    return [i for i in x if i > 0]\n",
    "print(pos([1, -3, 2, 0, -5, 6]))"
   ]
  },
  {
   "cell_type": "code",
   "execution_count": 8,
   "id": "d3c22d9d-1313-4611-bfab-834fce19e5fc",
   "metadata": {},
   "outputs": [
    {
     "data": {
      "text/plain": [
       "[1, 2, 6]"
      ]
     },
     "execution_count": 8,
     "metadata": {},
     "output_type": "execute_result"
    }
   ],
   "source": [
    "def positive(x):\n",
    "    return x > 0\n",
    "l = [1, -3, 2, 0, -5, 6]\n",
    "list(filter(positive, l))"
   ]
  },
  {
   "cell_type": "code",
   "execution_count": 11,
   "id": "be1fe638-2a21-4158-a2e5-d04818f1c887",
   "metadata": {},
   "outputs": [
    {
     "name": "stdout",
     "output_type": "stream",
     "text": [
      "[1, 2, 6]\n"
     ]
    }
   ],
   "source": [
    "print(list(filter(lambda x : x > 0 ,l)))"
   ]
  },
  {
   "cell_type": "code",
   "execution_count": 12,
   "id": "2b9b83b6-9268-4403-a24f-0dcbb2b9e2ab",
   "metadata": {},
   "outputs": [
    {
     "name": "stdout",
     "output_type": "stream",
     "text": [
      "0xea\n",
      "0o11\n",
      "0b1001\n"
     ]
    }
   ],
   "source": [
    "# hex, oct, bin\n",
    "print(hex(234))\n",
    "print(oct(9))\n",
    "print(bin(9))"
   ]
  },
  {
   "cell_type": "code",
   "execution_count": 14,
   "id": "58589b20-c575-44fa-b2be-3afe98ce2307",
   "metadata": {},
   "outputs": [
    {
     "name": "stdout",
     "output_type": "stream",
     "text": [
      "140706810561512\n",
      "140706810561512\n",
      "140706810561512\n",
      "True\n"
     ]
    }
   ],
   "source": [
    "# id 고유 주솟값을 리턴\n",
    "a = 3\n",
    "print(id(3))\n",
    "print(id(a))\n",
    "b = a\n",
    "print(id(b))\n",
    "print(all([id(3) == id(a), id(a) == id(b), id(b) == id(3)]))"
   ]
  },
  {
   "cell_type": "code",
   "execution_count": 15,
   "id": "99d4a8c4-825f-45ce-b325-e9ed796ad9e0",
   "metadata": {},
   "outputs": [],
   "source": [
    "# input *\n",
    "# input은 스트링으로 값을 전달받는다. 그러므로 계산시 int나 float으로 변경할 것"
   ]
  },
  {
   "cell_type": "code",
   "execution_count": 16,
   "id": "147773f9-ca1b-44c6-848a-88ef47b06cad",
   "metadata": {},
   "outputs": [],
   "source": [
    "# int *\n",
    "# 문자를 숫자로 변환, 정수로 변환, 소숫점이 사라짐"
   ]
  },
  {
   "cell_type": "code",
   "execution_count": 9,
   "id": "3ee467d7-15f8-483b-963f-0abedb05e33e",
   "metadata": {},
   "outputs": [
    {
     "name": "stdout",
     "output_type": "stream",
     "text": [
      "사람입니다.\n",
      "사람입니다.\n",
      "True\n",
      "True\n",
      "False\n"
     ]
    }
   ],
   "source": [
    "# isinstance(object, class) 인스턴스 확인용\n",
    "\n",
    "class Person:\n",
    "    def p(self):\n",
    "        return(\"사람입니다.\")\n",
    "\n",
    "class Animal:pass\n",
    "a = Person()\n",
    "b = Person()\n",
    "c = Animal()\n",
    "print(a.p())\n",
    "print(b.p())\n",
    "print(isinstance(a, Person))\n",
    "print(isinstance(b, Person))\n",
    "print(isinstance(c, Person))"
   ]
  },
  {
   "cell_type": "code",
   "execution_count": 4,
   "id": "6b1971bc-c020-4ab7-8cdf-c9c0365304a4",
   "metadata": {},
   "outputs": [],
   "source": [
    "# list **"
   ]
  },
  {
   "cell_type": "code",
   "execution_count": 5,
   "id": "75ddd88d-e9c5-4d7a-9763-d83a77f40cbb",
   "metadata": {},
   "outputs": [
    {
     "name": "stdout",
     "output_type": "stream",
     "text": [
      "[2, 4, 6, 8]\n"
     ]
    }
   ],
   "source": [
    "# map **\n",
    "def two_items(nl):\n",
    "    result = []\n",
    "    for n in nl:\n",
    "        result.append(n * 2)\n",
    "    return result\n",
    "\n",
    "result = two_items([1, 2, 3, 4])\n",
    "print(result)"
   ]
  },
  {
   "cell_type": "code",
   "execution_count": 7,
   "id": "be3511ab-cc66-42b2-985c-87f9abccf760",
   "metadata": {},
   "outputs": [
    {
     "data": {
      "text/plain": [
       "[2, 4, 6, 8]"
      ]
     },
     "execution_count": 7,
     "metadata": {},
     "output_type": "execute_result"
    }
   ],
   "source": [
    "def two_times(x):\n",
    "    return x * 2\n",
    "\n",
    "list(map(two_times, [1, 2, 3, 4]))"
   ]
  },
  {
   "cell_type": "code",
   "execution_count": 8,
   "id": "75832188-773c-4a18-8229-baeadcc47af3",
   "metadata": {},
   "outputs": [
    {
     "data": {
      "text/plain": [
       "[2, 4, 6, 8]"
      ]
     },
     "execution_count": 8,
     "metadata": {},
     "output_type": "execute_result"
    }
   ],
   "source": [
    "list(map(lambda x: x * 2, [1, 2, 3, 4]))"
   ]
  },
  {
   "cell_type": "code",
   "execution_count": 11,
   "id": "6e0e504a-6d8b-41b9-9fe8-8808a48fc960",
   "metadata": {},
   "outputs": [
    {
     "name": "stdout",
     "output_type": "stream",
     "text": [
      "[1, 3, 5]\n",
      "[2, 4, 6]\n",
      "[11, 12, 13, 14, 15, 16]\n",
      "[1, 4, 9, 16, 25, 36]\n",
      "[11, 24, 39, 56, 75, 96]\n"
     ]
    }
   ],
   "source": [
    "li = [1, 2, 3, 4, 5, 6]\n",
    "def odd(x):\n",
    "    return x % 2 != 0\n",
    "def even(x):\n",
    "    return x % 2 == 0\n",
    "def add(x):\n",
    "    return x + 10\n",
    "def mul(x):\n",
    "    return x * x\n",
    "def addmul(x):\n",
    "    return (x + 10) * x\n",
    "print(list(filter(odd, li)))\n",
    "print(list(filter(even, li)))\n",
    "print(list(map(add, li)))\n",
    "print(list(map(mul, li)))\n",
    "print(list(map(addmul, li)))"
   ]
  },
  {
   "cell_type": "code",
   "execution_count": 13,
   "id": "8b191a5a-85d0-4f20-81d5-14bd08839a90",
   "metadata": {},
   "outputs": [
    {
     "data": {
      "text/plain": [
       "'y'"
      ]
     },
     "execution_count": 13,
     "metadata": {},
     "output_type": "execute_result"
    }
   ],
   "source": [
    "# max *\n",
    "max([1, 21, 3 ,14, 56, 16, 7])\n",
    "# 문자일 경우 유니코드 값으로 판단\n",
    "max('python')"
   ]
  },
  {
   "cell_type": "code",
   "execution_count": 14,
   "id": "8281b7f2-a55d-4c39-8a2b-0b6368434de0",
   "metadata": {},
   "outputs": [
    {
     "data": {
      "text/plain": [
       "'h'"
      ]
     },
     "execution_count": 14,
     "metadata": {},
     "output_type": "execute_result"
    }
   ],
   "source": [
    "# min *\n",
    "min([1, 21, 3 ,14, 56, 16, 7])\n",
    "# 문자일 경우 유니코드 값으로 판단\n",
    "min('python')"
   ]
  },
  {
   "cell_type": "code",
   "execution_count": 15,
   "id": "d2a4fcfe-b3c4-4575-a2cf-92b3668c7b6b",
   "metadata": {},
   "outputs": [],
   "source": [
    "# open *\n"
   ]
  },
  {
   "cell_type": "code",
   "execution_count": 16,
   "id": "9a15a16d-c0bd-4383-af8e-0bb3f24c078c",
   "metadata": {},
   "outputs": [
    {
     "name": "stdout",
     "output_type": "stream",
     "text": [
      "32\n"
     ]
    }
   ],
   "source": [
    "# pow * x를 y제곱한 결과값을 리턴\n",
    "print(pow(2, 5))"
   ]
  },
  {
   "cell_type": "code",
   "execution_count": 18,
   "id": "a61a89a4-0aeb-4b49-b591-e21d2336f620",
   "metadata": {},
   "outputs": [
    {
     "name": "stdout",
     "output_type": "stream",
     "text": [
      "[0, 1, 2, 3, 4]\n",
      "[5, 6, 7, 8, 9]\n",
      "[5, 7, 9]\n",
      "[15, 14, 13, 12, 11, 10, 9, 8, 7, 6, 5, 4, 3, 2, 1]\n"
     ]
    }
   ],
   "source": [
    "# range **\n",
    "# 인수가 하나\n",
    "print(list(range(5)))\n",
    "# 인수가 2개\n",
    "print(list(range(5, 10)))\n",
    "# 인수가 3개\n",
    "print(list(range(5, 10, 2)))\n",
    "# 역순(스탭조절)\n",
    "print(list(range(15, 0, -1)))"
   ]
  },
  {
   "cell_type": "code",
   "execution_count": 21,
   "id": "af6b5fea-49ec-4d4b-9b09-31ee6ca95f75",
   "metadata": {},
   "outputs": [
    {
     "name": "stdout",
     "output_type": "stream",
     "text": [
      "3\n",
      "4\n",
      "3\n",
      "3.5\n",
      "3.495\n"
     ]
    }
   ],
   "source": [
    "# round * 반올림\n",
    "print(round(3.45))\n",
    "print(round(3.546))\n",
    "print(round(3.495))\n",
    "print(round(3.495, 2))\n",
    "print(round(3.495, 3))"
   ]
  },
  {
   "cell_type": "code",
   "execution_count": 27,
   "id": "f26900f1-bbab-4c57-a3e4-87c1b4f58cb3",
   "metadata": {},
   "outputs": [
    {
     "name": "stdout",
     "output_type": "stream",
     "text": [
      "[3, 2, 1, 4, 6, 7]\n",
      "[1, 2, 3, 4, 6, 7]\n",
      "[7, 6, 4, 3, 2, 1]\n"
     ]
    }
   ],
   "source": [
    "# sorted(iterable)\n",
    "s0 = [3, 2, 1, 4, 6, 7]\n",
    "s1 = sorted(s0)\n",
    "s2 = sorted(s0, reverse = True)\n",
    "print(s0)\n",
    "print(s1)\n",
    "print(s2)"
   ]
  },
  {
   "cell_type": "code",
   "execution_count": 30,
   "id": "cf1fc934-00f4-4ba0-874d-bf37363664f2",
   "metadata": {},
   "outputs": [
    {
     "name": "stdout",
     "output_type": "stream",
     "text": [
      "23 <class 'str'>\n",
      "23 <class 'int'>\n"
     ]
    }
   ],
   "source": [
    "# str * 문자열로 변환\n",
    "num = 23\n",
    "st = str(23)\n",
    "print(st, type(st))\n",
    "print(num, type(num))"
   ]
  },
  {
   "cell_type": "code",
   "execution_count": 32,
   "id": "6f407faf-de1c-46cd-acf0-5825a09ba348",
   "metadata": {},
   "outputs": [
    {
     "name": "stdout",
     "output_type": "stream",
     "text": [
      "15\n"
     ]
    }
   ],
   "source": [
    "# sum * 이터러블데이터의 합을 리턴\n",
    "print(sum([1, 2, 3, 4, 5]))"
   ]
  },
  {
   "cell_type": "code",
   "execution_count": 34,
   "id": "b6535016-5a9c-4759-9ddf-0872f05c4203",
   "metadata": {},
   "outputs": [
    {
     "name": "stdout",
     "output_type": "stream",
     "text": [
      "('a', 'b', 'c')\n",
      "(1, 2, 3, 4, 5, 6)\n",
      "(1, 2, 3, 4, 5, 6)\n"
     ]
    }
   ],
   "source": [
    "# tuple *\n",
    "print(tuple(\"abc\"))\n",
    "print(tuple([1, 2, 3, 4, 5, 6]))\n",
    "print(tuple((1, 2, 3, 4, 5, 6)))"
   ]
  },
  {
   "cell_type": "code",
   "execution_count": 35,
   "id": "8e728927-01c9-4260-b7ba-d6874759bf94",
   "metadata": {},
   "outputs": [
    {
     "data": {
      "text/plain": [
       "function"
      ]
     },
     "execution_count": 35,
     "metadata": {},
     "output_type": "execute_result"
    }
   ],
   "source": [
    "# type ** 자료형 확인\n",
    "type(\"abc\")\n",
    "type(1234)\n",
    "type(open)"
   ]
  },
  {
   "cell_type": "code",
   "execution_count": 36,
   "id": "03a478b7-51b1-4b6a-a11e-93d4f847639b",
   "metadata": {},
   "outputs": [
    {
     "name": "stdout",
     "output_type": "stream",
     "text": [
      "11 : apple => dog\n",
      "22 : banana => cat\n",
      "33 : kiwi => elephant\n",
      "44 : cherry => lion\n",
      "55 : mango => rabbit\n"
     ]
    }
   ],
   "source": [
    "# zip ** 묶어서 리턴\n",
    "fruit = ['apple', 'banana', 'kiwi', 'cherry', 'mango']\n",
    "animal = ['dog', 'cat', 'elephant', 'lion', 'rabbit']\n",
    "num = [11, 22, 33, 44, 55]\n",
    "for f, a, n in zip(fruit, animal, num):\n",
    "    print(n, ':', f, '=>', a)"
   ]
  },
  {
   "cell_type": "markdown",
   "id": "e3142ae5-f512-403a-aa45-d031eef1cff8",
   "metadata": {},
   "source": [
    "# 표준 라이브러리"
   ]
  },
  {
   "cell_type": "markdown",
   "id": "25bbecb8-db25-478d-8f06-39a7ee1ab81d",
   "metadata": {},
   "source": [
    "## datetime.date"
   ]
  },
  {
   "cell_type": "code",
   "execution_count": 42,
   "id": "7814a74d-9122-47e6-bdca-7d23c1f22c63",
   "metadata": {},
   "outputs": [
    {
     "name": "stdout",
     "output_type": "stream",
     "text": [
      "전체 수업기간 : 172 일\n",
      "남은 수업기간 : 157 일\n",
      "지난 수업기간 : 15 일\n"
     ]
    },
    {
     "data": {
      "text/plain": [
       "172"
      ]
     },
     "execution_count": 42,
     "metadata": {},
     "output_type": "execute_result"
    }
   ],
   "source": [
    "import datetime\n",
    "day1 = datetime.date(2025, 2, 3)\n",
    "day2 = datetime.date(2025, 7, 25)\n",
    "diff = day2 - day1\n",
    "print(\"전체 수업기간 :\", diff.days, \"일\")\n",
    "diff2 = day2 - datetime.datetime.now().date()\n",
    "print(\"남은 수업기간 :\", diff2.days, \"일\")\n",
    "print(\"지난 수업기간 :\", diff.days - diff2.days, \"일\")\n",
    "diff.days"
   ]
  },
  {
   "cell_type": "code",
   "execution_count": 44,
   "id": "f7ea8682-4521-44f0-bf2d-f9d471cbd78c",
   "metadata": {},
   "outputs": [
    {
     "data": {
      "text/plain": [
       "datetime.date(2025, 2, 18)"
      ]
     },
     "execution_count": 44,
     "metadata": {},
     "output_type": "execute_result"
    }
   ],
   "source": [
    "datetime.datetime.now().date()"
   ]
  },
  {
   "cell_type": "code",
   "execution_count": 57,
   "id": "7c8a8cf8-6e8e-4d53-b447-88632009422b",
   "metadata": {},
   "outputs": [
    {
     "name": "stdout",
     "output_type": "stream",
     "text": [
      "그날은 월요일입니다.\n"
     ]
    }
   ],
   "source": [
    "days = ['월', '화', '수', '목', '금', '토', '일']\n",
    "day = datetime.date(2025, 6, 9)\n",
    "print(\"그날은 \" + days[day.weekday()] + '요일입니다.')"
   ]
  },
  {
   "cell_type": "code",
   "execution_count": 65,
   "id": "e833aed8-9c15-4af4-aade-835453ba493b",
   "metadata": {},
   "outputs": [
    {
     "name": "stdin",
     "output_type": "stream",
     "text": [
      "수료 날짜를 연도, 월, 일로 적어주세요. 2025 07 25\n",
      "추석 날짜를 연도, 월, 일로 적어주세요. 2025 10 6\n"
     ]
    },
    {
     "name": "stdout",
     "output_type": "stream",
     "text": [
      "수료 후 추석까지는 73 일 남았습니다.\n",
      "추석은 월요일입니다.\n"
     ]
    }
   ],
   "source": [
    "import datetime\n",
    "days = ['월', '화', '수', '목', '금', '토', '일']\n",
    "ey, em, ed = map(int, input(\"수료 날짜를 연도, 월, 일로 적어주세요.\").split())\n",
    "cy, cm, cd = map(int,input(\"추석 날짜를 연도, 월, 일로 적어주세요.\").split())\n",
    "end = datetime.date(ey, em, ed)\n",
    "chuseok = datetime.date(cy, cm, cd)\n",
    "diff = chuseok - end\n",
    "print(\"수료 후 추석까지는\", diff.days, \"일 남았습니다.\")\n",
    "print(\"추석은 \" + days[day.weekday()] + \"요일입니다.\")"
   ]
  },
  {
   "cell_type": "markdown",
   "id": "9308e7c0-49a3-4d04-957f-d7f084fff84a",
   "metadata": {},
   "source": [
    "## time"
   ]
  },
  {
   "cell_type": "code",
   "execution_count": 67,
   "id": "859a6b8b-f944-425a-b48e-d02a3f223510",
   "metadata": {},
   "outputs": [
    {
     "data": {
      "text/plain": [
       "1739855451.3603513"
      ]
     },
     "execution_count": 67,
     "metadata": {},
     "output_type": "execute_result"
    }
   ],
   "source": [
    "# time.time\n",
    "import time\n",
    "time.time()"
   ]
  },
  {
   "cell_type": "code",
   "execution_count": 70,
   "id": "9b8537b5-d271-46b1-89aa-932915736f18",
   "metadata": {},
   "outputs": [
    {
     "data": {
      "text/plain": [
       "18"
      ]
     },
     "execution_count": 70,
     "metadata": {},
     "output_type": "execute_result"
    }
   ],
   "source": [
    "# time.localtime\n",
    "tt = time.localtime(time.time())\n",
    "tt.tm_mday"
   ]
  },
  {
   "cell_type": "code",
   "execution_count": 71,
   "id": "f270d1b8-01fa-4192-9b40-8ba8a1ade673",
   "metadata": {},
   "outputs": [
    {
     "data": {
      "text/plain": [
       "'Tue Feb 18 14:15:26 2025'"
      ]
     },
     "execution_count": 71,
     "metadata": {},
     "output_type": "execute_result"
    }
   ],
   "source": [
    "# time.asctime\n",
    "time.asctime(time.localtime(time.time()))"
   ]
  },
  {
   "cell_type": "code",
   "execution_count": 72,
   "id": "25a1db0f-7d24-4e2e-b979-eda584f0c952",
   "metadata": {},
   "outputs": [
    {
     "data": {
      "text/plain": [
       "'Tue Feb 18 14:16:37 2025'"
      ]
     },
     "execution_count": 72,
     "metadata": {},
     "output_type": "execute_result"
    }
   ],
   "source": [
    "# time.ctime()\n",
    "time.ctime()"
   ]
  },
  {
   "cell_type": "code",
   "execution_count": 74,
   "id": "50ab24bc-e3f5-4b39-ae78-dfd77f3c902f",
   "metadata": {},
   "outputs": [
    {
     "data": {
      "text/plain": [
       "'Tue Feb 18 14:19:07 2025'"
      ]
     },
     "execution_count": 74,
     "metadata": {},
     "output_type": "execute_result"
    }
   ],
   "source": [
    "# time.strftime\n",
    "time.strftime('%x', time.localtime(time.time()))\n",
    "time.strftime('%X', time.localtime(time.time()))\n",
    "time.strftime('%c', time.localtime(time.time()))"
   ]
  },
  {
   "cell_type": "code",
   "execution_count": 78,
   "id": "73fe2e70-1dbd-4f45-8f7c-be3cf1dabc5d",
   "metadata": {},
   "outputs": [
    {
     "name": "stdout",
     "output_type": "stream",
     "text": [
      "10"
     ]
    }
   ],
   "source": [
    "# time.sleep\n",
    "for i in range(1, 11):\n",
    "    print(i, end='\\r')\n",
    "    time.sleep(1)"
   ]
  },
  {
   "cell_type": "markdown",
   "id": "3f98594e-ed3d-4cc0-9c77-98012c6a752d",
   "metadata": {},
   "source": [
    "## math.gcd math.lcm"
   ]
  },
  {
   "cell_type": "code",
   "execution_count": 79,
   "id": "0cb07ddf-02ef-4030-8bea-3655d9db92b5",
   "metadata": {},
   "outputs": [],
   "source": [
    "import math"
   ]
  },
  {
   "cell_type": "code",
   "execution_count": 85,
   "id": "86c52c51-039e-49d7-a20b-0d1910bdb049",
   "metadata": {},
   "outputs": [
    {
     "name": "stdout",
     "output_type": "stream",
     "text": [
      "3.141592653589793\n",
      "20\n",
      "75\n"
     ]
    }
   ],
   "source": [
    "print(math.pi) # pi 값\n",
    "print(math.gcd(60, 100, 80)) # 최대공약수 값\n",
    "print(math.lcm(15, 25)) # 최소공배수 값"
   ]
  },
  {
   "cell_type": "markdown",
   "id": "8ea19d27-910f-48d1-abd0-df81705478e9",
   "metadata": {},
   "source": [
    "## random"
   ]
  },
  {
   "cell_type": "code",
   "execution_count": 88,
   "id": "f3c7320f-fa5f-48ee-8f47-4431d3b1224b",
   "metadata": {},
   "outputs": [
    {
     "name": "stdout",
     "output_type": "stream",
     "text": [
      "0.04157218591506895\n",
      "3\n"
     ]
    }
   ],
   "source": [
    "import random as r\n",
    "# r.random()\n",
    "print(r.random()) # 0.0에서 1.0 사이의 난수\n",
    "# r.randint()\n",
    "print(r.randint(1, 10))"
   ]
  },
  {
   "cell_type": "code",
   "execution_count": 90,
   "id": "e4973934-7df9-46f6-8bea-c894dbb2f38d",
   "metadata": {},
   "outputs": [
    {
     "name": "stdout",
     "output_type": "stream",
     "text": [
      "44 22 44 22 22 22 "
     ]
    }
   ],
   "source": [
    "# r.choice()\n",
    "data = [11, 22, 33, 44, 55, 66]\n",
    "for i in range(6):\n",
    "    print(r.choice(data), end=' ')"
   ]
  },
  {
   "cell_type": "code",
   "execution_count": 95,
   "id": "25dd4cc1-c1cd-4b99-b97b-78acb0f91e43",
   "metadata": {},
   "outputs": [
    {
     "name": "stdout",
     "output_type": "stream",
     "text": [
      "[8, 7, 2, 14, 3, 1, 9, 13, 10, 17, 15, 6, 16, 5, 4, 19, 18, 12, 20, 11]\n",
      "{1, 2, 3, 4, 5, 6, 7, 8, 9, 10, 11, 12, 13, 14, 15, 16, 17, 18, 19, 20} 20\n"
     ]
    }
   ],
   "source": [
    "# r.sample\n",
    "li = list(range(1, 21))\n",
    "arr = []\n",
    "for n in r.sample(li, len(li)):\n",
    "    arr.append(n)\n",
    "print(arr)\n",
    "sarr = set(arr)\n",
    "print(sarr, len(sarr))"
   ]
  },
  {
   "cell_type": "code",
   "execution_count": 13,
   "id": "1f6a0247-dc72-4a30-b739-10c1a5dc3136",
   "metadata": {},
   "outputs": [
    {
     "name": "stdout",
     "output_type": "stream",
     "text": [
      "233168\n"
     ]
    }
   ],
   "source": [
    "num = 0\n",
    "for i in range(1, 1000):\n",
    "    if i % 3 == 0 or i % 5 == 0:\n",
    "        num += i\n",
    "print(num)"
   ]
  },
  {
   "cell_type": "code",
   "execution_count": 14,
   "id": "397e7e41-3407-4a8d-a19e-de5580241718",
   "metadata": {},
   "outputs": [
    {
     "name": "stdout",
     "output_type": "stream",
     "text": [
      "233168\n"
     ]
    }
   ],
   "source": [
    "num = 0\n",
    "for i in range(1, 1000):\n",
    "    if i % 3 == 0:\n",
    "        num += i\n",
    "    elif i % 5 == 0:\n",
    "        num += i\n",
    "    elif i % 15 == 0:\n",
    "        num -= i\n",
    "print(num)\n",
    "        "
   ]
  },
  {
   "cell_type": "code",
   "execution_count": 7,
   "id": "e12b4e6e-ebbe-4d4a-9c3d-f7c6c862b515",
   "metadata": {},
   "outputs": [
    {
     "name": "stdout",
     "output_type": "stream",
     "text": [
      "1\n",
      "2\n",
      "3\n",
      "4\n"
     ]
    }
   ],
   "source": [
    "def get_total_page(m, n):\n",
    "    return (m // n) + 1\n",
    "print(get_total_page(5, 10))\n",
    "print(get_total_page(15, 10))\n",
    "print(get_total_page(25, 10))\n",
    "print(get_total_page(35, 10))"
   ]
  },
  {
   "cell_type": "code",
   "execution_count": null,
   "id": "58f85dd1-8ece-4b28-8a77-ae047a594aef",
   "metadata": {},
   "outputs": [],
   "source": [
    "def get_total_page(m, n):\n",
    "    if m % n == 0:\n",
    "        return m / n\n",
    "    else:\n",
    "        return m // n + 1\n",
    "print(get_total_page(5, 10))\n",
    "print(get_total_page(15, 10))\n",
    "print(get_total_page(25, 10))\n",
    "print(get_total_page(35, 10))"
   ]
  }
 ],
 "metadata": {
  "kernelspec": {
   "display_name": "Python 3 (ipykernel)",
   "language": "python",
   "name": "python3"
  },
  "language_info": {
   "codemirror_mode": {
    "name": "ipython",
    "version": 3
   },
   "file_extension": ".py",
   "mimetype": "text/x-python",
   "name": "python",
   "nbconvert_exporter": "python",
   "pygments_lexer": "ipython3",
   "version": "3.13.1"
  }
 },
 "nbformat": 4,
 "nbformat_minor": 5
}
