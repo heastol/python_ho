{
 "cells": [
  {
   "cell_type": "markdown",
   "id": "2f3077a4-ed00-4456-8a93-54445726e9e9",
   "metadata": {},
   "source": [
    "# 함수"
   ]
  },
  {
   "cell_type": "code",
   "execution_count": 1,
   "id": "263abfdf-ef16-4e8e-a10c-6d9da83de809",
   "metadata": {},
   "outputs": [],
   "source": [
    "def 덧셈(a, b):\n",
    "    return a + b"
   ]
  },
  {
   "cell_type": "code",
   "execution_count": 3,
   "id": "23d5e9b1-c7ef-4326-a45a-a47c73339e7b",
   "metadata": {},
   "outputs": [
    {
     "name": "stdout",
     "output_type": "stream",
     "text": [
      "7\n"
     ]
    }
   ],
   "source": [
    "print(덧셈(3, 4))"
   ]
  },
  {
   "cell_type": "code",
   "execution_count": 6,
   "id": "9e7cb787-92a2-4fa3-a308-e1726cde4680",
   "metadata": {},
   "outputs": [],
   "source": [
    "import random\n",
    "def 로또(파라미터, 매개변수):\n",
    "    box = []\n",
    "    while len(box) < 6:\n",
    "        ran = random.randint(1, 매개변수)\n",
    "        if not ran in box:\n",
    "            box.append(ran)\n",
    "    box.sort()\n",
    "    print(box,len(box))"
   ]
  },
  {
   "cell_type": "code",
   "execution_count": 9,
   "id": "12e14ea5-d92a-4de7-b9a8-c026769c1ec5",
   "metadata": {},
   "outputs": [
    {
     "name": "stdout",
     "output_type": "stream",
     "text": [
      "[2, 8, 15, 28, 41, 46] 6\n",
      "[4, 16, 25, 33, 36, 44] 6\n",
      "[1, 16, 33, 38, 43, 45] 6\n",
      "[4, 30, 32, 37, 42, 43] 6\n",
      "[16, 17, 23, 36, 37, 46] 6\n"
     ]
    }
   ],
   "source": [
    "for n in range(5):\n",
    "    로또(10, 46)"
   ]
  },
  {
   "cell_type": "code",
   "execution_count": 23,
   "id": "8f9e72ba-b2ba-42de-b9f2-38f9748e5a5e",
   "metadata": {},
   "outputs": [
    {
     "name": "stdout",
     "output_type": "stream",
     "text": [
      "=====2단=====\n",
      "2 X 1 = 2\n",
      "2 X 2 = 4\n",
      "2 X 3 = 6\n",
      "2 X 4 = 8\n",
      "2 X 5 = 10\n",
      "2 X 6 = 12\n",
      "2 X 7 = 14\n",
      "2 X 8 = 16\n",
      "2 X 9 = 18\n",
      "\n"
     ]
    }
   ],
   "source": [
    "def gugu(end = 9):\n",
    "    data = ''\n",
    "    for i in range(2, end + 1):\n",
    "        print(f'====={i}단=====')\n",
    "        for j in range(1, 10):\n",
    "            data += (f'{i} X {j} = {i * j}') + '\\n'\n",
    "    return data\n",
    "print(gugu(2))"
   ]
  },
  {
   "cell_type": "markdown",
   "id": "200724fe-50f4-43d1-8499-e56b6c7f3e6b",
   "metadata": {},
   "source": [
    "## 입력값과 리턴값에 따른 함수의 형태"
   ]
  },
  {
   "cell_type": "markdown",
   "id": "3ceab64e-d0fe-4b83-9088-07671fe97c44",
   "metadata": {},
   "source": [
    "### 일반적인 함수"
   ]
  },
  {
   "cell_type": "code",
   "execution_count": 24,
   "id": "72a029ef-f1f9-42e8-88cc-c0c8cd03c8b6",
   "metadata": {},
   "outputs": [],
   "source": [
    "def add(a, b):\n",
    "    result = a + b\n",
    "    return result"
   ]
  },
  {
   "cell_type": "code",
   "execution_count": 26,
   "id": "01c0e4b0-9e0e-40b8-bde7-9b967177786e",
   "metadata": {},
   "outputs": [
    {
     "name": "stdout",
     "output_type": "stream",
     "text": [
      "87\n"
     ]
    }
   ],
   "source": [
    "a = add(77, 10)\n",
    "print(a)"
   ]
  },
  {
   "cell_type": "code",
   "execution_count": 27,
   "id": "ab1ff0f2-177c-4dd3-8e4e-8737eae94d61",
   "metadata": {},
   "outputs": [],
   "source": [
    "# 입력값이 없는 함수\n",
    "def say():\n",
    "    return '안녕'"
   ]
  },
  {
   "cell_type": "code",
   "execution_count": 28,
   "id": "9d0f8872-aacb-435d-96b6-b24b2e257cff",
   "metadata": {},
   "outputs": [
    {
     "name": "stdout",
     "output_type": "stream",
     "text": [
      "안녕\n"
     ]
    }
   ],
   "source": [
    "a = say()\n",
    "print(a)"
   ]
  },
  {
   "cell_type": "code",
   "execution_count": 29,
   "id": "9149a055-7609-4b92-9d31-769729cb2ab2",
   "metadata": {},
   "outputs": [],
   "source": [
    "# 리턴갑이 없는 함수\n",
    "def add(a, b):\n",
    "    print(\"%d, %d의 합은 %d 입니다.\" %(a, b, a + b))"
   ]
  },
  {
   "cell_type": "code",
   "execution_count": 30,
   "id": "cb6a8e15-a8aa-47f4-bdca-5ebb5c0fccbc",
   "metadata": {},
   "outputs": [
    {
     "name": "stdout",
     "output_type": "stream",
     "text": [
      "11, 33의 합은 44 입니다.\n"
     ]
    }
   ],
   "source": [
    "add(11, 33)"
   ]
  },
  {
   "cell_type": "code",
   "execution_count": 31,
   "id": "1a237b49-799e-4947-bc5a-56a87eb7d700",
   "metadata": {},
   "outputs": [],
   "source": [
    "# 입력값과 리턴값이 없는 함수\n",
    "def say():\n",
    "    print('안녕')\n",
    "    print('입력값과 리턴값이 없어요.')\n",
    "    print('빠이~')"
   ]
  },
  {
   "cell_type": "code",
   "execution_count": 32,
   "id": "98107904-69fa-476e-ae8b-faeb3ca35897",
   "metadata": {},
   "outputs": [
    {
     "name": "stdout",
     "output_type": "stream",
     "text": [
      "안녕\n",
      "입력값과 리턴값이 없어요.\n",
      "빠이~\n"
     ]
    }
   ],
   "source": [
    "say()"
   ]
  },
  {
   "cell_type": "code",
   "execution_count": 35,
   "id": "d56ced4c-feb3-4d9b-aa68-07832510f549",
   "metadata": {},
   "outputs": [],
   "source": [
    "# 테스트\n",
    "import time as t\n",
    "def disp():\n",
    "    print('안녕!\\r',end='')\n",
    "    t.sleep(1)\n",
    "    print('입력값과 리턴값이 없어요.\\r',end='')\n",
    "    t.sleep(2)\n",
    "    print('빠이~                       ',end='')\n",
    "    t.sleep(2)"
   ]
  },
  {
   "cell_type": "code",
   "execution_count": 36,
   "id": "c331cc29-7236-4065-9f26-e8a4d2c1c178",
   "metadata": {},
   "outputs": [
    {
     "name": "stdout",
     "output_type": "stream",
     "text": [
      "빠이~                       "
     ]
    }
   ],
   "source": [
    "disp()"
   ]
  },
  {
   "cell_type": "code",
   "execution_count": 38,
   "id": "7e2adf8d-2bc4-4278-b688-e773ef6dbcd3",
   "metadata": {},
   "outputs": [
    {
     "name": "stdout",
     "output_type": "stream",
     "text": [
      "44\n"
     ]
    }
   ],
   "source": [
    "# max() //\n",
    "def bs(li = [33, 11, 22, 44]):\n",
    "    sw = 0\n",
    "    for x in range(len(li)):\n",
    "        if sw < li[x]:\n",
    "            sw = li[x]\n",
    "    return sw\n",
    "print(bs())"
   ]
  },
  {
   "cell_type": "code",
   "execution_count": 39,
   "id": "05a10c08-5fd9-4f2b-a4ec-4b0dde444eac",
   "metadata": {},
   "outputs": [
    {
     "name": "stdout",
     "output_type": "stream",
     "text": [
      "176\n"
     ]
    }
   ],
   "source": [
    "print(bs([1, 21, 3, 41, 5, 16, 7, 18, 19, 115, 4, 3, 21, 1, 3, 4, 51, 176, 78, 3, 4]))"
   ]
  },
  {
   "cell_type": "code",
   "execution_count": 40,
   "id": "e487ed24-3d25-4a4b-b51b-490432bded6c",
   "metadata": {},
   "outputs": [],
   "source": [
    "# 매개변수를 지정하여 호출하기\n",
    "def sub(a, b):\n",
    "    return a - b"
   ]
  },
  {
   "cell_type": "code",
   "execution_count": 41,
   "id": "60f3f2a0-e01d-4a5a-9b90-aeabff1da89b",
   "metadata": {},
   "outputs": [
    {
     "name": "stdout",
     "output_type": "stream",
     "text": [
      "4\n",
      "4\n"
     ]
    }
   ],
   "source": [
    "result = sub(a = 7, b = 3)\n",
    "print(result)\n",
    "result = sub(b = 3, a = 7)\n",
    "print(result)"
   ]
  },
  {
   "cell_type": "code",
   "execution_count": 55,
   "id": "46f6d98a-abe6-4514-b9a2-bea5581aeeeb",
   "metadata": {},
   "outputs": [],
   "source": [
    "# !pip install matplotlib"
   ]
  },
  {
   "cell_type": "code",
   "execution_count": 71,
   "id": "e7d32975-c66a-423c-996b-b7b6555a72bd",
   "metadata": {},
   "outputs": [],
   "source": [
    "# 테스트 : 함수 random 주사위\n",
    "import random as r\n",
    "import matplotlib.pyplot as plt\n",
    "results = {}\n",
    "def dice(target = 250000):\n",
    "    box = []\n",
    "    num = 0\n",
    "    while num < target:\n",
    "        num = num + 1\n",
    "        ran = r.randint(1, 6)\n",
    "        box.append(ran)\n",
    "    if target == len(box):\n",
    "        print(f'{target}회 정상 진행되었습니다.')\n",
    "    else:\n",
    "        print(f'검증 결과 횟수 이상이 있습니다. 이유 : {target}회 목표로 동작하였으나, {len(box)}으로 측정되었습니다.')\n",
    "\n",
    "    for n in range(1, 7):\n",
    "        results[n] = box.count(n)\n",
    "        print(f'{n}번이 {box.count(n)}번({(box.count(n) / len(box)) * 100:.2f}%) 등장하였습니다.')\n",
    "    # print(results)\n",
    "    color = ['skyblue', 'orange', 'skyblue', 'orange', 'skyblue', 'orange']\n",
    "    plt.bar(results.keys(),results.values(), color = color)\n",
    "    plt.show()"
   ]
  },
  {
   "cell_type": "code",
   "execution_count": 72,
   "id": "00ab65e6-f00d-4205-b0fe-f0d8e1859eae",
   "metadata": {},
   "outputs": [
    {
     "name": "stdout",
     "output_type": "stream",
     "text": [
      "250000회 정상 진행되었습니다.\n",
      "1번이 41863번(16.75%) 등장하였습니다.\n",
      "2번이 41599번(16.64%) 등장하였습니다.\n",
      "3번이 41759번(16.70%) 등장하였습니다.\n",
      "4번이 41751번(16.70%) 등장하였습니다.\n",
      "5번이 41313번(16.53%) 등장하였습니다.\n",
      "6번이 41715번(16.69%) 등장하였습니다.\n"
     ]
    },
    {
     "data": {
      "image/png": "[encoded data removed]",
      "text/plain": [
       "<Figure size 640x480 with 1 Axes>"
      ]
     },
     "metadata": {},
     "output_type": "display_data"
    }
   ],
   "source": [
    "dice()"
   ]
  },
  {
   "cell_type": "code",
   "execution_count": 85,
   "id": "7cdf951b-1c10-4a90-8c36-c06dbf78acb1",
   "metadata": {},
   "outputs": [],
   "source": [
    "# 여러개의 입력값을 받는 함수 만들기\n",
    "def add_many(*args):\n",
    "    result = 0\n",
    "    for i in args:\n",
    "        result = result + i\n",
    "    return result"
   ]
  },
  {
   "cell_type": "code",
   "execution_count": 86,
   "id": "8e456b92-767f-4d89-a854-d813061fb65e",
   "metadata": {},
   "outputs": [
    {
     "name": "stdout",
     "output_type": "stream",
     "text": [
      "14\n"
     ]
    }
   ],
   "source": [
    "res = add_many(1, 4, 3, 1, 5)\n",
    "print(res)"
   ]
  },
  {
   "cell_type": "code",
   "execution_count": 93,
   "id": "04f08906-56ef-4228-9366-9b2934084957",
   "metadata": {},
   "outputs": [],
   "source": [
    "def add_mul(choice, *args):\n",
    "    if choice == 'add':\n",
    "        result = 0\n",
    "        for i in args:\n",
    "            result = result + i\n",
    "    elif choice == 'mul':\n",
    "        result = 1\n",
    "        for i in args:\n",
    "            result = result * i\n",
    "    elif choice == 'sub':\n",
    "        result = 2\n",
    "        for i in args:\n",
    "            result = result - i\n",
    "    elif choice == 'div':\n",
    "        result = 3\n",
    "        for i in args:\n",
    "            result = result / 3\n",
    "    else:\n",
    "        result = choice\n",
    "        print('정확하게 입력하세요')\n",
    "    return result"
   ]
  },
  {
   "cell_type": "code",
   "execution_count": 96,
   "id": "d66db9ce-b516-4c79-9e51-c88b4059af63",
   "metadata": {},
   "outputs": [
    {
     "name": "stdout",
     "output_type": "stream",
     "text": [
      "0.012345679012345678\n"
     ]
    }
   ],
   "source": [
    "result = add_mul('', 1, 2, 3, 4, 5)\n",
    "print(result)"
   ]
  },
  {
   "cell_type": "code",
   "execution_count": 108,
   "id": "be612cf8-bdad-427a-8dbc-6df3b8b45bd1",
   "metadata": {},
   "outputs": [
    {
     "ename": "TypeError",
     "evalue": "print_kwargs() takes 0 positional arguments but 1 was given",
     "output_type": "error",
     "traceback": [
      "\u001b[1;31m---------------------------------------------------------------------------\u001b[0m",
      "\u001b[1;31mTypeError\u001b[0m                                 Traceback (most recent call last)",
      "Cell \u001b[1;32mIn[108], line 4\u001b[0m\n\u001b[0;32m      2\u001b[0m \u001b[38;5;28;01mdef\u001b[39;00m\u001b[38;5;250m \u001b[39m\u001b[38;5;21mprint_kwargs\u001b[39m(\u001b[38;5;241m*\u001b[39m\u001b[38;5;241m*\u001b[39mkwargs):\n\u001b[0;32m      3\u001b[0m     \u001b[38;5;28mprint\u001b[39m(kwargs)\n\u001b[1;32m----> 4\u001b[0m \u001b[43mprint_kwargs\u001b[49m\u001b[43m(\u001b[49m\u001b[43m{\u001b[49m\u001b[38;5;124;43m'\u001b[39;49m\u001b[38;5;124;43mname\u001b[39;49m\u001b[38;5;124;43m'\u001b[39;49m\u001b[43m:\u001b[49m\u001b[38;5;124;43m'\u001b[39;49m\u001b[38;5;124;43m홍길동\u001b[39;49m\u001b[38;5;124;43m'\u001b[39;49m\u001b[43m,\u001b[49m\u001b[43m \u001b[49m\u001b[38;5;124;43m'\u001b[39;49m\u001b[38;5;124;43mage\u001b[39;49m\u001b[38;5;124;43m'\u001b[39;49m\u001b[43m:\u001b[49m\u001b[38;5;241;43m21\u001b[39;49m\u001b[43m,\u001b[49m\u001b[43m \u001b[49m\u001b[38;5;124;43m'\u001b[39;49m\u001b[38;5;124;43maddress\u001b[39;49m\u001b[38;5;124;43m'\u001b[39;49m\u001b[43m:\u001b[49m\u001b[38;5;124;43m'\u001b[39;49m\u001b[38;5;124;43m대한민국\u001b[39;49m\u001b[38;5;124;43m'\u001b[39;49m\u001b[43m}\u001b[49m\u001b[43m)\u001b[49m\n",
      "\u001b[1;31mTypeError\u001b[0m: print_kwargs() takes 0 positional arguments but 1 was given"
     ]
    }
   ],
   "source": [
    "# 키워드 매개변수 kwargs\n",
    "def print_kwargs(**kwargs):\n",
    "    print(kwargs)\n",
    "print_kwargs({'name':'홍길동', 'age':21, 'address':'대한민국'})"
   ]
  },
  {
   "cell_type": "code",
   "execution_count": 105,
   "id": "8d6d8f78-1148-46b9-a5be-38b8757cf46f",
   "metadata": {},
   "outputs": [
    {
     "name": "stdout",
     "output_type": "stream",
     "text": [
      "{'name': '홍길동', 'age': 21, 'address': '대한민국'}\n"
     ]
    }
   ],
   "source": [
    "def print_kwargs(**kwargs):\n",
    "    print(kwargs)\n",
    "print_kwargs(name = '홍길동', age = 21, address = '대한민국')"
   ]
  },
  {
   "cell_type": "code",
   "execution_count": 109,
   "id": "818fc0f6-7e3d-4745-9705-5f0abe51a3d9",
   "metadata": {},
   "outputs": [],
   "source": [
    "# test\n",
    "def test():\n",
    "    print('저야 영광이죠~!!')\n",
    "    if 13 > 4 : return\n",
    "    print('집에 가고싶어!~!')\n",
    "    return"
   ]
  },
  {
   "cell_type": "code",
   "execution_count": 110,
   "id": "294192ba-8b7e-400f-8a76-b313848227f8",
   "metadata": {},
   "outputs": [
    {
     "name": "stdout",
     "output_type": "stream",
     "text": [
      "저야 영광이죠~!!\n"
     ]
    }
   ],
   "source": [
    "test()"
   ]
  },
  {
   "cell_type": "code",
   "execution_count": 111,
   "id": "128d54c7-a74a-4f65-b010-c7227680de7c",
   "metadata": {},
   "outputs": [
    {
     "name": "stdout",
     "output_type": "stream",
     "text": [
      "35 286\n"
     ]
    }
   ],
   "source": [
    "# test2\n",
    "def test2(a, b):\n",
    "    return (a + b, a * b)\n",
    "add_result, mul_result = test2(13, 22)\n",
    "print(add_result, mul_result)"
   ]
  },
  {
   "cell_type": "code",
   "execution_count": null,
   "id": "a0737b17-6f2d-4a83-9bdc-ec3c63dca2b1",
   "metadata": {},
   "outputs": [],
   "source": [
    "def say_nick(nick):\n",
    "    if nick == '바보':\n",
    "        return\n",
    "    print('나의 별명은 %s 입니다.' %nick)\n",
    "\n",
    "say_nick('야호')"
   ]
  },
  {
   "cell_type": "markdown",
   "id": "351313b2-2128-4161-bede-5cf722090fad",
   "metadata": {},
   "source": [
    "## 함수 안에서 선언한 변수의 효력 범위"
   ]
  },
  {
   "cell_type": "code",
   "execution_count": null,
   "id": "c1f89185-3b45-4132-a234-a373f5b831dc",
   "metadata": {},
   "outputs": [],
   "source": [
    "# 테스트 1\n",
    "a = 1\n",
    "def test1(a):\n",
    "    a = a + 1\n",
    "test1(a)\n",
    "print(a)"
   ]
  },
  {
   "cell_type": "code",
   "execution_count": 2,
   "id": "8efeeba8-39d2-4f91-8fd8-abfc83a8c4c5",
   "metadata": {},
   "outputs": [
    {
     "ename": "NameError",
     "evalue": "name 'b' is not defined",
     "output_type": "error",
     "traceback": [
      "\u001b[1;31m---------------------------------------------------------------------------\u001b[0m",
      "\u001b[1;31mNameError\u001b[0m                                 Traceback (most recent call last)",
      "Cell \u001b[1;32mIn[2], line 5\u001b[0m\n\u001b[0;32m      3\u001b[0m     b \u001b[38;5;241m=\u001b[39m b \u001b[38;5;241m+\u001b[39m \u001b[38;5;241m1\u001b[39m\n\u001b[0;32m      4\u001b[0m test2(\u001b[38;5;241m3\u001b[39m)\n\u001b[1;32m----> 5\u001b[0m \u001b[38;5;28mprint\u001b[39m(\u001b[43mb\u001b[49m)\n",
      "\u001b[1;31mNameError\u001b[0m: name 'b' is not defined"
     ]
    }
   ],
   "source": [
    "# 테스트 2\n",
    "def test2(b):\n",
    "    b = b + 1\n",
    "test2(3)\n",
    "print(b)"
   ]
  },
  {
   "cell_type": "code",
   "execution_count": 3,
   "id": "880ca12e-0f69-4564-8b97-23103f812413",
   "metadata": {},
   "outputs": [
    {
     "name": "stdout",
     "output_type": "stream",
     "text": [
      "2\n"
     ]
    }
   ],
   "source": [
    "# 테스트 3\n",
    "c = 1\n",
    "def test2(c):\n",
    "    c = c + 1\n",
    "    return c\n",
    "c = test2(c) # c = c + 1\n",
    "print(c)"
   ]
  },
  {
   "cell_type": "code",
   "execution_count": 5,
   "id": "d6ce882d-06d2-4d94-9ead-11580991c701",
   "metadata": {},
   "outputs": [
    {
     "name": "stdout",
     "output_type": "stream",
     "text": [
      "2\n"
     ]
    }
   ],
   "source": [
    "# 테스트 4\n",
    "d = 1\n",
    "def test4():\n",
    "    global d\n",
    "    d = d + 1\n",
    "test4()\n",
    "print(d)"
   ]
  },
  {
   "cell_type": "markdown",
   "id": "daea0492-ca7f-4bb9-9efb-c8e7725b1c0c",
   "metadata": {},
   "source": [
    "## lambda 예약어 (익명함수)"
   ]
  },
  {
   "cell_type": "code",
   "execution_count": 7,
   "id": "130ec99f-c37b-470a-86f9-01bafd9b66a9",
   "metadata": {},
   "outputs": [
    {
     "name": "stdout",
     "output_type": "stream",
     "text": [
      "5\n"
     ]
    }
   ],
   "source": [
    "def test(a, b):\n",
    "    a + b\n",
    "add = lambda a, b: a + b\n",
    "print(add(1, 4))"
   ]
  },
  {
   "cell_type": "code",
   "execution_count": 8,
   "id": "c9748b66-c462-4d41-a56a-94be7a61b9d4",
   "metadata": {},
   "outputs": [
    {
     "name": "stdout",
     "output_type": "stream",
     "text": [
      "[0, 1, 2, 3, 4, 5, 6, 7, 8, 9]\n"
     ]
    }
   ],
   "source": [
    "a1 = [x for x in range(10)]\n",
    "print(a1)"
   ]
  },
  {
   "cell_type": "code",
   "execution_count": 9,
   "id": "3327a287-d610-4942-acbf-3644e6ac03ad",
   "metadata": {},
   "outputs": [
    {
     "name": "stdout",
     "output_type": "stream",
     "text": [
      "[0, 2, 4, 6, 8, 10, 12, 14, 16, 18]\n"
     ]
    }
   ],
   "source": [
    "a2 = [(lambda x : x * 2)(x) for x in range(10)]\n",
    "print(a2)"
   ]
  },
  {
   "cell_type": "code",
   "execution_count": 10,
   "id": "d7f2db6e-0d32-49d4-b8b9-120b5d0b9b6b",
   "metadata": {},
   "outputs": [
    {
     "name": "stdout",
     "output_type": "stream",
     "text": [
      "[0, 1, 4, 9, 16, 25, 36, 49, 64, 81]\n"
     ]
    }
   ],
   "source": [
    "# 응용예제\n",
    "a3 = [0, 1, 2, 3, 4, 5, 6, 7, 8, 9]\n",
    "p = list(map(lambda x : x**2, a3))\n",
    "print(p)"
   ]
  },
  {
   "cell_type": "markdown",
   "id": "7b983c7e-cb87-4f9d-90aa-49fd11c8fa12",
   "metadata": {},
   "source": [
    "# 파일 읽고 쓰기"
   ]
  },
  {
   "cell_type": "markdown",
   "id": "c8c5c3c7-5007-4886-bc96-981d7ce436d2",
   "metadata": {},
   "source": [
    "## 파일 생성하기"
   ]
  },
  {
   "cell_type": "code",
   "execution_count": 13,
   "id": "59ec2004-778a-464a-8206-155ec61b6ce1",
   "metadata": {},
   "outputs": [],
   "source": [
    "# 파일 생성하기\n",
    "f = open(\"새파일생성1.txt\",\"w\")\n",
    "f.close()"
   ]
  },
  {
   "cell_type": "markdown",
   "id": "a1c0187b-50ed-4747-9cbb-b8135053fd10",
   "metadata": {},
   "source": [
    "<table style = \"float:left\">\n",
    "<thead>\n",
    "<tr>\n",
    "<th>파일열기모드</th>\n",
    "<th>설명</th>\n",
    "</tr>\n",
    "</thead>\n",
    "<tbody>\n",
    "<tr>\n",
    "<td>r</td>\n",
    "<td>읽기 모드: 파일을 읽기만 할 때 사용한다.</td>\n",
    "</tr>\n",
    "<tr>\n",
    "<td>w</td>\n",
    "<td>쓰기 모드: 파일에 내용을 쓸 때 사용한다.</td>\n",
    "</tr>\n",
    "<tr>\n",
    "<td>a</td>\n",
    "<td>추가 모드: 파일의 마지막에 새로운 내용을 추가할 때 사용한다.</td>\n",
    "</tr>\n",
    "</tbody>\n",
    "</table>"
   ]
  },
  {
   "cell_type": "code",
   "execution_count": 2,
   "id": "13d0f4ad-1d76-4c22-960b-57730b2b669f",
   "metadata": {},
   "outputs": [],
   "source": [
    "# 파일 생성하기2 + 경로\n",
    "path = \"./testfile/\"\n",
    "f = open(path + \"새파일생성2.txt\", \"w\")\n",
    "f.close()"
   ]
  },
  {
   "cell_type": "code",
   "execution_count": 1,
   "id": "380fcf4a-ced3-44ba-bc1a-00625742591f",
   "metadata": {},
   "outputs": [],
   "source": [
    "# 파일을 쓰기 모드로 열어 내용 쓰기\n",
    "path = \"./testfile/\"\n",
    "f = open(path + \"새파일생성3.txt\", \"w\", encoding = \"utf-8\")\n",
    "f.write(\"한글도 잘돼요!!!\")\n",
    "f.close()"
   ]
  },
  {
   "cell_type": "code",
   "execution_count": 79,
   "id": "803ce6a5-03d8-468e-a405-e3e6f29f7ad5",
   "metadata": {},
   "outputs": [],
   "source": [
    "import random\n",
    "la = []\n",
    "n = 1000\n",
    "for i in range(n):\n",
    "    lotto = sorted(random.sample(range(1, 46), 6))\n",
    "    la.append(lotto)\n",
    "path = \"./testfile/\"\n",
    "f = open(path + \"새파일생성3.txt\", \"w\", encoding = \"utf-8\")\n",
    "f.write(f'{la}\\n')\n",
    "f.close()"
   ]
  },
  {
   "cell_type": "code",
   "execution_count": 80,
   "id": "744dc362-d783-41c0-bc48-89d96742e2b8",
   "metadata": {},
   "outputs": [
    {
     "name": "stdin",
     "output_type": "stream",
     "text": [
      "작성하고 싶은 내용 1\n",
      "작성하고 싶은 내용 2\n",
      "작성하고 싶은 내용 3\n",
      "작성하고 싶은 내용 4\n",
      "작성하고 싶은 내용 5\n",
      "작성하고 싶은 내용 그만\n"
     ]
    }
   ],
   "source": [
    "path = \"./testfile/\"\n",
    "f = open(path + \"새파일생성5.txt\", \"w\", encoding = \"utf-8\")\n",
    "while 1:\n",
    "    inp = input(\"작성하고 싶은 내용\")\n",
    "    if inp == '그만': break\n",
    "    f.write(inp + '\\n')\n",
    "f.close()"
   ]
  },
  {
   "cell_type": "code",
   "execution_count": 82,
   "id": "4588f43d-1bea-4eb6-a856-ef6573e69b82",
   "metadata": {},
   "outputs": [],
   "source": [
    "def diary(name):\n",
    "    path = \"./testfile/\"\n",
    "    f = open(path + name + \".txt\", \"w\", encoding = \"utf-8\")\n",
    "    while 1:\n",
    "        inp = input(\"작성하고 싶은 내용\")\n",
    "        if inp == \"그만\": break\n",
    "        f.write(inp + '\\n')\n",
    "    f.close()"
   ]
  },
  {
   "cell_type": "code",
   "execution_count": 84,
   "id": "40c595a6-f319-4ef2-8ab3-ad5c201b24c4",
   "metadata": {},
   "outputs": [
    {
     "name": "stdin",
     "output_type": "stream",
     "text": [
      "작성하고 싶은 내용 날씨 추움\n",
      "작성하고 싶은 내용 춥고\n",
      "작성하고 싶은 내용 춥다\n",
      "작성하고 싶은 내용 그만\n"
     ]
    }
   ],
   "source": [
    "diary('20250201일기')"
   ]
  },
  {
   "cell_type": "markdown",
   "id": "c3006f8b-d063-4149-951b-a4f4d3f4745b",
   "metadata": {},
   "source": [
    "## 파일을 읽는 방법"
   ]
  },
  {
   "cell_type": "code",
   "execution_count": 72,
   "id": "e0a454c8-6292-4850-9e37-a1971141adeb",
   "metadata": {},
   "outputs": [],
   "source": [
    "path = \"./testfile/\"\n",
    "f = open(path + \"새파일생성4.txt\", \"w\", encoding = \"utf-8\")\n",
    "for n in range(10):\n",
    "    f.write(f'{n + 1}번째 한글도 잘돼요!!!\\n')\n",
    "f.close()"
   ]
  },
  {
   "cell_type": "code",
   "execution_count": 77,
   "id": "3b3b60a3-0dd7-4e47-bbe4-077b4c016d05",
   "metadata": {},
   "outputs": [
    {
     "name": "stdout",
     "output_type": "stream",
     "text": [
      "1번째 한글도 잘돼요!!!\n",
      "\n",
      "2번째 한글도 잘돼요!!!\n",
      "\n"
     ]
    }
   ],
   "source": [
    "# readline\n",
    "f = open(path + \"새파일생성4.txt\", \"r\", encoding = \"utf-8\")\n",
    "line = f.readline()\n",
    "print(line)\n",
    "line = f.readline()\n",
    "print(line)\n",
    "f.close()"
   ]
  },
  {
   "cell_type": "code",
   "execution_count": 78,
   "id": "b079cfdc-0785-4de8-bbd2-7773c0493743",
   "metadata": {},
   "outputs": [
    {
     "name": "stdout",
     "output_type": "stream",
     "text": [
      "1번째 한글도 잘돼요!!!\n",
      "\n",
      "2번째 한글도 잘돼요!!!\n",
      "\n",
      "3번째 한글도 잘돼요!!!\n",
      "\n",
      "4번째 한글도 잘돼요!!!\n",
      "\n",
      "5번째 한글도 잘돼요!!!\n",
      "\n",
      "6번째 한글도 잘돼요!!!\n",
      "\n",
      "7번째 한글도 잘돼요!!!\n",
      "\n",
      "8번째 한글도 잘돼요!!!\n",
      "\n",
      "9번째 한글도 잘돼요!!!\n",
      "\n",
      "10번째 한글도 잘돼요!!!\n",
      "\n"
     ]
    }
   ],
   "source": [
    "f = open(path + \"새파일생성4.txt\", \"r\", encoding = \"utf-8\")\n",
    "while 1:\n",
    "    line = f.readline()\n",
    "    if not line: break\n",
    "    print(line)\n",
    "f.close()"
   ]
  },
  {
   "cell_type": "code",
   "execution_count": 87,
   "id": "012ae740-f592-462b-ad5d-424e44331e1c",
   "metadata": {},
   "outputs": [
    {
     "name": "stdout",
     "output_type": "stream",
     "text": [
      "1번째 한글도 잘돼요!!!\n",
      "2번째 한글도 잘돼요!!!\n",
      "3번째 한글도 잘돼요!!!\n",
      "4번째 한글도 잘돼요!!!\n",
      "5번째 한글도 잘돼요!!!\n",
      "6번째 한글도 잘돼요!!!\n",
      "7번째 한글도 잘돼요!!!\n",
      "8번째 한글도 잘돼요!!!\n",
      "9번째 한글도 잘돼요!!!\n",
      "10번째 한글도 잘돼요!!!\n"
     ]
    }
   ],
   "source": [
    "# readlines\n",
    "path = \"./testfile/\"\n",
    "f = open(path + \"새파일생성4.txt\", \"r\", encoding = \"utf-8\")\n",
    "lines = f.readlines()\n",
    "#print(lines)\n",
    "for n in lines:\n",
    "    print(n,end='')\n",
    "f.close()"
   ]
  },
  {
   "cell_type": "code",
   "execution_count": 89,
   "id": "e2c96a9e-8c6f-45ab-b2bf-f965896227da",
   "metadata": {},
   "outputs": [
    {
     "name": "stdout",
     "output_type": "stream",
     "text": [
      "['1', '번', '째', ' ', '한', '글', '도', ' ', '잘', '돼', '요', '!', '!', '!', '\\n']\n",
      "['1', '번', '째', ' ', '한', '글', '도', ' ', '잘', '돼', '요', '!', '!', '!']\n",
      "['2', '번', '째', ' ', '한', '글', '도', ' ', '잘', '돼', '요', '!', '!', '!', '\\n']\n",
      "['2', '번', '째', ' ', '한', '글', '도', ' ', '잘', '돼', '요', '!', '!', '!']\n",
      "['3', '번', '째', ' ', '한', '글', '도', ' ', '잘', '돼', '요', '!', '!', '!', '\\n']\n",
      "['3', '번', '째', ' ', '한', '글', '도', ' ', '잘', '돼', '요', '!', '!', '!']\n",
      "['4', '번', '째', ' ', '한', '글', '도', ' ', '잘', '돼', '요', '!', '!', '!', '\\n']\n",
      "['4', '번', '째', ' ', '한', '글', '도', ' ', '잘', '돼', '요', '!', '!', '!']\n",
      "['5', '번', '째', ' ', '한', '글', '도', ' ', '잘', '돼', '요', '!', '!', '!', '\\n']\n",
      "['5', '번', '째', ' ', '한', '글', '도', ' ', '잘', '돼', '요', '!', '!', '!']\n",
      "['6', '번', '째', ' ', '한', '글', '도', ' ', '잘', '돼', '요', '!', '!', '!', '\\n']\n",
      "['6', '번', '째', ' ', '한', '글', '도', ' ', '잘', '돼', '요', '!', '!', '!']\n",
      "['7', '번', '째', ' ', '한', '글', '도', ' ', '잘', '돼', '요', '!', '!', '!', '\\n']\n",
      "['7', '번', '째', ' ', '한', '글', '도', ' ', '잘', '돼', '요', '!', '!', '!']\n",
      "['8', '번', '째', ' ', '한', '글', '도', ' ', '잘', '돼', '요', '!', '!', '!', '\\n']\n",
      "['8', '번', '째', ' ', '한', '글', '도', ' ', '잘', '돼', '요', '!', '!', '!']\n",
      "['9', '번', '째', ' ', '한', '글', '도', ' ', '잘', '돼', '요', '!', '!', '!', '\\n']\n",
      "['9', '번', '째', ' ', '한', '글', '도', ' ', '잘', '돼', '요', '!', '!', '!']\n",
      "['1', '0', '번', '째', ' ', '한', '글', '도', ' ', '잘', '돼', '요', '!', '!', '!', '\\n']\n",
      "['1', '0', '번', '째', ' ', '한', '글', '도', ' ', '잘', '돼', '요', '!', '!', '!']\n"
     ]
    }
   ],
   "source": [
    "# readlines + strip()\n",
    "path = \"./testfile/\"\n",
    "f = open(path + \"새파일생성4.txt\", \"r\", encoding = \"utf-8\")\n",
    "lines = f.readlines()\n",
    "#print(lines)\n",
    "for n in lines:\n",
    "    print(list(n))\n",
    "    n = n.strip()\n",
    "    print(list(n))\n",
    "f.close()"
   ]
  },
  {
   "cell_type": "code",
   "execution_count": 92,
   "id": "c9dcaba9-a6ae-4dbb-9025-23ceb3d3c16d",
   "metadata": {},
   "outputs": [],
   "source": [
    "# 테스트\n",
    "f = open(\"파일이름.txt\", \"w\")\n",
    "f.write('내용작성 12345612 124532')\n",
    "f.close()"
   ]
  },
  {
   "cell_type": "code",
   "execution_count": 93,
   "id": "b6ca1e17-5bfa-44c6-9ab1-f70a6714c677",
   "metadata": {},
   "outputs": [
    {
     "name": "stdout",
     "output_type": "stream",
     "text": [
      "1번째 한글도 잘돼요!!!\n",
      "2번째 한글도 잘돼요!!!\n",
      "3번째 한글도 잘돼요!!!\n",
      "4번째 한글도 잘돼요!!!\n",
      "5번째 한글도 잘돼요!!!\n",
      "6번째 한글도 잘돼요!!!\n",
      "7번째 한글도 잘돼요!!!\n",
      "8번째 한글도 잘돼요!!!\n",
      "9번째 한글도 잘돼요!!!\n",
      "10번째 한글도 잘돼요!!!\n",
      "\n"
     ]
    }
   ],
   "source": [
    "# read 함수 사용하기\n",
    "path = \"./testfile/\"\n",
    "f = open(path + \"새파일생성4.txt\", \"r\", encoding = \"utf-8\")\n",
    "data = f.read()\n",
    "print(data)\n",
    "f.close()"
   ]
  },
  {
   "cell_type": "code",
   "execution_count": 95,
   "id": "1340a7f1-8aec-4629-b7e9-cfaad4d3eaa3",
   "metadata": {},
   "outputs": [
    {
     "name": "stdout",
     "output_type": "stream",
     "text": [
      "1번째 한글도 잘돼요!!!\n",
      "\n",
      "2번째 한글도 잘돼요!!!\n",
      "\n",
      "3번째 한글도 잘돼요!!!\n",
      "\n",
      "4번째 한글도 잘돼요!!!\n",
      "\n",
      "5번째 한글도 잘돼요!!!\n",
      "\n",
      "6번째 한글도 잘돼요!!!\n",
      "\n",
      "7번째 한글도 잘돼요!!!\n",
      "\n",
      "8번째 한글도 잘돼요!!!\n",
      "\n",
      "9번째 한글도 잘돼요!!!\n",
      "\n",
      "10번째 한글도 잘돼요!!!\n",
      "\n"
     ]
    }
   ],
   "source": [
    "# for로 출력하기\n",
    "path = \"./testfile/\"\n",
    "f = open(path + \"새파일생성4.txt\", \"r\", encoding = \"utf-8\")\n",
    "for line in f:\n",
    "    print(line)\n",
    "f.close()"
   ]
  },
  {
   "cell_type": "code",
   "execution_count": 96,
   "id": "0dc477e4-f0f9-4021-a648-c03966b6e7a4",
   "metadata": {},
   "outputs": [
    {
     "name": "stdout",
     "output_type": "stream",
     "text": [
      "1번째 한글도 잘돼요!!!\n",
      "\n",
      "2번째 한글도 잘돼요!!!\n",
      "\n",
      "3번째 한글도 잘돼요!!!\n",
      "\n",
      "4번째 한글도 잘돼요!!!\n",
      "\n",
      "5번째 한글도 잘돼요!!!\n",
      "\n",
      "6번째 한글도 잘돼요!!!\n",
      "\n",
      "7번째 한글도 잘돼요!!!\n",
      "\n",
      "8번째 한글도 잘돼요!!!\n",
      "\n",
      "9번째 한글도 잘돼요!!!\n",
      "\n",
      "10번째 한글도 잘돼요!!!\n",
      "\n"
     ]
    }
   ],
   "source": [
    "# with로 저장\n",
    "path = \"./testfile/\"\n",
    "with open(path + \"새파일생성4.txt\", \"r\", encoding = \"utf-8\") as f:\n",
    "    for line in f:\n",
    "        print(line)"
   ]
  },
  {
   "cell_type": "code",
   "execution_count": 98,
   "id": "d0a85a0d-ee29-4a1e-9269-9896a8c7cfdb",
   "metadata": {},
   "outputs": [],
   "source": [
    "# \"foo + bar\"\n",
    "with open(\"foo.txt\", \"w\") as f:\n",
    "    f.write(\"Life is too short, you need python\")"
   ]
  },
  {
   "cell_type": "markdown",
   "id": "7895a9c8-71b7-4f9f-b705-bc9de4537435",
   "metadata": {},
   "source": [
    "## 프로그램의 입출력"
   ]
  },
  {
   "cell_type": "code",
   "execution_count": 100,
   "id": "ad39d492-3735-4176-b3a3-af738f4810b4",
   "metadata": {},
   "outputs": [
    {
     "name": "stdout",
     "output_type": "stream",
     "text": [
      "C:\\Dev\\Lang\\Python313\\Lib\\site-packages\\ipykernel_launcher.py\n",
      "-f\n",
      "C:\\Users\\Admin\\AppData\\Roaming\\jupyter\\runtime\\kernel-ae61429b-aa8d-484b-acf0-6e9c3a900a6a.json\n"
     ]
    }
   ],
   "source": [
    "import sys\n",
    "args = sys.argv\n",
    "for i in args:\n",
    "    print(i)"
   ]
  },
  {
   "cell_type": "code",
   "execution_count": 17,
   "id": "b2a505dc-5f12-4351-81f0-486d25f362d2",
   "metadata": {},
   "outputs": [
    {
     "name": "stdout",
     "output_type": "stream",
     "text": [
      "19\n",
      "삼성전자 : 55,700원\n",
      "17\n",
      "기아 : 93,800원\n"
     ]
    }
   ],
   "source": [
    "import requests as req\n",
    "url = \"https://finance.naver.com/sise/sise_market_sum.naver\"\n",
    "web = req.get(url)\n",
    "html = web.text\n",
    "#print(html)\n",
    "f1 = html.find('삼성전자')\n",
    "print(html[f1 : f1 + 100].find('<td class=\"number\">'))\n",
    "print('삼성전자 : ' + html[f1 : f1 + 100][19:50].replace('<td class=\"number\">',\"\").replace('</td>',\"\").replace('\\n',\"\") + '원')\n",
    "f2 = html.find('기아')\n",
    "print(html[f2 : f2 + 100].find('<td class=\"number\">'))\n",
    "print('기아 : ' + html[f2 : f2 + 100][17:50].replace('<td class=\"number\">',\"\").replace('</td>',\"\").replace('\\n',\"\").replace('\\t',\"\") + '원')\n",
    "#print(html[f1 + 38 : f1 + 44])\n",
    "#print(html[f2 + 36 : f2 + 42])"
   ]
  },
  {
   "cell_type": "code",
   "execution_count": null,
   "id": "bbbbef16-3778-4e4b-87d6-16ecc578ff60",
   "metadata": {},
   "outputs": [],
   "source": []
  }
 ],
 "metadata": {
  "kernelspec": {
   "display_name": "Python 3 (ipykernel)",
   "language": "python",
   "name": "python3"
  },
  "language_info": {
   "codemirror_mode": {
    "name": "ipython",
    "version": 3
   },
   "file_extension": ".py",
   "mimetype": "text/x-python",
   "name": "python",
   "nbconvert_exporter": "python",
   "pygments_lexer": "ipython3",
   "version": "3.13.1"
  }
 },
 "nbformat": 4,
 "nbformat_minor": 5
}
