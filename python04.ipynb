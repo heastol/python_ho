{
 "cells": [
  {
   "cell_type": "markdown",
   "id": "2f3077a4-ed00-4456-8a93-54445726e9e9",
   "metadata": {},
   "source": [
    "# 함수"
   ]
  },
  {
   "cell_type": "code",
   "execution_count": 1,
   "id": "263abfdf-ef16-4e8e-a10c-6d9da83de809",
   "metadata": {},
   "outputs": [],
   "source": [
    "def 덧셈(a, b):\n",
    "    return a + b"
   ]
  },
  {
   "cell_type": "code",
   "execution_count": 3,
   "id": "23d5e9b1-c7ef-4326-a45a-a47c73339e7b",
   "metadata": {},
   "outputs": [
    {
     "name": "stdout",
     "output_type": "stream",
     "text": [
      "7\n"
     ]
    }
   ],
   "source": [
    "print(덧셈(3, 4))"
   ]
  },
  {
   "cell_type": "code",
   "execution_count": 6,
   "id": "9e7cb787-92a2-4fa3-a308-e1726cde4680",
   "metadata": {},
   "outputs": [],
   "source": [
    "import random\n",
    "def 로또(파라미터, 매개변수):\n",
    "    box = []\n",
    "    while len(box) < 6:\n",
    "        ran = random.randint(1, 매개변수)\n",
    "        if not ran in box:\n",
    "            box.append(ran)\n",
    "    box.sort()\n",
    "    print(box,len(box))"
   ]
  },
  {
   "cell_type": "code",
   "execution_count": 9,
   "id": "12e14ea5-d92a-4de7-b9a8-c026769c1ec5",
   "metadata": {},
   "outputs": [
    {
     "name": "stdout",
     "output_type": "stream",
     "text": [
      "[2, 8, 15, 28, 41, 46] 6\n",
      "[4, 16, 25, 33, 36, 44] 6\n",
      "[1, 16, 33, 38, 43, 45] 6\n",
      "[4, 30, 32, 37, 42, 43] 6\n",
      "[16, 17, 23, 36, 37, 46] 6\n"
     ]
    }
   ],
   "source": [
    "for n in range(5):\n",
    "    로또(10, 46)"
   ]
  },
  {
   "cell_type": "code",
   "execution_count": 23,
   "id": "8f9e72ba-b2ba-42de-b9f2-38f9748e5a5e",
   "metadata": {},
   "outputs": [
    {
     "name": "stdout",
     "output_type": "stream",
     "text": [
      "=====2단=====\n",
      "2 X 1 = 2\n",
      "2 X 2 = 4\n",
      "2 X 3 = 6\n",
      "2 X 4 = 8\n",
      "2 X 5 = 10\n",
      "2 X 6 = 12\n",
      "2 X 7 = 14\n",
      "2 X 8 = 16\n",
      "2 X 9 = 18\n",
      "\n"
     ]
    }
   ],
   "source": [
    "def gugu(end = 9):\n",
    "    data = ''\n",
    "    for i in range(2, end + 1):\n",
    "        print(f'====={i}단=====')\n",
    "        for j in range(1, 10):\n",
    "            data += (f'{i} X {j} = {i * j}') + '\\n'\n",
    "    return data\n",
    "print(gugu(2))"
   ]
  },
  {
   "cell_type": "markdown",
   "id": "200724fe-50f4-43d1-8499-e56b6c7f3e6b",
   "metadata": {},
   "source": [
    "## 입력값과 리턴값에 따른 함수의 형태"
   ]
  },
  {
   "cell_type": "markdown",
   "id": "3ceab64e-d0fe-4b83-9088-07671fe97c44",
   "metadata": {},
   "source": [
    "### 일반적인 함수"
   ]
  },
  {
   "cell_type": "code",
   "execution_count": 24,
   "id": "72a029ef-f1f9-42e8-88cc-c0c8cd03c8b6",
   "metadata": {},
   "outputs": [],
   "source": [
    "def add(a, b):\n",
    "    result = a + b\n",
    "    return result"
   ]
  },
  {
   "cell_type": "code",
   "execution_count": 26,
   "id": "01c0e4b0-9e0e-40b8-bde7-9b967177786e",
   "metadata": {},
   "outputs": [
    {
     "name": "stdout",
     "output_type": "stream",
     "text": [
      "87\n"
     ]
    }
   ],
   "source": [
    "a = add(77, 10)\n",
    "print(a)"
   ]
  },
  {
   "cell_type": "code",
   "execution_count": 27,
   "id": "ab1ff0f2-177c-4dd3-8e4e-8737eae94d61",
   "metadata": {},
   "outputs": [],
   "source": [
    "# 입력값이 없는 함수\n",
    "def say():\n",
    "    return '안녕'"
   ]
  },
  {
   "cell_type": "code",
   "execution_count": 28,
   "id": "9d0f8872-aacb-435d-96b6-b24b2e257cff",
   "metadata": {},
   "outputs": [
    {
     "name": "stdout",
     "output_type": "stream",
     "text": [
      "안녕\n"
     ]
    }
   ],
   "source": [
    "a = say()\n",
    "print(a)"
   ]
  },
  {
   "cell_type": "code",
   "execution_count": 29,
   "id": "9149a055-7609-4b92-9d31-769729cb2ab2",
   "metadata": {},
   "outputs": [],
   "source": [
    "# 리턴갑이 없는 함수\n",
    "def add(a, b):\n",
    "    print(\"%d, %d의 합은 %d 입니다.\" %(a, b, a + b))"
   ]
  },
  {
   "cell_type": "code",
   "execution_count": 30,
   "id": "cb6a8e15-a8aa-47f4-bdca-5ebb5c0fccbc",
   "metadata": {},
   "outputs": [
    {
     "name": "stdout",
     "output_type": "stream",
     "text": [
      "11, 33의 합은 44 입니다.\n"
     ]
    }
   ],
   "source": [
    "add(11, 33)"
   ]
  },
  {
   "cell_type": "code",
   "execution_count": 31,
   "id": "1a237b49-799e-4947-bc5a-56a87eb7d700",
   "metadata": {},
   "outputs": [],
   "source": [
    "# 입력값과 리턴값이 없는 함수\n",
    "def say():\n",
    "    print('안녕')\n",
    "    print('입력값과 리턴값이 없어요.')\n",
    "    print('빠이~')"
   ]
  },
  {
   "cell_type": "code",
   "execution_count": 32,
   "id": "98107904-69fa-476e-ae8b-faeb3ca35897",
   "metadata": {},
   "outputs": [
    {
     "name": "stdout",
     "output_type": "stream",
     "text": [
      "안녕\n",
      "입력값과 리턴값이 없어요.\n",
      "빠이~\n"
     ]
    }
   ],
   "source": [
    "say()"
   ]
  },
  {
   "cell_type": "code",
   "execution_count": 35,
   "id": "d56ced4c-feb3-4d9b-aa68-07832510f549",
   "metadata": {},
   "outputs": [],
   "source": [
    "# 테스트\n",
    "import time as t\n",
    "def disp():\n",
    "    print('안녕!\\r',end='')\n",
    "    t.sleep(1)\n",
    "    print('입력값과 리턴값이 없어요.\\r',end='')\n",
    "    t.sleep(2)\n",
    "    print('빠이~                       ',end='')\n",
    "    t.sleep(2)"
   ]
  },
  {
   "cell_type": "code",
   "execution_count": 36,
   "id": "c331cc29-7236-4065-9f26-e8a4d2c1c178",
   "metadata": {},
   "outputs": [
    {
     "name": "stdout",
     "output_type": "stream",
     "text": [
      "빠이~                       "
     ]
    }
   ],
   "source": [
    "disp()"
   ]
  },
  {
   "cell_type": "code",
   "execution_count": 38,
   "id": "7e2adf8d-2bc4-4278-b688-e773ef6dbcd3",
   "metadata": {},
   "outputs": [
    {
     "name": "stdout",
     "output_type": "stream",
     "text": [
      "44\n"
     ]
    }
   ],
   "source": [
    "# max() //\n",
    "def bs(li = [33, 11, 22, 44]):\n",
    "    sw = 0\n",
    "    for x in range(len(li)):\n",
    "        if sw < li[x]:\n",
    "            sw = li[x]\n",
    "    return sw\n",
    "print(bs())"
   ]
  },
  {
   "cell_type": "code",
   "execution_count": 39,
   "id": "05a10c08-5fd9-4f2b-a4ec-4b0dde444eac",
   "metadata": {},
   "outputs": [
    {
     "name": "stdout",
     "output_type": "stream",
     "text": [
      "176\n"
     ]
    }
   ],
   "source": [
    "print(bs([1, 21, 3, 41, 5, 16, 7, 18, 19, 115, 4, 3, 21, 1, 3, 4, 51, 176, 78, 3, 4]))"
   ]
  },
  {
   "cell_type": "code",
   "execution_count": 40,
   "id": "e487ed24-3d25-4a4b-b51b-490432bded6c",
   "metadata": {},
   "outputs": [],
   "source": [
    "# 매개변수를 지정하여 호출하기\n",
    "def sub(a, b):\n",
    "    return a - b"
   ]
  },
  {
   "cell_type": "code",
   "execution_count": 41,
   "id": "60f3f2a0-e01d-4a5a-9b90-aeabff1da89b",
   "metadata": {},
   "outputs": [
    {
     "name": "stdout",
     "output_type": "stream",
     "text": [
      "4\n",
      "4\n"
     ]
    }
   ],
   "source": [
    "result = sub(a = 7, b = 3)\n",
    "print(result)\n",
    "result = sub(b = 3, a = 7)\n",
    "print(result)"
   ]
  },
  {
   "cell_type": "code",
   "execution_count": 55,
   "id": "46f6d98a-abe6-4514-b9a2-bea5581aeeeb",
   "metadata": {},
   "outputs": [],
   "source": [
    "# !pip install matplotlib"
   ]
  },
  {
   "cell_type": "code",
   "execution_count": 71,
   "id": "e7d32975-c66a-423c-996b-b7b6555a72bd",
   "metadata": {},
   "outputs": [],
   "source": [
    "# 테스트 : 함수 random 주사위\n",
    "import random as r\n",
    "import matplotlib.pyplot as plt\n",
    "results = {}\n",
    "def dice(target = 250000):\n",
    "    box = []\n",
    "    num = 0\n",
    "    while num < target:\n",
    "        num = num + 1\n",
    "        ran = r.randint(1, 6)\n",
    "        box.append(ran)\n",
    "    if target == len(box):\n",
    "        print(f'{target}회 정상 진행되었습니다.')\n",
    "    else:\n",
    "        print(f'검증 결과 횟수 이상이 있습니다. 이유 : {target}회 목표로 동작하였으나, {len(box)}으로 측정되었습니다.')\n",
    "\n",
    "    for n in range(1, 7):\n",
    "        results[n] = box.count(n)\n",
    "        print(f'{n}번이 {box.count(n)}번({(box.count(n) / len(box)) * 100:.2f}%) 등장하였습니다.')\n",
    "    # print(results)\n",
    "    color = ['skyblue', 'orange', 'skyblue', 'orange', 'skyblue', 'orange']\n",
    "    plt.bar(results.keys(),results.values(), color = color)\n",
    "    plt.show()"
   ]
  },
  {
   "cell_type": "code",
   "execution_count": 72,
   "id": "00ab65e6-f00d-4205-b0fe-f0d8e1859eae",
   "metadata": {},
   "outputs": [
    {
     "name": "stdout",
     "output_type": "stream",
     "text": [
      "250000회 정상 진행되었습니다.\n",
      "1번이 41863번(16.75%) 등장하였습니다.\n",
      "2번이 41599번(16.64%) 등장하였습니다.\n",
      "3번이 41759번(16.70%) 등장하였습니다.\n",
      "4번이 41751번(16.70%) 등장하였습니다.\n",
      "5번이 41313번(16.53%) 등장하였습니다.\n",
      "6번이 41715번(16.69%) 등장하였습니다.\n"
     ]
    },
    {
     "data": {
      "image/png": "[encoded data removed]",
      "text/plain": [
       "<Figure size 640x480 with 1 Axes>"
      ]
     },
     "metadata": {},
     "output_type": "display_data"
    }
   ],
   "source": [
    "dice()"
   ]
  },
  {
   "cell_type": "code",
   "execution_count": 85,
   "id": "7cdf951b-1c10-4a90-8c36-c06dbf78acb1",
   "metadata": {},
   "outputs": [],
   "source": [
    "# 여러개의 입력값을 받는 함수 만들기\n",
    "def add_many(*args):\n",
    "    result = 0\n",
    "    for i in args:\n",
    "        result = result + i\n",
    "    return result"
   ]
  },
  {
   "cell_type": "code",
   "execution_count": 86,
   "id": "8e456b92-767f-4d89-a854-d813061fb65e",
   "metadata": {},
   "outputs": [
    {
     "name": "stdout",
     "output_type": "stream",
     "text": [
      "14\n"
     ]
    }
   ],
   "source": [
    "res = add_many(1, 4, 3, 1, 5)\n",
    "print(res)"
   ]
  },
  {
   "cell_type": "code",
   "execution_count": 93,
   "id": "04f08906-56ef-4228-9366-9b2934084957",
   "metadata": {},
   "outputs": [],
   "source": [
    "def add_mul(choice, *args):\n",
    "    if choice == 'add':\n",
    "        result = 0\n",
    "        for i in args:\n",
    "            result = result + i\n",
    "    elif choice == 'mul':\n",
    "        result = 1\n",
    "        for i in args:\n",
    "            result = result * i\n",
    "    elif choice == 'sub':\n",
    "        result = 2\n",
    "        for i in args:\n",
    "            result = result - i\n",
    "    elif choice == 'div':\n",
    "        result = 3\n",
    "        for i in args:\n",
    "            result = result / 3\n",
    "    else:\n",
    "        result = choice\n",
    "        print('정확하게 입력하세요')\n",
    "    return result"
   ]
  },
  {
   "cell_type": "code",
   "execution_count": 96,
   "id": "d66db9ce-b516-4c79-9e51-c88b4059af63",
   "metadata": {},
   "outputs": [
    {
     "name": "stdout",
     "output_type": "stream",
     "text": [
      "0.012345679012345678\n"
     ]
    }
   ],
   "source": [
    "result = add_mul('', 1, 2, 3, 4, 5)\n",
    "print(result)"
   ]
  },
  {
   "cell_type": "code",
   "execution_count": 108,
   "id": "be612cf8-bdad-427a-8dbc-6df3b8b45bd1",
   "metadata": {},
   "outputs": [
    {
     "ename": "TypeError",
     "evalue": "print_kwargs() takes 0 positional arguments but 1 was given",
     "output_type": "error",
     "traceback": [
      "\u001b[1;31m---------------------------------------------------------------------------\u001b[0m",
      "\u001b[1;31mTypeError\u001b[0m                                 Traceback (most recent call last)",
      "Cell \u001b[1;32mIn[108], line 4\u001b[0m\n\u001b[0;32m      2\u001b[0m \u001b[38;5;28;01mdef\u001b[39;00m\u001b[38;5;250m \u001b[39m\u001b[38;5;21mprint_kwargs\u001b[39m(\u001b[38;5;241m*\u001b[39m\u001b[38;5;241m*\u001b[39mkwargs):\n\u001b[0;32m      3\u001b[0m     \u001b[38;5;28mprint\u001b[39m(kwargs)\n\u001b[1;32m----> 4\u001b[0m \u001b[43mprint_kwargs\u001b[49m\u001b[43m(\u001b[49m\u001b[43m{\u001b[49m\u001b[38;5;124;43m'\u001b[39;49m\u001b[38;5;124;43mname\u001b[39;49m\u001b[38;5;124;43m'\u001b[39;49m\u001b[43m:\u001b[49m\u001b[38;5;124;43m'\u001b[39;49m\u001b[38;5;124;43m홍길동\u001b[39;49m\u001b[38;5;124;43m'\u001b[39;49m\u001b[43m,\u001b[49m\u001b[43m \u001b[49m\u001b[38;5;124;43m'\u001b[39;49m\u001b[38;5;124;43mage\u001b[39;49m\u001b[38;5;124;43m'\u001b[39;49m\u001b[43m:\u001b[49m\u001b[38;5;241;43m21\u001b[39;49m\u001b[43m,\u001b[49m\u001b[43m \u001b[49m\u001b[38;5;124;43m'\u001b[39;49m\u001b[38;5;124;43maddress\u001b[39;49m\u001b[38;5;124;43m'\u001b[39;49m\u001b[43m:\u001b[49m\u001b[38;5;124;43m'\u001b[39;49m\u001b[38;5;124;43m대한민국\u001b[39;49m\u001b[38;5;124;43m'\u001b[39;49m\u001b[43m}\u001b[49m\u001b[43m)\u001b[49m\n",
      "\u001b[1;31mTypeError\u001b[0m: print_kwargs() takes 0 positional arguments but 1 was given"
     ]
    }
   ],
   "source": [
    "# 키워드 매개변수 kwargs\n",
    "def print_kwargs(**kwargs):\n",
    "    print(kwargs)\n",
    "print_kwargs({'name':'홍길동', 'age':21, 'address':'대한민국'})"
   ]
  },
  {
   "cell_type": "code",
   "execution_count": 105,
   "id": "8d6d8f78-1148-46b9-a5be-38b8757cf46f",
   "metadata": {},
   "outputs": [
    {
     "name": "stdout",
     "output_type": "stream",
     "text": [
      "{'name': '홍길동', 'age': 21, 'address': '대한민국'}\n"
     ]
    }
   ],
   "source": [
    "def print_kwargs(**kwargs):\n",
    "    print(kwargs)\n",
    "print_kwargs(name = '홍길동', age = 21, address = '대한민국')"
   ]
  },
  {
   "cell_type": "code",
   "execution_count": 109,
   "id": "818fc0f6-7e3d-4745-9705-5f0abe51a3d9",
   "metadata": {},
   "outputs": [],
   "source": [
    "# test\n",
    "def test():\n",
    "    print('저야 영광이죠~!!')\n",
    "    if 13 > 4 : return\n",
    "    print('집에 가고싶어!~!')\n",
    "    return"
   ]
  },
  {
   "cell_type": "code",
   "execution_count": 110,
   "id": "294192ba-8b7e-400f-8a76-b313848227f8",
   "metadata": {},
   "outputs": [
    {
     "name": "stdout",
     "output_type": "stream",
     "text": [
      "저야 영광이죠~!!\n"
     ]
    }
   ],
   "source": [
    "test()"
   ]
  },
  {
   "cell_type": "code",
   "execution_count": 111,
   "id": "128d54c7-a74a-4f65-b010-c7227680de7c",
   "metadata": {},
   "outputs": [
    {
     "name": "stdout",
     "output_type": "stream",
     "text": [
      "35 286\n"
     ]
    }
   ],
   "source": [
    "# test2\n",
    "def test2(a, b):\n",
    "    return (a + b, a * b)\n",
    "add_result, mul_result = test2(13, 22)\n",
    "print(add_result, mul_result)"
   ]
  },
  {
   "cell_type": "code",
   "execution_count": 112,
   "id": "2c66a026-b8b6-4777-9ca5-eb9aa81451c5",
   "metadata": {},
   "outputs": [],
   "source": [
    "def say_nick(nick):\n",
    "    if nick == '바보':\n",
    "        return\n",
    "    print('나의 별명은 %s 입니다.' %nick)"
   ]
  },
  {
   "cell_type": "code",
   "execution_count": 114,
   "id": "63bc468f-6873-43a6-8eef-17b127cec564",
   "metadata": {},
   "outputs": [
    {
     "name": "stdout",
     "output_type": "stream",
     "text": [
      "나의 별명은 야호 입니다.\n"
     ]
    }
   ],
   "source": [
    "say_nick('야호')"
   ]
  },
  {
   "cell_type": "code",
   "execution_count": null,
   "id": "d841844e-79c1-42c4-b3cc-8ffcfd22a5de",
   "metadata": {},
   "outputs": [],
   "source": []
  }
 ],
 "metadata": {
  "kernelspec": {
   "display_name": "Python 3 (ipykernel)",
   "language": "python",
   "name": "python3"
  },
  "language_info": {
   "codemirror_mode": {
    "name": "ipython",
    "version": 3
   },
   "file_extension": ".py",
   "mimetype": "text/x-python",
   "name": "python",
   "nbconvert_exporter": "python",
   "pygments_lexer": "ipython3",
   "version": "3.13.1"
  }
 },
 "nbformat": 4,
 "nbformat_minor": 5
}
