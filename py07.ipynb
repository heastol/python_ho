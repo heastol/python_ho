{
 "cells": [
  {
   "cell_type": "markdown",
   "id": "1eed88eb-6cbb-42de-806b-8eeb9a25501b",
   "metadata": {},
   "source": [
    "# 내장함수"
   ]
  },
  {
   "cell_type": "code",
   "execution_count": 1,
   "id": "04de92f1-b32e-4997-9226-887d0f201db0",
   "metadata": {},
   "outputs": [
    {
     "name": "stdout",
     "output_type": "stream",
     "text": [
      "3\n",
      "1.2\n"
     ]
    }
   ],
   "source": [
    "# ans *\n",
    "print(abs(-3))\n",
    "print(abs(-1.2))"
   ]
  },
  {
   "cell_type": "code",
   "execution_count": 7,
   "id": "89b3a798-34a5-4e62-a0b2-5dbb36092bd0",
   "metadata": {},
   "outputs": [
    {
     "name": "stdout",
     "output_type": "stream",
     "text": [
      "True\n",
      "False\n",
      "True\n"
     ]
    }
   ],
   "source": [
    "# all *\n",
    "print(all([1, 2, 3]))\n",
    "print(all([11, 22, 0, 44, 55]))\n",
    "print(all([]))"
   ]
  },
  {
   "cell_type": "code",
   "execution_count": 12,
   "id": "f6f7b75f-21b5-40af-8ccc-ca6d08754de9",
   "metadata": {},
   "outputs": [
    {
     "name": "stdout",
     "output_type": "stream",
     "text": [
      "True\n",
      "False\n",
      "False\n"
     ]
    }
   ],
   "source": [
    "# any *\n",
    "print(any([1, 2, 3, 0]))\n",
    "print(any([0, \"\"]))\n",
    "print(any([]))"
   ]
  },
  {
   "cell_type": "code",
   "execution_count": 29,
   "id": "1b2107d9-eeec-486c-9114-9ab477f42f7d",
   "metadata": {},
   "outputs": [
    {
     "name": "stdout",
     "output_type": "stream",
     "text": [
      "0\n",
      "A\n",
      "가\n",
      "48\n",
      "65\n",
      "44032\n"
     ]
    }
   ],
   "source": [
    "# 아스키코드\n",
    "print(chr(48))\n",
    "print(chr(65))\n",
    "print(chr(44032))\n",
    "# 유니코드 - UTF-8(인코딩방식)\n",
    "print(ord('0'))\n",
    "print(ord('A'))\n",
    "print(ord('가'))"
   ]
  },
  {
   "cell_type": "code",
   "execution_count": 31,
   "id": "c2b7d1ee-7c9e-4dd6-a1bd-df97fe9a13ad",
   "metadata": {},
   "outputs": [
    {
     "name": "stdout",
     "output_type": "stream",
     "text": [
      "A\n",
      "B\n",
      "C\n",
      "D\n",
      "E\n",
      "F\n",
      "G\n",
      "H\n",
      "I\n",
      "J\n",
      "K\n",
      "L\n",
      "M\n",
      "N\n",
      "O\n",
      "P\n",
      "Q\n",
      "R\n",
      "S\n",
      "T\n",
      "U\n",
      "V\n",
      "W\n",
      "X\n",
      "Y\n",
      "Z\n"
     ]
    }
   ],
   "source": [
    "for i in range(65, 91):\n",
    "    print(chr(i))"
   ]
  },
  {
   "cell_type": "code",
   "execution_count": 89,
   "id": "006e49eb-c96c-4666-994e-86f868612cef",
   "metadata": {},
   "outputs": [
    {
     "name": "stdout",
     "output_type": "stream",
     "text": [
      "['z', 'y', 'x', 'w', 'v', 'u', 't', 's', 'r', 'q', 'p', 'o', 'n', 'm', 'l', 'k', 'j', 'i', 'h', 'g', 'f', 'e', 'd', 'c', 'b', 'a']\n"
     ]
    }
   ],
   "source": [
    "low_case = list(range(26))\n",
    "for i in range(97, 123):\n",
    "    low_case[i - 97] = chr(i)\n",
    "low_case.reverse()\n",
    "print(low_case)"
   ]
  },
  {
   "cell_type": "code",
   "execution_count": 75,
   "id": "c16f2a7f-8339-4c99-8271-801e15da9d61",
   "metadata": {},
   "outputs": [
    {
     "name": "stdout",
     "output_type": "stream",
     "text": [
      "A1\n",
      "A2\n",
      "A3\n",
      "A4\n",
      "A5\n",
      "A6\n",
      "A7\n",
      "A8\n",
      "A9\n",
      "A10\n",
      "B1\n",
      "B2\n",
      "B3\n",
      "B4\n",
      "B5\n",
      "B6\n",
      "B7\n",
      "B8\n",
      "B9\n",
      "B10\n",
      "C1\n",
      "C2\n",
      "C3\n",
      "C4\n",
      "C5\n",
      "C6\n",
      "C7\n",
      "C8\n",
      "C9\n",
      "C10\n"
     ]
    }
   ],
   "source": [
    "for i in range(65, 68):\n",
    "    for j in range(49, 59):\n",
    "        if j < 58:\n",
    "            print(chr(i) + chr(j))\n",
    "        else:\n",
    "            print(chr(i) + chr(49) + chr(48))"
   ]
  },
  {
   "cell_type": "code",
   "execution_count": null,
   "id": "bd7ae8d9-7c25-4fb5-9fb4-c840f7ff2034",
   "metadata": {},
   "outputs": [],
   "source": [
    "positive_words = [\"좋아\", \"행복\", \"멋져\", \"최고\", \"사랑해\"]\n",
    "negative_words = [\"싫어\", \"화나\", \"짜증\", \"별로\", \"나빠\"]\n",
    "\n",
    "text = input(\"당신의 기분을 한 문장으로 표현해주세요.\")\n",
    "\n",
    "if any(word in text for word in positive_words):\n",
    "    print(\"기분이 좋아보이네요\")\n",
    "elif any(word in text for word in positive_words):\n",
    "    print(\"기분이 나빠보이네요\")\n",
    "else:\n",
    "    print(\"보통이시네요\")"
   ]
  },
  {
   "cell_type": "code",
   "execution_count": 85,
   "id": "d183d87e-2392-4568-8422-e227cb296438",
   "metadata": {},
   "outputs": [
    {
     "name": "stdin",
     "output_type": "stream",
     "text": [
      "당신의 기분을 한 문장으로 표현해주세요. 좋아 행복 싫어 화나\n"
     ]
    },
    {
     "name": "stdout",
     "output_type": "stream",
     "text": [
      "보통이시네요\n"
     ]
    }
   ],
   "source": [
    "positive_words = [\"좋아\", \"행복\", \"멋져\", \"최고\", \"사랑해\"]\n",
    "negative_words = [\"싫어\", \"화나\", \"짜증\", \"별로\", \"나빠\"]\n",
    "\n",
    "text = input(\"당신의 기분을 한 문장으로 표현해주세요.\")\n",
    "\n",
    "pos = [v for v in positive_words if v in text]\n",
    "neg = [v for v in negative_words if v in text]\n",
    "if len(pos) > len(neg):\n",
    "    print(\"기분이 좋아보이네요\")\n",
    "elif len(neg) > len(pos):\n",
    "    print(\"기분이 나빠보이네요\")\n",
    "else:\n",
    "    print(\"보통이시네요\")"
   ]
  },
  {
   "cell_type": "code",
   "execution_count": 96,
   "id": "d1366a33-6982-4559-945a-4a35581479b8",
   "metadata": {},
   "outputs": [
    {
     "name": "stdin",
     "output_type": "stream",
     "text": [
      "당신의 기분을 한 문장으로 표현해주세요. 좋아 좋아서 좋아 사랑 사랑해 나빠 진짜 나빠\n"
     ]
    },
    {
     "name": "stdout",
     "output_type": "stream",
     "text": [
      "1\n",
      "2\n",
      "3\n",
      "2\n",
      "1\n",
      "1\n"
     ]
    }
   ],
   "source": [
    "positive_words = [\"좋아\", \"행복\", \"멋져\", \"최고\", \"사랑해\"]\n",
    "negative_words = [\"싫어\", \"화나\", \"짜증\", \"별로\", \"나빠\"]\n",
    "\n",
    "text = input(\"당신의 기분을 한 문장으로 표현해주세요.\")\n",
    "\n",
    "pnum = 0\n",
    "text = text.split(\" \")\n",
    "for v in positive_words:\n",
    "    for s in text:\n",
    "        if v == s:\n",
    "            pnum += 1\n",
    "            print(pnum)\n",
    "for i in negative_words:\n",
    "    for j in text:\n",
    "        if i == j:\n",
    "            pnum -= 1\n",
    "            print(pnum)\n",
    "print(pnum)"
   ]
  },
  {
   "cell_type": "code",
   "execution_count": 11,
   "id": "f8adee71-8fd4-429a-9912-79c8fc22e4a4",
   "metadata": {},
   "outputs": [
    {
     "name": "stdin",
     "output_type": "stream",
     "text": [
      "당신의 기분을 한 문장으로 표현해주세요. 좋아 좋아서 좋아요 사랑 사랑해 나빠 진짜 나빠\n"
     ]
    },
    {
     "name": "stdout",
     "output_type": "stream",
     "text": [
      "3\n"
     ]
    }
   ],
   "source": [
    "from konlpy.tag import Okt\n",
    "\n",
    "# 좋아 좋아서 좋아요 사랑 사랑해 나빠 진짜 나빠\n",
    "# 한글 형태소 분석기\n",
    "okt = Okt()\n",
    "\n",
    "positive_words = [\"좋다\", \"행복\", \"멋지다\", \"최고\", \"사랑\"]\n",
    "negative_words = [\"싫다\", \"화나다\", \"짜증\", \"별로\", \"나쁘다\"]\n",
    "\n",
    "text = input(\"당신의 기분을 한 문장으로 표현해주세요.\")\n",
    "\n",
    "words = okt.morphs(text, stem = True)\n",
    "\n",
    "\n",
    "pnum = 0\n",
    "text = text.split(\" \")\n",
    "for v in positive_words:\n",
    "    for s in words:\n",
    "        if v == s:\n",
    "            pnum += 1\n",
    "for i in negative_words:\n",
    "    for j in words:\n",
    "        if i == j:\n",
    "            pnum -= 1\n",
    "print(pnum)"
   ]
  },
  {
   "cell_type": "code",
   "execution_count": 1,
   "id": "b0777f6b-fc4b-4792-963d-310c5974f05a",
   "metadata": {},
   "outputs": [
    {
     "name": "stdout",
     "output_type": "stream",
     "text": [
      "(4, 1)\n",
      "4 1\n"
     ]
    }
   ],
   "source": [
    "print(divmod(13, 3))\n",
    "print(13 // 3, 13 % 3)"
   ]
  },
  {
   "cell_type": "code",
   "execution_count": 2,
   "id": "60166051-8c84-414a-91e6-e1aa0335df61",
   "metadata": {},
   "outputs": [
    {
     "name": "stdout",
     "output_type": "stream",
     "text": [
      "1 순위 과일은 : apple\n",
      "2 순위 과일은 : banana\n",
      "3 순위 과일은 : kiwi\n",
      "4 순위 과일은 : cherry\n",
      "5 순위 과일은 : mango\n"
     ]
    }
   ],
   "source": [
    "# enumerate ** 열거하다\n",
    "fruit = ['apple', 'banana', 'kiwi', 'cherry', 'mango']\n",
    "for i, f in enumerate(fruit, start = 1):\n",
    "    print(i, '순위 과일은 :', f)"
   ]
  },
  {
   "cell_type": "code",
   "execution_count": 3,
   "id": "78a1ce83-d1b0-4434-9814-f6d4803c0624",
   "metadata": {},
   "outputs": [
    {
     "data": {
      "text/plain": [
       "3"
      ]
     },
     "execution_count": 3,
     "metadata": {},
     "output_type": "execute_result"
    }
   ],
   "source": [
    "eval('1 + 2')"
   ]
  },
  {
   "cell_type": "code",
   "execution_count": 4,
   "id": "1264cc81-9c0c-4f13-8b6a-c75e7897d5ae",
   "metadata": {},
   "outputs": [
    {
     "data": {
      "text/plain": [
       "'A1'"
      ]
     },
     "execution_count": 4,
     "metadata": {},
     "output_type": "execute_result"
    }
   ],
   "source": [
    "eval(\"'A' + '1'\")"
   ]
  },
  {
   "cell_type": "code",
   "execution_count": 6,
   "id": "75670ea7-6962-41c9-87b4-8733fecd406a",
   "metadata": {},
   "outputs": [
    {
     "name": "stdout",
     "output_type": "stream",
     "text": [
      "[1, 2, 6]\n"
     ]
    }
   ],
   "source": [
    "def positive(x):\n",
    "    result = []\n",
    "    for i in x:\n",
    "        if i > 0:\n",
    "            result.append(i)\n",
    "    return result\n",
    "print(positive([1, -3, 2, 0, -5, 6]))"
   ]
  },
  {
   "cell_type": "code",
   "execution_count": 7,
   "id": "b4a9f804-5744-4492-bafa-96158db398cc",
   "metadata": {},
   "outputs": [
    {
     "name": "stdout",
     "output_type": "stream",
     "text": [
      "[1, 2, 6]\n"
     ]
    }
   ],
   "source": [
    "def pos(x):\n",
    "    return [i for i in x if i > 0]\n",
    "print(pos([1, -3, 2, 0, -5, 6]))"
   ]
  },
  {
   "cell_type": "code",
   "execution_count": 8,
   "id": "d3c22d9d-1313-4611-bfab-834fce19e5fc",
   "metadata": {},
   "outputs": [
    {
     "data": {
      "text/plain": [
       "[1, 2, 6]"
      ]
     },
     "execution_count": 8,
     "metadata": {},
     "output_type": "execute_result"
    }
   ],
   "source": [
    "def positive(x):\n",
    "    return x > 0\n",
    "l = [1, -3, 2, 0, -5, 6]\n",
    "list(filter(positive, l))"
   ]
  },
  {
   "cell_type": "code",
   "execution_count": 11,
   "id": "be1fe638-2a21-4158-a2e5-d04818f1c887",
   "metadata": {},
   "outputs": [
    {
     "name": "stdout",
     "output_type": "stream",
     "text": [
      "[1, 2, 6]\n"
     ]
    }
   ],
   "source": [
    "print(list(filter(lambda x : x > 0 ,l)))"
   ]
  },
  {
   "cell_type": "code",
   "execution_count": 12,
   "id": "2b9b83b6-9268-4403-a24f-0dcbb2b9e2ab",
   "metadata": {},
   "outputs": [
    {
     "name": "stdout",
     "output_type": "stream",
     "text": [
      "0xea\n",
      "0o11\n",
      "0b1001\n"
     ]
    }
   ],
   "source": [
    "# hex, oct, bin\n",
    "print(hex(234))\n",
    "print(oct(9))\n",
    "print(bin(9))"
   ]
  },
  {
   "cell_type": "code",
   "execution_count": 14,
   "id": "58589b20-c575-44fa-b2be-3afe98ce2307",
   "metadata": {},
   "outputs": [
    {
     "name": "stdout",
     "output_type": "stream",
     "text": [
      "140706810561512\n",
      "140706810561512\n",
      "140706810561512\n",
      "True\n"
     ]
    }
   ],
   "source": [
    "# id 고유 주솟값을 리턴\n",
    "a = 3\n",
    "print(id(3))\n",
    "print(id(a))\n",
    "b = a\n",
    "print(id(b))\n",
    "print(all([id(3) == id(a), id(a) == id(b), id(b) == id(3)]))"
   ]
  },
  {
   "cell_type": "code",
   "execution_count": 15,
   "id": "99d4a8c4-825f-45ce-b325-e9ed796ad9e0",
   "metadata": {},
   "outputs": [],
   "source": [
    "# input *\n",
    "# input은 스트링으로 값을 전달받는다. 그러므로 계산시 int나 float으로 변경할 것"
   ]
  },
  {
   "cell_type": "code",
   "execution_count": 16,
   "id": "147773f9-ca1b-44c6-848a-88ef47b06cad",
   "metadata": {},
   "outputs": [],
   "source": [
    "# int *\n",
    "# 문자를 숫자로 변환, 정수로 변환, 소숫점이 사라짐"
   ]
  },
  {
   "cell_type": "code",
   "execution_count": 9,
   "id": "3ee467d7-15f8-483b-963f-0abedb05e33e",
   "metadata": {},
   "outputs": [
    {
     "name": "stdout",
     "output_type": "stream",
     "text": [
      "사람입니다.\n",
      "사람입니다.\n",
      "True\n",
      "True\n",
      "False\n"
     ]
    }
   ],
   "source": [
    "# isinstance(object, class) 인스턴스 확인용\n",
    "\n",
    "class Person:\n",
    "    def p(self):\n",
    "        return(\"사람입니다.\")\n",
    "\n",
    "class Animal:pass\n",
    "a = Person()\n",
    "b = Person()\n",
    "c = Animal()\n",
    "print(a.p())\n",
    "print(b.p())\n",
    "print(isinstance(a, Person))\n",
    "print(isinstance(b, Person))\n",
    "print(isinstance(c, Person))"
   ]
  },
  {
   "cell_type": "code",
   "execution_count": 4,
   "id": "6b1971bc-c020-4ab7-8cdf-c9c0365304a4",
   "metadata": {},
   "outputs": [],
   "source": [
    "# list **"
   ]
  },
  {
   "cell_type": "code",
   "execution_count": 5,
   "id": "75ddd88d-e9c5-4d7a-9763-d83a77f40cbb",
   "metadata": {},
   "outputs": [
    {
     "name": "stdout",
     "output_type": "stream",
     "text": [
      "[2, 4, 6, 8]\n"
     ]
    }
   ],
   "source": [
    "# map **\n",
    "def two_items(nl):\n",
    "    result = []\n",
    "    for n in nl:\n",
    "        result.append(n * 2)\n",
    "    return result\n",
    "\n",
    "result = two_items([1, 2, 3, 4])\n",
    "print(result)"
   ]
  },
  {
   "cell_type": "code",
   "execution_count": 7,
   "id": "be3511ab-cc66-42b2-985c-87f9abccf760",
   "metadata": {},
   "outputs": [
    {
     "data": {
      "text/plain": [
       "[2, 4, 6, 8]"
      ]
     },
     "execution_count": 7,
     "metadata": {},
     "output_type": "execute_result"
    }
   ],
   "source": [
    "def two_times(x):\n",
    "    return x * 2\n",
    "\n",
    "list(map(two_times, [1, 2, 3, 4]))"
   ]
  },
  {
   "cell_type": "code",
   "execution_count": 8,
   "id": "75832188-773c-4a18-8229-baeadcc47af3",
   "metadata": {},
   "outputs": [
    {
     "data": {
      "text/plain": [
       "[2, 4, 6, 8]"
      ]
     },
     "execution_count": 8,
     "metadata": {},
     "output_type": "execute_result"
    }
   ],
   "source": [
    "list(map(lambda x: x * 2, [1, 2, 3, 4]))"
   ]
  },
  {
   "cell_type": "code",
   "execution_count": 11,
   "id": "6e0e504a-6d8b-41b9-9fe8-8808a48fc960",
   "metadata": {},
   "outputs": [
    {
     "name": "stdout",
     "output_type": "stream",
     "text": [
      "[1, 3, 5]\n",
      "[2, 4, 6]\n",
      "[11, 12, 13, 14, 15, 16]\n",
      "[1, 4, 9, 16, 25, 36]\n",
      "[11, 24, 39, 56, 75, 96]\n"
     ]
    }
   ],
   "source": [
    "li = [1, 2, 3, 4, 5, 6]\n",
    "def odd(x):\n",
    "    return x % 2 != 0\n",
    "def even(x):\n",
    "    return x % 2 == 0\n",
    "def add(x):\n",
    "    return x + 10\n",
    "def mul(x):\n",
    "    return x * x\n",
    "def addmul(x):\n",
    "    return (x + 10) * x\n",
    "print(list(filter(odd, li)))\n",
    "print(list(filter(even, li)))\n",
    "print(list(map(add, li)))\n",
    "print(list(map(mul, li)))\n",
    "print(list(map(addmul, li)))"
   ]
  },
  {
   "cell_type": "code",
   "execution_count": 13,
   "id": "8b191a5a-85d0-4f20-81d5-14bd08839a90",
   "metadata": {},
   "outputs": [
    {
     "data": {
      "text/plain": [
       "'y'"
      ]
     },
     "execution_count": 13,
     "metadata": {},
     "output_type": "execute_result"
    }
   ],
   "source": [
    "# max *\n",
    "max([1, 21, 3 ,14, 56, 16, 7])\n",
    "# 문자일 경우 유니코드 값으로 판단\n",
    "max('python')"
   ]
  },
  {
   "cell_type": "code",
   "execution_count": 14,
   "id": "8281b7f2-a55d-4c39-8a2b-0b6368434de0",
   "metadata": {},
   "outputs": [
    {
     "data": {
      "text/plain": [
       "'h'"
      ]
     },
     "execution_count": 14,
     "metadata": {},
     "output_type": "execute_result"
    }
   ],
   "source": [
    "# min *\n",
    "min([1, 21, 3 ,14, 56, 16, 7])\n",
    "# 문자일 경우 유니코드 값으로 판단\n",
    "min('python')"
   ]
  },
  {
   "cell_type": "code",
   "execution_count": 15,
   "id": "d2a4fcfe-b3c4-4575-a2cf-92b3668c7b6b",
   "metadata": {},
   "outputs": [],
   "source": [
    "# open *\n"
   ]
  },
  {
   "cell_type": "code",
   "execution_count": 16,
   "id": "9a15a16d-c0bd-4383-af8e-0bb3f24c078c",
   "metadata": {},
   "outputs": [
    {
     "name": "stdout",
     "output_type": "stream",
     "text": [
      "32\n"
     ]
    }
   ],
   "source": [
    "# pow * x를 y제곱한 결과값을 리턴\n",
    "print(pow(2, 5))"
   ]
  },
  {
   "cell_type": "code",
   "execution_count": 18,
   "id": "a61a89a4-0aeb-4b49-b591-e21d2336f620",
   "metadata": {},
   "outputs": [
    {
     "name": "stdout",
     "output_type": "stream",
     "text": [
      "[0, 1, 2, 3, 4]\n",
      "[5, 6, 7, 8, 9]\n",
      "[5, 7, 9]\n",
      "[15, 14, 13, 12, 11, 10, 9, 8, 7, 6, 5, 4, 3, 2, 1]\n"
     ]
    }
   ],
   "source": [
    "# range **\n",
    "# 인수가 하나\n",
    "print(list(range(5)))\n",
    "# 인수가 2개\n",
    "print(list(range(5, 10)))\n",
    "# 인수가 3개\n",
    "print(list(range(5, 10, 2)))\n",
    "# 역순(스탭조절)\n",
    "print(list(range(15, 0, -1)))"
   ]
  },
  {
   "cell_type": "code",
   "execution_count": 21,
   "id": "af6b5fea-49ec-4d4b-9b09-31ee6ca95f75",
   "metadata": {},
   "outputs": [
    {
     "name": "stdout",
     "output_type": "stream",
     "text": [
      "3\n",
      "4\n",
      "3\n",
      "3.5\n",
      "3.495\n"
     ]
    }
   ],
   "source": [
    "# round * 반올림\n",
    "print(round(3.45))\n",
    "print(round(3.546))\n",
    "print(round(3.495))\n",
    "print(round(3.495, 2))\n",
    "print(round(3.495, 3))"
   ]
  },
  {
   "cell_type": "code",
   "execution_count": 27,
   "id": "f26900f1-bbab-4c57-a3e4-87c1b4f58cb3",
   "metadata": {},
   "outputs": [
    {
     "name": "stdout",
     "output_type": "stream",
     "text": [
      "[3, 2, 1, 4, 6, 7]\n",
      "[1, 2, 3, 4, 6, 7]\n",
      "[7, 6, 4, 3, 2, 1]\n"
     ]
    }
   ],
   "source": [
    "# sorted(iterable)\n",
    "s0 = [3, 2, 1, 4, 6, 7]\n",
    "s1 = sorted(s0)\n",
    "s2 = sorted(s0, reverse = True)\n",
    "print(s0)\n",
    "print(s1)\n",
    "print(s2)"
   ]
  },
  {
   "cell_type": "code",
   "execution_count": 30,
   "id": "cf1fc934-00f4-4ba0-874d-bf37363664f2",
   "metadata": {},
   "outputs": [
    {
     "name": "stdout",
     "output_type": "stream",
     "text": [
      "23 <class 'str'>\n",
      "23 <class 'int'>\n"
     ]
    }
   ],
   "source": [
    "# str * 문자열로 변환\n",
    "num = 23\n",
    "st = str(23)\n",
    "print(st, type(st))\n",
    "print(num, type(num))"
   ]
  },
  {
   "cell_type": "code",
   "execution_count": 32,
   "id": "6f407faf-de1c-46cd-acf0-5825a09ba348",
   "metadata": {},
   "outputs": [
    {
     "name": "stdout",
     "output_type": "stream",
     "text": [
      "15\n"
     ]
    }
   ],
   "source": [
    "# sum * 이터러블데이터의 합을 리턴\n",
    "print(sum([1, 2, 3, 4, 5]))"
   ]
  },
  {
   "cell_type": "code",
   "execution_count": 34,
   "id": "b6535016-5a9c-4759-9ddf-0872f05c4203",
   "metadata": {},
   "outputs": [
    {
     "name": "stdout",
     "output_type": "stream",
     "text": [
      "('a', 'b', 'c')\n",
      "(1, 2, 3, 4, 5, 6)\n",
      "(1, 2, 3, 4, 5, 6)\n"
     ]
    }
   ],
   "source": [
    "# tuple *\n",
    "print(tuple(\"abc\"))\n",
    "print(tuple([1, 2, 3, 4, 5, 6]))\n",
    "print(tuple((1, 2, 3, 4, 5, 6)))"
   ]
  },
  {
   "cell_type": "code",
   "execution_count": 35,
   "id": "8e728927-01c9-4260-b7ba-d6874759bf94",
   "metadata": {},
   "outputs": [
    {
     "data": {
      "text/plain": [
       "function"
      ]
     },
     "execution_count": 35,
     "metadata": {},
     "output_type": "execute_result"
    }
   ],
   "source": [
    "# type ** 자료형 확인\n",
    "type(\"abc\")\n",
    "type(1234)\n",
    "type(open)"
   ]
  },
  {
   "cell_type": "code",
   "execution_count": 36,
   "id": "03a478b7-51b1-4b6a-a11e-93d4f847639b",
   "metadata": {},
   "outputs": [
    {
     "name": "stdout",
     "output_type": "stream",
     "text": [
      "11 : apple => dog\n",
      "22 : banana => cat\n",
      "33 : kiwi => elephant\n",
      "44 : cherry => lion\n",
      "55 : mango => rabbit\n"
     ]
    }
   ],
   "source": [
    "# zip ** 묶어서 리턴\n",
    "fruit = ['apple', 'banana', 'kiwi', 'cherry', 'mango']\n",
    "animal = ['dog', 'cat', 'elephant', 'lion', 'rabbit']\n",
    "num = [11, 22, 33, 44, 55]\n",
    "for f, a, n in zip(fruit, animal, num):\n",
    "    print(n, ':', f, '=>', a)"
   ]
  },
  {
   "cell_type": "markdown",
   "id": "e3142ae5-f512-403a-aa45-d031eef1cff8",
   "metadata": {},
   "source": [
    "# 표준 라이브러리"
   ]
  },
  {
   "cell_type": "markdown",
   "id": "25bbecb8-db25-478d-8f06-39a7ee1ab81d",
   "metadata": {},
   "source": [
    "## datetime.date"
   ]
  },
  {
   "cell_type": "code",
   "execution_count": 1,
   "id": "7814a74d-9122-47e6-bdca-7d23c1f22c63",
   "metadata": {},
   "outputs": [
    {
     "name": "stdout",
     "output_type": "stream",
     "text": [
      "전체 수업기간 : 172 일\n",
      "남은 수업기간 : 148 일\n",
      "지난 수업기간 : 24 일\n"
     ]
    },
    {
     "data": {
      "text/plain": [
       "172"
      ]
     },
     "execution_count": 1,
     "metadata": {},
     "output_type": "execute_result"
    }
   ],
   "source": [
    "import datetime\n",
    "day1 = datetime.date(2025, 2, 3)\n",
    "day2 = datetime.date(2025, 7, 25)\n",
    "diff = day2 - day1\n",
    "print(\"전체 수업기간 :\", diff.days, \"일\")\n",
    "diff2 = day2 - datetime.datetime.now().date()\n",
    "print(\"남은 수업기간 :\", diff2.days, \"일\")\n",
    "print(\"지난 수업기간 :\", diff.days - diff2.days, \"일\")\n",
    "diff.days"
   ]
  },
  {
   "cell_type": "code",
   "execution_count": 44,
   "id": "f7ea8682-4521-44f0-bf2d-f9d471cbd78c",
   "metadata": {},
   "outputs": [
    {
     "data": {
      "text/plain": [
       "datetime.date(2025, 2, 18)"
      ]
     },
     "execution_count": 44,
     "metadata": {},
     "output_type": "execute_result"
    }
   ],
   "source": [
    "datetime.datetime.now().date()"
   ]
  },
  {
   "cell_type": "code",
   "execution_count": 57,
   "id": "7c8a8cf8-6e8e-4d53-b447-88632009422b",
   "metadata": {},
   "outputs": [
    {
     "name": "stdout",
     "output_type": "stream",
     "text": [
      "그날은 월요일입니다.\n"
     ]
    }
   ],
   "source": [
    "days = ['월', '화', '수', '목', '금', '토', '일']\n",
    "day = datetime.date(2025, 6, 9)\n",
    "print(\"그날은 \" + days[day.weekday()] + '요일입니다.')"
   ]
  },
  {
   "cell_type": "code",
   "execution_count": 65,
   "id": "e833aed8-9c15-4af4-aade-835453ba493b",
   "metadata": {},
   "outputs": [
    {
     "name": "stdin",
     "output_type": "stream",
     "text": [
      "수료 날짜를 연도, 월, 일로 적어주세요. 2025 07 25\n",
      "추석 날짜를 연도, 월, 일로 적어주세요. 2025 10 6\n"
     ]
    },
    {
     "name": "stdout",
     "output_type": "stream",
     "text": [
      "수료 후 추석까지는 73 일 남았습니다.\n",
      "추석은 월요일입니다.\n"
     ]
    }
   ],
   "source": [
    "import datetime\n",
    "days = ['월', '화', '수', '목', '금', '토', '일']\n",
    "ey, em, ed = map(int, input(\"수료 날짜를 연도, 월, 일로 적어주세요.\").split())\n",
    "cy, cm, cd = map(int,input(\"추석 날짜를 연도, 월, 일로 적어주세요.\").split())\n",
    "end = datetime.date(ey, em, ed)\n",
    "chuseok = datetime.date(cy, cm, cd)\n",
    "diff = chuseok - end\n",
    "print(\"수료 후 추석까지는\", diff.days, \"일 남았습니다.\")\n",
    "print(\"추석은 \" + days[day.weekday()] + \"요일입니다.\")"
   ]
  },
  {
   "cell_type": "markdown",
   "id": "9308e7c0-49a3-4d04-957f-d7f084fff84a",
   "metadata": {},
   "source": [
    "## time"
   ]
  },
  {
   "cell_type": "code",
   "execution_count": 67,
   "id": "859a6b8b-f944-425a-b48e-d02a3f223510",
   "metadata": {},
   "outputs": [
    {
     "data": {
      "text/plain": [
       "1739855451.3603513"
      ]
     },
     "execution_count": 67,
     "metadata": {},
     "output_type": "execute_result"
    }
   ],
   "source": [
    "# time.time\n",
    "import time\n",
    "time.time()"
   ]
  },
  {
   "cell_type": "code",
   "execution_count": 70,
   "id": "9b8537b5-d271-46b1-89aa-932915736f18",
   "metadata": {},
   "outputs": [
    {
     "data": {
      "text/plain": [
       "18"
      ]
     },
     "execution_count": 70,
     "metadata": {},
     "output_type": "execute_result"
    }
   ],
   "source": [
    "# time.localtime\n",
    "tt = time.localtime(time.time())\n",
    "tt.tm_mday"
   ]
  },
  {
   "cell_type": "code",
   "execution_count": 71,
   "id": "f270d1b8-01fa-4192-9b40-8ba8a1ade673",
   "metadata": {},
   "outputs": [
    {
     "data": {
      "text/plain": [
       "'Tue Feb 18 14:15:26 2025'"
      ]
     },
     "execution_count": 71,
     "metadata": {},
     "output_type": "execute_result"
    }
   ],
   "source": [
    "# time.asctime\n",
    "time.asctime(time.localtime(time.time()))"
   ]
  },
  {
   "cell_type": "code",
   "execution_count": 72,
   "id": "25a1db0f-7d24-4e2e-b979-eda584f0c952",
   "metadata": {},
   "outputs": [
    {
     "data": {
      "text/plain": [
       "'Tue Feb 18 14:16:37 2025'"
      ]
     },
     "execution_count": 72,
     "metadata": {},
     "output_type": "execute_result"
    }
   ],
   "source": [
    "# time.ctime()\n",
    "time.ctime()"
   ]
  },
  {
   "cell_type": "code",
   "execution_count": 74,
   "id": "50ab24bc-e3f5-4b39-ae78-dfd77f3c902f",
   "metadata": {},
   "outputs": [
    {
     "data": {
      "text/plain": [
       "'Tue Feb 18 14:19:07 2025'"
      ]
     },
     "execution_count": 74,
     "metadata": {},
     "output_type": "execute_result"
    }
   ],
   "source": [
    "# time.strftime\n",
    "time.strftime('%x', time.localtime(time.time()))\n",
    "time.strftime('%X', time.localtime(time.time()))\n",
    "time.strftime('%c', time.localtime(time.time()))"
   ]
  },
  {
   "cell_type": "code",
   "execution_count": 78,
   "id": "73fe2e70-1dbd-4f45-8f7c-be3cf1dabc5d",
   "metadata": {},
   "outputs": [
    {
     "name": "stdout",
     "output_type": "stream",
     "text": [
      "10"
     ]
    }
   ],
   "source": [
    "# time.sleep\n",
    "for i in range(1, 11):\n",
    "    print(i, end='\\r')\n",
    "    time.sleep(1)"
   ]
  },
  {
   "cell_type": "markdown",
   "id": "3f98594e-ed3d-4cc0-9c77-98012c6a752d",
   "metadata": {},
   "source": [
    "## math.gcd math.lcm"
   ]
  },
  {
   "cell_type": "code",
   "execution_count": 79,
   "id": "0cb07ddf-02ef-4030-8bea-3655d9db92b5",
   "metadata": {},
   "outputs": [],
   "source": [
    "import math"
   ]
  },
  {
   "cell_type": "code",
   "execution_count": 85,
   "id": "86c52c51-039e-49d7-a20b-0d1910bdb049",
   "metadata": {},
   "outputs": [
    {
     "name": "stdout",
     "output_type": "stream",
     "text": [
      "3.141592653589793\n",
      "20\n",
      "75\n"
     ]
    }
   ],
   "source": [
    "print(math.pi) # pi 값\n",
    "print(math.gcd(60, 100, 80)) # 최대공약수 값\n",
    "print(math.lcm(15, 25)) # 최소공배수 값"
   ]
  },
  {
   "cell_type": "markdown",
   "id": "8ea19d27-910f-48d1-abd0-df81705478e9",
   "metadata": {},
   "source": [
    "## random"
   ]
  },
  {
   "cell_type": "code",
   "execution_count": 88,
   "id": "f3c7320f-fa5f-48ee-8f47-4431d3b1224b",
   "metadata": {},
   "outputs": [
    {
     "name": "stdout",
     "output_type": "stream",
     "text": [
      "0.04157218591506895\n",
      "3\n"
     ]
    }
   ],
   "source": [
    "import random as r\n",
    "# r.random()\n",
    "print(r.random()) # 0.0에서 1.0 사이의 난수\n",
    "# r.randint()\n",
    "print(r.randint(1, 10))"
   ]
  },
  {
   "cell_type": "code",
   "execution_count": 90,
   "id": "e4973934-7df9-46f6-8bea-c894dbb2f38d",
   "metadata": {},
   "outputs": [
    {
     "name": "stdout",
     "output_type": "stream",
     "text": [
      "44 22 44 22 22 22 "
     ]
    }
   ],
   "source": [
    "# r.choice()\n",
    "data = [11, 22, 33, 44, 55, 66]\n",
    "for i in range(6):\n",
    "    print(r.choice(data), end=' ')"
   ]
  },
  {
   "cell_type": "code",
   "execution_count": 95,
   "id": "25dd4cc1-c1cd-4b99-b97b-78acb0f91e43",
   "metadata": {},
   "outputs": [
    {
     "name": "stdout",
     "output_type": "stream",
     "text": [
      "[8, 7, 2, 14, 3, 1, 9, 13, 10, 17, 15, 6, 16, 5, 4, 19, 18, 12, 20, 11]\n",
      "{1, 2, 3, 4, 5, 6, 7, 8, 9, 10, 11, 12, 13, 14, 15, 16, 17, 18, 19, 20} 20\n"
     ]
    }
   ],
   "source": [
    "# r.sample\n",
    "li = list(range(1, 21))\n",
    "arr = []\n",
    "for n in r.sample(li, len(li)):\n",
    "    arr.append(n)\n",
    "print(arr)\n",
    "sarr = set(arr)\n",
    "print(sarr, len(sarr))"
   ]
  },
  {
   "cell_type": "code",
   "execution_count": 5,
   "id": "36957d55-f27c-42b3-aea0-dccbea8cb435",
   "metadata": {},
   "outputs": [
    {
     "name": "stdout",
     "output_type": "stream",
     "text": [
      "일별 박스오피스\n",
      "1 : 캡틴 아메리카: 브레이브 뉴 월드\n",
      "2 : 말할 수 없는 비밀\n",
      "3 : 히트맨2\n",
      "4 : 명탐정 코난: 14번째 표적\n",
      "5 : 서브스턴스\n",
      "6 : 브루탈리스트\n",
      "7 : 검은 수녀들\n",
      "8 : 괜찮아 괜찮아 괜찮아! \n",
      "9 : 더 폴: 디렉터스 컷\n",
      "10 : 엘리: 몬스터 패밀리\n"
     ]
    }
   ],
   "source": [
    "import requests\n",
    "import json\n",
    "url = 'http://www.kobis.or.kr/kobisopenapi/webservice/rest/boxoffice/searchDailyBoxOfficeList.json?key=e7b48729e8ea9ceebb4674db239e055c&targetDt=20250218&itemPerPage&multiMovieYn'\n",
    "res = requests.get(url).text\n",
    "data = json.loads(res)\n",
    "print(data['boxOfficeResult']['boxofficeType'])\n",
    "for i in range (10):\n",
    "    print(f'{i + 1} : ' + data['boxOfficeResult']['dailyBoxOfficeList'][i]['movieNm'])"
   ]
  },
  {
   "cell_type": "markdown",
   "id": "a8d3f89a-cd41-433c-86d3-ad9d624fd49e",
   "metadata": {},
   "source": [
    "## itertools"
   ]
  },
  {
   "cell_type": "code",
   "execution_count": 7,
   "id": "34a3936e-b010-4224-a9f1-fbbba42ae9b5",
   "metadata": {},
   "outputs": [
    {
     "name": "stdout",
     "output_type": "stream",
     "text": [
      "[('한민서', '사탕'), ('황지민', '초콜릿'), ('이영철', '젤리')]\n"
     ]
    }
   ],
   "source": [
    "# itertools.zip_longest\n",
    "students = ['한민서', '황지민', '이영철', '이광수', '김승민']\n",
    "snacks = ['사탕', '초콜릿', '젤리']\n",
    "\n",
    "result = zip(students, snacks)\n",
    "print(list(result))"
   ]
  },
  {
   "cell_type": "code",
   "execution_count": 8,
   "id": "d798b432-7bae-4872-89c1-f512975b9574",
   "metadata": {},
   "outputs": [
    {
     "name": "stdout",
     "output_type": "stream",
     "text": [
      "[('한민서', '사탕'), ('황지민', '초콜릿'), ('이영철', '젤리'), ('이광수', '새우깡'), ('김승민', '새우깡')]\n"
     ]
    }
   ],
   "source": [
    "# itertools.zip_longest\n",
    "import itertools\n",
    "students = ['한민서', '황지민', '이영철', '이광수', '김승민']\n",
    "snacks = ['사탕', '초콜릿', '젤리']\n",
    "\n",
    "result = itertools.zip_longest(students, snacks, fillvalue='새우깡')\n",
    "print(list(result))"
   ]
  },
  {
   "cell_type": "code",
   "execution_count": 11,
   "id": "dc082886-62f3-49dd-a69a-65358d8ae4fa",
   "metadata": {},
   "outputs": [
    {
     "name": "stdout",
     "output_type": "stream",
     "text": [
      "[('1', '2'), ('1', '3'), ('2', '1'), ('2', '3'), ('3', '1'), ('3', '2')]\n"
     ]
    }
   ],
   "source": [
    "# itertools.permutations\n",
    "import itertools\n",
    "print(list(itertools.permutations(['1', '2', '3'], 2)))"
   ]
  },
  {
   "cell_type": "code",
   "execution_count": 10,
   "id": "40720b43-cbbf-42aa-9a77-81ded92f909e",
   "metadata": {},
   "outputs": [
    {
     "data": {
      "text/plain": [
       "[('1', '2'), ('1', '3'), ('2', '3')]"
      ]
     },
     "execution_count": 10,
     "metadata": {},
     "output_type": "execute_result"
    }
   ],
   "source": [
    "# itertools.combinations\n",
    "import itertools\n",
    "list(itertools.combinations(['1', '2', '3'], 2))"
   ]
  },
  {
   "cell_type": "code",
   "execution_count": 19,
   "id": "2e3610b9-27be-40fc-9a08-9fb90d6b8daa",
   "metadata": {},
   "outputs": [
    {
     "name": "stdout",
     "output_type": "stream",
     "text": [
      "8145060\n"
     ]
    }
   ],
   "source": [
    "# itertools.combinations 응용\n",
    "import itertools\n",
    "lotto = list(itertools.combinations(range(1, 46), 6))\n",
    "print(len(lotto))"
   ]
  },
  {
   "cell_type": "code",
   "execution_count": 20,
   "id": "39b8f401-2532-435d-9003-8c52ec9ea73d",
   "metadata": {},
   "outputs": [
    {
     "name": "stdout",
     "output_type": "stream",
     "text": [
      "15\n"
     ]
    }
   ],
   "source": [
    "# functools.reduce\n",
    "import functools\n",
    "data = [1, 2, 3, 4, 5]\n",
    "result = functools.reduce(lambda x, y: x + y, data)\n",
    "print(result)"
   ]
  },
  {
   "cell_type": "code",
   "execution_count": 21,
   "id": "9176a7a6-3e54-4501-8f55-e32f75d8906d",
   "metadata": {},
   "outputs": [
    {
     "name": "stdout",
     "output_type": "stream",
     "text": [
      "8\n",
      "1\n"
     ]
    }
   ],
   "source": [
    "# functools.reduce 응용\n",
    "import functools\n",
    "num_list = [3, 2, 8, 1, 6, 7]\n",
    "max_num = functools.reduce(lambda x, y: x if x > y else y, num_list)\n",
    "min_num = functools.reduce(lambda x, y: x if x < y else y, num_list)\n",
    "print(max_num)\n",
    "print(min_num)"
   ]
  },
  {
   "cell_type": "code",
   "execution_count": 23,
   "id": "55d8c428-60cf-49c3-9550-b38dcd9bf085",
   "metadata": {},
   "outputs": [
    {
     "name": "stdout",
     "output_type": "stream",
     "text": [
      "[('sally', 17, 'B'), ('jane', 22, 'A'), ('dave', 32, 'B')]\n"
     ]
    }
   ],
   "source": [
    "# operator.itemgetter *\n",
    "from operator import itemgetter\n",
    "students = [(\"jane\", 22, 'A'), (\"dave\", 32, 'B'), (\"sally\", 17, 'B')]\n",
    "result = sorted(students, key = itemgetter(1))\n",
    "print(result)"
   ]
  },
  {
   "cell_type": "code",
   "execution_count": 24,
   "id": "c042d872-5162-498b-81b0-6d969f89d252",
   "metadata": {},
   "outputs": [
    {
     "name": "stdout",
     "output_type": "stream",
     "text": [
      "[('sally', 17, 'B'), ('jane', 22, 'A'), ('dave', 32, 'B')]\n"
     ]
    }
   ],
   "source": [
    "from operator import itemgetter\n",
    "name = [\"jane\", \"dave\", \"sally\"]\n",
    "age = [22, 32, 17]\n",
    "grade = ['A', 'B', 'B']\n",
    "students = zip(name, age, grade)\n",
    "result = sorted(students, key = itemgetter(1))\n",
    "print(result)"
   ]
  },
  {
   "cell_type": "code",
   "execution_count": 26,
   "id": "e6cac356-744b-4248-99ee-5d168b1f0bb7",
   "metadata": {},
   "outputs": [
    {
     "name": "stdout",
     "output_type": "stream",
     "text": [
      "[{'name': 'sally', 'age': 17, 'grade': 'B'}, {'name': 'jane', 'age': 22, 'grade': 'A'}, {'name': 'dave', 'age': 32, 'grade': 'B'}]\n"
     ]
    }
   ],
   "source": [
    "from operator import itemgetter\n",
    "students = [\n",
    "    {\"name\" : \"jane\", \"age\" : 22, \"grade\" : 'A'},\n",
    "    {\"name\" : \"dave\", \"age\" : 32, \"grade\" : 'B'},\n",
    "    {\"name\" : \"sally\", \"age\" : 17, \"grade\" : 'B'}\n",
    "]\n",
    "result = sorted(students, key = itemgetter('age'))\n",
    "print(result)"
   ]
  },
  {
   "cell_type": "code",
   "execution_count": 29,
   "id": "6c472ddd-a948-40bc-a625-2042b51594a9",
   "metadata": {},
   "outputs": [
    {
     "name": "stdout",
     "output_type": "stream",
     "text": [
      "[{'name': 'jane', 'age': 22, 'grade': 'A'}, {'name': 'dave', 'age': 32, 'grade': 'B'}, {'name': 'sally', 'age': 17, 'grade': 'B'}]\n"
     ]
    }
   ],
   "source": [
    "from operator import itemgetter\n",
    "name = [\"jane\", \"dave\", \"sally\"]\n",
    "age = [22, 32, 17]\n",
    "grade = ['A', 'B', 'B']\n",
    "students=[]\n",
    "for n, a, g in zip(name, age, grade):\n",
    "    students.append({\"name\" : n, \"age\" : a, \"grade\" : g})\n",
    "print(students)"
   ]
  },
  {
   "cell_type": "code",
   "execution_count": 31,
   "id": "9f6788ed-5e20-40e0-b21b-026d6cff8063",
   "metadata": {},
   "outputs": [
    {
     "name": "stdout",
     "output_type": "stream",
     "text": [
      "[{'name': 'jane', 'age': 22, 'grade': 'A'}, {'name': 'dave', 'age': 32, 'grade': 'B'}, {'name': 'sally', 'age': 17, 'grade': 'B'}]\n"
     ]
    }
   ],
   "source": [
    "from operator import itemgetter\n",
    "name = [\"jane\", \"dave\", \"sally\"]\n",
    "age = [22, 32, 17]\n",
    "grade = ['A', 'B', 'B']\n",
    "\n",
    "students = [{\"name\" : n, \"age\" : a, \"grade\" : g} for n, a, g in zip(name, age, grade)]\n",
    "print(students)"
   ]
  },
  {
   "cell_type": "code",
   "execution_count": 37,
   "id": "801f2613-6fd1-458b-b359-36d91345e544",
   "metadata": {},
   "outputs": [
    {
     "ename": "AttributeError",
     "evalue": "'Students' object has no attribute 'pr'",
     "output_type": "error",
     "traceback": [
      "\u001b[1;31m---------------------------------------------------------------------------\u001b[0m",
      "\u001b[1;31mAttributeError\u001b[0m                            Traceback (most recent call last)",
      "Cell \u001b[1;32mIn[37], line 17\u001b[0m\n\u001b[0;32m     15\u001b[0m result \u001b[38;5;241m=\u001b[39m \u001b[38;5;28msorted\u001b[39m(students, key \u001b[38;5;241m=\u001b[39m attrgetter(\u001b[38;5;124m\"\u001b[39m\u001b[38;5;124mage\u001b[39m\u001b[38;5;124m\"\u001b[39m))\n\u001b[0;32m     16\u001b[0m \u001b[38;5;28;01mfor\u001b[39;00m r \u001b[38;5;129;01min\u001b[39;00m result:\n\u001b[1;32m---> 17\u001b[0m     \u001b[38;5;28mprint\u001b[39m(\u001b[43mr\u001b[49m\u001b[38;5;241;43m.\u001b[39;49m\u001b[43mpr\u001b[49m())\n",
      "\u001b[1;31mAttributeError\u001b[0m: 'Students' object has no attribute 'pr'"
     ]
    }
   ],
   "source": [
    "from operator import attrgetter\n",
    "\n",
    "class Students:\n",
    "    def __init__(self, name, age, grade):\n",
    "        self.name = name\n",
    "        self.age = age\n",
    "        self.grade = grade\n",
    "\n",
    "students = [\n",
    "    Students(\"jane\", 22, \"A\"),\n",
    "    Students(\"dave\", 32, \"B\"),\n",
    "    Students(\"sally\", 17, \"B\")\n",
    "]\n",
    "\n",
    "result = sorted(students, key = attrgetter(\"age\"))\n",
    "for r in result:\n",
    "    print(r.pr())"
   ]
  },
  {
   "cell_type": "code",
   "execution_count": 39,
   "id": "8a64d122-2365-4cf9-9f0f-b8ed4803185b",
   "metadata": {},
   "outputs": [
    {
     "ename": "FileNotFoundError",
     "evalue": "[Errno 2] No such file or directory: 'D:\\\\ldh/code/a.txt'",
     "output_type": "error",
     "traceback": [
      "\u001b[1;31m---------------------------------------------------------------------------\u001b[0m",
      "\u001b[1;31mFileNotFoundError\u001b[0m                         Traceback (most recent call last)",
      "Cell \u001b[1;32mIn[39], line 3\u001b[0m\n\u001b[0;32m      1\u001b[0m \u001b[38;5;66;03m# shutil\u001b[39;00m\n\u001b[0;32m      2\u001b[0m \u001b[38;5;28;01mimport\u001b[39;00m\u001b[38;5;250m \u001b[39m\u001b[38;5;21;01mshutil\u001b[39;00m\n\u001b[1;32m----> 3\u001b[0m \u001b[43mshutil\u001b[49m\u001b[38;5;241;43m.\u001b[39;49m\u001b[43mcopy\u001b[49m\u001b[43m(\u001b[49m\u001b[38;5;124;43m\"\u001b[39;49m\u001b[38;5;124;43mD:\u001b[39;49m\u001b[38;5;130;43;01m\\\\\u001b[39;49;00m\u001b[38;5;124;43mldh/code/a.txt\u001b[39;49m\u001b[38;5;124;43m\"\u001b[39;49m\u001b[43m,\u001b[49m\u001b[43m \u001b[49m\u001b[38;5;124;43m\"\u001b[39;49m\u001b[38;5;124;43mD:\u001b[39;49m\u001b[38;5;130;43;01m\\\\\u001b[39;49;00m\u001b[38;5;124;43mldh/code/a.txt.bak\u001b[39;49m\u001b[38;5;124;43m\"\u001b[39;49m\u001b[43m)\u001b[49m\n",
      "File \u001b[1;32mC:\\Dev\\Lang\\Python313\\Lib\\shutil.py:428\u001b[0m, in \u001b[0;36mcopy\u001b[1;34m(src, dst, follow_symlinks)\u001b[0m\n\u001b[0;32m    426\u001b[0m \u001b[38;5;28;01mif\u001b[39;00m os\u001b[38;5;241m.\u001b[39mpath\u001b[38;5;241m.\u001b[39misdir(dst):\n\u001b[0;32m    427\u001b[0m     dst \u001b[38;5;241m=\u001b[39m os\u001b[38;5;241m.\u001b[39mpath\u001b[38;5;241m.\u001b[39mjoin(dst, os\u001b[38;5;241m.\u001b[39mpath\u001b[38;5;241m.\u001b[39mbasename(src))\n\u001b[1;32m--> 428\u001b[0m \u001b[43mcopyfile\u001b[49m\u001b[43m(\u001b[49m\u001b[43msrc\u001b[49m\u001b[43m,\u001b[49m\u001b[43m \u001b[49m\u001b[43mdst\u001b[49m\u001b[43m,\u001b[49m\u001b[43m \u001b[49m\u001b[43mfollow_symlinks\u001b[49m\u001b[38;5;241;43m=\u001b[39;49m\u001b[43mfollow_symlinks\u001b[49m\u001b[43m)\u001b[49m\n\u001b[0;32m    429\u001b[0m copymode(src, dst, follow_symlinks\u001b[38;5;241m=\u001b[39mfollow_symlinks)\n\u001b[0;32m    430\u001b[0m \u001b[38;5;28;01mreturn\u001b[39;00m dst\n",
      "File \u001b[1;32mC:\\Dev\\Lang\\Python313\\Lib\\shutil.py:260\u001b[0m, in \u001b[0;36mcopyfile\u001b[1;34m(src, dst, follow_symlinks)\u001b[0m\n\u001b[0;32m    258\u001b[0m     os\u001b[38;5;241m.\u001b[39msymlink(os\u001b[38;5;241m.\u001b[39mreadlink(src), dst)\n\u001b[0;32m    259\u001b[0m \u001b[38;5;28;01melse\u001b[39;00m:\n\u001b[1;32m--> 260\u001b[0m     \u001b[38;5;28;01mwith\u001b[39;00m \u001b[38;5;28;43mopen\u001b[39;49m\u001b[43m(\u001b[49m\u001b[43msrc\u001b[49m\u001b[43m,\u001b[49m\u001b[43m \u001b[49m\u001b[38;5;124;43m'\u001b[39;49m\u001b[38;5;124;43mrb\u001b[39;49m\u001b[38;5;124;43m'\u001b[39;49m\u001b[43m)\u001b[49m \u001b[38;5;28;01mas\u001b[39;00m fsrc:\n\u001b[0;32m    261\u001b[0m         \u001b[38;5;28;01mtry\u001b[39;00m:\n\u001b[0;32m    262\u001b[0m             \u001b[38;5;28;01mwith\u001b[39;00m \u001b[38;5;28mopen\u001b[39m(dst, \u001b[38;5;124m'\u001b[39m\u001b[38;5;124mwb\u001b[39m\u001b[38;5;124m'\u001b[39m) \u001b[38;5;28;01mas\u001b[39;00m fdst:\n\u001b[0;32m    263\u001b[0m                 \u001b[38;5;66;03m# macOS\u001b[39;00m\n",
      "\u001b[1;31mFileNotFoundError\u001b[0m: [Errno 2] No such file or directory: 'D:\\\\ldh/code/a.txt'"
     ]
    }
   ],
   "source": [
    "# shutil\n",
    "import shutil\n",
    "shutil.copy(\"D:\\\\ldh/code/a.txt\", \"D:\\\\ldh/code/a.txt.bak\")"
   ]
  },
  {
   "cell_type": "code",
   "execution_count": 44,
   "id": "0929dd31-70cd-4f0c-994d-5d989556b325",
   "metadata": {},
   "outputs": [],
   "source": [
    "import pickle\n",
    "f = open(\"test.txt\", 'wb')\n",
    "data = {1: 'python', 2: 'you need'}\n",
    "pickle.dump(data, f)\n",
    "f.close()"
   ]
  },
  {
   "cell_type": "code",
   "execution_count": 46,
   "id": "82c2d7c8-c126-47ac-b4b5-ec47ab829c84",
   "metadata": {},
   "outputs": [
    {
     "name": "stdout",
     "output_type": "stream",
     "text": [
      "{1: 'python', 2: 'you need'}\n"
     ]
    }
   ],
   "source": [
    "import pickle\n",
    "f = open(\"test.txt\", 'rb')\n",
    "data = pickle.load(f)\n",
    "f.close()\n",
    "print(data)"
   ]
  },
  {
   "cell_type": "markdown",
   "id": "fb82c50d-6017-48be-88eb-ea65f19f078b",
   "metadata": {},
   "source": [
    "## os"
   ]
  },
  {
   "cell_type": "code",
   "execution_count": 52,
   "id": "35cd3587-b904-451a-85e8-00fb1a3847c8",
   "metadata": {},
   "outputs": [
    {
     "data": {
      "text/plain": [
       "'C:\\\\Program Files (x86)\\\\Common Files\\\\Oracle\\\\Java\\\\java8path;C:\\\\Program Files (x86)\\\\Common Files\\\\Oracle\\\\Java\\\\javapath;C:\\\\Dev\\\\Lang\\\\Python313\\\\Scripts\\\\;C:\\\\Dev\\\\Lang\\\\Python313\\\\;C:\\\\WINDOWS\\\\system32;C:\\\\WINDOWS;C:\\\\WINDOWS\\\\System32\\\\Wbem;C:\\\\WINDOWS\\\\System32\\\\WindowsPowerShell\\\\v1.0\\\\;C:\\\\WINDOWS\\\\System32\\\\OpenSSH\\\\;C:\\\\Program Files (x86)\\\\NVIDIA Corporation\\\\PhysX\\\\Common;C:\\\\Dev\\\\IDE\\\\Microsoft VS Code\\\\bin;C:\\\\Program Files\\\\Git\\\\cmd;C:\\\\Users\\\\Admin\\\\AppData\\\\Local\\\\Microsoft\\\\WindowsApps;C:\\\\Users\\\\Admin\\\\AppData\\\\Local\\\\GitHubDesktop\\\\bin'"
      ]
     },
     "execution_count": 52,
     "metadata": {},
     "output_type": "execute_result"
    }
   ],
   "source": [
    "import os\n",
    "# 환경변수 중 PATH 값\n",
    "os.environ['PATH']"
   ]
  },
  {
   "cell_type": "code",
   "execution_count": 54,
   "id": "e0eb644e-8311-42b3-a586-143edc9b4c59",
   "metadata": {},
   "outputs": [],
   "source": [
    "# 디렉토리 변경\n",
    "os.chdir(\"c:\\\\WINDOWS\")"
   ]
  },
  {
   "cell_type": "code",
   "execution_count": 55,
   "id": "912f624d-ec4b-4451-a65d-9f2af49a87ed",
   "metadata": {},
   "outputs": [
    {
     "data": {
      "text/plain": [
       "'c:\\\\WINDOWS'"
      ]
     },
     "execution_count": 55,
     "metadata": {},
     "output_type": "execute_result"
    }
   ],
   "source": [
    "# 디렉토리 위치 받기\n",
    "os.getcwd()"
   ]
  },
  {
   "cell_type": "code",
   "execution_count": 57,
   "id": "c05078b7-07c7-4a43-826f-29bc0c9d7c28",
   "metadata": {},
   "outputs": [],
   "source": [
    "def what(what):\n",
    "    if not os.system(what):\n",
    "        f = os.popen(f\"{what} -V\")\n",
    "        print(f.read())\n",
    "    else:\n",
    "        print('없는 명령어 입니다.')"
   ]
  },
  {
   "cell_type": "code",
   "execution_count": 58,
   "id": "bdef71b6-ec35-43d0-a444-d11ff4f0bf56",
   "metadata": {},
   "outputs": [
    {
     "name": "stdout",
     "output_type": "stream",
     "text": [
      "Python 3.13.1\n",
      "\n"
     ]
    }
   ],
   "source": [
    "what(\"python\")"
   ]
  },
  {
   "cell_type": "code",
   "execution_count": 1,
   "id": "10f6197b-cae9-4c9e-9873-29c09486a98f",
   "metadata": {},
   "outputs": [],
   "source": [
    "import zipfile\n",
    "\n",
    "with zipfile.ZipFile('mytext.zip', 'w') as myzip:\n",
    "    myzip.write('a.txt')\n",
    "    myzip.write('b.txt')\n",
    "    myzip.write('c.txt')"
   ]
  },
  {
   "cell_type": "code",
   "execution_count": 2,
   "id": "9f64fe94-e932-43e2-98e9-4ef26d9113ee",
   "metadata": {},
   "outputs": [],
   "source": [
    "with zipfile.ZipFile('mytext.zip') as myzip:\n",
    "    myzip.extractall()"
   ]
  },
  {
   "cell_type": "markdown",
   "id": "54c59623-a287-406d-ad34-ea00f20e80f3",
   "metadata": {},
   "source": [
    "## Threading"
   ]
  },
  {
   "cell_type": "code",
   "execution_count": 4,
   "id": "84f0fde8-b8e1-44bb-9893-65a4db5207c7",
   "metadata": {},
   "outputs": [],
   "source": [
    "import time\n",
    "\n",
    "def long_tesk():\n",
    "    for i in range(5):\n",
    "        time.sleep(1)\n",
    "        print(f\"일하는 중...{i}\")"
   ]
  },
  {
   "cell_type": "code",
   "execution_count": 7,
   "id": "3caef22c-c4b2-4e77-a98c-484e83a63fa2",
   "metadata": {},
   "outputs": [
    {
     "name": "stdout",
     "output_type": "stream",
     "text": [
      "=====Start=====\n",
      "일하는 중...0\n",
      "일하는 중...1\n",
      "일하는 중...2\n",
      "일하는 중...3\n",
      "일하는 중...4\n",
      "일하는 중...0\n",
      "일하는 중...1\n",
      "일하는 중...2\n",
      "일하는 중...3\n",
      "일하는 중...4\n",
      "일하는 중...0\n",
      "일하는 중...1\n",
      "일하는 중...2\n",
      "일하는 중...3\n",
      "일하는 중...4\n",
      "일하는 중...0\n",
      "일하는 중...1\n",
      "일하는 중...2\n",
      "일하는 중...3\n",
      "일하는 중...4\n",
      "일하는 중...0\n",
      "일하는 중...1\n",
      "일하는 중...2\n",
      "일하는 중...3\n",
      "일하는 중...4\n",
      "=====End=====\n",
      "25.02628517150879\n"
     ]
    }
   ],
   "source": [
    "start = time.time()\n",
    "print(\"=====Start=====\")\n",
    "for n in range(5):\n",
    "    long_tesk()\n",
    "print(\"=====End=====\")\n",
    "print(time.time() - start)"
   ]
  },
  {
   "cell_type": "code",
   "execution_count": 25,
   "id": "31724a86-44c7-4f0b-9ee3-9e38d21c2300",
   "metadata": {},
   "outputs": [
    {
     "name": "stdout",
     "output_type": "stream",
     "text": [
      "=====Start=====\n",
      "일하는 중...0\n",
      "일하는 중...0\n",
      "일하는 중...0\n",
      "일하는 중...0\n",
      "일하는 중...0\n",
      "일하는 중...1일하는 중...1\n",
      "일하는 중...1\n",
      "일하는 중...1\n",
      "일하는 중...1\n",
      "\n",
      "일하는 중...2\n",
      "일하는 중...2\n",
      "일하는 중...2\n",
      "일하는 중...2\n",
      "일하는 중...2\n",
      "일하는 중...3\n",
      "일하는 중...3\n",
      "일하는 중...3\n",
      "일하는 중...3\n",
      "일하는 중...3\n",
      "일하는 중...4\n",
      "일하는 중...4\n",
      "일하는 중...4\n",
      "일하는 중...4\n",
      "일하는 중...4\n",
      "=====End=====\n",
      "5.045204401016235\n"
     ]
    }
   ],
   "source": [
    "# thread를 사용\n",
    "import threading\n",
    "start = time.time()\n",
    "print(\"=====Start=====\")\n",
    "threads = []\n",
    "for n in range(5):\n",
    "    t = threading.Thread(target = long_tesk)\n",
    "    threads.append(t)\n",
    "for t in threads:\n",
    "    t.start()\n",
    "for t in threads:\n",
    "    t.join()\n",
    "print(\"=====End=====\")\n",
    "print(time.time() - start)"
   ]
  },
  {
   "cell_type": "markdown",
   "id": "1290a9e1-c264-49d8-8d27-eacb15aa60ed",
   "metadata": {},
   "source": [
    "## etc"
   ]
  },
  {
   "cell_type": "code",
   "execution_count": 28,
   "id": "b5996760-eb06-4b96-98e9-cf1127bfbd61",
   "metadata": {},
   "outputs": [
    {
     "data": {
      "text/plain": [
       "(5, 'C:\\\\Users\\\\Admin\\\\AppData\\\\Local\\\\Temp\\\\tmpe1mff0rg')"
      ]
     },
     "execution_count": 28,
     "metadata": {},
     "output_type": "execute_result"
    }
   ],
   "source": [
    "# tempfile\n",
    "import tempfile\n",
    "filename = tempfile.mkstemp()\n",
    "filename"
   ]
  },
  {
   "cell_type": "raw",
   "id": "406179fa-2a3b-40ee-846a-9f4eadc8d4aa",
   "metadata": {
    "scrolled": true
   },
   "source": [
    "# traceback\n",
    "import traceback\n",
    "def a():\n",
    "    return 1 / 0\n",
    "\n",
    "def b():\n",
    "    a()\n",
    "\n",
    "def main():\n",
    "    try:\n",
    "        b()\n",
    "    except:\n",
    "        print(\"오류가 발생했습니다.\")\n",
    "        print(traceback.format_exc())\n",
    "main()"
   ]
  },
  {
   "cell_type": "markdown",
   "id": "721bc281-8bb7-4e18-9343-862f9e3dc889",
   "metadata": {},
   "source": [
    "## JSON"
   ]
  },
  {
   "cell_type": "code",
   "execution_count": 31,
   "id": "765c10e0-cced-4dea-b9ab-4bff6731d84e",
   "metadata": {},
   "outputs": [
    {
     "data": {
      "text/plain": [
       "{'name': '홍길동', 'birth': '0525', 'age': 30}"
      ]
     },
     "execution_count": 31,
     "metadata": {},
     "output_type": "execute_result"
    }
   ],
   "source": [
    "{\n",
    "    \"name\" : \"홍길동\",\n",
    "    \"birth\" : '0525',\n",
    "    \"age\" : 30\n",
    "}"
   ]
  },
  {
   "cell_type": "code",
   "execution_count": 5,
   "id": "b6a6f2b7-8b84-477c-8f3e-7ec8844a535a",
   "metadata": {},
   "outputs": [
    {
     "name": "stdout",
     "output_type": "stream",
     "text": [
      "{\"userId\": 1, \"id\": 1, \"title\": \"delectus aut autem\", \"completed\": false, \"test\": \"\\ud55c\\uae00\\ub3c4 \\ub418\\ub098\\ubcf4\\uc790\"}\n"
     ]
    }
   ],
   "source": [
    "import requests\n",
    "import json\n",
    "url = 'https://jsonplaceholder.typicode.com/todos' # JSON 파일을 읽어오기\n",
    "data = requests.get(url).json()[0] # JSON -> DICT\n",
    "data['test'] = '한글도 되나보자'\n",
    "with open('todo.json', 'w') as f:\n",
    "    json.dump(data, f) # DICT -> JSON\n",
    "data_s = json.dumps(data)\n",
    "print(data_s)"
   ]
  },
  {
   "cell_type": "code",
   "execution_count": 6,
   "id": "d30e6241-9e7e-44c6-bc51-9f024367aa5a",
   "metadata": {},
   "outputs": [
    {
     "name": "stdout",
     "output_type": "stream",
     "text": [
      "{'userId': 1, 'id': 1, 'title': 'delectus aut autem', 'completed': False, 'test': '한글도 되나보자'}\n",
      "{'userId': 1, 'id': 1, 'title': 'delectus aut autem', 'completed': False, 'test': '한글도 되나보자'}\n"
     ]
    }
   ],
   "source": [
    "with open('todo.json') as f:\n",
    "    data = json.load(f) # JSON -> DICT\n",
    "print(json.loads(data_s))\n",
    "print(data)"
   ]
  },
  {
   "cell_type": "code",
   "execution_count": 12,
   "id": "8c564f86-eb0f-4803-af3a-0480f88b2bc2",
   "metadata": {},
   "outputs": [],
   "source": [
    "import urllib.request\n",
    "\n",
    "def get_wikidocs(page):\n",
    "    resource = 'https://wikidocs.net/{}'.format(page)\n",
    "    with urllib.request.urlopen(resource) as s:\n",
    "        with open('wikidocs_%s.html' % page, 'wb') as f:\n",
    "            f.write(s.read())\n",
    "for n in range(5):\n",
    "    get_wikidocs(n)"
   ]
  },
  {
   "cell_type": "code",
   "execution_count": 16,
   "id": "490ad959-9eab-4f7c-b112-0cc32b43d9c6",
   "metadata": {},
   "outputs": [],
   "source": [
    "import urllib.request\n",
    "import time as t\n",
    "def get_posts(page):\n",
    "    resource = f'https://jsonplaceholder.typicode.com/posts/{page}'\n",
    "    with urllib.request.urlopen(resource) as s:\n",
    "        with open(f'./data/posts_{page}.html', 'wb') as f:\n",
    "            f.write(s.read())\n",
    "\n",
    "for n in range(1, 11):\n",
    "    get_posts(n)\n",
    "    t.sleep(0.1)"
   ]
  },
  {
   "cell_type": "code",
   "execution_count": 11,
   "id": "a78c886e-8573-4c12-b313-4b8b0343da26",
   "metadata": {},
   "outputs": [
    {
     "data": {
      "text/plain": [
       "True"
      ]
     },
     "execution_count": 11,
     "metadata": {},
     "output_type": "execute_result"
    }
   ],
   "source": [
    "import webbrowser\n",
    "\n",
    "webbrowser.open_new('http://python.org')\n",
    "# webbrowser.open('http://python.org')"
   ]
  },
  {
   "cell_type": "code",
   "execution_count": null,
   "id": "292df248-fcc4-4b1c-867f-5258f4d64d83",
   "metadata": {},
   "outputs": [],
   "source": []
  }
 ],
 "metadata": {
  "kernelspec": {
   "display_name": "Python 3 (ipykernel)",
   "language": "python",
   "name": "python3"
  },
  "language_info": {
   "codemirror_mode": {
    "name": "ipython",
    "version": 3
   },
   "file_extension": ".py",
   "mimetype": "text/x-python",
   "name": "python",
   "nbconvert_exporter": "python",
   "pygments_lexer": "ipython3",
   "version": "3.13.1"
  }
 },
 "nbformat": 4,
 "nbformat_minor": 5
}
