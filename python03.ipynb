{
 "cells": [
  {
   "cell_type": "markdown",
   "id": "4286077a-9109-493c-b3ca-0b0a0300b202",
   "metadata": {},
   "source": [
    "# 제어문 "
   ]
  },
  {
   "cell_type": "markdown",
   "id": "a53b6a2a-0aae-42b7-9202-881856cdce7c",
   "metadata": {},
   "source": [
    "## if문"
   ]
  },
  {
   "cell_type": "code",
   "execution_count": 13,
   "id": "5cf18b27-e015-495e-806c-cb52bec227c6",
   "metadata": {},
   "outputs": [
    {
     "name": "stdout",
     "output_type": "stream",
     "text": [
      "항상 동작합니다.\n",
      "5가 큽니다.\n"
     ]
    }
   ],
   "source": [
    "if True:\n",
    "    print(\"항상 동작합니다.\")\n",
    "if False:\n",
    "    print(\"이건 동작할까요?\")\n",
    "if 5 > 2:\n",
    "    print(\"5가 큽니다.\")\n",
    "if 4 > 10:\n",
    "    print(\"나올까요?\")"
   ]
  },
  {
   "cell_type": "code",
   "execution_count": 5,
   "id": "43a7ef3c-3e80-46dc-86b0-76168a292bbd",
   "metadata": {},
   "outputs": [
    {
     "name": "stdout",
     "output_type": "stream",
     "text": [
      "택시를\n",
      "타고\n",
      "가라\n"
     ]
    }
   ],
   "source": [
    "if True:\n",
    "    print(\"택시를\")\n",
    "    print(\"타고\")\n",
    "print(\"가라\")"
   ]
  },
  {
   "cell_type": "code",
   "execution_count": 8,
   "id": "305e7f49-06b8-4d17-a3c6-c0503598bdc1",
   "metadata": {},
   "outputs": [
    {
     "name": "stdin",
     "output_type": "stream",
     "text": [
      "얼마 가지고 있습니까? 5000\n"
     ]
    },
    {
     "name": "stdout",
     "output_type": "stream",
     "text": [
      "택시를 타고 가라.\n"
     ]
    }
   ],
   "source": [
    "mymoney = int(input(\"얼마 가지고 있습니까?\"))\n",
    "if mymoney >= 3000:\n",
    "    print(\"택시를 타고 가라.\")\n",
    "else:\n",
    "    print(\"걸어가라.\")"
   ]
  },
  {
   "cell_type": "code",
   "execution_count": 11,
   "id": "d3446644-6479-4f0a-9a58-6897b0690b3e",
   "metadata": {},
   "outputs": [
    {
     "name": "stdin",
     "output_type": "stream",
     "text": [
      "주머니에 카드가 있습니까? yes\n"
     ]
    },
    {
     "name": "stdout",
     "output_type": "stream",
     "text": [
      "버스를 타고 가라.\n"
     ]
    }
   ],
   "source": [
    "# 1분 코딩\n",
    "card = input(\"주머니에 카드가 있습니까?\")\n",
    "if card == \"yes\":\n",
    "    print(\"버스를 타고 가라.\")\n",
    "else:\n",
    "    print(\"걸어가라.\")"
   ]
  },
  {
   "cell_type": "code",
   "execution_count": 12,
   "id": "d28abecc-d7c7-42d5-9866-3501fd0d81b7",
   "metadata": {},
   "outputs": [],
   "source": [
    "# and, or, not"
   ]
  },
  {
   "cell_type": "code",
   "execution_count": 14,
   "id": "fafcbd5c-b0a9-4cce-a851-000225c365d0",
   "metadata": {},
   "outputs": [
    {
     "name": "stdout",
     "output_type": "stream",
     "text": [
      "=====논리 and=====\n",
      "True\n",
      "False\n",
      "False\n",
      "False\n",
      "=====논리 or=====\n",
      "True\n",
      "True\n",
      "True\n",
      "False\n",
      "=====논리 not=====\n",
      "True\n",
      "False\n",
      "True\n"
     ]
    }
   ],
   "source": [
    "# 논리 and\n",
    "print(\"=====논리 and=====\")\n",
    "print(True and True)\n",
    "print(True and False)\n",
    "print(False and True)\n",
    "print(False and False)\n",
    "# 논리 or\n",
    "print(\"=====논리 or=====\")\n",
    "print(True or True)\n",
    "print(True or False)\n",
    "print(False or True)\n",
    "print(False or False)\n",
    "# 논리 not\n",
    "print(\"=====논리 not=====\")\n",
    "print(True)\n",
    "print(not True)\n",
    "print(not False)"
   ]
  },
  {
   "cell_type": "code",
   "execution_count": 16,
   "id": "ac4d6862-51ea-416e-990f-b345d72c6919",
   "metadata": {},
   "outputs": [
    {
     "name": "stdout",
     "output_type": "stream",
     "text": [
      "만납시다.\n"
     ]
    }
   ],
   "source": [
    "이상형 = True\n",
    "똑똑 = True\n",
    "if 이상형 and 똑똑:\n",
    "    print(\"만납시다.\")\n",
    "else:\n",
    "    print(\"그래요...\")"
   ]
  },
  {
   "cell_type": "code",
   "execution_count": 17,
   "id": "587f9e55-a47a-4442-8306-a31ed56042a7",
   "metadata": {},
   "outputs": [
    {
     "name": "stdout",
     "output_type": "stream",
     "text": [
      "그렇군요...\n"
     ]
    }
   ],
   "source": [
    "이상형 = False\n",
    "똑똑 = False\n",
    "if 이상형 or 똑똑:\n",
    "    print(\"만납시다.\")\n",
    "else:\n",
    "    print(\"그렇군요...\")"
   ]
  },
  {
   "cell_type": "code",
   "execution_count": 18,
   "id": "08da5f38-d525-4c77-87c6-06f54de5f8de",
   "metadata": {},
   "outputs": [
    {
     "name": "stdout",
     "output_type": "stream",
     "text": [
      "잘가요.\n"
     ]
    }
   ],
   "source": [
    "주사 = True\n",
    "if not 주사:\n",
    "    print(\"만나요.\")\n",
    "else:\n",
    "    print(\"잘가요.\")"
   ]
  },
  {
   "cell_type": "code",
   "execution_count": 19,
   "id": "d615118c-5218-4311-bfda-b543349497af",
   "metadata": {},
   "outputs": [
    {
     "name": "stdin",
     "output_type": "stream",
     "text": [
      "얼마를 가지고 있나요? 5500\n",
      "카드를 가지고 있나요?(네 또는 아니요) 아니요\n"
     ]
    },
    {
     "name": "stdout",
     "output_type": "stream",
     "text": [
      "택시를 타고 가라.\n"
     ]
    }
   ],
   "source": [
    "money = int(input(\"얼마를 가지고 있나요?\"))\n",
    "card = input(\"카드를 가지고 있나요?(네 또는 아니요)\")\n",
    "if money >= 3000 or card == \"네\":\n",
    "    print(\"택시를 타고 가라.\")\n",
    "else:\n",
    "    print(\"걸어가라.\")"
   ]
  },
  {
   "cell_type": "code",
   "execution_count": 20,
   "id": "41325956-5bbc-4167-b132-87ba1e253d31",
   "metadata": {},
   "outputs": [
    {
     "name": "stdout",
     "output_type": "stream",
     "text": [
      "B회사 합격입니다.\n",
      "C회사 합격입니다.\n"
     ]
    }
   ],
   "source": [
    "me = 'PYTHON'\n",
    "comA = ['JAVA', 'CSS', 'JAVASCRIPT', 'C', 'MYSQL']\n",
    "comB = ['JAVA', 'PYTHON', 'JAVASCRIPT', 'C', 'MYSQL']\n",
    "comC = ['JAVA', 'PYTHON', 'HTML', 'MYSQL']\n",
    "if me in comA:\n",
    "    print(\"A회사 합격입니다.\")\n",
    "if me in comB:\n",
    "    print(\"B회사 합격입니다.\")\n",
    "elif me in comC:\n",
    "    print(\"C회사 합격입니다.\")"
   ]
  },
  {
   "cell_type": "code",
   "execution_count": 26,
   "id": "0a5db0de-3b59-46a7-a078-868bd77b60c6",
   "metadata": {},
   "outputs": [
    {
     "name": "stdin",
     "output_type": "stream",
     "text": [
      "점수를 입력해 주세요. 77\n"
     ]
    },
    {
     "name": "stdout",
     "output_type": "stream",
     "text": [
      "C학점 입니다.\n"
     ]
    }
   ],
   "source": [
    "score = int(input(\"점수를 입력해 주세요.\"))\n",
    "\n",
    "if score >= 90:\n",
    "    print(\"A학점 입니다\")\n",
    "elif 90 > score >= 80:\n",
    "    print(\"B학점 입니다.\")\n",
    "elif 80 > score >= 70:\n",
    "    print(\"C학점 입니다.\")\n",
    "elif 70 > score >= 60:\n",
    "    print(\"D학점 입니다.\")\n",
    "else:\n",
    "    print(\"E학점 입니다.\")"
   ]
  },
  {
   "cell_type": "code",
   "execution_count": 28,
   "id": "863613d5-966a-41ed-aa9f-4f245430896d",
   "metadata": {},
   "outputs": [
    {
     "name": "stdin",
     "output_type": "stream",
     "text": [
      "점수를 입력해 주세요. 88\n"
     ]
    },
    {
     "name": "stdout",
     "output_type": "stream",
     "text": [
      "B학점입니다.\n"
     ]
    }
   ],
   "source": [
    "score = int(input(\"점수를 입력해 주세요.\") or 77)\n",
    "grade = 'F'\n",
    "if 90 <= score : grade = 'A'\n",
    "elif 80 <= score : grade = 'B'\n",
    "elif 70 <= score : grade = 'C'\n",
    "elif 60 <= score : grade = 'D'\n",
    "else: grade = 'F'\n",
    "print(f'{grade}학점입니다.')"
   ]
  },
  {
   "cell_type": "code",
   "execution_count": 29,
   "id": "31d6d7de-de0a-4bbf-b19d-4d91c5d73de0",
   "metadata": {},
   "outputs": [
    {
     "name": "stdin",
     "output_type": "stream",
     "text": [
      "현재 온도를 입력해주세요. 23\n"
     ]
    },
    {
     "name": "stdout",
     "output_type": "stream",
     "text": [
      "지금은 봄입니다.\n"
     ]
    }
   ],
   "source": [
    "tem = int(input(\"현재 온도를 입력해주세요.\"))\n",
    "\n",
    "if tem >= 25:\n",
    "    print(\"지금은 여름입니다.\")\n",
    "elif 25 > tem >= 15:\n",
    "    print(\"지금은 봄입니다.\")\n",
    "elif 15 > tem >= 10:\n",
    "    print(\"지금은 가을입니다.\")\n",
    "else:\n",
    "    print(\"지금은 겨울입니다.\")"
   ]
  },
  {
   "cell_type": "code",
   "execution_count": null,
   "id": "9ffbd954-b3b5-4c93-957e-6cb7152fa4a1",
   "metadata": {},
   "outputs": [],
   "source": [
    "tem = int(input(\"현재 온도를 입력해주세요.\"))\n",
    "\n",
    "if tem >= 25: "
   ]
  },
  {
   "cell_type": "markdown",
   "id": "10fe1020-12d4-4a9f-8a4d-4421f7b2d2b0",
   "metadata": {},
   "source": [
    "## while문"
   ]
  },
  {
   "cell_type": "code",
   "execution_count": 35,
   "id": "750e01e3-80c8-4f1c-97b0-0d143c749ab2",
   "metadata": {},
   "outputs": [
    {
     "name": "stdout",
     "output_type": "stream",
     "text": [
      "9 나 화났어.\n",
      "8 나 화났어.\n",
      "7 나 화났어.\n",
      "6 나 화났어.\n",
      "5 나 화났어.\n",
      "4 나 화났어.\n",
      "3 나 화났어.\n",
      "2 나 화났어.\n",
      "1 나 화났어.\n",
      "0 나 화났어.\n"
     ]
    }
   ],
   "source": [
    "num = 10\n",
    "while num:\n",
    "    num -= 1\n",
    "    print(num, \"나 화났어.\")"
   ]
  },
  {
   "cell_type": "code",
   "execution_count": 34,
   "id": "9d4454ac-dff5-4600-9bbe-fa018bfc596d",
   "metadata": {},
   "outputs": [
    {
     "name": "stdout",
     "output_type": "stream",
     "text": [
      "나무를 1번 찍었습니다.\n",
      "나무를 2번 찍었습니다.\n",
      "나무를 3번 찍었습니다.\n",
      "나무를 4번 찍었습니다.\n",
      "나무를 5번 찍었습니다.\n",
      "나무를 6번 찍었습니다.\n",
      "나무를 7번 찍었습니다.\n",
      "나무를 8번 찍었습니다.\n",
      "나무를 9번 찍었습니다.\n",
      "나무를 10번 찍었습니다.\n",
      "나무 넘어갑니다.\n"
     ]
    }
   ],
   "source": [
    "namu = 10\n",
    "while namu:\n",
    "    namu -= 1\n",
    "    print(f'나무를 {10 - namu}번 찍었습니다.')\n",
    "print(\"나무 넘어갑니다.\")"
   ]
  },
  {
   "cell_type": "code",
   "execution_count": 36,
   "id": "937cdbbb-9379-4bb9-a85c-04d2ef916431",
   "metadata": {},
   "outputs": [
    {
     "name": "stdout",
     "output_type": "stream",
     "text": [
      "선택해주세요.\n",
      "\n",
      "    1. Add\n",
      "    2. Del\n",
      "    3. List\n",
      "    4. Quit\n",
      "\n"
     ]
    },
    {
     "name": "stdin",
     "output_type": "stream",
     "text": [
      " 1\n"
     ]
    },
    {
     "name": "stdout",
     "output_type": "stream",
     "text": [
      "\n",
      "    1. Add\n",
      "    2. Del\n",
      "    3. List\n",
      "    4. Quit\n",
      "\n"
     ]
    },
    {
     "name": "stdin",
     "output_type": "stream",
     "text": [
      " 2\n"
     ]
    },
    {
     "name": "stdout",
     "output_type": "stream",
     "text": [
      "\n",
      "    1. Add\n",
      "    2. Del\n",
      "    3. List\n",
      "    4. Quit\n",
      "\n"
     ]
    },
    {
     "name": "stdin",
     "output_type": "stream",
     "text": [
      " 3\n"
     ]
    },
    {
     "name": "stdout",
     "output_type": "stream",
     "text": [
      "\n",
      "    1. Add\n",
      "    2. Del\n",
      "    3. List\n",
      "    4. Quit\n",
      "\n"
     ]
    },
    {
     "name": "stdin",
     "output_type": "stream",
     "text": [
      " 4\n"
     ]
    },
    {
     "name": "stdout",
     "output_type": "stream",
     "text": [
      "시스템이 종료되었습니다.\n"
     ]
    }
   ],
   "source": [
    "print(\"선택해주세요.\")\n",
    "prompt = \"\"\"\n",
    "    1. Add\n",
    "    2. Del\n",
    "    3. List\n",
    "    4. Quit\n",
    "\"\"\"\n",
    "number = 0\n",
    "while number != 4:\n",
    "    print(prompt)\n",
    "    number = int(input())\n",
    "print(\"시스템이 종료되었습니다.\")"
   ]
  },
  {
   "cell_type": "code",
   "execution_count": 52,
   "id": "543255b5-e08a-4b9d-a3cb-324d238b41b0",
   "metadata": {},
   "outputs": [
    {
     "name": "stdin",
     "output_type": "stream",
     "text": [
      "얼마를 넣으시겠습니까? 1500\n"
     ]
    },
    {
     "name": "stdout",
     "output_type": "stream",
     "text": [
      "남은 커피의 양은 10개 입니다.\n",
      "커피를 드리겠습니다.\n",
      "남은 커피의 양은 9개 입니다.\n",
      "커피를 드리겠습니다.\n",
      "남은 커피의 양은 8개 입니다.\n",
      "커피를 드리겠습니다.\n",
      "남은 커피의 양은 7개 입니다.\n",
      "커피를 드리겠습니다.\n",
      "남은 커피의 양은 6개 입니다.\n",
      "커피를 드리겠습니다.\n",
      "돈이 부족하여 더 드릴 수 없습니다.\n"
     ]
    }
   ],
   "source": [
    "import random\n",
    "\n",
    "coffee = random.randint(1, 20)\n",
    "money = int(input(\"얼마를 넣으시겠습니까?\"))\n",
    "price = 300\n",
    "\n",
    "while money:\n",
    "    money = money - price\n",
    "    print(\"남은 커피의 양은 %d개 입니다.\" %coffee)\n",
    "    coffee = coffee - 1\n",
    "    print(\"커피를 드리겠습니다.\")\n",
    "    if coffee == 0:\n",
    "        print(\"커피가 부족하여 더 드릴 수 없습니다.\")\n",
    "        break\n",
    "    elif money < 300:\n",
    "        print(\"돈이 부족하여 더 드릴 수 없습니다.\")\n",
    "        break\n"
   ]
  },
  {
   "cell_type": "code",
   "execution_count": null,
   "id": "00cb1ce4-42cf-4a1e-8632-7c87346acd7c",
   "metadata": {},
   "outputs": [
    {
     "name": "stdin",
     "output_type": "stream",
     "text": [
      "돈을 넣어주세요: 1500\n"
     ]
    },
    {
     "name": "stdout",
     "output_type": "stream",
     "text": [
      "거스름돈 1200를 주고 커피를 줍니다.\n"
     ]
    },
    {
     "name": "stdin",
     "output_type": "stream",
     "text": [
      "돈을 넣어주세요: 300\n"
     ]
    },
    {
     "name": "stdout",
     "output_type": "stream",
     "text": [
      "커피를 줍니다.\n"
     ]
    },
    {
     "name": "stdin",
     "output_type": "stream",
     "text": [
      "돈을 넣어주세요: 100\n"
     ]
    },
    {
     "name": "stdout",
     "output_type": "stream",
     "text": [
      "돈을 다시 돌려 주고 커피를 주지 않습니다.\n",
      "남은 커피의 양은 8개입니다.\n"
     ]
    }
   ],
   "source": [
    "coffee = 10\n",
    "while True:\n",
    "    money = int(input(\"돈을 넣어주세요:\"))\n",
    "    if money == 300:\n",
    "        print(\"커피를 줍니다.\")\n",
    "        coffee = coffee - 1\n",
    "    elif money > 300:\n",
    "        print(\"거스름돈 %d를 주고 커피를 줍니다.\" %(money - 300))\n",
    "        coffee = coffee - 1\n",
    "    else:\n",
    "        print(\"돈을 다시 돌려 주고 커피를 주지 않습니다.\")\n",
    "        print(\"남은 커피의 양은 %d개입니다.\" %coffee)\n",
    "    if coffee == 0:\n",
    "        print(\"커피가 다 떨어졌습니다. 판매를 중지합니다.\")\n",
    "        break"
   ]
  },
  {
   "cell_type": "code",
   "execution_count": 88,
   "id": "94e51156-e46d-4bde-9045-241b700ed4ca",
   "metadata": {},
   "outputs": [],
   "source": [
    "box = [] #초기화"
   ]
  },
  {
   "cell_type": "code",
   "execution_count": 107,
   "id": "93016136-19e7-467e-93e7-17c4cf56b37c",
   "metadata": {},
   "outputs": [
    {
     "name": "stdout",
     "output_type": "stream",
     "text": [
      "250000회 정상 진행되었습니다.\n",
      "1번이41758번 16.703200000000002% 등장하였습니다.\n",
      "2번이41645번 16.658% 등장하였습니다.\n",
      "3번이41629번 16.6516% 등장하였습니다.\n",
      "4번이41608번 16.6432% 등장하였습니다.\n",
      "5번이41488번 16.5952% 등장하였습니다.\n",
      "6번이41872번 16.7488% 등장하였습니다.\n",
      "11\n",
      "번이 가장 많이 출연하였습니다.\n"
     ]
    }
   ],
   "source": [
    "# random 주사위\n",
    "import random as r\n",
    "#ran = r.random() * 45\n",
    "box = []\n",
    "num = 0\n",
    "target = 250000\n",
    "while num < target:\n",
    "    num = num + 1\n",
    "    ran = r.randint(1,6)\n",
    "    box.append(ran)\n",
    "if target == len(box):\n",
    "    print(f'{target}회 정상 진행되었습니다.')\n",
    "else:\n",
    "    print(f'검증 결과 횟수 이상이 있습니다. {target}회 목표로 동작하였으니, {len(box)}으로 측정되었습니다.')\n",
    "# 리스트의 특정한 숫자를 몇개인지 찾아내는 함수써서\n",
    "#print(\"1이 몇개 인가요?\",box.count(1) / 1000, \"%\")\n",
    "#print(\"2이 몇개 인가요?\",box.count(2) / 1000, \"%\")\n",
    "#print(\"3이 몇개 인가요?\",box.count(3) / 1000, \"%\")\n",
    "#print(\"4이 몇개 인가요?\",box.count(4) / 1000, \"%\")\n",
    "#print(\"5이 몇개 인가요?\",box.count(5) / 1000, \"%\")\n",
    "#print(\"6이 몇개 인가요?\",box.count(6) / 1000, \"%\")\n",
    "\n",
    "print(f'1번이{box.count(1)}번 {box.count(1) / len(box) * 100}% 등장하였습니다.')\n",
    "print(f'2번이{box.count(2)}번 {box.count(2) / len(box) * 100}% 등장하였습니다.')\n",
    "print(f'3번이{box.count(3)}번 {box.count(3) / len(box) * 100}% 등장하였습니다.')\n",
    "print(f'4번이{box.count(4)}번 {box.count(4) / len(box) * 100}% 등장하였습니다.')\n",
    "print(f'5번이{box.count(5)}번 {box.count(5) / len(box) * 100}% 등장하였습니다.')\n",
    "print(f'6번이{box.count(6)}번 {box.count(6) / len(box) * 100}% 등장하였습니다.')\n",
    "\n",
    "if box[0] > box[1]:\n",
    "    print(11)\n",
    "\n",
    "print(f'번이 가장 많이 출연하였습니다.')"
   ]
  },
  {
   "cell_type": "code",
   "execution_count": 104,
   "id": "b5fe52db-a4b3-4ece-b2ee-6888997fed2f",
   "metadata": {},
   "outputs": [
    {
     "data": {
      "text/plain": [
       "['__abs__',\n",
       " '__add__',\n",
       " '__and__',\n",
       " '__bool__',\n",
       " '__ceil__',\n",
       " '__class__',\n",
       " '__delattr__',\n",
       " '__dir__',\n",
       " '__divmod__',\n",
       " '__doc__',\n",
       " '__eq__',\n",
       " '__float__',\n",
       " '__floor__',\n",
       " '__floordiv__',\n",
       " '__format__',\n",
       " '__ge__',\n",
       " '__getattribute__',\n",
       " '__getnewargs__',\n",
       " '__getstate__',\n",
       " '__gt__',\n",
       " '__hash__',\n",
       " '__index__',\n",
       " '__init__',\n",
       " '__init_subclass__',\n",
       " '__int__',\n",
       " '__invert__',\n",
       " '__le__',\n",
       " '__lshift__',\n",
       " '__lt__',\n",
       " '__mod__',\n",
       " '__mul__',\n",
       " '__ne__',\n",
       " '__neg__',\n",
       " '__new__',\n",
       " '__or__',\n",
       " '__pos__',\n",
       " '__pow__',\n",
       " '__radd__',\n",
       " '__rand__',\n",
       " '__rdivmod__',\n",
       " '__reduce__',\n",
       " '__reduce_ex__',\n",
       " '__repr__',\n",
       " '__rfloordiv__',\n",
       " '__rlshift__',\n",
       " '__rmod__',\n",
       " '__rmul__',\n",
       " '__ror__',\n",
       " '__round__',\n",
       " '__rpow__',\n",
       " '__rrshift__',\n",
       " '__rshift__',\n",
       " '__rsub__',\n",
       " '__rtruediv__',\n",
       " '__rxor__',\n",
       " '__setattr__',\n",
       " '__sizeof__',\n",
       " '__str__',\n",
       " '__sub__',\n",
       " '__subclasshook__',\n",
       " '__truediv__',\n",
       " '__trunc__',\n",
       " '__xor__',\n",
       " 'as_integer_ratio',\n",
       " 'bit_count',\n",
       " 'bit_length',\n",
       " 'conjugate',\n",
       " 'denominator',\n",
       " 'from_bytes',\n",
       " 'imag',\n",
       " 'is_integer',\n",
       " 'numerator',\n",
       " 'real',\n",
       " 'to_bytes']"
      ]
     },
     "execution_count": 104,
     "metadata": {},
     "output_type": "execute_result"
    }
   ],
   "source": [
    "dir(ran)"
   ]
  },
  {
   "cell_type": "markdown",
   "id": "8ae9992c-e6fe-4391-b5ed-5e916a61d26d",
   "metadata": {},
   "source": [
    "## for문"
   ]
  },
  {
   "cell_type": "code",
   "execution_count": 93,
   "id": "356759b0-a174-4abf-9154-226b23894a51",
   "metadata": {},
   "outputs": [
    {
     "name": "stdout",
     "output_type": "stream",
     "text": [
      "one\n",
      "two\n",
      "three\n"
     ]
    }
   ],
   "source": [
    "test_list = ['one', 'two', 'three']\n",
    "for i in ['one', 'two', 'three']:\n",
    "    print(i)"
   ]
  },
  {
   "cell_type": "code",
   "execution_count": 95,
   "id": "83019b82-bd38-4438-926d-154b41dbf873",
   "metadata": {},
   "outputs": [
    {
     "name": "stdout",
     "output_type": "stream",
     "text": [
      "1 2 11\n",
      "3 4 33\n",
      "5 6 55\n"
     ]
    }
   ],
   "source": [
    "# 다양한 for문의 사용\n",
    "a = [(1, 2, 11), (3, 4, 33), (5, 6, 55)]\n",
    "for (x, y, z) in a:\n",
    "    print(x, y, z)"
   ]
  },
  {
   "cell_type": "code",
   "execution_count": 96,
   "id": "dbc514c4-ebb5-4dc7-bb12-f75be65aad11",
   "metadata": {},
   "outputs": [
    {
     "name": "stdout",
     "output_type": "stream",
     "text": [
      "1번 학생은 합격입니다.\n",
      "2번 학생은 불합격입니다.\n",
      "3번 학생은 합격입니다.\n",
      "4번 학생은 불합격입니다.\n",
      "5번 학생은 합격입니다.\n"
     ]
    }
   ],
   "source": [
    "marks = [90, 25, 67, 45, 80]\n",
    "\n",
    "number = 0\n",
    "for mark in marks:\n",
    "    number = number + 1\n",
    "    if mark >= 60:\n",
    "        print(\"%d번 학생은 합격입니다.\" %number)\n",
    "    else:\n",
    "        print(\"%d번 학생은 불합격입니다.\" %number)"
   ]
  },
  {
   "cell_type": "code",
   "execution_count": 97,
   "id": "a6f3707c-9a0c-4537-a054-e35dde613bff",
   "metadata": {},
   "outputs": [
    {
     "name": "stdout",
     "output_type": "stream",
     "text": [
      "1번 학생 축하합니다. 합격입니다.\n",
      "3번 학생 축하합니다. 합격입니다.\n",
      "5번 학생 축하합니다. 합격입니다.\n"
     ]
    }
   ],
   "source": [
    "marks = [90, 25, 67, 45, 80]\n",
    "\n",
    "number = 0\n",
    "for mark in marks:\n",
    "    number = number + 1\n",
    "    if mark < 60:\n",
    "        continue\n",
    "    print(\"%d번 학생 축하합니다. 합격입니다.\" %number)"
   ]
  },
  {
   "cell_type": "code",
   "execution_count": 100,
   "id": "6f973abb-6888-4961-a301-1091d577ba6f",
   "metadata": {},
   "outputs": [
    {
     "name": "stdout",
     "output_type": "stream",
     "text": [
      "1\n",
      "3\n",
      "5\n",
      "7\n",
      "9\n"
     ]
    }
   ],
   "source": [
    "number = [1, 2, 3, 4, 5, 6, 7, 8, 9, 10]\n",
    "\n",
    "for num in number:\n",
    "    if num % 2 == 0:\n",
    "        continue\n",
    "    print(\"%d\" %num)"
   ]
  },
  {
   "cell_type": "code",
   "execution_count": 1,
   "id": "50c70d54-4952-46e1-bf3f-626ab26bfdb8",
   "metadata": {},
   "outputs": [
    {
     "name": "stdout",
     "output_type": "stream",
     "text": [
      "range(0, 10)\n"
     ]
    }
   ],
   "source": [
    "# range함수\n",
    "a = range(10)\n",
    "print(a)"
   ]
  },
  {
   "cell_type": "code",
   "execution_count": 2,
   "id": "72a4202d-11c6-4252-bea9-993335c59fc8",
   "metadata": {},
   "outputs": [
    {
     "name": "stdout",
     "output_type": "stream",
     "text": [
      "0\n",
      "1\n",
      "2\n",
      "3\n",
      "4\n",
      "5\n",
      "6\n",
      "7\n",
      "8\n",
      "9\n"
     ]
    }
   ],
   "source": [
    "for n in range(10):\n",
    "    print(n)"
   ]
  },
  {
   "cell_type": "code",
   "execution_count": 3,
   "id": "d803c5da-25ec-4427-8885-41a59b54ca2e",
   "metadata": {},
   "outputs": [
    {
     "name": "stdout",
     "output_type": "stream",
     "text": [
      "[0, 1, 2, 3, 4, 5, 6, 7, 8, 9]\n"
     ]
    }
   ],
   "source": [
    "la = list(range(10))\n",
    "print(la)"
   ]
  },
  {
   "cell_type": "code",
   "execution_count": 4,
   "id": "fae9e016-9ad0-4200-a365-069b28dd9608",
   "metadata": {},
   "outputs": [
    {
     "name": "stdout",
     "output_type": "stream",
     "text": [
      "[0, 2, 4, 6, 8, 10, 12, 14, 16, 18, 20, 22, 24, 26, 28, 30, 32, 34, 36, 38, 40, 42, 44, 46, 48, 50, 52, 54, 56, 58, 60, 62, 64, 66, 68, 70, 72, 74, 76, 78, 80, 82, 84, 86, 88, 90, 92, 94, 96, 98]\n"
     ]
    }
   ],
   "source": [
    "la = list(range(0, 100, 2))\n",
    "print(la)"
   ]
  },
  {
   "cell_type": "code",
   "execution_count": 6,
   "id": "cbf23204-0281-4930-a9c5-0c30f8b35d82",
   "metadata": {},
   "outputs": [
    {
     "name": "stdout",
     "output_type": "stream",
     "text": [
      "2\n",
      "4\n",
      "6\n",
      "8\n"
     ]
    }
   ],
   "source": [
    "for even in range(2, 10, 2):\n",
    "    print(even)"
   ]
  },
  {
   "cell_type": "code",
   "execution_count": 27,
   "id": "96cdfd23-480e-47f8-b811-285267ecf50d",
   "metadata": {},
   "outputs": [
    {
     "name": "stdout",
     "output_type": "stream",
     "text": [
      "<class 'list'>\n",
      "1번 학생 축하합니다. 합격입니다\n",
      "3번 학생 축하합니다. 합격입니다\n",
      "5번 학생 축하합니다. 합격입니다\n"
     ]
    }
   ],
   "source": [
    "marks = [90, 25, 67, 45, 80]\n",
    "for number in range(len(marks)):\n",
    "    if marks[number] < 60:\n",
    "        continue\n",
    "    print(\"%d번 학생 축하합니다. 합격입니다\" %(number + 1))"
   ]
  },
  {
   "cell_type": "code",
   "execution_count": 35,
   "id": "0921668b-340c-4eb8-a936-b6b7edc6dde9",
   "metadata": {},
   "outputs": [
    {
     "name": "stdout",
     "output_type": "stream",
     "text": [
      "     March 2025\n",
      "Su Mo Tu We Th Fr Sa\n",
      "                   1\n",
      " 2  3  4  5  6  7  8\n",
      " 9 10 11 12 13 14 15\n",
      "16 17 18 19 20 21 22\n",
      "23 24 25 26 27 28 29\n",
      "30 31\n",
      "\n"
     ]
    }
   ],
   "source": [
    "# 연습\n",
    "import calendar\n",
    "c = calendar.TextCalendar(calendar.SUNDAY)\n",
    "print(c.formatmonth(2025,3))"
   ]
  },
  {
   "cell_type": "code",
   "execution_count": 41,
   "id": "303ad94c-e7ae-48d2-b153-7f8f6dfa3eef",
   "metadata": {},
   "outputs": [
    {
     "name": "stdout",
     "output_type": "stream",
     "text": [
      "■■■■■■■■■■■"
     ]
    }
   ],
   "source": [
    "# 테스트\n",
    "import time as t\n",
    "for x in range(11):\n",
    "    print(f'■', end='')\n",
    "    t.sleep(1)"
   ]
  },
  {
   "cell_type": "code",
   "execution_count": 57,
   "id": "480aa52a-7cf8-4a52-a129-9e05bc3e54ab",
   "metadata": {},
   "outputs": [
    {
     "name": "stderr",
     "output_type": "stream",
     "text": [
      "IOPub data rate exceeded.\n",
      "The Jupyter server will temporarily stop sending output\n",
      "to the client in order to avoid crashing it.\n",
      "To change this limit, set the config variable\n",
      "`--ServerApp.iopub_data_rate_limit`.\n",
      "\n",
      "Current values:\n",
      "ServerApp.iopub_data_rate_limit=1000000.0 (bytes/sec)\n",
      "ServerApp.rate_limit_window=3.0 (secs)\n",
      "\n"
     ]
    }
   ],
   "source": [
    "# 리스트 속도 측정\n",
    "import time as t\n",
    "lt = []\n",
    "tp = []\n",
    "length = 10*1000*1000\n",
    "for l in range(length):\n",
    "    lt.append(x)\n",
    "for t in range(length):\n",
    "    tp.append(t)\n",
    "tp = tuple(tp)\n",
    "print(lt,type(lt))\n",
    "print(tp,type(tp))"
   ]
  },
  {
   "cell_type": "code",
   "execution_count": 59,
   "id": "0f01b1f8-674f-4ff5-849c-0899271986fb",
   "metadata": {},
   "outputs": [
    {
     "name": "stdout",
     "output_type": "stream",
     "text": [
      "0.8382985591888428\n"
     ]
    }
   ],
   "source": [
    "import time\n",
    "start = time.time()\n",
    "for x in lt:\n",
    "    lts = [1, 2, 3, 4, 5]\n",
    "print(time.time() - start)"
   ]
  },
  {
   "cell_type": "code",
   "execution_count": 58,
   "id": "bb5543e1-8270-4464-9f5b-231bbc17c43a",
   "metadata": {},
   "outputs": [
    {
     "name": "stdout",
     "output_type": "stream",
     "text": [
      "0.3875701427459717\n"
     ]
    }
   ],
   "source": [
    "import time\n",
    "start = time.time()\n",
    "for x in tp:\n",
    "    tps = (1, 2, 3, 4, 5)\n",
    "print(time.time() - start)"
   ]
  },
  {
   "cell_type": "code",
   "execution_count": 60,
   "id": "f18f68dd-722b-49bb-a22d-93466f4d26ab",
   "metadata": {},
   "outputs": [
    {
     "name": "stdout",
     "output_type": "stream",
     "text": [
      " D 드라이브의 볼륨: data\n",
      " 볼륨 일련 번호: B66C-87D3\n",
      "\n",
      " d:\\ldh\\code 디렉터리\n",
      "\n",
      "2025-02-07  오후 02:14    <DIR>          .\n",
      "2025-02-04  오후 04:21    <DIR>          ..\n",
      "2025-02-04  오후 04:58                30 .gitignore\n",
      "2025-02-06  오후 12:23    <DIR>          .ipynb_checkpoints\n",
      "2025-02-06  오후 12:23             6,815 chap2_ex이동호.ipynb\n",
      "2025-02-04  오후 12:46            73,121 python01.ipynb\n",
      "2025-02-07  오후 02:14            30,061 python03.ipynb\n",
      "2025-02-06  오전 11:56           106,699 python2.ipynb\n",
      "2025-02-06  오전 09:43               169 ran.py\n",
      "2025-02-06  오전 09:18                98 start_jupyterlab.bat\n",
      "2025-02-06  오전 09:48                84 start_ran.bat\n",
      "2025-02-05  오후 05:20                65 start_won.txt\n",
      "2025-02-05  오후 05:08               386 won.py\n",
      "              10개 파일             217,528 바이트\n",
      "               3개 디렉터리  509,477,224,448 바이트 남음\n"
     ]
    }
   ],
   "source": [
    "!dir"
   ]
  },
  {
   "cell_type": "code",
   "execution_count": null,
   "id": "9c006728-122d-4736-8018-bda09dcb9593",
   "metadata": {},
   "outputs": [],
   "source": []
  },
  {
   "cell_type": "code",
   "execution_count": 77,
   "id": "5ea11550-88e7-4fb1-817d-0b8385d28095",
   "metadata": {},
   "outputs": [
    {
     "name": "stderr",
     "output_type": "stream",
     "text": [
      "100%|████████████████████████████████████████████████████████████████████████████████| 100/100 [00:10<00:00,  9.78it/s]\n"
     ]
    }
   ],
   "source": [
    "from tqdm import tqdm\n",
    "import time as tt\n",
    "for x in tqdm(range(100)):\n",
    "    pass\n",
    "    tt.sleep(0.1)"
   ]
  },
  {
   "cell_type": "code",
   "execution_count": 85,
   "id": "41e8b4f8-d1c2-49ab-b7b7-f8fa2519af28",
   "metadata": {},
   "outputs": [
    {
     "name": "stdout",
     "output_type": "stream",
     "text": [
      "시작가는152630000.0원 입니다.\n",
      "최대가는152817000.0원 입니다.\n",
      "최소가는149809000.0원 입니다.\n"
     ]
    }
   ],
   "source": [
    "# 비트코인시세로 상승장 하강장 구분하기\n",
    "import requests as req\n",
    "url = \"https://api.bithumb.com/public/ticker/ALL_KRW\"\n",
    "gdata = req.get(url).json()\n",
    "btc = gdata['data']['BTC']\n",
    "maxp = float(btc['max_price'])\n",
    "minp = float(btc['min_price'])\n",
    "openp = float(btc['opening_price'])\n",
    "bandp = maxp - minp\n",
    "print(f'시작가는{openp}원 입니다.')\n",
    "print(f'최대가는{maxp}원 입니다.')\n",
    "print(f'최소가는{minp}원 입니다.')\n"
   ]
  },
  {
   "cell_type": "code",
   "execution_count": 87,
   "id": "e4ef10c4-f9e9-4297-95e4-0debf5dc7836",
   "metadata": {},
   "outputs": [
    {
     "name": "stdout",
     "output_type": "stream",
     "text": [
      "149949000\n"
     ]
    }
   ],
   "source": [
    "# 1분 캔들\n",
    "import requests as req\n",
    "url = 'https://api.bithumb.com/v1/candles/minutes/1?market=KRW-BTC&count=1'\n",
    "btc_data = req.get(url).json()\n",
    "print(btc_data[0]['trade_price'])"
   ]
  },
  {
   "cell_type": "code",
   "execution_count": 108,
   "id": "73a796b1-4b14-442a-bc78-a9edb8b94486",
   "metadata": {},
   "outputs": [
    {
     "name": "stdout",
     "output_type": "stream",
     "text": [
      "1단\n",
      "1 X 1 = 1\n",
      "1 X 2 = 2\n",
      "1 X 3 = 3\n",
      "1 X 4 = 4\n",
      "1 X 5 = 5\n",
      "1 X 6 = 6\n",
      "1 X 7 = 7\n",
      "1 X 8 = 8\n",
      "1 X 9 = 9\n",
      "2단\n",
      "2 X 1 = 2\n",
      "2 X 2 = 4\n",
      "2 X 3 = 6\n",
      "2 X 4 = 8\n",
      "2 X 5 = 10\n",
      "2 X 6 = 12\n",
      "2 X 7 = 14\n",
      "2 X 8 = 16\n",
      "2 X 9 = 18\n",
      "3단\n",
      "3 X 1 = 3\n",
      "3 X 2 = 6\n",
      "3 X 3 = 9\n",
      "3 X 4 = 12\n",
      "3 X 5 = 15\n",
      "3 X 6 = 18\n",
      "3 X 7 = 21\n",
      "3 X 8 = 24\n",
      "3 X 9 = 27\n",
      "4단\n",
      "4 X 1 = 4\n",
      "4 X 2 = 8\n",
      "4 X 3 = 12\n",
      "4 X 4 = 16\n",
      "4 X 5 = 20\n",
      "4 X 6 = 24\n",
      "4 X 7 = 28\n",
      "4 X 8 = 32\n",
      "4 X 9 = 36\n",
      "5단\n",
      "5 X 1 = 5\n",
      "5 X 2 = 10\n",
      "5 X 3 = 15\n",
      "5 X 4 = 20\n",
      "5 X 5 = 25\n",
      "5 X 6 = 30\n",
      "5 X 7 = 35\n",
      "5 X 8 = 40\n",
      "5 X 9 = 45\n",
      "6단\n",
      "6 X 1 = 6\n",
      "6 X 2 = 12\n",
      "6 X 3 = 18\n",
      "6 X 4 = 24\n",
      "6 X 5 = 30\n",
      "6 X 6 = 36\n",
      "6 X 7 = 42\n",
      "6 X 8 = 48\n",
      "6 X 9 = 54\n",
      "7단\n",
      "7 X 1 = 7\n",
      "7 X 2 = 14\n",
      "7 X 3 = 21\n",
      "7 X 4 = 28\n",
      "7 X 5 = 35\n",
      "7 X 6 = 42\n",
      "7 X 7 = 49\n",
      "7 X 8 = 56\n",
      "7 X 9 = 63\n",
      "8단\n",
      "8 X 1 = 8\n",
      "8 X 2 = 16\n",
      "8 X 3 = 24\n",
      "8 X 4 = 32\n",
      "8 X 5 = 40\n",
      "8 X 6 = 48\n",
      "8 X 7 = 56\n",
      "8 X 8 = 64\n",
      "8 X 9 = 72\n",
      "9단\n",
      "9 X 1 = 9\n",
      "9 X 2 = 18\n",
      "9 X 3 = 27\n",
      "9 X 4 = 36\n",
      "9 X 5 = 45\n",
      "9 X 6 = 54\n",
      "9 X 7 = 63\n",
      "9 X 8 = 72\n",
      "9 X 9 = 81\n"
     ]
    }
   ],
   "source": [
    "for i in range(1, 10):\n",
    "    print(f'{i}단')\n",
    "    for j in range(1, 10):\n",
    "        print(f'{i} X {j} = {i * j}')"
   ]
  },
  {
   "cell_type": "markdown",
   "id": "34d97e94-ee2b-425e-8332-acd45a6ad109",
   "metadata": {},
   "source": [
    "### 리스트 컴프리헨션"
   ]
  },
  {
   "cell_type": "code",
   "execution_count": 109,
   "id": "224710c8-6854-4cfd-83f5-20a5a9ad6109",
   "metadata": {},
   "outputs": [
    {
     "name": "stdout",
     "output_type": "stream",
     "text": [
      "[3, 6, 9, 12]\n"
     ]
    }
   ],
   "source": [
    "# 기본적인 리스트에 값 넣기\n",
    "a = [1, 2, 3, 4]\n",
    "result = []\n",
    "for num in a:\n",
    "    result.append(num * 3)\n",
    "print(result)"
   ]
  },
  {
   "cell_type": "code",
   "execution_count": 110,
   "id": "90c1ee62-cec1-44c1-a0f9-bf604cf8d1cd",
   "metadata": {},
   "outputs": [
    {
     "data": {
      "text/plain": [
       "[3, 6, 9, 12]"
      ]
     },
     "execution_count": 110,
     "metadata": {},
     "output_type": "execute_result"
    }
   ],
   "source": [
    "# 리스트 컴프리헨션\n",
    "[num * 3 for num in [1, 2, 3, 4]]"
   ]
  },
  {
   "cell_type": "code",
   "execution_count": 111,
   "id": "e3797ca0-fb31-4356-8040-5fea47ec7032",
   "metadata": {},
   "outputs": [
    {
     "data": {
      "text/plain": [
       "[0, 1, 2, 3, 4, 5, 6, 7, 8, 9]"
      ]
     },
     "execution_count": 111,
     "metadata": {},
     "output_type": "execute_result"
    }
   ],
   "source": [
    "# 테스트 1\n",
    "# list(range(10))\n",
    "[x for x in range(10)]"
   ]
  },
  {
   "cell_type": "code",
   "execution_count": 112,
   "id": "b7e796bd-78e0-4b5b-9ffe-f15f49bae0c9",
   "metadata": {},
   "outputs": [
    {
     "name": "stdout",
     "output_type": "stream",
     "text": [
      "[0, 1, 2, 3, 4, 5, 6, 7, 8, 9]\n"
     ]
    }
   ],
   "source": [
    "res = []\n",
    "for x in range(10):\n",
    "    res.append(x)\n",
    "print(res)"
   ]
  },
  {
   "cell_type": "code",
   "execution_count": 113,
   "id": "28264e93-8c22-49c9-a254-f27894b22461",
   "metadata": {},
   "outputs": [
    {
     "data": {
      "text/plain": [
       "[0, 6, 12, 18, 24]"
      ]
     },
     "execution_count": 113,
     "metadata": {},
     "output_type": "execute_result"
    }
   ],
   "source": [
    "[x * 3 for x in range(10) if x % 2 == 0]"
   ]
  },
  {
   "cell_type": "code",
   "execution_count": 114,
   "id": "621fbdb7-6cba-4f43-acab-b28b945b0d6c",
   "metadata": {},
   "outputs": [
    {
     "name": "stdout",
     "output_type": "stream",
     "text": [
      "[2, 4, 6, 8, 10, 12, 14, 16, 18, 3, 6, 9, 12, 15, 18, 21, 24, 27, 4, 8, 12, 16, 20, 24, 28, 32, 36, 5, 10, 15, 20, 25, 30, 35, 40, 45, 6, 12, 18, 24, 30, 36, 42, 48, 54, 7, 14, 21, 28, 35, 42, 49, 56, 63, 8, 16, 24, 32, 40, 48, 56, 64, 72, 9, 18, 27, 36, 45, 54, 63, 72, 81]\n"
     ]
    }
   ],
   "source": [
    "result = [i * j for i in range(2, 10) for j in range(1, 10)]\n",
    "print(result)"
   ]
  },
  {
   "cell_type": "code",
   "execution_count": 115,
   "id": "ead2bce5-af94-464e-9958-7776da81688d",
   "metadata": {},
   "outputs": [
    {
     "name": "stdout",
     "output_type": "stream",
     "text": [
      "2 X 1 = 2\n",
      "2 X 2 = 4\n",
      "2 X 3 = 6\n",
      "2 X 4 = 8\n",
      "2 X 5 = 10\n",
      "2 X 6 = 12\n",
      "2 X 7 = 14\n",
      "2 X 8 = 16\n",
      "2 X 9 = 18\n",
      "3 X 1 = 3\n",
      "3 X 2 = 6\n",
      "3 X 3 = 9\n",
      "3 X 4 = 12\n",
      "3 X 5 = 15\n",
      "3 X 6 = 18\n",
      "3 X 7 = 21\n",
      "3 X 8 = 24\n",
      "3 X 9 = 27\n",
      "4 X 1 = 4\n",
      "4 X 2 = 8\n",
      "4 X 3 = 12\n",
      "4 X 4 = 16\n",
      "4 X 5 = 20\n",
      "4 X 6 = 24\n",
      "4 X 7 = 28\n",
      "4 X 8 = 32\n",
      "4 X 9 = 36\n",
      "5 X 1 = 5\n",
      "5 X 2 = 10\n",
      "5 X 3 = 15\n",
      "5 X 4 = 20\n",
      "5 X 5 = 25\n",
      "5 X 6 = 30\n",
      "5 X 7 = 35\n",
      "5 X 8 = 40\n",
      "5 X 9 = 45\n",
      "6 X 1 = 6\n",
      "6 X 2 = 12\n",
      "6 X 3 = 18\n",
      "6 X 4 = 24\n",
      "6 X 5 = 30\n",
      "6 X 6 = 36\n",
      "6 X 7 = 42\n",
      "6 X 8 = 48\n",
      "6 X 9 = 54\n",
      "7 X 1 = 7\n",
      "7 X 2 = 14\n",
      "7 X 3 = 21\n",
      "7 X 4 = 28\n",
      "7 X 5 = 35\n",
      "7 X 6 = 42\n",
      "7 X 7 = 49\n",
      "7 X 8 = 56\n",
      "7 X 9 = 63\n",
      "8 X 1 = 8\n",
      "8 X 2 = 16\n",
      "8 X 3 = 24\n",
      "8 X 4 = 32\n",
      "8 X 5 = 40\n",
      "8 X 6 = 48\n",
      "8 X 7 = 56\n",
      "8 X 8 = 64\n",
      "8 X 9 = 72\n",
      "9 X 1 = 9\n",
      "9 X 2 = 18\n",
      "9 X 3 = 27\n",
      "9 X 4 = 36\n",
      "9 X 5 = 45\n",
      "9 X 6 = 54\n",
      "9 X 7 = 63\n",
      "9 X 8 = 72\n",
      "9 X 9 = 81\n"
     ]
    }
   ],
   "source": [
    "for a in [f'{j} X {i} = {j * i}' for j in range(2, 10) for i in range(1, 10)]:\n",
    "    print(a)"
   ]
  },
  {
   "cell_type": "code",
   "execution_count": null,
   "id": "43ffe45f-084a-4ad5-9e75-450a5dd6d094",
   "metadata": {},
   "outputs": [],
   "source": []
  }
 ],
 "metadata": {
  "kernelspec": {
   "display_name": "Python 3 (ipykernel)",
   "language": "python",
   "name": "python3"
  },
  "language_info": {
   "codemirror_mode": {
    "name": "ipython",
    "version": 3
   },
   "file_extension": ".py",
   "mimetype": "text/x-python",
   "name": "python",
   "nbconvert_exporter": "python",
   "pygments_lexer": "ipython3",
   "version": "3.13.1"
  }
 },
 "nbformat": 4,
 "nbformat_minor": 5
}
