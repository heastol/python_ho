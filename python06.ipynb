{
 "cells": [
  {
   "cell_type": "markdown",
   "id": "5d22aa59-ab72-4c00-8d41-ada47e9d8fc1",
   "metadata": {},
   "source": [
    "# 모듈"
   ]
  },
  {
   "cell_type": "markdown",
   "id": "71e00cf2-63b7-4185-9f75-f9dfae3ebe81",
   "metadata": {},
   "source": [
    "## 모듈 만들기"
   ]
  },
  {
   "cell_type": "code",
   "execution_count": 1,
   "id": "92db6bfd-17a4-484b-877d-a218ac9ab684",
   "metadata": {},
   "outputs": [],
   "source": [
    "# 모듈 만들기\n",
    "#def add(a, b):\n",
    "#    return a + b\n",
    "#def sub(a, b):\n",
    "#    return a - b"
   ]
  },
  {
   "cell_type": "code",
   "execution_count": 3,
   "id": "3d83fe5f-ad50-4a54-a942-2819b22873d4",
   "metadata": {},
   "outputs": [
    {
     "name": "stdout",
     "output_type": "stream",
     "text": [
      "33\n",
      "11\n"
     ]
    }
   ],
   "source": [
    "import mod1\n",
    "print(mod1.add(11, 22))\n",
    "print(mod1.sub(33, 22))"
   ]
  },
  {
   "cell_type": "code",
   "execution_count": 3,
   "id": "9776c767-d75e-4a12-afb5-c84b6b490f48",
   "metadata": {},
   "outputs": [],
   "source": [
    "with open(\"mod2.py\", \"w\") as f:\n",
    "    data = \"\"\"def mul(a, b):\n",
    "    return a * b\n",
    "def div(a, b):\n",
    "    return a / b\"\"\"\n",
    "    f.write(data)"
   ]
  },
  {
   "cell_type": "code",
   "execution_count": 8,
   "id": "8fe8a861-df7a-41cb-9b61-84ff2321d23a",
   "metadata": {},
   "outputs": [
    {
     "name": "stdout",
     "output_type": "stream",
     "text": [
      "12\n",
      "2.0\n"
     ]
    }
   ],
   "source": [
    "import mod2\n",
    "print(mod2.mul(3, 4))\n",
    "print(mod2.div(8, 4))"
   ]
  },
  {
   "cell_type": "code",
   "execution_count": 1,
   "id": "f3363297-f12e-4887-98c2-953d081d7b59",
   "metadata": {},
   "outputs": [
    {
     "name": "stdout",
     "output_type": "stream",
     "text": [
      "33\n",
      "11\n",
      "12\n",
      "2.0\n"
     ]
    }
   ],
   "source": [
    "import mod1, mod2\n",
    "print(mod1.add(11, 22))\n",
    "print(mod1.sub(33, 22))\n",
    "print(mod2.mul(3, 4))\n",
    "print(mod2.div(8, 4))"
   ]
  },
  {
   "cell_type": "code",
   "execution_count": 2,
   "id": "01ce1502-e226-4aa8-9825-a64fe638e295",
   "metadata": {},
   "outputs": [
    {
     "name": "stdout",
     "output_type": "stream",
     "text": [
      "33\n",
      "11\n",
      "12\n",
      "2.0\n"
     ]
    }
   ],
   "source": [
    "import mod1 as m1\n",
    "import mod2 as m2\n",
    "print(m1.add(11, 22))\n",
    "print(m1.sub(33, 22))\n",
    "print(m2.mul(3, 4))\n",
    "print(m2.div(8, 4))"
   ]
  },
  {
   "cell_type": "code",
   "execution_count": 3,
   "id": "041cabf7-0e38-451b-99c2-1419dc8654b9",
   "metadata": {},
   "outputs": [
    {
     "name": "stdout",
     "output_type": "stream",
     "text": [
      "33\n",
      "11\n",
      "12\n",
      "2.0\n"
     ]
    }
   ],
   "source": [
    "import mod1 as m1, mod2 as m2\n",
    "print(m1.add(11, 22))\n",
    "print(m1.sub(33, 22))\n",
    "print(m2.mul(3, 4))\n",
    "print(m2.div(8, 4))"
   ]
  },
  {
   "cell_type": "code",
   "execution_count": 4,
   "id": "6d002580-8a06-424b-b596-dbe19bc5a91a",
   "metadata": {},
   "outputs": [
    {
     "name": "stdout",
     "output_type": "stream",
     "text": [
      "77\n"
     ]
    }
   ],
   "source": [
    "from mod1 import add, sub\n",
    "print(add(33, 44))"
   ]
  },
  {
   "cell_type": "code",
   "execution_count": 5,
   "id": "36f222d4-3bb2-44ea-948e-31fd53aa2167",
   "metadata": {},
   "outputs": [
    {
     "name": "stdout",
     "output_type": "stream",
     "text": [
      "12\n",
      "2.0\n"
     ]
    }
   ],
   "source": [
    "from mod2 import *\n",
    "print(mul(3, 4))\n",
    "print(div(8, 4))"
   ]
  },
  {
   "cell_type": "markdown",
   "id": "03a3861d-2297-410b-ac81-761f3de8a486",
   "metadata": {},
   "source": [
    "## `__main__`의 의미"
   ]
  },
  {
   "cell_type": "code",
   "execution_count": 1,
   "id": "a6dfcb89-1302-479e-807a-44d95d23f19a",
   "metadata": {},
   "outputs": [],
   "source": [
    "with open(\"mod1.py\", \"a\") as f:\n",
    "    text = \"\"\"\\nprint(add(1, 4))\\nprint(sub(4, 2))\"\"\"\n",
    "    f.write(text)"
   ]
  },
  {
   "cell_type": "code",
   "execution_count": 11,
   "id": "29340e6c-8de0-4903-9b4a-366d486bd037",
   "metadata": {},
   "outputs": [],
   "source": [
    "# 매직 커맨드\n",
    "# %%bash = 리눅스\n",
    "# %%cmd = 윈도우"
   ]
  },
  {
   "cell_type": "markdown",
   "id": "00f7285e-c682-4eb4-a32f-65506c8caf90",
   "metadata": {},
   "source": [
    "%%cmd\n",
    "python mod1.py"
   ]
  },
  {
   "cell_type": "markdown",
   "id": "cd591f63-3a14-405d-96db-4084bb99a4b2",
   "metadata": {},
   "source": [
    "- CMD에서 setPYTHONPATH=D:\\ldh\\code\\mymod\n",
    "- PS에서 $env:PYTHONPATH=\"D:\\ldh\\code\\mymod\""
   ]
  },
  {
   "cell_type": "code",
   "execution_count": 2,
   "id": "611b596d-589b-46c6-8fc8-ecc94002df11",
   "metadata": {},
   "outputs": [
    {
     "name": "stdout",
     "output_type": "stream",
     "text": [
      "5\n",
      "2\n",
      "mod1\n",
      "전 모듈로 임포트 되었어요.\n"
     ]
    },
    {
     "data": {
      "text/plain": [
       "['__builtins__',\n",
       " '__cached__',\n",
       " '__doc__',\n",
       " '__file__',\n",
       " '__loader__',\n",
       " '__name__',\n",
       " '__package__',\n",
       " '__spec__',\n",
       " 'add',\n",
       " 'sub']"
      ]
     },
     "execution_count": 2,
     "metadata": {},
     "output_type": "execute_result"
    }
   ],
   "source": [
    "import mod1\n",
    "dir(mod1)"
   ]
  },
  {
   "cell_type": "code",
   "execution_count": 14,
   "id": "7ee21692-a533-491c-8f3b-90064028212d",
   "metadata": {},
   "outputs": [],
   "source": [
    "with open('mod1.py', 'a') as f:\n",
    "    content = \"\\nprint(__name__)\"\n",
    "    f.write(content)"
   ]
  },
  {
   "cell_type": "code",
   "execution_count": 27,
   "id": "248459ad-2651-4e46-a4d5-96cdd57b2821",
   "metadata": {},
   "outputs": [
    {
     "data": {
      "text/plain": [
       "['__builtins__',\n",
       " '__cached__',\n",
       " '__doc__',\n",
       " '__file__',\n",
       " '__loader__',\n",
       " '__name__',\n",
       " '__package__',\n",
       " '__spec__',\n",
       " 'html',\n",
       " 'req',\n",
       " 'url',\n",
       " 'web']"
      ]
     },
     "execution_count": 27,
     "metadata": {},
     "output_type": "execute_result"
    }
   ],
   "source": [
    "import sam\n",
    "dir(sam)"
   ]
  },
  {
   "cell_type": "markdown",
   "id": "5fa2cdaa-2e6a-4a86-be5e-bfef1ffabbc0",
   "metadata": {},
   "source": [
    "## 클래스나 변수등을 포함한 모듈"
   ]
  },
  {
   "cell_type": "code",
   "execution_count": 4,
   "id": "f7e55e14-556d-4577-8e7b-7cf8d878e0be",
   "metadata": {},
   "outputs": [],
   "source": [
    "with open(\"mod3.py\", \"w\") as f:\n",
    "    text = \"\"\"PI = 3.141592\\n\\nclass Math:\\n\\tdef solv(self, r):\\n\\t\\treturn PI * (r**2)\\n\\ndef add(a, b):\\n\\treturn a + b\"\"\"\n",
    "    f.write(text)"
   ]
  },
  {
   "cell_type": "code",
   "execution_count": 5,
   "id": "ae699425-5388-4496-827e-051944da7d82",
   "metadata": {},
   "outputs": [
    {
     "name": "stdout",
     "output_type": "stream",
     "text": [
      "3.141592\n",
      "314.1592\n",
      "7.5415920000000005\n"
     ]
    }
   ],
   "source": [
    "import mod3\n",
    "# 변수\n",
    "print(mod3.PI)\n",
    "\n",
    "# 클래스\n",
    "a = mod3.Math()\n",
    "print(a.solv(10))\n",
    "\n",
    "# 함수\n",
    "print(mod3.add(mod3.PI, 4.4))"
   ]
  },
  {
   "cell_type": "markdown",
   "id": "f51a79db-7347-4869-b049-3a09121e47c0",
   "metadata": {},
   "source": [
    "## 다른 디렉터리에 있는 모듈 불러오기"
   ]
  },
  {
   "cell_type": "code",
   "execution_count": 1,
   "id": "48902f3a-e005-4bb7-86d7-42c67bd3f116",
   "metadata": {},
   "outputs": [
    {
     "data": {
      "text/plain": [
       "['C:\\\\Dev\\\\Lang\\\\Python313\\\\python313.zip',\n",
       " 'C:\\\\Dev\\\\Lang\\\\Python313\\\\DLLs',\n",
       " 'C:\\\\Dev\\\\Lang\\\\Python313\\\\Lib',\n",
       " 'C:\\\\Dev\\\\Lang\\\\Python313',\n",
       " '',\n",
       " 'C:\\\\Dev\\\\Lang\\\\Python313\\\\Lib\\\\site-packages',\n",
       " 'C:\\\\Dev\\\\Lang\\\\Python313\\\\Lib\\\\site-packages\\\\win32',\n",
       " 'C:\\\\Dev\\\\Lang\\\\Python313\\\\Lib\\\\site-packages\\\\win32\\\\lib',\n",
       " 'C:\\\\Dev\\\\Lang\\\\Python313\\\\Lib\\\\site-packages\\\\Pythonwin']"
      ]
     },
     "execution_count": 1,
     "metadata": {},
     "output_type": "execute_result"
    }
   ],
   "source": [
    "import sys\n",
    "sys.path"
   ]
  },
  {
   "cell_type": "code",
   "execution_count": 3,
   "id": "3b6d5cbc-6d43-4a58-ad31-3caac83c58e5",
   "metadata": {},
   "outputs": [
    {
     "data": {
      "text/plain": [
       "['C:\\\\Dev\\\\Lang\\\\Python313\\\\python313.zip',\n",
       " 'C:\\\\Dev\\\\Lang\\\\Python313\\\\DLLs',\n",
       " 'C:\\\\Dev\\\\Lang\\\\Python313\\\\Lib',\n",
       " 'C:\\\\Dev\\\\Lang\\\\Python313',\n",
       " '',\n",
       " 'C:\\\\Dev\\\\Lang\\\\Python313\\\\Lib\\\\site-packages',\n",
       " 'C:\\\\Dev\\\\Lang\\\\Python313\\\\Lib\\\\site-packages\\\\win32',\n",
       " 'C:\\\\Dev\\\\Lang\\\\Python313\\\\Lib\\\\site-packages\\\\win32\\\\lib',\n",
       " 'C:\\\\Dev\\\\Lang\\\\Python313\\\\Lib\\\\site-packages\\\\Pythonwin',\n",
       " 'D:\\\\ldh\\\\code\\\\mymod']"
      ]
     },
     "execution_count": 3,
     "metadata": {},
     "output_type": "execute_result"
    }
   ],
   "source": [
    "sys.path.append('D:\\\\ldh\\\\code\\\\mymod')\n",
    "sys.path"
   ]
  },
  {
   "cell_type": "code",
   "execution_count": 8,
   "id": "b829b53c-fdfc-47c3-9660-e4494f31b2cc",
   "metadata": {},
   "outputs": [
    {
     "name": "stdout",
     "output_type": "stream",
     "text": [
      "Requirement already satisfied: pip in c:\\dev\\lang\\python313\\lib\\site-packages (25.0)\n",
      "Collecting pip\n",
      "  Downloading pip-25.0.1-py3-none-any.whl.metadata (3.7 kB)\n",
      "Downloading pip-25.0.1-py3-none-any.whl (1.8 MB)\n",
      "   ---------------------------------------- 0.0/1.8 MB ? eta -:--:--\n",
      "   ---------------------------------------- 1.8/1.8 MB 39.8 MB/s eta 0:00:00\n",
      "Installing collected packages: pip\n",
      "  Attempting uninstall: pip\n",
      "    Found existing installation: pip 25.0\n",
      "    Uninstalling pip-25.0:\n",
      "      Successfully uninstalled pip-25.0\n",
      "Successfully installed pip-25.0.1\n"
     ]
    }
   ],
   "source": [
    "#!pip install python-dotenv\n",
    "!python.exe -m pip install --upgrade pip"
   ]
  },
  {
   "cell_type": "code",
   "execution_count": 1,
   "id": "ada7b039-3772-4743-ab5d-0474a816efd3",
   "metadata": {},
   "outputs": [
    {
     "name": "stdout",
     "output_type": "stream",
     "text": [
      "my phone 010-7777-7777\n",
      "https://www.google.com\n",
      "이게 될까?? 모르겠어요.!\n"
     ]
    }
   ],
   "source": [
    "from dotenv import load_dotenv\n",
    "import os\n",
    "\n",
    "# .env 파일 로드\n",
    "load_dotenv()\n",
    "\n",
    "SKEY = os.getenv(\"SECRET_KEY\")\n",
    "print(SKEY)\n",
    "DBUG = os.getenv(\"DEBUG\")\n",
    "print(DBUG)\n",
    "TEST = os.getenv(\"TEST\")\n",
    "print(TEST)"
   ]
  },
  {
   "cell_type": "code",
   "execution_count": 12,
   "id": "5cd1f55a-fb0d-47ea-82c8-097bade5cb59",
   "metadata": {},
   "outputs": [
    {
     "name": "stdout",
     "output_type": "stream",
     "text": [
      "[속보] 한미사이언스 대표이사, 임종훈에서 송영숙으로 변경\n",
      "한미사이언스(008930)는 임종훈 한미사이언스 대표가 사임함에 따라 이사회 결의를 통해 송영숙 대표이사를 신규선임했다고 13일 밝혔다.\n",
      "https://www.sedaily.com/NewsView/2GOYCTWQSP\n",
      "[속보] 조성현 &quot;이진우, 계엄 당일 공포탄 챙기라고 지시&quot;\n",
      "조성현 &quot;이진우, 계엄 당일 공포탄 챙기라고 지시&quot;\n",
      "https://www.newscj.com/news/articleView.html?idxno=3233672\n",
      "[속보] 국힘 윤리위, 尹 제명·출당 등 징계 않기로\n",
      "국민의힘 중앙윤리위원회가 12·3 비상계엄을 선포한 윤석열 대통령에 대한 징계 절차 종결을 선언하고 제명·탈당 권유 등 징계 조치를 하지 않기로 결론을 내렸다. 여상원 윤리위원장은 13일 오전 서울 여의도 당사에서... \n",
      "https://www.imaeil.com/page/view/2025021316083091059\n",
      "[속보] 임종훈 한미사이언스 대표 사임…송영숙 회장, 대표 선임\n",
      "13일 한미사이언스는 이날 이사회에서 임종훈 대표이사가 사임, 송영숙 한미약품그룹 회장을 신임 대표이사로 선임했다고 밝혔다.\n",
      "http://news.mt.co.kr/mtview.php?no=2025021315425272941\n",
      "[속보]'경영권 분쟁' 차남 임종훈, 한미사이언스 대표사임\n",
      "\n",
      "https://www.newsis.com/view/NISX20250213_0003064289\n",
      "[속보]조성현 &quot;이진우, 공포탄 지참해 국회 출동 지시&quot;\n",
      "\n",
      "https://www.newsis.com/view/NISX20250213_0003064608\n",
      "[속보]송영숙, 한미사이언스 대표로 '복귀'…해임 9개월만\n",
      "\n",
      "https://www.newsis.com/view/NISX20250213_0003064292\n",
      "[속보]넥슨, 2024년 '매출 4조 클럽'\n",
      "\n",
      "http://www.fnnews.com/news/202502131616070575\n",
      "[속보] 국힘 윤리위, 尹 징계 않기로 결정…&quot;이미 종결된 사안&quot;\n",
      "국민의힘 중앙윤리위원회가 한동훈 전 대표의 요구로 시작된 윤석열 대통령 징계 절차 종결을 선언, 제명·탈당 권유 등 징계 조치를 하지 않기로 했다. 여상원 윤리위원장은 13일 여의도 당사에서 약 3시간 동안 진행된... \n",
      "https://www.daejonilbo.com/news/articleView.html?idxno=2183904\n",
      "[속보]與 &quot;소상공인 위한 대대적 신용카드 캐시백 협의중…곧 시행&quot;\n",
      "[<b>속보</b>]與 “소상공인 위한 대대적 신용카드 캐시백 협의중…곧 시행”\n",
      "http://www.edaily.co.kr/news/newspath.asp?newsid=04428006642070192\n"
     ]
    }
   ],
   "source": [
    "# 네이버 검색 API 예제 - 블로그 검색\n",
    "import os\n",
    "import sys\n",
    "import urllib.request\n",
    "from dotenv import load_dotenv\n",
    "import json\n",
    "\n",
    "load_dotenv()\n",
    "client_id = os.environ.get(\"MY_ID\")\n",
    "client_secret = os.environ.get(\"MY_SECRET\")\n",
    "\n",
    "\n",
    "\n",
    "encText = urllib.parse.quote(\"속보\")\n",
    "url = \"https://openapi.naver.com/v1/search/news.json?query=\" + encText + '&display=10&start=1&sort=date' # JSON 결과\n",
    "# url = \"https://openapi.naver.com/v1/search/blog.xml?query=\" + encText # XML 결과\n",
    "request = urllib.request.Request(url)\n",
    "request.add_header(\"X-Naver-Client-Id\",client_id)\n",
    "request.add_header(\"X-Naver-Client-Secret\",client_secret)\n",
    "response = urllib.request.urlopen(request)\n",
    "rescode = response.getcode()\n",
    "if(rescode==200):\n",
    "    response_body = response.read()\n",
    "    result = response_body.decode('utf-8')\n",
    "    data = json.loads(result)\n",
    "    ldata = data['items']\n",
    "    for n in ldata:\n",
    "        print(n['title'].replace('<b>',  '').replace('</b>', ''))\n",
    "        print(n['description'])\n",
    "        print(n['originallink'])\n",
    "    #print(response_body.decode('utf-8'))\n",
    "else:\n",
    "    print(\"Error Code:\" + rescode)"
   ]
  },
  {
   "cell_type": "code",
   "execution_count": 7,
   "id": "2d1e086e-58c7-4fe1-8ea8-0416aa70e8cc",
   "metadata": {},
   "outputs": [],
   "source": [
    "import qrcode\n",
    "\n",
    "def qrcode_maker(text, filename='qr.png'):\n",
    "    qr = qrcode.make(text)\n",
    "    qr.save(filename)\n",
    "\n",
    "#qrcode_maker('안녕하세요. 누구입니다!!^^')\n",
    "qrcode_maker('www.naver.com', 'naver.png')"
   ]
  },
  {
   "cell_type": "code",
   "execution_count": 9,
   "id": "d694144e-2c7e-494d-b292-44a72e7a937f",
   "metadata": {},
   "outputs": [
    {
     "data": {
      "text/html": [
       "<img src=\"qr.png\" width = 100>"
      ],
      "text/plain": [
       "<IPython.core.display.HTML object>"
      ]
     },
     "metadata": {},
     "output_type": "display_data"
    }
   ],
   "source": [
    "from IPython.display import display, HTML\n",
    "from PIL import Image\n",
    "\n",
    "image_path = \"qr.png\"\n",
    "img = Image.open(image_path)\n",
    "htmlcode = '<img src=\"qr.png\" width = 100>'\n",
    "display(HTML(htmlcode))\n",
    "#display(img)"
   ]
  },
  {
   "cell_type": "code",
   "execution_count": 17,
   "id": "cb32b38d-8624-4930-a338-8715b0a70c5c",
   "metadata": {},
   "outputs": [
    {
     "name": "stdin",
     "output_type": "stream",
     "text": [
      "당신의 기분을 한 문장으로 표현해주세요. 오늘 답답하지만 할만해, 멋져!!\n"
     ]
    },
    {
     "name": "stdout",
     "output_type": "stream",
     "text": [
      "기분이 좋아보이네요.\n"
     ]
    }
   ],
   "source": [
    "positive_words = [\"좋아\", \"행복\", \"멋져\", \"최고\", \"사랑해\"]\n",
    "negative_words = [\"싫어\", \"화나\", \"짜증\", \"별로\", \"나빠\"]\n",
    "\n",
    "feeling = input(\"당신의 기분을 한 문장으로 표현해주세요.\")\n",
    "\n",
    "for i in range(len(positive_words)):\n",
    "    if positive_words[i] in feeling:\n",
    "        print(\"기분이 좋아보이네요.\")\n",
    "    elif negative_words[i] in feeling:\n",
    "        print(\"기분이 나빠보이네요.\")"
   ]
  },
  {
   "cell_type": "code",
   "execution_count": 1,
   "id": "dfde59cf-fbac-418c-ac21-db6d02c3d5d7",
   "metadata": {},
   "outputs": [
    {
     "name": "stdout",
     "output_type": "stream",
     "text": [
      "일별 박스오피스\n",
      "1 : 캡틴 아메리카: 브레이브 뉴 월드\n",
      "2 : 말할 수 없는 비밀\n",
      "3 : 히트맨2\n",
      "4 : 명탐정 코난: 14번째 표적\n",
      "5 : 서브스턴스\n",
      "6 : 검은 수녀들\n",
      "7 : 엘리: 몬스터 패밀리\n",
      "8 : 브루탈리스트\n",
      "9 : 더 폴: 디렉터스 컷\n",
      "10 : 아이유 콘서트 : 더 위닝\n"
     ]
    }
   ],
   "source": [
    "# 영화 순위 출력\n",
    "import requests\n",
    "import json\n",
    "url = 'http://www.kobis.or.kr/kobisopenapi/webservice/rest/boxoffice/searchDailyBoxOfficeList.json?key=e7b48729e8ea9ceebb4674db239e055c&targetDt=20250216&itemPerPage&multiMovieYn'\n",
    "res = requests.get(url).text\n",
    "data = json.loads(res)\n",
    "print(data['boxOfficeResult']['boxofficeType'])\n",
    "for i in range (10):\n",
    "    print(f'{i + 1} : ' + data['boxOfficeResult']['dailyBoxOfficeList'][i]['movieNm'])"
   ]
  },
  {
   "cell_type": "markdown",
   "id": "eee811f6-76a1-4a9c-93bd-e14281ff94db",
   "metadata": {},
   "source": [
    "# 패키지"
   ]
  },
  {
   "cell_type": "markdown",
   "id": "6cca60ff-7808-42f6-9178-20d981b5d937",
   "metadata": {},
   "source": [
    "## 패키지 만들기"
   ]
  },
  {
   "cell_type": "code",
   "execution_count": 6,
   "id": "35e92da2-5f85-4119-aaae-3652767c4a05",
   "metadata": {},
   "outputs": [
    {
     "name": "stdout",
     "output_type": "stream",
     "text": [
      "Microsoft Windows [Version 10.0.26100.3194]\n",
      "(c) Microsoft Corporation. All rights reserved.\n",
      "\n",
      "dh\\code>set PYTHONPATH = D:\\ldh\\code=game\n",
      "\n",
      "d:\\ldh\\code>"
     ]
    }
   ],
   "source": [
    "%%cmd\n",
    "set PYTHONPATH = D:\\ldh\\code=game"
   ]
  },
  {
   "cell_type": "code",
   "execution_count": 8,
   "id": "bae83f24-9ffb-4566-a886-64d1385d55b6",
   "metadata": {},
   "outputs": [
    {
     "name": "stdout",
     "output_type": "stream",
     "text": [
      "echo\n",
      "render\n"
     ]
    }
   ],
   "source": [
    "# 테스트 1 명시적이다. 길다.\n",
    "import game.sound.echo\n",
    "import game.graphic.render\n",
    "game.sound.echo.echo_test()\n",
    "game.graphic.render.render_test()"
   ]
  },
  {
   "cell_type": "code",
   "execution_count": 3,
   "id": "3d51f48c-bcb8-4d0e-9872-1c335c108dcf",
   "metadata": {},
   "outputs": [
    {
     "name": "stdout",
     "output_type": "stream",
     "text": [
      "video ceho\n",
      "echo\n"
     ]
    }
   ],
   "source": [
    "# 짧지만 중복의 위험이 있다. 그리고 명시적이진 않다.\n",
    "from game.echo_v import echo_test as ev\n",
    "from game.echo import echo_test as e\n",
    "ev()\n",
    "e()"
   ]
  },
  {
   "cell_type": "code",
   "execution_count": 3,
   "id": "a9ac803d-ce29-461f-85d3-a9724f619e05",
   "metadata": {},
   "outputs": [
    {
     "ename": "AttributeError",
     "evalue": "module 'game.graphic' has no attribute 'echo'",
     "output_type": "error",
     "traceback": [
      "\u001b[1;31m---------------------------------------------------------------------------\u001b[0m",
      "\u001b[1;31mAttributeError\u001b[0m                            Traceback (most recent call last)",
      "Cell \u001b[1;32mIn[3], line 2\u001b[0m\n\u001b[0;32m      1\u001b[0m \u001b[38;5;28;01mfrom\u001b[39;00m\u001b[38;5;250m \u001b[39m\u001b[38;5;21;01mgame\u001b[39;00m\u001b[38;5;250m \u001b[39m\u001b[38;5;28;01mimport\u001b[39;00m graphic, sound\n\u001b[1;32m----> 2\u001b[0m \u001b[43mgraphic\u001b[49m\u001b[38;5;241;43m.\u001b[39;49m\u001b[43mecho\u001b[49m\u001b[38;5;241m.\u001b[39mecho_test()\n",
      "\u001b[1;31mAttributeError\u001b[0m: module 'game.graphic' has no attribute 'echo'"
     ]
    }
   ],
   "source": [
    "from game import graphic, sound\n",
    "graphic.echo.echo_test()"
   ]
  },
  {
   "cell_type": "code",
   "execution_count": 2,
   "id": "cf5f1ffe-70de-49ef-8ef3-1446a71e4c57",
   "metadata": {},
   "outputs": [
    {
     "name": "stdout",
     "output_type": "stream",
     "text": [
      "3.6\n",
      "The version of this gmae is 3.6\n"
     ]
    }
   ],
   "source": [
    "# __init__.py 를 사용하기\n",
    "import game\n",
    "print(game.VERSION)\n",
    "game.print_version_info()"
   ]
  },
  {
   "cell_type": "code",
   "execution_count": 1,
   "id": "a4b65d53-9d84-49bb-9961-ef1fe8a00a1c",
   "metadata": {},
   "outputs": [
    {
     "name": "stdout",
     "output_type": "stream",
     "text": [
      "Initializing Game...\n"
     ]
    }
   ],
   "source": [
    "# init은 한 번만 로드됨\n",
    "import game"
   ]
  },
  {
   "cell_type": "code",
   "execution_count": 2,
   "id": "1e99f96e-019a-4d1e-9fc4-e8f3495cd88f",
   "metadata": {},
   "outputs": [
    {
     "name": "stdout",
     "output_type": "stream",
     "text": [
      "render\n"
     ]
    }
   ],
   "source": [
    "# __init__.py 는 패키지내에 내 모듈을 미리 import 할 수 있다.\n",
    "game.render_test()"
   ]
  },
  {
   "cell_type": "raw",
   "id": "427ecb8a-53d8-4a38-8e9d-15dfd81356a1",
   "metadata": {},
   "source": [
    "import game.graphic"
   ]
  },
  {
   "cell_type": "code",
   "execution_count": 2,
   "id": "674e328c-0b1a-418a-8453-ae579ef7749a",
   "metadata": {},
   "outputs": [
    {
     "name": "stdout",
     "output_type": "stream",
     "text": [
      "The version of this graphic of gmae is 3.7\n"
     ]
    }
   ],
   "source": [
    "game.graphic.print_version_info()"
   ]
  },
  {
   "cell_type": "code",
   "execution_count": 1,
   "id": "24fa18fa-5ae1-4f9a-a8a9-39425bd0a3c5",
   "metadata": {},
   "outputs": [
    {
     "name": "stdout",
     "output_type": "stream",
     "text": [
      "Initializing Game...\n"
     ]
    }
   ],
   "source": [
    "# __all__ 사용하기\n",
    "from game.graphic import *"
   ]
  },
  {
   "cell_type": "code",
   "execution_count": 2,
   "id": "1fa7a004-4d9e-434c-9dc3-71a8bd7900fc",
   "metadata": {},
   "outputs": [
    {
     "name": "stdout",
     "output_type": "stream",
     "text": [
      "echo\n"
     ]
    }
   ],
   "source": [
    "echo.echo_test()"
   ]
  },
  {
   "cell_type": "code",
   "execution_count": 1,
   "id": "50db5618-5266-491f-a498-252872bab29b",
   "metadata": {},
   "outputs": [
    {
     "name": "stdout",
     "output_type": "stream",
     "text": [
      "Initializing Game...\n"
     ]
    }
   ],
   "source": [
    "# relative 패키지\n",
    "from game.graphic.render import render_test"
   ]
  },
  {
   "cell_type": "code",
   "execution_count": 2,
   "id": "ca31d848-a4d1-4e3c-bb16-8b14896e9db6",
   "metadata": {},
   "outputs": [
    {
     "name": "stdout",
     "output_type": "stream",
     "text": [
      "랜더링\n",
      "sound ceho\n"
     ]
    }
   ],
   "source": [
    "render_test()"
   ]
  },
  {
   "cell_type": "markdown",
   "id": "27d89684-faff-417e-8b54-6b83d359b520",
   "metadata": {},
   "source": [
    "# 예외 처리"
   ]
  },
  {
   "cell_type": "markdown",
   "id": "7d6fe116-f56e-4496-ba2c-bce3811950d3",
   "metadata": {},
   "source": [
    "## 오류발생\n",
    "- 오타\n",
    "- 존재 하지않는 파일을 지정 또는 사용\n",
    "- 수학적 오류\n",
    "- 인덱스 오류\n",
    "## 오류 예외 처리 기법\n",
    "- try-except 문\n",
    "- try-finally 문\n",
    "- 여러개의 오류 처리\n",
    "- try-else 문"
   ]
  },
  {
   "cell_type": "code",
   "execution_count": 8,
   "id": "71289dd6-5797-47de-8ffe-f18ad746ef7a",
   "metadata": {},
   "outputs": [],
   "source": [
    "# FileNotFoundError: [Errno 2] No such file or directory: '뜬금파일'\n",
    "# f = open('뜬금파일', 'r')"
   ]
  },
  {
   "cell_type": "code",
   "execution_count": 9,
   "id": "478825cf-a4f1-435d-8053-e03d79394278",
   "metadata": {},
   "outputs": [],
   "source": [
    "# ZeroDivisionError: division by zero\n",
    "# 4 / 0"
   ]
  },
  {
   "cell_type": "code",
   "execution_count": 10,
   "id": "92aeb797-4946-4d7e-824f-85f8d6f1153f",
   "metadata": {},
   "outputs": [],
   "source": [
    "# IndexError: list index out of range\n",
    "# a = [1, 2, 3]\n",
    "# print(a[7])"
   ]
  },
  {
   "cell_type": "code",
   "execution_count": 14,
   "id": "17fa01aa-3faa-43ab-a44a-620618fca0bb",
   "metadata": {},
   "outputs": [
    {
     "name": "stdout",
     "output_type": "stream",
     "text": [
      "없는거 찾지마, 혼자있고싶어.\n",
      "[Errno 2] No such file or directory: '뜬금파일'\n",
      "코드 작성을 마칩니다.\n"
     ]
    }
   ],
   "source": [
    "# 테스트 1\n",
    "try:\n",
    "    f = open('뜬금파일', 'r')\n",
    "except FileNotFoundError as e:\n",
    "    if e:\n",
    "        print('없는거 찾지마, 혼자있고싶어.')\n",
    "    print(e)\n",
    "finally:\n",
    "    print('코드 작성을 마칩니다.')"
   ]
  },
  {
   "cell_type": "code",
   "execution_count": 16,
   "id": "6fd8b90b-7e42-432b-9ebc-d98e6437f08d",
   "metadata": {},
   "outputs": [
    {
     "name": "stdout",
     "output_type": "stream",
     "text": [
      "0으로 나눌 수 없어요. division by zero\n"
     ]
    }
   ],
   "source": [
    "# 테스트 2\n",
    "try:\n",
    "    4 / 0\n",
    "except ZeroDivisionError as e:\n",
    "    print('0으로 나눌 수 없어요.', e)"
   ]
  },
  {
   "cell_type": "code",
   "execution_count": 18,
   "id": "4c02cbc6-4e88-4be3-af73-f2f5733f4415",
   "metadata": {},
   "outputs": [
    {
     "name": "stdout",
     "output_type": "stream",
     "text": [
      "0으로 나누지마세요.\n"
     ]
    }
   ],
   "source": [
    "try:\n",
    "    f = open('foo.txt', 'w')\n",
    "    f.write(4 / 0)\n",
    "except:\n",
    "    print('0으로 나누지마세요.')\n",
    "finally:\n",
    "    f.close()"
   ]
  },
  {
   "cell_type": "code",
   "execution_count": 19,
   "id": "e63ce940-482d-4d9b-9d28-525d348050e1",
   "metadata": {},
   "outputs": [
    {
     "name": "stdout",
     "output_type": "stream",
     "text": [
      "tuple index out of range\n"
     ]
    }
   ],
   "source": [
    "try:\n",
    "    a = 1, 2\n",
    "    print(a[512])\n",
    "    4 / 0\n",
    "except (ZeroDivisionError, IndexError) as e:\n",
    "    print(e)"
   ]
  },
  {
   "cell_type": "code",
   "execution_count": 24,
   "id": "b8826c8c-7d9f-4ebc-a85a-a113957649ae",
   "metadata": {},
   "outputs": [
    {
     "name": "stdin",
     "output_type": "stream",
     "text": [
      "나이를 입력하세요. 22\n"
     ]
    },
    {
     "name": "stdout",
     "output_type": "stream",
     "text": [
      "환영합니다.\n",
      "====================\n",
      "분석끝\n"
     ]
    }
   ],
   "source": [
    "# try-else 문\n",
    "try:\n",
    "    age = int(input(\"나이를 입력하세요.\"))\n",
    "except:\n",
    "    print(\"입력이 정확하지 않습니다.\")\n",
    "else:\n",
    "    if age <= 18:\n",
    "        print('미성년자는 출입금지')\n",
    "    else:\n",
    "        print('환영합니다.')\n",
    "finally:\n",
    "    print('=' * 20 + '\\n분석끝')"
   ]
  },
  {
   "cell_type": "code",
   "execution_count": 25,
   "id": "b82f2629-829a-4069-bb4f-da9a8ac4bb25",
   "metadata": {},
   "outputs": [
    {
     "name": "stdin",
     "output_type": "stream",
     "text": [
      "나이를 입력하세요. 22\n"
     ]
    },
    {
     "name": "stdout",
     "output_type": "stream",
     "text": [
      "환영합니다.\n",
      "====================\n",
      "분석끝\n"
     ]
    }
   ],
   "source": [
    "# try-else 문\n",
    "try:\n",
    "    age = int(input(\"나이를 입력하세요.\"))\n",
    "    if age <= 18:\n",
    "        print('미성년자는 출입금지')\n",
    "    else:\n",
    "        print('환영합니다.')\n",
    "except:\n",
    "    print(\"입력이 정확하지 않습니다.\")\n",
    "finally:\n",
    "    print('=' * 20 + '\\n분석끝')"
   ]
  },
  {
   "cell_type": "code",
   "execution_count": 30,
   "id": "ce962ab1-0ad8-413e-96bd-ac1e7840f737",
   "metadata": {},
   "outputs": [
    {
     "name": "stdout",
     "output_type": "stream",
     "text": [
      "반가워\n"
     ]
    }
   ],
   "source": [
    "# 오류 회피하기\n",
    "try:\n",
    "    print('반가워')\n",
    "    f = open('없는파일', 'r')\n",
    "    4 / 0\n",
    "    print('안녕')\n",
    "except FileNotFoundError:\n",
    "    pass"
   ]
  },
  {
   "cell_type": "code",
   "execution_count": 31,
   "id": "67528ba0-2cf7-4bc2-a252-1b8de1b73d14",
   "metadata": {},
   "outputs": [],
   "source": [
    "# 오류 일부러 발생시키기 (클래스 상속기반)"
   ]
  },
  {
   "cell_type": "code",
   "execution_count": null,
   "id": "a38acae7-26c8-474b-b797-cf4cfdd8e5e1",
   "metadata": {},
   "outputs": [],
   "source": [
    "# 테스트\n",
    "inp = int(input(\"13보다 큰 수를 입력하세요\"))\n",
    "if 13 < inp:\n",
    "    print('크다.')\n",
    "else:\n",
    "    raise NotImplementError"
   ]
  },
  {
   "cell_type": "code",
   "execution_count": 32,
   "id": "652cb38b-b1b8-4c26-8c1b-7b1db21272a8",
   "metadata": {},
   "outputs": [],
   "source": [
    "class Bird:\n",
    "    def fly(self):\n",
    "        raise NotImplementError"
   ]
  },
  {
   "cell_type": "code",
   "execution_count": 34,
   "id": "127b7f83-5082-4b93-b8cb-653553ed6302",
   "metadata": {},
   "outputs": [
    {
     "name": "stdout",
     "output_type": "stream",
     "text": [
      "난 독수리다\n"
     ]
    }
   ],
   "source": [
    "class Eagle(Bird):\n",
    "    def fly(self):\n",
    "        print('난 독수리다')\n",
    "\n",
    "eagle = Eagle()\n",
    "eagle.fly()"
   ]
  },
  {
   "cell_type": "code",
   "execution_count": 37,
   "id": "57fa874f-abd4-421c-b537-29493a7b64d0",
   "metadata": {},
   "outputs": [],
   "source": [
    "# 예외 만들기\n",
    "class MyError(Exception):\n",
    "    pass"
   ]
  },
  {
   "cell_type": "code",
   "execution_count": 40,
   "id": "1426ec5e-007f-4138-9057-eb64c522abb4",
   "metadata": {},
   "outputs": [],
   "source": [
    "def say_nick(nick):\n",
    "    if nick == '바보':\n",
    "        raise MyError()\n",
    "    print(nick)"
   ]
  },
  {
   "cell_type": "code",
   "execution_count": 41,
   "id": "cb244477-00ad-424c-8b27-ef69ad7eada6",
   "metadata": {},
   "outputs": [
    {
     "ename": "MyError",
     "evalue": "",
     "output_type": "error",
     "traceback": [
      "\u001b[1;31m---------------------------------------------------------------------------\u001b[0m",
      "\u001b[1;31mMyError\u001b[0m                                   Traceback (most recent call last)",
      "Cell \u001b[1;32mIn[41], line 1\u001b[0m\n\u001b[1;32m----> 1\u001b[0m \u001b[43msay_nick\u001b[49m\u001b[43m(\u001b[49m\u001b[38;5;124;43m\"\u001b[39;49m\u001b[38;5;124;43m바보\u001b[39;49m\u001b[38;5;124;43m\"\u001b[39;49m\u001b[43m)\u001b[49m\n",
      "Cell \u001b[1;32mIn[40], line 3\u001b[0m, in \u001b[0;36msay_nick\u001b[1;34m(nick)\u001b[0m\n\u001b[0;32m      1\u001b[0m \u001b[38;5;28;01mdef\u001b[39;00m\u001b[38;5;250m \u001b[39m\u001b[38;5;21msay_nick\u001b[39m(nick):\n\u001b[0;32m      2\u001b[0m     \u001b[38;5;28;01mif\u001b[39;00m nick \u001b[38;5;241m==\u001b[39m \u001b[38;5;124m'\u001b[39m\u001b[38;5;124m바보\u001b[39m\u001b[38;5;124m'\u001b[39m:\n\u001b[1;32m----> 3\u001b[0m         \u001b[38;5;28;01mraise\u001b[39;00m MyError()\n\u001b[0;32m      4\u001b[0m     \u001b[38;5;28mprint\u001b[39m(nick)\n",
      "\u001b[1;31mMyError\u001b[0m: "
     ]
    }
   ],
   "source": [
    "say_nick(\"바보\")"
   ]
  },
  {
   "cell_type": "code",
   "execution_count": 45,
   "id": "6a8587ec-e375-440a-a47c-4d625ef184fd",
   "metadata": {},
   "outputs": [
    {
     "name": "stdout",
     "output_type": "stream",
     "text": [
      "천사\n",
      "욕하지마 바보아냐 \n"
     ]
    }
   ],
   "source": [
    "try:\n",
    "    say_nick(\"천사\")\n",
    "    say_nick(\"바보\")\n",
    "except MyError as e:\n",
    "    print(\"욕하지마 바보아냐\", e)"
   ]
  },
  {
   "cell_type": "code",
   "execution_count": 44,
   "id": "0fd91a9d-2efe-47fd-8825-757f2d46b065",
   "metadata": {},
   "outputs": [],
   "source": [
    "class MyError(Exception):\n",
    "    def __srt__(self):\n",
    "        return \"욕하지마 그래도 사람은 착해\""
   ]
  },
  {
   "cell_type": "code",
   "execution_count": null,
   "id": "b8f94367-176c-4c6e-ba31-89673e463e34",
   "metadata": {},
   "outputs": [],
   "source": []
  }
 ],
 "metadata": {
  "kernelspec": {
   "display_name": "Python 3 (ipykernel)",
   "language": "python",
   "name": "python3"
  },
  "language_info": {
   "codemirror_mode": {
    "name": "ipython",
    "version": 3
   },
   "file_extension": ".py",
   "mimetype": "text/x-python",
   "name": "python",
   "nbconvert_exporter": "python",
   "pygments_lexer": "ipython3",
   "version": "3.13.1"
  }
 },
 "nbformat": 4,
 "nbformat_minor": 5
}
