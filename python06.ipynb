{
 "cells": [
  {
   "cell_type": "markdown",
   "id": "5d22aa59-ab72-4c00-8d41-ada47e9d8fc1",
   "metadata": {},
   "source": [
    "# 모듈"
   ]
  },
  {
   "cell_type": "markdown",
   "id": "71e00cf2-63b7-4185-9f75-f9dfae3ebe81",
   "metadata": {},
   "source": [
    "## 모듈 만들기"
   ]
  },
  {
   "cell_type": "code",
   "execution_count": 1,
   "id": "92db6bfd-17a4-484b-877d-a218ac9ab684",
   "metadata": {},
   "outputs": [],
   "source": [
    "# 모듈 만들기\n",
    "#def add(a, b):\n",
    "#    return a + b\n",
    "#def sub(a, b):\n",
    "#    return a - b"
   ]
  },
  {
   "cell_type": "code",
   "execution_count": 3,
   "id": "3d83fe5f-ad50-4a54-a942-2819b22873d4",
   "metadata": {},
   "outputs": [
    {
     "name": "stdout",
     "output_type": "stream",
     "text": [
      "33\n",
      "11\n"
     ]
    }
   ],
   "source": [
    "import mod1\n",
    "print(mod1.add(11, 22))\n",
    "print(mod1.sub(33, 22))"
   ]
  },
  {
   "cell_type": "code",
   "execution_count": 3,
   "id": "9776c767-d75e-4a12-afb5-c84b6b490f48",
   "metadata": {},
   "outputs": [],
   "source": [
    "with open(\"mod2.py\", \"w\") as f:\n",
    "    data = \"\"\"def mul(a, b):\n",
    "    return a * b\n",
    "def div(a, b):\n",
    "    return a / b\"\"\"\n",
    "    f.write(data)"
   ]
  },
  {
   "cell_type": "code",
   "execution_count": 8,
   "id": "8fe8a861-df7a-41cb-9b61-84ff2321d23a",
   "metadata": {},
   "outputs": [
    {
     "name": "stdout",
     "output_type": "stream",
     "text": [
      "12\n",
      "2.0\n"
     ]
    }
   ],
   "source": [
    "import mod2\n",
    "print(mod2.mul(3, 4))\n",
    "print(mod2.div(8, 4))"
   ]
  },
  {
   "cell_type": "code",
   "execution_count": 1,
   "id": "f3363297-f12e-4887-98c2-953d081d7b59",
   "metadata": {},
   "outputs": [
    {
     "name": "stdout",
     "output_type": "stream",
     "text": [
      "33\n",
      "11\n",
      "12\n",
      "2.0\n"
     ]
    }
   ],
   "source": [
    "import mod1, mod2\n",
    "print(mod1.add(11, 22))\n",
    "print(mod1.sub(33, 22))\n",
    "print(mod2.mul(3, 4))\n",
    "print(mod2.div(8, 4))"
   ]
  },
  {
   "cell_type": "code",
   "execution_count": 2,
   "id": "01ce1502-e226-4aa8-9825-a64fe638e295",
   "metadata": {},
   "outputs": [
    {
     "name": "stdout",
     "output_type": "stream",
     "text": [
      "33\n",
      "11\n",
      "12\n",
      "2.0\n"
     ]
    }
   ],
   "source": [
    "import mod1 as m1\n",
    "import mod2 as m2\n",
    "print(m1.add(11, 22))\n",
    "print(m1.sub(33, 22))\n",
    "print(m2.mul(3, 4))\n",
    "print(m2.div(8, 4))"
   ]
  },
  {
   "cell_type": "code",
   "execution_count": 3,
   "id": "041cabf7-0e38-451b-99c2-1419dc8654b9",
   "metadata": {},
   "outputs": [
    {
     "name": "stdout",
     "output_type": "stream",
     "text": [
      "33\n",
      "11\n",
      "12\n",
      "2.0\n"
     ]
    }
   ],
   "source": [
    "import mod1 as m1, mod2 as m2\n",
    "print(m1.add(11, 22))\n",
    "print(m1.sub(33, 22))\n",
    "print(m2.mul(3, 4))\n",
    "print(m2.div(8, 4))"
   ]
  },
  {
   "cell_type": "code",
   "execution_count": 4,
   "id": "6d002580-8a06-424b-b596-dbe19bc5a91a",
   "metadata": {},
   "outputs": [
    {
     "name": "stdout",
     "output_type": "stream",
     "text": [
      "77\n"
     ]
    }
   ],
   "source": [
    "from mod1 import add, sub\n",
    "print(add(33, 44))"
   ]
  },
  {
   "cell_type": "code",
   "execution_count": 5,
   "id": "36f222d4-3bb2-44ea-948e-31fd53aa2167",
   "metadata": {},
   "outputs": [
    {
     "name": "stdout",
     "output_type": "stream",
     "text": [
      "12\n",
      "2.0\n"
     ]
    }
   ],
   "source": [
    "from mod2 import *\n",
    "print(mul(3, 4))\n",
    "print(div(8, 4))"
   ]
  },
  {
   "cell_type": "markdown",
   "id": "03a3861d-2297-410b-ac81-761f3de8a486",
   "metadata": {},
   "source": [
    "## `__main__`의 의미"
   ]
  },
  {
   "cell_type": "code",
   "execution_count": 1,
   "id": "a6dfcb89-1302-479e-807a-44d95d23f19a",
   "metadata": {},
   "outputs": [],
   "source": [
    "with open(\"mod1.py\", \"a\") as f:\n",
    "    text = \"\"\"\\nprint(add(1, 4))\\nprint(sub(4, 2))\"\"\"\n",
    "    f.write(text)"
   ]
  },
  {
   "cell_type": "code",
   "execution_count": 11,
   "id": "29340e6c-8de0-4903-9b4a-366d486bd037",
   "metadata": {},
   "outputs": [],
   "source": [
    "# 매직 커맨드\n",
    "# %%bash = 리눅스\n",
    "# %%cmd = 윈도우"
   ]
  },
  {
   "cell_type": "markdown",
   "id": "00f7285e-c682-4eb4-a32f-65506c8caf90",
   "metadata": {},
   "source": [
    "%%cmd\n",
    "python mod1.py"
   ]
  },
  {
   "cell_type": "markdown",
   "id": "cd591f63-3a14-405d-96db-4084bb99a4b2",
   "metadata": {},
   "source": [
    "- CMD에서 setPYTHONPATH=D:\\ldh\\code\\mymod\n",
    "- PS에서 $env:PYTHONPATH=\"D:\\ldh\\code\\mymod\""
   ]
  },
  {
   "cell_type": "code",
   "execution_count": 2,
   "id": "611b596d-589b-46c6-8fc8-ecc94002df11",
   "metadata": {},
   "outputs": [
    {
     "name": "stdout",
     "output_type": "stream",
     "text": [
      "5\n",
      "2\n",
      "mod1\n",
      "전 모듈로 임포트 되었어요.\n"
     ]
    },
    {
     "data": {
      "text/plain": [
       "['__builtins__',\n",
       " '__cached__',\n",
       " '__doc__',\n",
       " '__file__',\n",
       " '__loader__',\n",
       " '__name__',\n",
       " '__package__',\n",
       " '__spec__',\n",
       " 'add',\n",
       " 'sub']"
      ]
     },
     "execution_count": 2,
     "metadata": {},
     "output_type": "execute_result"
    }
   ],
   "source": [
    "import mod1\n",
    "dir(mod1)"
   ]
  },
  {
   "cell_type": "code",
   "execution_count": 14,
   "id": "7ee21692-a533-491c-8f3b-90064028212d",
   "metadata": {},
   "outputs": [],
   "source": [
    "with open('mod1.py', 'a') as f:\n",
    "    content = \"\\nprint(__name__)\"\n",
    "    f.write(content)"
   ]
  },
  {
   "cell_type": "code",
   "execution_count": 27,
   "id": "248459ad-2651-4e46-a4d5-96cdd57b2821",
   "metadata": {},
   "outputs": [
    {
     "data": {
      "text/plain": [
       "['__builtins__',\n",
       " '__cached__',\n",
       " '__doc__',\n",
       " '__file__',\n",
       " '__loader__',\n",
       " '__name__',\n",
       " '__package__',\n",
       " '__spec__',\n",
       " 'html',\n",
       " 'req',\n",
       " 'url',\n",
       " 'web']"
      ]
     },
     "execution_count": 27,
     "metadata": {},
     "output_type": "execute_result"
    }
   ],
   "source": [
    "import sam\n",
    "dir(sam)"
   ]
  },
  {
   "cell_type": "markdown",
   "id": "5fa2cdaa-2e6a-4a86-be5e-bfef1ffabbc0",
   "metadata": {},
   "source": [
    "## 클래스나 변수등을 포함한 모듈"
   ]
  },
  {
   "cell_type": "code",
   "execution_count": 4,
   "id": "f7e55e14-556d-4577-8e7b-7cf8d878e0be",
   "metadata": {},
   "outputs": [],
   "source": [
    "with open(\"mod3.py\", \"w\") as f:\n",
    "    text = \"\"\"PI = 3.141592\\n\\nclass Math:\\n\\tdef solv(self, r):\\n\\t\\treturn PI * (r**2)\\n\\ndef add(a, b):\\n\\treturn a + b\"\"\"\n",
    "    f.write(text)"
   ]
  },
  {
   "cell_type": "code",
   "execution_count": 5,
   "id": "ae699425-5388-4496-827e-051944da7d82",
   "metadata": {},
   "outputs": [
    {
     "name": "stdout",
     "output_type": "stream",
     "text": [
      "3.141592\n",
      "314.1592\n",
      "7.5415920000000005\n"
     ]
    }
   ],
   "source": [
    "import mod3\n",
    "# 변수\n",
    "print(mod3.PI)\n",
    "\n",
    "# 클래스\n",
    "a = mod3.Math()\n",
    "print(a.solv(10))\n",
    "\n",
    "# 함수\n",
    "print(mod3.add(mod3.PI, 4.4))"
   ]
  },
  {
   "cell_type": "markdown",
   "id": "f51a79db-7347-4869-b049-3a09121e47c0",
   "metadata": {},
   "source": [
    "## 다른 디렉터리에 있는 모듈 불러오기"
   ]
  },
  {
   "cell_type": "code",
   "execution_count": 1,
   "id": "48902f3a-e005-4bb7-86d7-42c67bd3f116",
   "metadata": {},
   "outputs": [
    {
     "data": {
      "text/plain": [
       "['C:\\\\Dev\\\\Lang\\\\Python313\\\\python313.zip',\n",
       " 'C:\\\\Dev\\\\Lang\\\\Python313\\\\DLLs',\n",
       " 'C:\\\\Dev\\\\Lang\\\\Python313\\\\Lib',\n",
       " 'C:\\\\Dev\\\\Lang\\\\Python313',\n",
       " '',\n",
       " 'C:\\\\Dev\\\\Lang\\\\Python313\\\\Lib\\\\site-packages',\n",
       " 'C:\\\\Dev\\\\Lang\\\\Python313\\\\Lib\\\\site-packages\\\\win32',\n",
       " 'C:\\\\Dev\\\\Lang\\\\Python313\\\\Lib\\\\site-packages\\\\win32\\\\lib',\n",
       " 'C:\\\\Dev\\\\Lang\\\\Python313\\\\Lib\\\\site-packages\\\\Pythonwin']"
      ]
     },
     "execution_count": 1,
     "metadata": {},
     "output_type": "execute_result"
    }
   ],
   "source": [
    "import sys\n",
    "sys.path"
   ]
  },
  {
   "cell_type": "code",
   "execution_count": 3,
   "id": "3b6d5cbc-6d43-4a58-ad31-3caac83c58e5",
   "metadata": {},
   "outputs": [
    {
     "data": {
      "text/plain": [
       "['C:\\\\Dev\\\\Lang\\\\Python313\\\\python313.zip',\n",
       " 'C:\\\\Dev\\\\Lang\\\\Python313\\\\DLLs',\n",
       " 'C:\\\\Dev\\\\Lang\\\\Python313\\\\Lib',\n",
       " 'C:\\\\Dev\\\\Lang\\\\Python313',\n",
       " '',\n",
       " 'C:\\\\Dev\\\\Lang\\\\Python313\\\\Lib\\\\site-packages',\n",
       " 'C:\\\\Dev\\\\Lang\\\\Python313\\\\Lib\\\\site-packages\\\\win32',\n",
       " 'C:\\\\Dev\\\\Lang\\\\Python313\\\\Lib\\\\site-packages\\\\win32\\\\lib',\n",
       " 'C:\\\\Dev\\\\Lang\\\\Python313\\\\Lib\\\\site-packages\\\\Pythonwin',\n",
       " 'D:\\\\ldh\\\\code\\\\mymod']"
      ]
     },
     "execution_count": 3,
     "metadata": {},
     "output_type": "execute_result"
    }
   ],
   "source": [
    "sys.path.append('D:\\\\ldh\\\\code\\\\mymod')\n",
    "sys.path"
   ]
  },
  {
   "cell_type": "code",
   "execution_count": 8,
   "id": "b829b53c-fdfc-47c3-9660-e4494f31b2cc",
   "metadata": {},
   "outputs": [
    {
     "name": "stdout",
     "output_type": "stream",
     "text": [
      "Requirement already satisfied: pip in c:\\dev\\lang\\python313\\lib\\site-packages (25.0)\n",
      "Collecting pip\n",
      "  Downloading pip-25.0.1-py3-none-any.whl.metadata (3.7 kB)\n",
      "Downloading pip-25.0.1-py3-none-any.whl (1.8 MB)\n",
      "   ---------------------------------------- 0.0/1.8 MB ? eta -:--:--\n",
      "   ---------------------------------------- 1.8/1.8 MB 39.8 MB/s eta 0:00:00\n",
      "Installing collected packages: pip\n",
      "  Attempting uninstall: pip\n",
      "    Found existing installation: pip 25.0\n",
      "    Uninstalling pip-25.0:\n",
      "      Successfully uninstalled pip-25.0\n",
      "Successfully installed pip-25.0.1\n"
     ]
    }
   ],
   "source": [
    "#!pip install python-dotenv\n",
    "!python.exe -m pip install --upgrade pip"
   ]
  },
  {
   "cell_type": "code",
   "execution_count": 10,
   "id": "ada7b039-3772-4743-ab5d-0474a816efd3",
   "metadata": {},
   "outputs": [
    {
     "name": "stdout",
     "output_type": "stream",
     "text": [
      "None\n",
      "None\n"
     ]
    }
   ],
   "source": [
    "from dotenv import load_dotenv\n",
    "import os\n",
    "\n",
    "# .env 파일 로드\n",
    "load_dotenv()\n",
    "\n",
    "SKEY = os.getenv(\"SECRET_KEY\")\n",
    "print(SKEY)\n",
    "DBUG = os.getenv(\"DEBUG\")\n",
    "print(DBUG)"
   ]
  },
  {
   "cell_type": "code",
   "execution_count": null,
   "id": "5cd1f55a-fb0d-47ea-82c8-097bade5cb59",
   "metadata": {},
   "outputs": [],
   "source": []
  }
 ],
 "metadata": {
  "kernelspec": {
   "display_name": "Python 3 (ipykernel)",
   "language": "python",
   "name": "python3"
  },
  "language_info": {
   "codemirror_mode": {
    "name": "ipython",
    "version": 3
   },
   "file_extension": ".py",
   "mimetype": "text/x-python",
   "name": "python",
   "nbconvert_exporter": "python",
   "pygments_lexer": "ipython3",
   "version": "3.13.1"
  }
 },
 "nbformat": 4,
 "nbformat_minor": 5
}
