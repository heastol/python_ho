{
 "cells": [
  {
   "cell_type": "markdown",
   "id": "e4bfe3a2-c004-4759-9368-5bca692fe6f7",
   "metadata": {},
   "source": [
    "# 클래스"
   ]
  },
  {
   "cell_type": "markdown",
   "id": "74cfa1a4-bf1a-4f5c-a22c-6999fc3bd7a1",
   "metadata": {},
   "source": [
    "## 클래스 기본"
   ]
  },
  {
   "cell_type": "code",
   "execution_count": 1,
   "id": "4ef27570-1a44-476a-b4aa-643f0b8a5f0e",
   "metadata": {},
   "outputs": [
    {
     "name": "stdout",
     "output_type": "stream",
     "text": [
      "[1, 2, 3, 4] <class 'list'>\n",
      "(11, 22, 33, 44) <class 'tuple'>\n"
     ]
    }
   ],
   "source": [
    "what = [1, 2, 3, 4]\n",
    "who = 11, 22, 33, 44\n",
    "print(what, type(what))\n",
    "print(who, type(who))"
   ]
  },
  {
   "cell_type": "code",
   "execution_count": 11,
   "id": "8e00bfec-1cdd-438f-8776-14290628462e",
   "metadata": {},
   "outputs": [
    {
     "name": "stdout",
     "output_type": "stream",
     "text": [
      "1 : 1\n",
      "2 : 1\n",
      "2 : 2\n",
      "2 : 3\n",
      "1 : 2\n",
      "1 : 3\n"
     ]
    }
   ],
   "source": [
    "# 함수로 구성\n",
    "result1 = 0\n",
    "result2 = 0\n",
    "def add1(num):\n",
    "    global result1\n",
    "    result1 += num\n",
    "    return result1\n",
    "def add2(num):\n",
    "    global result2\n",
    "    result2 += num\n",
    "    return result2\n",
    "print('1 :', add1(1))\n",
    "print('2 :', add2(1))\n",
    "print('2 :', add2(1))\n",
    "print('2 :', add2(1))\n",
    "print('1 :', add1(1))\n",
    "print('1 :', add1(1))"
   ]
  },
  {
   "cell_type": "code",
   "execution_count": 13,
   "id": "1b3da0b4-80ff-40a8-88a3-9a765643a054",
   "metadata": {},
   "outputs": [
    {
     "name": "stdout",
     "output_type": "stream",
     "text": [
      "1 : 1\n",
      "2 : 1\n",
      "2 : 2\n",
      "2 : 3\n",
      "1 : 2\n",
      "1 : 3\n",
      "2 : 2\n",
      "2 : 1\n"
     ]
    }
   ],
   "source": [
    "# 클래스 구성\n",
    "class Calculator:\n",
    "    def __init__(self):\n",
    "        self.result = 0\n",
    "    def add(self, num):\n",
    "        self.result += num\n",
    "        return self.result\n",
    "    def sub(self, num):\n",
    "        self.result -= num\n",
    "        return self.result\n",
    "# 인스턴스화\n",
    "cal1 = Calculator()\n",
    "cal2 = Calculator()\n",
    "print('1 :',cal1.add(1))\n",
    "print('2 :',cal2.add(1))\n",
    "print('2 :',cal2.add(1))\n",
    "print('2 :',cal2.add(1))\n",
    "print('1 :',cal1.add(1))\n",
    "print('1 :',cal1.add(1))\n",
    "\n",
    "print('2 :',cal2.sub(1))\n",
    "print('2 :',cal2.sub(1))"
   ]
  },
  {
   "cell_type": "markdown",
   "id": "35dc52b2-2144-4b2c-8eb5-b28df4d07977",
   "metadata": {},
   "source": [
    "## 생성자"
   ]
  },
  {
   "cell_type": "code",
   "execution_count": 35,
   "id": "30014258-5e46-4716-afed-d66d6544a0f2",
   "metadata": {},
   "outputs": [],
   "source": [
    "# 예제1\n",
    "class Dduk():\n",
    "    def __init__(self, won, ea):\n",
    "        self.won = won\n",
    "        self.ea = ea\n",
    "    def dduk(self):\n",
    "        result = self.won * self.ea\n",
    "        print(f'배가 고파서 떡볶이집에서 떡볶이를 {result}원 어치 먹었다.')\n",
    "    def odeng(self):\n",
    "        result = self.won * 2 * self.ea\n",
    "        print(f'배가 고파서 떡볶이집에서 오뎅을 {result}원 어치 먹었다.')\n",
    "    def sundae(self):\n",
    "        result = self.won * 3 * self.ea\n",
    "        print(f'배가 고파서 떡볶이집에서 순대를 {result}원 어치 먹었다.')"
   ]
  },
  {
   "cell_type": "code",
   "execution_count": 36,
   "id": "dd74b863-f9e7-4e7a-860f-15cb0412be26",
   "metadata": {},
   "outputs": [],
   "source": [
    "성훈 = Dduk(2000, 3)\n",
    "희성 = Dduk(3000, 2)\n",
    "기윤 = Dduk(1500, 6)"
   ]
  },
  {
   "cell_type": "code",
   "execution_count": 37,
   "id": "8a66398e-e791-4986-bd18-cc67c0183431",
   "metadata": {},
   "outputs": [
    {
     "name": "stdout",
     "output_type": "stream",
     "text": [
      "배가 고파서 떡볶이집에서 떡볶이를 6000원 어치 먹었다.\n",
      "배가 고파서 떡볶이집에서 오뎅을 12000원 어치 먹었다.\n"
     ]
    }
   ],
   "source": [
    "성훈.dduk()\n",
    "성훈.odeng()"
   ]
  },
  {
   "cell_type": "code",
   "execution_count": 38,
   "id": "dd7f1d4a-4d2e-41cc-b1cb-ffa5b5fc29b3",
   "metadata": {},
   "outputs": [
    {
     "name": "stdout",
     "output_type": "stream",
     "text": [
      "배가 고파서 떡볶이집에서 떡볶이를 6000원 어치 먹었다.\n",
      "배가 고파서 떡볶이집에서 오뎅을 12000원 어치 먹었다.\n"
     ]
    }
   ],
   "source": [
    "희성.dduk()\n",
    "희성.odeng()"
   ]
  },
  {
   "cell_type": "code",
   "execution_count": 39,
   "id": "e4272d99-37af-4fbc-992a-e7f41ca7d108",
   "metadata": {},
   "outputs": [
    {
     "name": "stdout",
     "output_type": "stream",
     "text": [
      "배가 고파서 떡볶이집에서 떡볶이를 9000원 어치 먹었다.\n",
      "배가 고파서 떡볶이집에서 오뎅을 18000원 어치 먹었다.\n"
     ]
    }
   ],
   "source": [
    "기윤.dduk()\n",
    "기윤.odeng()"
   ]
  },
  {
   "cell_type": "code",
   "execution_count": 40,
   "id": "7c26c166-8fcf-499c-96cf-cd8b0002e357",
   "metadata": {},
   "outputs": [],
   "source": [
    "성훈.__init__(3300, 2)"
   ]
  },
  {
   "cell_type": "code",
   "execution_count": 41,
   "id": "0762a0a1-ff80-444f-b1ad-af76ec57be33",
   "metadata": {},
   "outputs": [
    {
     "name": "stdout",
     "output_type": "stream",
     "text": [
      "배가 고파서 떡볶이집에서 떡볶이를 6600원 어치 먹었다.\n",
      "배가 고파서 떡볶이집에서 오뎅을 13200원 어치 먹었다.\n"
     ]
    }
   ],
   "source": [
    "성훈.dduk()\n",
    "성훈.odeng()"
   ]
  },
  {
   "cell_type": "code",
   "execution_count": 42,
   "id": "293b5ff1-e834-42c8-af2b-03f2eb913d7e",
   "metadata": {},
   "outputs": [],
   "source": [
    "동호 = Dduk(4000, 3)"
   ]
  },
  {
   "cell_type": "code",
   "execution_count": 43,
   "id": "3c08fdd6-da5b-42a6-a15e-ea67e1258b20",
   "metadata": {},
   "outputs": [
    {
     "name": "stdout",
     "output_type": "stream",
     "text": [
      "배가 고파서 떡볶이집에서 떡볶이를 12000원 어치 먹었다.\n",
      "배가 고파서 떡볶이집에서 오뎅을 24000원 어치 먹었다.\n",
      "배가 고파서 떡볶이집에서 순대를 36000원 어치 먹었다.\n"
     ]
    }
   ],
   "source": [
    "동호.dduk()\n",
    "동호.odeng()\n",
    "동호.sundae()"
   ]
  },
  {
   "cell_type": "markdown",
   "id": "18588b77-012c-4610-a57d-b66ea00584d7",
   "metadata": {},
   "source": [
    "## 예제들"
   ]
  },
  {
   "cell_type": "code",
   "execution_count": 47,
   "id": "192ab303-4615-454b-ae90-66084a2b8bb8",
   "metadata": {},
   "outputs": [
    {
     "name": "stdout",
     "output_type": "stream",
     "text": [
      "방가방가1 저는 고전 인사입니다.!!\n",
      "방가방가2 저는 고전 인사입니다.!!\n",
      "방가방가3 저는 고전 인사입니다.!!\n",
      "==============================\n",
      "\n",
      "이것은 예로부터 전해오는 고전 인사함수 입니다. DockString\n",
      "\n",
      "==============================\n",
      "Help on function test in module __main__:\n",
      "\n",
      "test()\n",
      "    이것은 예로부터 전해오는 고전 인사함수 입니다. DockString\n",
      "\n"
     ]
    }
   ],
   "source": [
    "# 테스트1\n",
    "def test():\n",
    "    \"\"\"\n",
    "    이것은 예로부터 전해오는 고전 인사함수 입니다. DockString\n",
    "    \"\"\"\n",
    "    print(\"방가방가1 저는 고전 인사입니다.!!\")\n",
    "    print(\"방가방가2 저는 고전 인사입니다.!!\")\n",
    "    print(\"방가방가3 저는 고전 인사입니다.!!\")\n",
    "test()\n",
    "print(\"=\" * 30)\n",
    "print(test.__doc__)\n",
    "print(\"=\" * 30)\n",
    "help(test)"
   ]
  },
  {
   "cell_type": "code",
   "execution_count": 49,
   "id": "bf6fc113-7b13-4c7d-902a-bc4f7a8a0d5e",
   "metadata": {},
   "outputs": [],
   "source": [
    "# 테스트2\n",
    "# class의 self 없이 함수 만들기\n",
    "def set_car(name, color):\n",
    "    return {\"name\":name, \"color\":color}\n",
    "# print(set_car(\"HD\", \"Blue\"))\n",
    "def get_car_info(car):\n",
    "    return f\"Car:{car['name']}, Color:{car['color']}\""
   ]
  },
  {
   "cell_type": "code",
   "execution_count": 50,
   "id": "a5aa181f-f375-4b4c-9928-322a665b59cd",
   "metadata": {},
   "outputs": [
    {
     "name": "stdout",
     "output_type": "stream",
     "text": [
      "Car:HD, ColorBlue\n"
     ]
    }
   ],
   "source": [
    "# 자동차를 생성\n",
    "car = set_car(\"HD\", \"Blue\")\n",
    "print(get_car_info(car))"
   ]
  },
  {
   "cell_type": "code",
   "execution_count": 53,
   "id": "aa87700f-45bf-459a-8b8f-e91f6039d6f0",
   "metadata": {},
   "outputs": [],
   "source": [
    "# 테스트3\n",
    "class Car:\n",
    "    def set_car(name, color):\n",
    "        return{\"name\" : name, \"color\" : color}\n",
    "    def get_car_info(car):\n",
    "        return f\"Car : {car['name']}, Color : {car['color']}\""
   ]
  },
  {
   "cell_type": "code",
   "execution_count": 54,
   "id": "bcc43404-2a0a-4e2b-9256-337b81a87e4c",
   "metadata": {},
   "outputs": [
    {
     "name": "stdout",
     "output_type": "stream",
     "text": [
      "Car : HD, Color : Yellow\n",
      "Car : Kia, Color : White\n"
     ]
    }
   ],
   "source": [
    "car1 = Car.set_car(\"HD\", \"Yellow\")\n",
    "car2 = Car.set_car(\"Kia\", \"White\")\n",
    "print(Car.get_car_info(car1))\n",
    "print(Car.get_car_info(car2))"
   ]
  },
  {
   "cell_type": "code",
   "execution_count": 4,
   "id": "ff94f152-db4b-40ca-869b-1e894ca95107",
   "metadata": {},
   "outputs": [],
   "source": [
    "class Car:\n",
    "    def __init__(self, name, color):#생성자\n",
    "        self.name = name\n",
    "        self.color = color\n",
    "        self.speed = 0 # 초기값 0\n",
    "    def get_car_info(self):\n",
    "        return f\"Car : {self.name}, Color : {self.color}\"\n",
    "    def acc(self, amount):\n",
    "        self.speed += amount #속도 증가"
   ]
  },
  {
   "cell_type": "code",
   "execution_count": 5,
   "id": "27fb94eb-e67c-473e-86ad-1b1724dedc53",
   "metadata": {},
   "outputs": [],
   "source": [
    "car1 = Car(\"HD\", \"Black\")\n",
    "car2 = Car(\"Kia\", \"gray\")"
   ]
  },
  {
   "cell_type": "code",
   "execution_count": 6,
   "id": "0770356b-c877-4ab3-aa7b-44d118a3ae16",
   "metadata": {},
   "outputs": [
    {
     "name": "stdout",
     "output_type": "stream",
     "text": [
      "Car : HD, Color : Black\n",
      "Car : Kia, Color : gray\n"
     ]
    }
   ],
   "source": [
    "print(car1.get_car_info())\n",
    "print(car2.get_car_info())"
   ]
  },
  {
   "cell_type": "code",
   "execution_count": 13,
   "id": "1828104d-aca2-471f-b61d-b7a0b22d50ec",
   "metadata": {},
   "outputs": [],
   "source": [
    "# 테스트 5\n",
    "class Car:\n",
    "    def __init__(self, name, color):#생성자\n",
    "        self.name = name\n",
    "        self.color = color\n",
    "        self.speed = 0 # 초기값 0\n",
    "    def get_car_info(self):\n",
    "        return f\"Car : {self.name}, Color : {self.color}\"\n",
    "    def acc(self, amount):\n",
    "        self.speed += amount #속도 증가\n",
    "        return f\"{self.color}색 {self.name} 속도 올려요. 현재속도는 {self.speed}Km/h\""
   ]
  },
  {
   "cell_type": "code",
   "execution_count": 19,
   "id": "cefff367-9cc6-49dd-b39b-7d1d18056de1",
   "metadata": {},
   "outputs": [
    {
     "name": "stdout",
     "output_type": "stream",
     "text": [
      "Car : HD, Color : Black\n",
      "Car : Kia, Color : gray\n",
      "Black색 HD 속도 올려요. 현재속도는 30Km/h\n",
      "gray색 Kia 속도 올려요. 현재속도는 50Km/h\n",
      "Black색 HD 속도 올려요. 현재속도는 40Km/h\n"
     ]
    }
   ],
   "source": [
    "car1 = Car(\"HD\", \"Black\")\n",
    "car2 = Car(\"Kia\", \"gray\")\n",
    "\n",
    "print(car1.get_car_info())\n",
    "print(car2.get_car_info())\n",
    "\n",
    "print(car1.acc(30))\n",
    "print(car2.acc(50))\n",
    "print(car1.acc(10))"
   ]
  },
  {
   "cell_type": "code",
   "execution_count": 20,
   "id": "10207145-417b-457a-84cd-94e9939f086c",
   "metadata": {},
   "outputs": [
    {
     "name": "stdout",
     "output_type": "stream",
     "text": [
      "Black색 HD 속도 올려요. 현재속도는 41Km/h\n",
      "Black색 HD 속도 올려요. 현재속도는 42Km/h\n",
      "Black색 HD 속도 올려요. 현재속도는 43Km/h\n",
      "Black색 HD 속도 올려요. 현재속도는 44Km/h\n",
      "Black색 HD 속도 올려요. 현재속도는 45Km/h\n",
      "Black색 HD 속도 올려요. 현재속도는 46Km/h\n",
      "Black색 HD 속도 올려요. 현재속도는 47Km/h\n",
      "Black색 HD 속도 올려요. 현재속도는 48Km/h\n",
      "Black색 HD 속도 올려요. 현재속도는 49Km/h\n",
      "Black색 HD 속도 올려요. 현재속도는 50Km/h\n",
      "Black색 HD 속도 올려요. 현재속도는 51Km/h\n",
      "Black색 HD 속도 올려요. 현재속도는 52Km/h\n",
      "Black색 HD 속도 올려요. 현재속도는 53Km/h\n",
      "Black색 HD 속도 올려요. 현재속도는 54Km/h\n",
      "Black색 HD 속도 올려요. 현재속도는 55Km/h\n",
      "Black색 HD 속도 올려요. 현재속도는 56Km/h\n",
      "Black색 HD 속도 올려요. 현재속도는 57Km/h\n",
      "Black색 HD 속도 올려요. 현재속도는 58Km/h\n",
      "Black색 HD 속도 올려요. 현재속도는 59Km/h\n",
      "Black색 HD 속도 올려요. 현재속도는 60Km/h\n",
      "Black색 HD 속도 올려요. 현재속도는 61Km/h\n",
      "Black색 HD 속도 올려요. 현재속도는 62Km/h\n",
      "Black색 HD 속도 올려요. 현재속도는 63Km/h\n",
      "Black색 HD 속도 올려요. 현재속도는 64Km/h\n",
      "Black색 HD 속도 올려요. 현재속도는 65Km/h\n",
      "Black색 HD 속도 올려요. 현재속도는 66Km/h\n",
      "Black색 HD 속도 올려요. 현재속도는 67Km/h\n",
      "Black색 HD 속도 올려요. 현재속도는 68Km/h\n",
      "Black색 HD 속도 올려요. 현재속도는 69Km/h\n",
      "Black색 HD 속도 올려요. 현재속도는 70Km/h\n",
      "Black색 HD 속도 올려요. 현재속도는 71Km/h\n",
      "Black색 HD 속도 올려요. 현재속도는 72Km/h\n",
      "Black색 HD 속도 올려요. 현재속도는 73Km/h\n",
      "Black색 HD 속도 올려요. 현재속도는 74Km/h\n",
      "Black색 HD 속도 올려요. 현재속도는 75Km/h\n",
      "Black색 HD 속도 올려요. 현재속도는 76Km/h\n",
      "Black색 HD 속도 올려요. 현재속도는 77Km/h\n",
      "Black색 HD 속도 올려요. 현재속도는 78Km/h\n",
      "Black색 HD 속도 올려요. 현재속도는 79Km/h\n",
      "Black색 HD 속도 올려요. 현재속도는 80Km/h\n",
      "Black색 HD 속도 올려요. 현재속도는 81Km/h\n",
      "Black색 HD 속도 올려요. 현재속도는 82Km/h\n",
      "Black색 HD 속도 올려요. 현재속도는 83Km/h\n",
      "Black색 HD 속도 올려요. 현재속도는 84Km/h\n",
      "Black색 HD 속도 올려요. 현재속도는 85Km/h\n",
      "Black색 HD 속도 올려요. 현재속도는 86Km/h\n",
      "Black색 HD 속도 올려요. 현재속도는 87Km/h\n",
      "Black색 HD 속도 올려요. 현재속도는 88Km/h\n",
      "Black색 HD 속도 올려요. 현재속도는 89Km/h\n",
      "Black색 HD 속도 올려요. 현재속도는 90Km/h\n",
      "Black색 HD 속도 올려요. 현재속도는 91Km/h\n",
      "Black색 HD 속도 올려요. 현재속도는 92Km/h\n",
      "Black색 HD 속도 올려요. 현재속도는 93Km/h\n",
      "Black색 HD 속도 올려요. 현재속도는 94Km/h\n",
      "Black색 HD 속도 올려요. 현재속도는 95Km/h\n",
      "Black색 HD 속도 올려요. 현재속도는 96Km/h\n",
      "Black색 HD 속도 올려요. 현재속도는 97Km/h\n",
      "Black색 HD 속도 올려요. 현재속도는 98Km/h\n",
      "Black색 HD 속도 올려요. 현재속도는 99Km/h\n",
      "Black색 HD 속도 올려요. 현재속도는 100Km/h\n",
      "100Km/h 속도유지중\n"
     ]
    }
   ],
   "source": [
    "import time as t\n",
    "for n in range(60):\n",
    "    print(car1.acc(1))\n",
    "    t.sleep(1)\n",
    "print(\"100Km/h 속도유지중\")"
   ]
  },
  {
   "cell_type": "code",
   "execution_count": 32,
   "id": "b3d2c946-f317-4cc1-99f2-055ba26eed08",
   "metadata": {},
   "outputs": [],
   "source": [
    "# 테스트 6 상속\n",
    "class Mycar(Car):\n",
    "    def turbo(self):\n",
    "        self.speed += 50\n",
    "        return(f\"내차가 나른다!! 터보! {self.speed}Km/h\")\n",
    "    def acc(self):\n",
    "        self.speed += 30 # 속도 증가\n",
    "        return f\"{self.name}의 {self.speed}!!\""
   ]
  },
  {
   "cell_type": "code",
   "execution_count": 35,
   "id": "b336c0df-cdda-4eb0-aeb5-832a5027ec32",
   "metadata": {},
   "outputs": [
    {
     "name": "stdout",
     "output_type": "stream",
     "text": [
      "gray색 kia 속도 올려요. 현재속도는 10Km/h\n",
      "mycar의 30!!\n"
     ]
    }
   ],
   "source": [
    "my = Mycar(\"mycar\", \"skyblue\")\n",
    "car0 = Car(\"kia\", \"gray\")\n",
    "print(car0.acc(10))\n",
    "print(my.acc())"
   ]
  },
  {
   "cell_type": "code",
   "execution_count": 34,
   "id": "8596a7fc-32d0-4407-8908-07e9899dfab8",
   "metadata": {},
   "outputs": [
    {
     "name": "stdout",
     "output_type": "stream",
     "text": [
      "내차가 나른다!! 터보! 50Km/h\n",
      "내차가 나른다!! 터보! 100Km/h\n"
     ]
    }
   ],
   "source": [
    "print(my.turbo())\n",
    "print(my.turbo())"
   ]
  },
  {
   "cell_type": "code",
   "execution_count": 47,
   "id": "57553bd7-fded-46c4-9544-5b3f9eef6981",
   "metadata": {},
   "outputs": [],
   "source": [
    "# 테스트 7\n",
    "class Pet:\n",
    "    def __init__(self, name, species):\n",
    "        \"\"\"펫을 생성\"\"\"\n",
    "        self.name = name\n",
    "        self.species = species\n",
    "        self.hunger = 50 # 초기 배고픔 수치 (0 ~ 100)\n",
    "    def feed(self):\n",
    "        \"\"\"밥을 주면 배고픔 감소\"\"\"\n",
    "        if self.hunger > 10:\n",
    "            self.hunger -= 10\n",
    "            return f\"{self.name}에게 밥을 줬습니다! 배고픔 : {self.hunger}\"\n",
    "    def play(self):\n",
    "        \"\"\"놀아주면 배고픔이 증가\"\"\"\n",
    "        if self.hunger < 80:\n",
    "            self.hunger += 20\n",
    "        return f\"{self.name}와 아주 잘 놀아줬어요!!!!~~~ 배고픔 : {self.hunger}\""
   ]
  },
  {
   "cell_type": "code",
   "execution_count": 49,
   "id": "a7856a22-d2e0-4adb-9ba6-1773c4b4b24b",
   "metadata": {},
   "outputs": [
    {
     "name": "stdout",
     "output_type": "stream",
     "text": [
      "뽀삐에게 밥을 줬습니다! 배고픔 : 40\n",
      "뽀삐에게 밥을 줬습니다! 배고픔 : 30\n",
      "아지와 아주 잘 놀아줬어요!!!!~~~ 배고픔 : 70\n",
      "아지와 아주 잘 놀아줬어요!!!!~~~ 배고픔 : 90\n",
      "아지와 아주 잘 놀아줬어요!!!!~~~ 배고픔 : 90\n",
      "뽀삐와 아주 잘 놀아줬어요!!!!~~~ 배고픔 : 50\n",
      "뽀삐와 아주 잘 놀아줬어요!!!!~~~ 배고픔 : 70\n",
      "컁이와 아주 잘 놀아줬어요!!!!~~~ 배고픔 : 70\n",
      "컁이와 아주 잘 놀아줬어요!!!!~~~ 배고픔 : 90\n",
      "컁이에게 밥을 줬습니다! 배고픔 : 80\n"
     ]
    }
   ],
   "source": [
    "# 펫 생성\n",
    "dog1 = Pet(\"뽀삐\", \"말티즈\")\n",
    "dog2 = Pet(\"아지\", \"요크\")\n",
    "cat = Pet(\"컁이\", \"나만고양없어\")\n",
    "print(dog1.feed())\n",
    "print(dog1.feed())\n",
    "print(dog2.play())\n",
    "print(dog2.play())\n",
    "print(dog2.play())\n",
    "print(dog1.play())\n",
    "print(dog1.play())\n",
    "print(cat.play())\n",
    "print(cat.play())\n",
    "print(cat.feed())"
   ]
  },
  {
   "cell_type": "code",
   "execution_count": 70,
   "id": "b8374e05-99f1-4fe3-80ac-4ab15a8f8eb5",
   "metadata": {},
   "outputs": [
    {
     "name": "stdout",
     "output_type": "stream",
     "text": [
      "철수님의 잔고는 50000원 입니다.\n",
      "영희님의 잔고는 200000원 입니다.\n",
      "철수님의 잔고는 50000원 입니다.\n",
      "9000000\n"
     ]
    }
   ],
   "source": [
    "# 테스트 9 은행예금 캡슐화 안됨 클래스 변수\n",
    "class BankAccount:\n",
    "    interest_rate = 0.02 # 클래스 변수\n",
    "    def __init__(self, owner, balance):\n",
    "        self.owner = owner\n",
    "        self.__balance = balance or 0\n",
    "    def bprint(self):\n",
    "        return f\"{self.owner}님의 잔고는 {self.__balance}원 입니다.\"\n",
    "\n",
    "acc1 = BankAccount(\"철수\", 50000)\n",
    "acc2 = BankAccount(\"영희\", 200000)\n",
    "print(acc1.bprint())\n",
    "print(acc2.bprint())\n",
    "# 공격 후\n",
    "acc1.balance = 9000000\n",
    "print(acc1.bprint())\n",
    "print(acc1.balance)"
   ]
  },
  {
   "cell_type": "code",
   "execution_count": null,
   "id": "e3da02f9-42ae-4bc8-9243-4644bdb72403",
   "metadata": {},
   "outputs": [],
   "source": [
    "# 테스트 9 은행예금 캡슐화 된 예제, 클래스 변수\n",
    "class BankAccount:\n",
    "    interest_rate = 0.02 # 클래스 변수\n",
    "    def __init__(self, owner, balance):\n",
    "        self.owner = owner\n",
    "        self.__balance = balance or 0\n",
    "    def bprint(self):\n",
    "        return f\"{self.owner}님의 잔고는 {self.__balance}원 입니다.\"\n",
    "    def deposit(self, amount):\n",
    "        self.__balance += amount\n",
    "        return f\"{self.owner}님의 계좌에 {amount}원이 입금 되었습니다. 현재 잔액 : {self.__balance}원\"\n",
    "    def withdraw(self, amount):\n",
    "        if self.__balance >= amount:\n",
    "            self.__balance -= amount\n",
    "            return f\"{self.owner}님의 계좌에 {amount}원이 출금 되었습니다. 현재 잔액 : {self.__balance}원\"\n",
    "        return \"잔액이 부족합니다.\"\n",
    "    def interest(self):\n",
    "        total = self.__balance * (1 + self.interest_rate)\n",
    "        return f\"{self.interest_rate}%의 이자가 반영된 금액은{total:.0f}원 입니다.\"\n",
    "\n",
    "#  인스턴스화\n",
    "acc3 = BankAccount(\"철수\", 50000)\n",
    "acc4 = BankAccount(\"영희\", 200000)\n",
    "print(acc3.bprint())\n",
    "print(acc4.bprint())\n",
    "print(acc3.interest())\n",
    "print(acc4.interest())\n",
    "# 클래스 변수 바꾸기\n",
    "BankAccount.interest_rate = 0.03\n",
    "print(acc3.interest())\n",
    "print(acc4.interest())\n",
    "\n",
    "# 공격 후\n",
    "#acc3.balance = 9000000\n",
    "#print(acc3.bprint())\n",
    "\n",
    "# 내장 메소드로 캡슐화된 변수 접근\n",
    "#print(acc3.deposit(30000))\n",
    "#print(acc3.withdraw(5500))"
   ]
  },
  {
   "cell_type": "code",
   "execution_count": 71,
   "id": "03413eae-db83-42e0-8e62-6f4d95ec5188",
   "metadata": {},
   "outputs": [
    {
     "name": "stdout",
     "output_type": "stream",
     "text": [
      "잔액이 2000원으로 증가했습니다.\n",
      "콜라을(를) 구매 했습니다! 남은 잔액 : 500원\n",
      "잔액이 부족합니다! (사이다 가격 : 1400원, 현재 잔액 : 500원)\n",
      "잔액 500원이 반환되었습니다.\n"
     ]
    }
   ],
   "source": [
    "class VendingMachine:\n",
    "    def __init__(self):\n",
    "        \"\"\"자동판매기 초기화\"\"\"\n",
    "        self.balance = 0 # 사용자의 잔액\n",
    "        # 상품 목록\n",
    "        self.items = {\"콜라\" : 1500, \"사이다\" : 1400, \"물\" : 1000}\n",
    "\n",
    "    def insert_money(self, amount):\n",
    "        \"\"\"잔액 충전\"\"\"\n",
    "        self.balance += amount\n",
    "        return f\"잔액이 {self.balance}원으로 증가했습니다.\"\n",
    "    def buy_item(self, item_name):\n",
    "        \"\"\"상품 구매\"\"\"\n",
    "        if item_name not in self.items:\n",
    "            return f\"{item_name}은(는) 판매하지 않는 상품입니다.\"\n",
    "        price = self.items[item_name]\n",
    "        if self.balance < price:\n",
    "            return f\"잔액이 부족합니다! ({item_name} 가격 : {price}원, 현재 잔액 : {self.balance}원)\"\n",
    "        self.balance -= price\n",
    "        return f\"{item_name}을(를) 구매 했습니다! 남은 잔액 : {self.balance}원\"\n",
    "    def refund(self):\n",
    "        '''잔액 반환'''\n",
    "        amount = self.balance\n",
    "        self.balance = 0\n",
    "        return f\"잔액 {amount}원이 반환되었습니다.\"\n",
    "\n",
    "# 자동판매기 객체 생성\n",
    "vm = VendingMachine()\n",
    "# 잔액 충전\n",
    "print(vm.insert_money(2000)) # 잔액이 2000원으로 증가\n",
    "# 상품 구매\n",
    "print(vm.buy_item(\"콜라\")) # 콜라을(를) 구매 했습니다! 남은 잔액 : 500원\n",
    "print(vm.buy_item(\"사이다\")) # 잔액이 부족합니다! (사이다 가격 : 1400원, 현재 잔액 : 500원)\n",
    "# 잔액 반환\n",
    "print(vm.refund()) # 잔액 500원이 반환되었습니다."
   ]
  },
  {
   "cell_type": "code",
   "execution_count": null,
   "id": "e574d6a0-5384-4bde-b68a-adf0eb988389",
   "metadata": {},
   "outputs": [],
   "source": []
  }
 ],
 "metadata": {
  "kernelspec": {
   "display_name": "Python 3 (ipykernel)",
   "language": "python",
   "name": "python3"
  },
  "language_info": {
   "codemirror_mode": {
    "name": "ipython",
    "version": 3
   },
   "file_extension": ".py",
   "mimetype": "text/x-python",
   "name": "python",
   "nbconvert_exporter": "python",
   "pygments_lexer": "ipython3",
   "version": "3.13.1"
  }
 },
 "nbformat": 4,
 "nbformat_minor": 5
}
