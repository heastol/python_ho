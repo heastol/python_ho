{
 "cells": [
  {
   "cell_type": "code",
   "execution_count": 111,
   "id": "463ed5f5-6dbd-4b8b-a8d8-f69cce84d1cf",
   "metadata": {},
   "outputs": [
    {
     "name": "stdin",
     "output_type": "stream",
     "text": [
      "세 글자의 단어를 입력해주세요. 이도이\n"
     ]
    },
    {
     "name": "stdout",
     "output_type": "stream",
     "text": [
      "거꾸로 해도 같은 단어입니다.\n"
     ]
    }
   ],
   "source": [
    "# 문제 1\n",
    "name = input(\"세 글자의 단어를 입력해주세요.\")\n",
    "for i in range(3):\n",
    "    word[i] = name[i]\n",
    "if word[0] == word[2]:\n",
    "    print(\"거꾸로 해도 같은 단어입니다.\")\n",
    "else:\n",
    "    print(\"거꾸로 하면 다른 단어입니다.\")"
   ]
  },
  {
   "cell_type": "code",
   "execution_count": 73,
   "id": "365001c7-8a1d-4eec-a9ea-61c4b7880a66",
   "metadata": {},
   "outputs": [
    {
     "name": "stdin",
     "output_type": "stream",
     "text": [
      "긴 숫자를 적어주세요. 451869548451357833511\n"
     ]
    },
    {
     "name": "stdout",
     "output_type": "stream",
     "text": [
      "홀수의 합은 : 54\n",
      "짝수의 합은 : 42\n"
     ]
    }
   ],
   "source": [
    "# 문제 2\n",
    "odd = [0]\n",
    "even = [0]\n",
    "num = input(\"긴 숫자를 적어주세요.\")\n",
    "for i in range(len(num)):\n",
    "    if (int(num[i]) % 2) == 1:\n",
    "        odd[0] += int(num[i])\n",
    "    else:\n",
    "        even[0] += int(num[i])\n",
    "print(\"홀수의 합은 :\", odd[0])\n",
    "print(\"짝수의 합은 :\", even[0])"
   ]
  },
  {
   "cell_type": "code",
   "execution_count": 77,
   "id": "44fe0b84-65e7-4f1d-b8e6-7d422ce4c6ef",
   "metadata": {},
   "outputs": [
    {
     "name": "stdin",
     "output_type": "stream",
     "text": [
      "긴 문장을 입력해 주세요. 가 가가 가가가 가가가가 가가가가가 가가가가가 가가가가가 나나나나나 다다다다다\n"
     ]
    },
    {
     "name": "stdout",
     "output_type": "stream",
     "text": [
      "['가가가가가', '나나나나나', '다다다다다']\n"
     ]
    }
   ],
   "source": [
    "# 문제 3\n",
    "sentence = input(\"긴 문장을 입력해 주세요.\")\n",
    "word = sentence.split()\n",
    "long = [0]\n",
    "for i in range(len(word) - 1):\n",
    "    if len(word[i]) > len(word[i + 1]):\n",
    "        long[0] = word[i]\n",
    "    elif len(word[i]) < len(word[i + 1]):\n",
    "        long[0] = word[i + 1]\n",
    "    else:\n",
    "        long.append(word[i])\n",
    "        long.append(word[i + 1])\n",
    "result = sorted(list(set(long)))\n",
    "print(result)"
   ]
  },
  {
   "cell_type": "code",
   "execution_count": 84,
   "id": "232272ed-0aef-4fbd-ba0d-bbe1ac53f055",
   "metadata": {},
   "outputs": [
    {
     "name": "stdin",
     "output_type": "stream",
     "text": [
      "당신의 기분을 한 문장으로 표현해주세요. 오늘 답답하지만 할만해, 멋져!!\n"
     ]
    },
    {
     "name": "stdout",
     "output_type": "stream",
     "text": [
      "기분이 좋아보이네요.\n"
     ]
    }
   ],
   "source": [
    "positive_words = [\"좋아\", \"행복\", \"멋져\", \"최고\", \"사랑해\"]\n",
    "negative_words = [\"싫어\", \"화나\", \"짜증\", \"별로\", \"나빠\"]\n",
    "\n",
    "feeling = input(\"당신의 기분을 한 문장으로 표현해주세요.\")\n",
    "\n",
    "for i in range(len(positive_words)):\n",
    "    if positive_words[i] in feeling:\n",
    "        print(\"기분이 좋아보이네요.\")\n",
    "    elif negative_words[i] in feeling:\n",
    "        print(\"기분이 나빠보이네요.\")\n",
    "# 오늘 답답하지만 할만해, 멋져!!"
   ]
  },
  {
   "cell_type": "code",
   "execution_count": 149,
   "id": "3eddbb44-f637-492b-8ffd-1cc6d7d39f50",
   "metadata": {},
   "outputs": [
    {
     "name": "stdin",
     "output_type": "stream",
     "text": [
      "영어 문장을 올바르게 적어주세요. today is a really happy day\n"
     ]
    },
    {
     "name": "stdout",
     "output_type": "stream",
     "text": [
      "Today Is A Really Happy Day\n"
     ]
    }
   ],
   "source": [
    "sentence = input(\"영어 문장을 올바르게 적어주세요.\")\n",
    "word = sentence.split()\n",
    "upper_case = word\n",
    "for i in range(len(word)):\n",
    "    upper_case[i] = word[i][0].upper() + word[i][1:].lower()\n",
    "upper_case = \" \".join(upper_case)\n",
    "print(upper_case)\n",
    "# apples are delicious\n",
    "# today is a really happy day"
   ]
  },
  {
   "cell_type": "code",
   "execution_count": null,
   "id": "d92a688b-1c05-41ca-af4a-2e95bef178f7",
   "metadata": {},
   "outputs": [],
   "source": []
  }
 ],
 "metadata": {
  "kernelspec": {
   "display_name": "Python 3 (ipykernel)",
   "language": "python",
   "name": "python3"
  },
  "language_info": {
   "codemirror_mode": {
    "name": "ipython",
    "version": 3
   },
   "file_extension": ".py",
   "mimetype": "text/x-python",
   "name": "python",
   "nbconvert_exporter": "python",
   "pygments_lexer": "ipython3",
   "version": "3.13.1"
  }
 },
 "nbformat": 4,
 "nbformat_minor": 5
}
