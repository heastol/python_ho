{
 "cells": [
  {
   "cell_type": "code",
   "execution_count": 8,
   "id": "aff2c4b9-aca7-47d1-95b1-cb8450a2c987",
   "metadata": {},
   "outputs": [
    {
     "name": "stdout",
     "output_type": "stream",
     "text": [
      "[1, 5, 16, 17, 28, 34]\n"
     ]
    }
   ],
   "source": [
    "import random\n",
    "\n",
    "lotto = []\n",
    "i = 0\n",
    "for i in range(45):\n",
    "    num = random.randint(1, 46)\n",
    "    if len(lotto) == 6:\n",
    "        break\n",
    "    elif num in lotto:\n",
    "        lotto.pop()\n",
    "    elif num not in lotto:\n",
    "        lotto.append(num)\n",
    "    \n",
    "lotto.sort()\n",
    "print(lotto)"
   ]
  },
  {
   "cell_type": "code",
   "execution_count": 23,
   "id": "44c73788-3ae6-486f-94d9-0e51a777e23b",
   "metadata": {},
   "outputs": [
    {
     "name": "stdout",
     "output_type": "stream",
     "text": [
      "[1, 6, 14, 25, 41, 44] 6\n"
     ]
    }
   ],
   "source": [
    "import random\n",
    "\n",
    "box = []\n",
    "\n",
    "for i in range(6):\n",
    "    ran = random.randint(1, 46)\n",
    "    if not ran in box:\n",
    "        box.append(ran)\n",
    "box.sort()\n",
    "print(box,len(box))"
   ]
  },
  {
   "cell_type": "code",
   "execution_count": 27,
   "id": "29d88a15-0a30-46bf-8eb3-07f75e49957d",
   "metadata": {},
   "outputs": [
    {
     "name": "stdout",
     "output_type": "stream",
     "text": [
      "{'1': 15, '2': 6, '3': 12, '4': 16, '5': 15, '6': 15, '7': 11, '8': 11, '9': 16, '10': 16, '11': 15, '12': 17, '13': 13, '14': 18, '15': 11, '16': 5, '17': 15, '18': 13, '19': 10, '20': 12, '21': 10, '22': 11, '23': 14, '24': 18, '25': 8, '26': 21, '27': 15, '28': 9, '29': 17, '30': 13, '31': 12, '32': 10, '33': 16, '34': 14, '35': 9, '36': 9, '37': 20, '38': 8, '39': 8, '40': 16, '41': 11, '42': 18, '43': 19, '44': 19, '45': 13}\n",
      "dict_values([15, 6, 12, 16, 15, 15, 11, 11, 16, 16, 15, 17, 13, 18, 11, 5, 15, 13, 10, 12, 10, 11, 14, 18, 8, 21, 15, 9, 17, 13, 12, 10, 16, 14, 9, 9, 20, 8, 8, 16, 11, 18, 19, 19, 13])\n"
     ]
    }
   ],
   "source": [
    "ls = []\n",
    "la = []\n",
    "how = 100\n",
    "for h in range(how):\n",
    "    lotto = sorted(random.sample(range(1, 46),6))\n",
    "    la.append(lotto)\n",
    "    ls = ls + lotto\n",
    "dic = {}\n",
    "for n in range(1, 46):\n",
    "    dic[f'{n}'] = ls.count(n)\n",
    "    #print(f'숫자{n}: 출연한 횟수는 {ls.count(n)}회 입니다.')\n",
    "print(dic)\n",
    "print(dic.values())"
   ]
  },
  {
   "cell_type": "code",
   "execution_count": 38,
   "id": "ba30db73-47b1-4074-bd05-1584dc084e1a",
   "metadata": {},
   "outputs": [
    {
     "name": "stdout",
     "output_type": "stream",
     "text": [
      "5000원을 넣겠습니다.\n",
      "1330원 구매 했습니다.\n",
      "거스름돈은 3670원 입니다.\n",
      "1000원은 3장 입니다.\n",
      "500원은 1개 입니다.\n",
      "100원은 1개 입니다.\n",
      "50원은 1개 입니다.\n",
      "10원은 2개 입니다.\n"
     ]
    }
   ],
   "source": [
    "# 잔돈 분류 프로그램\n",
    "\n",
    "money = 5000\n",
    "pur = 1330\n",
    "change = money - pur\n",
    "print(f'{money}원을 넣겠습니다.')\n",
    "print(f'{pur}원 구매 했습니다.')\n",
    "print(f'거스름돈은 {change}원 입니다.')\n",
    "\n",
    "thousand = change // 1000\n",
    "print(f'1000원은 {thousand}장 입니다.')\n",
    "fhundred = (change - 1000 * thousand) // 500\n",
    "print(f'500원은 {fhundred}개 입니다.')\n",
    "hundred = ((change - 1000 * thousand) - 500 * fhundred) // 100\n",
    "print(f'100원은 {hundred}개 입니다.')\n",
    "fifty = (((change - 1000 * thousand) - 500 * fhundred) - 100 * hundred) // 50\n",
    "print(f'50원은 {fifty}개 입니다.')\n",
    "ten = ((((change - 1000 * thousand) - 500 * fhundred) - 100 * hundred) - 50 * fifty) // 10\n",
    "print(f'10원은 {ten}개 입니다.')"
   ]
  },
  {
   "cell_type": "code",
   "execution_count": 47,
   "id": "b59ece65-5980-4514-8611-29371df79bb4",
   "metadata": {},
   "outputs": [
    {
     "name": "stdout",
     "output_type": "stream",
     "text": [
      "[11, 22, 33]\n"
     ]
    }
   ],
   "source": [
    "low = [33, 11, 22]\n",
    "temp = [0]\n",
    "if low[0] > low[1]:\n",
    "    temp[0] = low[0]\n",
    "    low[0] = low[1]\n",
    "    low[1] = temp[0]\n",
    "elif low[0] < low[1]:\n",
    "    pass\n",
    "if low[1] > low[2]:\n",
    "    temp[0] = low[1]\n",
    "    low[1] = low[2]\n",
    "    low[2] = temp[0]\n",
    "elif low[1] < low[2]:\n",
    "    pass\n",
    "if low[0] > low[2]:\n",
    "    temp[0] = low[0]\n",
    "    low[0] = low[2]\n",
    "    low[2] = temp[0]\n",
    "print(low) "
   ]
  },
  {
   "cell_type": "code",
   "execution_count": 57,
   "id": "2febe389-70c9-45d3-aab2-6044b98c531e",
   "metadata": {},
   "outputs": [
    {
     "name": "stdout",
     "output_type": "stream",
     "text": [
      "min = 11\n",
      "max = 33\n"
     ]
    }
   ],
   "source": [
    "low = [33, 11, 22]\n",
    "max = [0]\n",
    "min = [0]\n",
    "if (low[0] < low[1]) or (low[0] < low[2]):\n",
    "    min[0] = low[0]\n",
    "elif(low[1] < low[0]) or (low[1] < low[2]):\n",
    "    min[0] = low[1]\n",
    "else:\n",
    "    min[0] = low[2]\n",
    "print(f'min = {min[0]}')\n",
    "if (low[0] > low[1]) or (low[0] > low[2]):\n",
    "    max[0] = low[0]\n",
    "elif(low[1] > low[0]) or (low[1] > low[2]):\n",
    "    max[0] = low[1]\n",
    "else:\n",
    "    max[0] = low[2]\n",
    "print(f'max = {max[0]}')"
   ]
  },
  {
   "cell_type": "code",
   "execution_count": 65,
   "id": "5297b135-1813-46d7-899a-ee42811b6a75",
   "metadata": {},
   "outputs": [
    {
     "name": "stdin",
     "output_type": "stream",
     "text": [
      "가위 바위 보!!!\n",
      " 가위\n"
     ]
    },
    {
     "ename": "AttributeError",
     "evalue": "'list' object has no attribute 'random'",
     "output_type": "error",
     "traceback": [
      "\u001b[1;31m---------------------------------------------------------------------------\u001b[0m",
      "\u001b[1;31mAttributeError\u001b[0m                            Traceback (most recent call last)",
      "Cell \u001b[1;32mIn[65], line 4\u001b[0m\n\u001b[0;32m      2\u001b[0m game \u001b[38;5;241m=\u001b[39m \u001b[38;5;28minput\u001b[39m(\u001b[38;5;124m'\u001b[39m\u001b[38;5;124m가위 바위 보!!!\u001b[39m\u001b[38;5;130;01m\\n\u001b[39;00m\u001b[38;5;124m'\u001b[39m)\n\u001b[0;32m      3\u001b[0m com \u001b[38;5;241m=\u001b[39m [\u001b[38;5;124m'\u001b[39m\u001b[38;5;124m가위\u001b[39m\u001b[38;5;124m'\u001b[39m, \u001b[38;5;124m'\u001b[39m\u001b[38;5;124m바위\u001b[39m\u001b[38;5;124m'\u001b[39m, \u001b[38;5;124m'\u001b[39m\u001b[38;5;124m보\u001b[39m\u001b[38;5;124m'\u001b[39m]\n\u001b[1;32m----> 4\u001b[0m \u001b[38;5;28;01mif\u001b[39;00m game \u001b[38;5;241m==\u001b[39m \u001b[43mcom\u001b[49m\u001b[38;5;241;43m.\u001b[39;49m\u001b[43mrandom\u001b[49m():\n\u001b[0;32m      5\u001b[0m     \u001b[38;5;28mprint\u001b[39m(\u001b[38;5;124m'\u001b[39m\u001b[38;5;124m비겼습니다.\u001b[39m\u001b[38;5;124m'\u001b[39m)\n",
      "\u001b[1;31mAttributeError\u001b[0m: 'list' object has no attribute 'random'"
     ]
    }
   ],
   "source": [
    "import random\n",
    "game = input('가위 바위 보!!!\\n')\n",
    "com = ['가위', '바위', '보']\n"
   ]
  },
  {
   "cell_type": "code",
   "execution_count": null,
   "id": "14293a58-048e-4571-ad2a-56eb4da054cd",
   "metadata": {},
   "outputs": [],
   "source": []
  }
 ],
 "metadata": {
  "kernelspec": {
   "display_name": "Python 3 (ipykernel)",
   "language": "python",
   "name": "python3"
  },
  "language_info": {
   "codemirror_mode": {
    "name": "ipython",
    "version": 3
   },
   "file_extension": ".py",
   "mimetype": "text/x-python",
   "name": "python",
   "nbconvert_exporter": "python",
   "pygments_lexer": "ipython3",
   "version": "3.13.1"
  }
 },
 "nbformat": 4,
 "nbformat_minor": 5
}
